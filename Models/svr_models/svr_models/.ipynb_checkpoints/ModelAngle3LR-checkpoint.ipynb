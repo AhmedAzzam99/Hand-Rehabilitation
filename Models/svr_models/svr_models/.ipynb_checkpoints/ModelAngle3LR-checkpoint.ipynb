{
 "cells": [
  {
   "cell_type": "code",
   "execution_count": 2,
   "metadata": {},
   "outputs": [],
   "source": [
    "#import libraries\n",
    "import numpy as np\n",
    "import pandas as pd\n",
    "import matplotlib.pyplot as plt"
   ]
  },
  {
   "cell_type": "code",
   "execution_count": 3,
   "metadata": {},
   "outputs": [
    {
     "name": "stdout",
     "output_type": "stream",
     "text": [
      "Data = \n",
      "          X1        Y1        X2        Y2        X3        Y3        X4  \\\n",
      "0  0.860019 -3.096488  0.753413 -2.530522  0.629331 -1.962419  0.361692   \n",
      "1  0.456454 -2.852605  0.565661 -2.188466  0.568863 -1.593943  0.363601   \n",
      "2 -0.462493 -2.031486 -0.125549 -1.528304  0.123850 -1.026633  0.238231   \n",
      "3  0.106369 -2.186939  0.116188 -1.520864  0.142727 -0.703652  0.068778   \n",
      "4  0.381094 -3.316631  0.390072 -2.754067  0.427469 -2.131407  0.336888   \n",
      "5 -0.262968 -3.256483 -0.094474 -2.594541  0.073604 -1.954448  0.088474   \n",
      "6 -0.970940 -2.595038 -0.683583 -2.042165 -0.376025 -1.472786 -0.190104   \n",
      "7 -0.304093 -1.997585 -0.215963 -1.307632 -0.116897 -0.454085 -0.069022   \n",
      "8  0.055419 -3.592592  0.131205 -2.973669  0.252867 -2.286043  0.242098   \n",
      "9 -0.344932 -3.766955 -0.137432 -2.997226  0.053303 -2.269871  0.066792   \n",
      "\n",
      "         Y4      Angle        X5        Y5        X6        Y6        X7  \\\n",
      "0 -1.227911  15.958005  0.456454 -2.852605  0.565661 -2.188466  0.568863   \n",
      "1 -0.907820  16.424084 -0.462493 -2.031486 -0.125549 -1.528304  0.123850   \n",
      "2 -0.510583  15.635178 -0.915264 -0.867298 -0.556912 -0.619065 -0.347119   \n",
      "3  0.170585  26.299685  0.381094 -3.316631  0.390072 -2.754067  0.427469   \n",
      "4 -1.266161  15.050765 -0.262968 -3.256483 -0.094474 -2.594541  0.073604   \n",
      "5 -1.111491  13.807231 -0.970940 -2.595038 -0.683583 -2.042165 -0.376025   \n",
      "6 -0.800848  14.902200 -1.493574 -1.457450 -1.151122 -1.159289 -0.929195   \n",
      "7  0.416620  15.051214  0.055419 -3.592592  0.131205 -2.973669  0.252867   \n",
      "8 -1.329521  12.915006 -0.344932 -3.766955 -0.137432 -2.997226  0.053303   \n",
      "9 -1.308215   7.824200 -0.905729 -3.185208 -0.604510 -2.520129 -0.291183   \n",
      "\n",
      "         Y7        X8        Y8  Angle number  RightorLeft  \n",
      "0 -1.593943  0.363601 -0.907820             2            0  \n",
      "1 -1.026633  0.238231 -0.510583             3            0  \n",
      "2 -0.385286 -0.006106 -0.007940             4            0  \n",
      "3 -2.131407  0.336888 -1.266161             1            0  \n",
      "4 -1.954448  0.088474 -1.111491             2            0  \n",
      "5 -1.472786 -0.190104 -0.800848             3            0  \n",
      "6 -0.890322 -0.549895 -0.352399             4            0  \n",
      "7 -2.286043  0.242098 -1.329521             1            0  \n",
      "8 -2.269871  0.066792 -1.308215             2            0  \n",
      "9 -1.861470 -0.161199 -1.063399             3            0  \n"
     ]
    }
   ],
   "source": [
    "#read data\n",
    "Data = pd.read_csv(r'C:\\Users\\User\\Desktop\\decision_tree_models\\data.csv')\n",
    "print('Data = \\n',Data.head(10))"
   ]
  },
  {
   "cell_type": "code",
   "execution_count": 4,
   "metadata": {},
   "outputs": [
    {
     "name": "stdout",
     "output_type": "stream",
     "text": [
      "Data = \n",
      "            X1        Y1        X2        Y2        X3        Y3        X4  \\\n",
      "200 -0.109320 -2.541718 -0.060900 -2.174978 -0.035940 -1.744075 -0.038436   \n",
      "204 -0.168850 -2.832989 -0.125968 -2.429381 -0.101058 -1.923888 -0.080444   \n",
      "208  0.083279 -2.989880  0.101073 -2.642375  0.081531 -2.199436  0.013333   \n",
      "213  0.049809 -2.050463  0.021670 -2.021307 -0.007493 -1.950322 -0.060942   \n",
      "219  1.508783 -3.542615  1.183490 -2.804655  0.832736 -2.083786  0.428837   \n",
      "222 -0.310286 -2.509588 -0.240375 -2.192724 -0.182344 -1.745694 -0.123471   \n",
      "226  0.246407 -2.161281  0.255488 -1.893094  0.227543 -1.549913  0.093656   \n",
      "230  0.320515 -2.463528  0.296697 -2.121194  0.245550 -1.711398  0.105181   \n",
      "234  0.459660 -2.525186  0.409969 -2.142352  0.329738 -1.711673  0.151956   \n",
      "238  0.354751 -2.852438  0.321946 -2.395683  0.262277 -1.908700  0.114014   \n",
      "\n",
      "           Y4      Angle        X5        Y5        X6        Y6        X7  \\\n",
      "200 -0.931484  12.827636  0.750432 -2.153865  0.686756 -1.823544  0.595140   \n",
      "204 -1.001955   9.876494  0.667123 -2.519001  0.608058 -2.151844  0.527485   \n",
      "208 -1.223844   7.355305  0.455706 -1.472692  0.493729 -1.632637  0.554804   \n",
      "213 -1.198235   2.763818  0.555894 -1.577428  0.552039 -1.661372  0.545762   \n",
      "219 -1.147781  13.501051  2.067837 -2.653992  1.701582 -2.094712  1.321551   \n",
      "222 -0.908106   7.721917  0.506216 -2.204573  0.481335 -1.927619  0.429110   \n",
      "226 -0.837281   8.228869  0.963706 -1.664357  0.885037 -1.448543  0.765535   \n",
      "230 -0.907994  10.469784  1.082005 -1.981829  0.961348 -1.685113  0.814596   \n",
      "234 -0.927969  10.174180  1.204984 -1.917022  1.065042 -1.607764  0.894401   \n",
      "238 -1.038554  13.610261  1.088840 -2.270624  0.979289 -1.900214  0.833697   \n",
      "\n",
      "           Y7        X8        Y8  Angle number  RightorLeft  \n",
      "200 -1.453063  0.405885 -0.773427             3            1  \n",
      "204 -1.708688  0.361519 -0.898549             3            1  \n",
      "208 -1.679884  0.491095 -1.078183             3            1  \n",
      "213 -1.656400  0.422923 -1.074147             3            1  \n",
      "219 -1.542087  0.829137 -0.836601             3            1  \n",
      "222 -1.548306  0.308509 -0.816600             3            1  \n",
      "226 -1.168633  0.498884 -0.613814             3            1  \n",
      "230 -1.350497  0.518018 -0.706029             3            1  \n",
      "234 -1.282069  0.576588 -0.685132             3            1  \n",
      "238 -1.495874  0.548765 -0.803792             3            1  \n"
     ]
    }
   ],
   "source": [
    "DataA3= Data.loc[(Data['Angle number'] ==3) & (Data['RightorLeft'] ==1)]\n",
    "print('Data = \\n',DataA3.head(10))"
   ]
  },
  {
   "cell_type": "code",
   "execution_count": 5,
   "metadata": {},
   "outputs": [],
   "source": [
    "DataA3_ = DataA3.drop(\"Angle number\", axis=1)\n",
    "DataA3_prepared = DataA3_.drop(\"RightorLeft\", axis=1)"
   ]
  },
  {
   "cell_type": "code",
   "execution_count": 6,
   "metadata": {},
   "outputs": [
    {
     "data": {
      "text/html": [
       "<div>\n",
       "<style scoped>\n",
       "    .dataframe tbody tr th:only-of-type {\n",
       "        vertical-align: middle;\n",
       "    }\n",
       "\n",
       "    .dataframe tbody tr th {\n",
       "        vertical-align: top;\n",
       "    }\n",
       "\n",
       "    .dataframe thead th {\n",
       "        text-align: right;\n",
       "    }\n",
       "</style>\n",
       "<table border=\"1\" class=\"dataframe\">\n",
       "  <thead>\n",
       "    <tr style=\"text-align: right;\">\n",
       "      <th></th>\n",
       "      <th>X1</th>\n",
       "      <th>Y1</th>\n",
       "      <th>X2</th>\n",
       "      <th>Y2</th>\n",
       "      <th>X3</th>\n",
       "      <th>Y3</th>\n",
       "      <th>X4</th>\n",
       "      <th>Y4</th>\n",
       "      <th>Angle</th>\n",
       "      <th>X5</th>\n",
       "      <th>Y5</th>\n",
       "      <th>X6</th>\n",
       "      <th>Y6</th>\n",
       "      <th>X7</th>\n",
       "      <th>Y7</th>\n",
       "      <th>X8</th>\n",
       "      <th>Y8</th>\n",
       "    </tr>\n",
       "  </thead>\n",
       "  <tbody>\n",
       "    <tr>\n",
       "      <th>200</th>\n",
       "      <td>-0.109320</td>\n",
       "      <td>-2.541718</td>\n",
       "      <td>-0.060900</td>\n",
       "      <td>-2.174978</td>\n",
       "      <td>-0.035940</td>\n",
       "      <td>-1.744075</td>\n",
       "      <td>-0.038436</td>\n",
       "      <td>-0.931484</td>\n",
       "      <td>12.827636</td>\n",
       "      <td>0.750432</td>\n",
       "      <td>-2.153865</td>\n",
       "      <td>0.686756</td>\n",
       "      <td>-1.823544</td>\n",
       "      <td>0.595140</td>\n",
       "      <td>-1.453063</td>\n",
       "      <td>0.405885</td>\n",
       "      <td>-0.773427</td>\n",
       "    </tr>\n",
       "    <tr>\n",
       "      <th>204</th>\n",
       "      <td>-0.168850</td>\n",
       "      <td>-2.832989</td>\n",
       "      <td>-0.125968</td>\n",
       "      <td>-2.429381</td>\n",
       "      <td>-0.101058</td>\n",
       "      <td>-1.923888</td>\n",
       "      <td>-0.080444</td>\n",
       "      <td>-1.001955</td>\n",
       "      <td>9.876494</td>\n",
       "      <td>0.667123</td>\n",
       "      <td>-2.519001</td>\n",
       "      <td>0.608058</td>\n",
       "      <td>-2.151844</td>\n",
       "      <td>0.527485</td>\n",
       "      <td>-1.708688</td>\n",
       "      <td>0.361519</td>\n",
       "      <td>-0.898549</td>\n",
       "    </tr>\n",
       "    <tr>\n",
       "      <th>208</th>\n",
       "      <td>0.083279</td>\n",
       "      <td>-2.989880</td>\n",
       "      <td>0.101073</td>\n",
       "      <td>-2.642375</td>\n",
       "      <td>0.081531</td>\n",
       "      <td>-2.199436</td>\n",
       "      <td>0.013333</td>\n",
       "      <td>-1.223844</td>\n",
       "      <td>7.355305</td>\n",
       "      <td>0.455706</td>\n",
       "      <td>-1.472692</td>\n",
       "      <td>0.493729</td>\n",
       "      <td>-1.632637</td>\n",
       "      <td>0.554804</td>\n",
       "      <td>-1.679884</td>\n",
       "      <td>0.491095</td>\n",
       "      <td>-1.078183</td>\n",
       "    </tr>\n",
       "    <tr>\n",
       "      <th>213</th>\n",
       "      <td>0.049809</td>\n",
       "      <td>-2.050463</td>\n",
       "      <td>0.021670</td>\n",
       "      <td>-2.021307</td>\n",
       "      <td>-0.007493</td>\n",
       "      <td>-1.950322</td>\n",
       "      <td>-0.060942</td>\n",
       "      <td>-1.198235</td>\n",
       "      <td>2.763818</td>\n",
       "      <td>0.555894</td>\n",
       "      <td>-1.577428</td>\n",
       "      <td>0.552039</td>\n",
       "      <td>-1.661372</td>\n",
       "      <td>0.545762</td>\n",
       "      <td>-1.656400</td>\n",
       "      <td>0.422923</td>\n",
       "      <td>-1.074147</td>\n",
       "    </tr>\n",
       "    <tr>\n",
       "      <th>219</th>\n",
       "      <td>1.508783</td>\n",
       "      <td>-3.542615</td>\n",
       "      <td>1.183490</td>\n",
       "      <td>-2.804655</td>\n",
       "      <td>0.832736</td>\n",
       "      <td>-2.083786</td>\n",
       "      <td>0.428837</td>\n",
       "      <td>-1.147781</td>\n",
       "      <td>13.501051</td>\n",
       "      <td>2.067837</td>\n",
       "      <td>-2.653992</td>\n",
       "      <td>1.701582</td>\n",
       "      <td>-2.094712</td>\n",
       "      <td>1.321551</td>\n",
       "      <td>-1.542087</td>\n",
       "      <td>0.829137</td>\n",
       "      <td>-0.836601</td>\n",
       "    </tr>\n",
       "    <tr>\n",
       "      <th>...</th>\n",
       "      <td>...</td>\n",
       "      <td>...</td>\n",
       "      <td>...</td>\n",
       "      <td>...</td>\n",
       "      <td>...</td>\n",
       "      <td>...</td>\n",
       "      <td>...</td>\n",
       "      <td>...</td>\n",
       "      <td>...</td>\n",
       "      <td>...</td>\n",
       "      <td>...</td>\n",
       "      <td>...</td>\n",
       "      <td>...</td>\n",
       "      <td>...</td>\n",
       "      <td>...</td>\n",
       "      <td>...</td>\n",
       "      <td>...</td>\n",
       "    </tr>\n",
       "    <tr>\n",
       "      <th>4364</th>\n",
       "      <td>-0.114359</td>\n",
       "      <td>-2.040542</td>\n",
       "      <td>-0.090848</td>\n",
       "      <td>-1.964862</td>\n",
       "      <td>-0.070132</td>\n",
       "      <td>-1.774386</td>\n",
       "      <td>-0.075756</td>\n",
       "      <td>-1.011233</td>\n",
       "      <td>13.961753</td>\n",
       "      <td>0.527369</td>\n",
       "      <td>-1.827589</td>\n",
       "      <td>0.520768</td>\n",
       "      <td>-1.791950</td>\n",
       "      <td>0.493271</td>\n",
       "      <td>-1.616687</td>\n",
       "      <td>0.356522</td>\n",
       "      <td>-0.923812</td>\n",
       "    </tr>\n",
       "    <tr>\n",
       "      <th>4368</th>\n",
       "      <td>0.057757</td>\n",
       "      <td>-2.200202</td>\n",
       "      <td>0.104522</td>\n",
       "      <td>-1.973843</td>\n",
       "      <td>0.107101</td>\n",
       "      <td>-1.630030</td>\n",
       "      <td>0.024884</td>\n",
       "      <td>-0.878879</td>\n",
       "      <td>9.711841</td>\n",
       "      <td>0.746784</td>\n",
       "      <td>-1.803415</td>\n",
       "      <td>0.717512</td>\n",
       "      <td>-1.630466</td>\n",
       "      <td>0.643735</td>\n",
       "      <td>-1.328209</td>\n",
       "      <td>0.431845</td>\n",
       "      <td>-0.697649</td>\n",
       "    </tr>\n",
       "    <tr>\n",
       "      <th>4372</th>\n",
       "      <td>-0.062727</td>\n",
       "      <td>-2.749317</td>\n",
       "      <td>-0.036357</td>\n",
       "      <td>-2.387249</td>\n",
       "      <td>-0.031160</td>\n",
       "      <td>-1.891681</td>\n",
       "      <td>-0.063056</td>\n",
       "      <td>-0.973566</td>\n",
       "      <td>9.026994</td>\n",
       "      <td>0.655281</td>\n",
       "      <td>-2.473886</td>\n",
       "      <td>0.604214</td>\n",
       "      <td>-2.163368</td>\n",
       "      <td>0.528162</td>\n",
       "      <td>-1.702950</td>\n",
       "      <td>0.361862</td>\n",
       "      <td>-0.878469</td>\n",
       "    </tr>\n",
       "    <tr>\n",
       "      <th>4376</th>\n",
       "      <td>-0.907510</td>\n",
       "      <td>-1.819428</td>\n",
       "      <td>-0.700910</td>\n",
       "      <td>-1.643393</td>\n",
       "      <td>-0.509169</td>\n",
       "      <td>-1.390107</td>\n",
       "      <td>-0.281888</td>\n",
       "      <td>-0.791154</td>\n",
       "      <td>15.948889</td>\n",
       "      <td>-0.062741</td>\n",
       "      <td>-1.551747</td>\n",
       "      <td>0.045611</td>\n",
       "      <td>-1.411194</td>\n",
       "      <td>0.127355</td>\n",
       "      <td>-1.191181</td>\n",
       "      <td>0.166852</td>\n",
       "      <td>-0.674771</td>\n",
       "    </tr>\n",
       "    <tr>\n",
       "      <th>4380</th>\n",
       "      <td>-0.662472</td>\n",
       "      <td>-1.920445</td>\n",
       "      <td>-0.503616</td>\n",
       "      <td>-1.723199</td>\n",
       "      <td>-0.361787</td>\n",
       "      <td>-1.437736</td>\n",
       "      <td>-0.204369</td>\n",
       "      <td>-0.784314</td>\n",
       "      <td>15.642965</td>\n",
       "      <td>0.180689</td>\n",
       "      <td>-1.564075</td>\n",
       "      <td>0.234575</td>\n",
       "      <td>-1.405511</td>\n",
       "      <td>0.262920</td>\n",
       "      <td>-1.184882</td>\n",
       "      <td>0.233117</td>\n",
       "      <td>-0.650946</td>\n",
       "    </tr>\n",
       "  </tbody>\n",
       "</table>\n",
       "<p>547 rows × 17 columns</p>\n",
       "</div>"
      ],
      "text/plain": [
       "            X1        Y1        X2        Y2        X3        Y3        X4  \\\n",
       "200  -0.109320 -2.541718 -0.060900 -2.174978 -0.035940 -1.744075 -0.038436   \n",
       "204  -0.168850 -2.832989 -0.125968 -2.429381 -0.101058 -1.923888 -0.080444   \n",
       "208   0.083279 -2.989880  0.101073 -2.642375  0.081531 -2.199436  0.013333   \n",
       "213   0.049809 -2.050463  0.021670 -2.021307 -0.007493 -1.950322 -0.060942   \n",
       "219   1.508783 -3.542615  1.183490 -2.804655  0.832736 -2.083786  0.428837   \n",
       "...        ...       ...       ...       ...       ...       ...       ...   \n",
       "4364 -0.114359 -2.040542 -0.090848 -1.964862 -0.070132 -1.774386 -0.075756   \n",
       "4368  0.057757 -2.200202  0.104522 -1.973843  0.107101 -1.630030  0.024884   \n",
       "4372 -0.062727 -2.749317 -0.036357 -2.387249 -0.031160 -1.891681 -0.063056   \n",
       "4376 -0.907510 -1.819428 -0.700910 -1.643393 -0.509169 -1.390107 -0.281888   \n",
       "4380 -0.662472 -1.920445 -0.503616 -1.723199 -0.361787 -1.437736 -0.204369   \n",
       "\n",
       "            Y4      Angle        X5        Y5        X6        Y6        X7  \\\n",
       "200  -0.931484  12.827636  0.750432 -2.153865  0.686756 -1.823544  0.595140   \n",
       "204  -1.001955   9.876494  0.667123 -2.519001  0.608058 -2.151844  0.527485   \n",
       "208  -1.223844   7.355305  0.455706 -1.472692  0.493729 -1.632637  0.554804   \n",
       "213  -1.198235   2.763818  0.555894 -1.577428  0.552039 -1.661372  0.545762   \n",
       "219  -1.147781  13.501051  2.067837 -2.653992  1.701582 -2.094712  1.321551   \n",
       "...        ...        ...       ...       ...       ...       ...       ...   \n",
       "4364 -1.011233  13.961753  0.527369 -1.827589  0.520768 -1.791950  0.493271   \n",
       "4368 -0.878879   9.711841  0.746784 -1.803415  0.717512 -1.630466  0.643735   \n",
       "4372 -0.973566   9.026994  0.655281 -2.473886  0.604214 -2.163368  0.528162   \n",
       "4376 -0.791154  15.948889 -0.062741 -1.551747  0.045611 -1.411194  0.127355   \n",
       "4380 -0.784314  15.642965  0.180689 -1.564075  0.234575 -1.405511  0.262920   \n",
       "\n",
       "            Y7        X8        Y8  \n",
       "200  -1.453063  0.405885 -0.773427  \n",
       "204  -1.708688  0.361519 -0.898549  \n",
       "208  -1.679884  0.491095 -1.078183  \n",
       "213  -1.656400  0.422923 -1.074147  \n",
       "219  -1.542087  0.829137 -0.836601  \n",
       "...        ...       ...       ...  \n",
       "4364 -1.616687  0.356522 -0.923812  \n",
       "4368 -1.328209  0.431845 -0.697649  \n",
       "4372 -1.702950  0.361862 -0.878469  \n",
       "4376 -1.191181  0.166852 -0.674771  \n",
       "4380 -1.184882  0.233117 -0.650946  \n",
       "\n",
       "[547 rows x 17 columns]"
      ]
     },
     "execution_count": 6,
     "metadata": {},
     "output_type": "execute_result"
    }
   ],
   "source": [
    "DataA3_prepared"
   ]
  },
  {
   "cell_type": "code",
   "execution_count": 7,
   "metadata": {},
   "outputs": [],
   "source": [
    "# import seaborn as sns\n",
    "# sns.pairplot(DataA3_prepared)"
   ]
  },
  {
   "cell_type": "code",
   "execution_count": 8,
   "metadata": {},
   "outputs": [],
   "source": [
    "# split the data \n",
    "from sklearn.model_selection import train_test_split\n",
    "\n",
    "train_set, test_set = train_test_split(DataA3_prepared, test_size=0.2, random_state=42)"
   ]
  },
  {
   "cell_type": "code",
   "execution_count": 9,
   "metadata": {},
   "outputs": [
    {
     "data": {
      "text/html": [
       "<div>\n",
       "<style scoped>\n",
       "    .dataframe tbody tr th:only-of-type {\n",
       "        vertical-align: middle;\n",
       "    }\n",
       "\n",
       "    .dataframe tbody tr th {\n",
       "        vertical-align: top;\n",
       "    }\n",
       "\n",
       "    .dataframe thead th {\n",
       "        text-align: right;\n",
       "    }\n",
       "</style>\n",
       "<table border=\"1\" class=\"dataframe\">\n",
       "  <thead>\n",
       "    <tr style=\"text-align: right;\">\n",
       "      <th></th>\n",
       "      <th>X1</th>\n",
       "      <th>Y1</th>\n",
       "      <th>X2</th>\n",
       "      <th>Y2</th>\n",
       "      <th>X3</th>\n",
       "      <th>Y3</th>\n",
       "      <th>X4</th>\n",
       "      <th>Y4</th>\n",
       "      <th>Angle</th>\n",
       "      <th>X5</th>\n",
       "      <th>Y5</th>\n",
       "      <th>X6</th>\n",
       "      <th>Y6</th>\n",
       "      <th>X7</th>\n",
       "      <th>Y7</th>\n",
       "      <th>X8</th>\n",
       "      <th>Y8</th>\n",
       "    </tr>\n",
       "  </thead>\n",
       "  <tbody>\n",
       "    <tr>\n",
       "      <th>1347</th>\n",
       "      <td>0.063031</td>\n",
       "      <td>-2.088889</td>\n",
       "      <td>0.099865</td>\n",
       "      <td>-1.852134</td>\n",
       "      <td>0.100378</td>\n",
       "      <td>-1.526644</td>\n",
       "      <td>0.032428</td>\n",
       "      <td>-0.838707</td>\n",
       "      <td>15.035423</td>\n",
       "      <td>0.850591</td>\n",
       "      <td>-1.545334</td>\n",
       "      <td>0.789560</td>\n",
       "      <td>-1.374522</td>\n",
       "      <td>0.696562</td>\n",
       "      <td>-1.152650</td>\n",
       "      <td>0.470927</td>\n",
       "      <td>-0.633278</td>\n",
       "    </tr>\n",
       "    <tr>\n",
       "      <th>503</th>\n",
       "      <td>0.013867</td>\n",
       "      <td>-2.565337</td>\n",
       "      <td>0.037620</td>\n",
       "      <td>-2.210611</td>\n",
       "      <td>0.037399</td>\n",
       "      <td>-1.782497</td>\n",
       "      <td>-0.002582</td>\n",
       "      <td>-0.945768</td>\n",
       "      <td>12.173868</td>\n",
       "      <td>0.843157</td>\n",
       "      <td>-2.176219</td>\n",
       "      <td>0.763370</td>\n",
       "      <td>-1.862953</td>\n",
       "      <td>0.658255</td>\n",
       "      <td>-1.499675</td>\n",
       "      <td>0.433531</td>\n",
       "      <td>-0.787589</td>\n",
       "    </tr>\n",
       "    <tr>\n",
       "      <th>2784</th>\n",
       "      <td>0.320165</td>\n",
       "      <td>-2.350492</td>\n",
       "      <td>0.319233</td>\n",
       "      <td>-2.103222</td>\n",
       "      <td>0.266372</td>\n",
       "      <td>-1.735776</td>\n",
       "      <td>0.093911</td>\n",
       "      <td>-0.962915</td>\n",
       "      <td>4.716114</td>\n",
       "      <td>0.933585</td>\n",
       "      <td>-2.046013</td>\n",
       "      <td>0.877697</td>\n",
       "      <td>-1.818787</td>\n",
       "      <td>0.771643</td>\n",
       "      <td>-1.458252</td>\n",
       "      <td>0.509327</td>\n",
       "      <td>-0.764927</td>\n",
       "    </tr>\n",
       "    <tr>\n",
       "      <th>692</th>\n",
       "      <td>0.087933</td>\n",
       "      <td>-2.653021</td>\n",
       "      <td>0.104171</td>\n",
       "      <td>-2.243255</td>\n",
       "      <td>0.090367</td>\n",
       "      <td>-1.782101</td>\n",
       "      <td>0.011611</td>\n",
       "      <td>-0.968039</td>\n",
       "      <td>4.771518</td>\n",
       "      <td>0.833549</td>\n",
       "      <td>-2.286098</td>\n",
       "      <td>0.757191</td>\n",
       "      <td>-1.926706</td>\n",
       "      <td>0.653949</td>\n",
       "      <td>-1.492330</td>\n",
       "      <td>0.445688</td>\n",
       "      <td>-0.799600</td>\n",
       "    </tr>\n",
       "    <tr>\n",
       "      <th>2812</th>\n",
       "      <td>0.294583</td>\n",
       "      <td>-2.502369</td>\n",
       "      <td>0.282148</td>\n",
       "      <td>-2.188719</td>\n",
       "      <td>0.230331</td>\n",
       "      <td>-1.765677</td>\n",
       "      <td>0.096069</td>\n",
       "      <td>-0.961629</td>\n",
       "      <td>6.965435</td>\n",
       "      <td>1.018741</td>\n",
       "      <td>-2.124620</td>\n",
       "      <td>0.938293</td>\n",
       "      <td>-1.841976</td>\n",
       "      <td>0.799438</td>\n",
       "      <td>-1.464725</td>\n",
       "      <td>0.515180</td>\n",
       "      <td>-0.768592</td>\n",
       "    </tr>\n",
       "  </tbody>\n",
       "</table>\n",
       "</div>"
      ],
      "text/plain": [
       "            X1        Y1        X2        Y2        X3        Y3        X4  \\\n",
       "1347  0.063031 -2.088889  0.099865 -1.852134  0.100378 -1.526644  0.032428   \n",
       "503   0.013867 -2.565337  0.037620 -2.210611  0.037399 -1.782497 -0.002582   \n",
       "2784  0.320165 -2.350492  0.319233 -2.103222  0.266372 -1.735776  0.093911   \n",
       "692   0.087933 -2.653021  0.104171 -2.243255  0.090367 -1.782101  0.011611   \n",
       "2812  0.294583 -2.502369  0.282148 -2.188719  0.230331 -1.765677  0.096069   \n",
       "\n",
       "            Y4      Angle        X5        Y5        X6        Y6        X7  \\\n",
       "1347 -0.838707  15.035423  0.850591 -1.545334  0.789560 -1.374522  0.696562   \n",
       "503  -0.945768  12.173868  0.843157 -2.176219  0.763370 -1.862953  0.658255   \n",
       "2784 -0.962915   4.716114  0.933585 -2.046013  0.877697 -1.818787  0.771643   \n",
       "692  -0.968039   4.771518  0.833549 -2.286098  0.757191 -1.926706  0.653949   \n",
       "2812 -0.961629   6.965435  1.018741 -2.124620  0.938293 -1.841976  0.799438   \n",
       "\n",
       "            Y7        X8        Y8  \n",
       "1347 -1.152650  0.470927 -0.633278  \n",
       "503  -1.499675  0.433531 -0.787589  \n",
       "2784 -1.458252  0.509327 -0.764927  \n",
       "692  -1.492330  0.445688 -0.799600  \n",
       "2812 -1.464725  0.515180 -0.768592  "
      ]
     },
     "execution_count": 9,
     "metadata": {},
     "output_type": "execute_result"
    }
   ],
   "source": [
    "test_set.head()"
   ]
  },
  {
   "cell_type": "code",
   "execution_count": 10,
   "metadata": {},
   "outputs": [],
   "source": [
    "DataA3_prepared = train_set.copy()"
   ]
  },
  {
   "cell_type": "code",
   "execution_count": 11,
   "metadata": {},
   "outputs": [
    {
     "data": {
      "text/plain": [
       "Angle    1.000000\n",
       "Y4       0.171023\n",
       "Y8       0.165368\n",
       "Y7       0.134767\n",
       "X5       0.113248\n",
       "Y3       0.108939\n",
       "X6       0.091135\n",
       "Y6       0.081289\n",
       "X7       0.057104\n",
       "X8       0.039740\n",
       "Y2       0.035802\n",
       "Y5       0.027610\n",
       "X1       0.010275\n",
       "X4       0.005237\n",
       "X2      -0.001716\n",
       "X3      -0.015095\n",
       "Y1      -0.021271\n",
       "Name: Angle, dtype: float64"
      ]
     },
     "execution_count": 11,
     "metadata": {},
     "output_type": "execute_result"
    }
   ],
   "source": [
    "corr_matrix = DataA3_prepared.corr()\n",
    "corr_matrix[\"Angle\"].sort_values(ascending=False)"
   ]
  },
  {
   "cell_type": "code",
   "execution_count": 12,
   "metadata": {},
   "outputs": [],
   "source": [
    "# Prepare the data for Machine Learning algorithms\n",
    "\n",
    "DataA3_prepared = train_set.drop(\"Angle\", axis=1) # drop labels for training set\n",
    "DataA3_prepared_label = train_set[\"Angle\"].copy()"
   ]
  },
  {
   "cell_type": "code",
   "execution_count": 13,
   "metadata": {},
   "outputs": [
    {
     "data": {
      "text/plain": [
       "SVR()"
      ]
     },
     "execution_count": 13,
     "metadata": {},
     "output_type": "execute_result"
    }
   ],
   "source": [
    "# Select and train a model \n",
    "\n",
    "from sklearn.svm import SVR\n",
    "dc_tr=SVR(kernel = 'rbf')\n",
    "dc_tr.fit(DataA3_prepared, DataA3_prepared_label)"
   ]
  },
  {
   "cell_type": "code",
   "execution_count": null,
   "metadata": {},
   "outputs": [],
   "source": []
  },
  {
   "cell_type": "code",
   "execution_count": 14,
   "metadata": {},
   "outputs": [
    {
     "name": "stdout",
     "output_type": "stream",
     "text": [
      "Predictions: [10.37325777 10.21554988  9.8944209  10.19700504 10.17580051]\n"
     ]
    }
   ],
   "source": [
    "some_data = DataA3_prepared.iloc[:5]\n",
    "some_labels = DataA3_prepared_label.iloc[:5]\n",
    "print(\"Predictions:\", dc_tr.predict(some_data))"
   ]
  },
  {
   "cell_type": "code",
   "execution_count": 15,
   "metadata": {},
   "outputs": [
    {
     "name": "stdout",
     "output_type": "stream",
     "text": [
      "Labels: [5.149968536, 5.374201624, 17.41426214, 20.32439177, 14.47664915]\n"
     ]
    }
   ],
   "source": [
    "# Compare against the actual values:\n",
    "\n",
    "print(\"Labels:\", list(some_labels))"
   ]
  },
  {
   "cell_type": "code",
   "execution_count": 16,
   "metadata": {},
   "outputs": [
    {
     "data": {
      "text/plain": [
       "4.000188953011715"
      ]
     },
     "execution_count": 16,
     "metadata": {},
     "output_type": "execute_result"
    }
   ],
   "source": [
    "from sklearn.metrics import mean_squared_error\n",
    "\n",
    "Data_predictions = dc_tr.predict(DataA3_prepared)\n",
    "lin_mse = mean_squared_error(DataA3_prepared_label, Data_predictions)\n",
    "lin_rmse = np.sqrt(lin_mse)\n",
    "lin_rmse"
   ]
  },
  {
   "cell_type": "code",
   "execution_count": 17,
   "metadata": {},
   "outputs": [],
   "source": [
    "# Cross Validation\n",
    "\n",
    "from sklearn.model_selection import cross_val_score\n",
    "\n",
    "lin_scores = cross_val_score(dc_tr, DataA3_prepared, DataA3_prepared_label,\n",
    "                         scoring=\"neg_mean_squared_error\", cv=10)\n",
    "lin_rmse_scores = np.sqrt(-lin_scores)"
   ]
  },
  {
   "cell_type": "code",
   "execution_count": 18,
   "metadata": {},
   "outputs": [
    {
     "name": "stdout",
     "output_type": "stream",
     "text": [
      "Scores: [4.51117334 3.71819166 4.35864952 3.9527903  4.31790262 4.02639973\n",
      " 3.76928359 4.34173592 3.26064709 4.06091422]\n",
      "Mean: 4.031768797590624\n",
      "Standard deviation: 0.3582744184012533\n"
     ]
    }
   ],
   "source": [
    "def display_scores(scores):\n",
    "    print(\"Scores:\", scores)\n",
    "    print(\"Mean:\", scores.mean())\n",
    "    print(\"Standard deviation:\", scores.std())\n",
    "\n",
    "display_scores(lin_rmse_scores)"
   ]
  },
  {
   "cell_type": "code",
   "execution_count": 19,
   "metadata": {},
   "outputs": [],
   "source": [
    "X_test = test_set.drop(\"Angle\", axis=1)\n",
    "y_test = test_set[\"Angle\"].copy()\n",
    "\n",
    "final_predictions = dc_tr.predict(X_test)\n",
    "\n",
    "final_mse = mean_squared_error(y_test, final_predictions)\n",
    "final_rmse = np.sqrt(final_mse)"
   ]
  },
  {
   "cell_type": "code",
   "execution_count": 20,
   "metadata": {},
   "outputs": [
    {
     "data": {
      "text/plain": [
       "<matplotlib.collections.PathCollection at 0x23ff32e58e0>"
      ]
     },
     "execution_count": 20,
     "metadata": {},
     "output_type": "execute_result"
    },
    {
     "data": {
      "image/png": "[encoded data removed]",
      "text/plain": [
       "<Figure size 432x288 with 1 Axes>"
      ]
     },
     "metadata": {
      "needs_background": "light"
     },
     "output_type": "display_data"
    }
   ],
   "source": [
    "plt.scatter(y_test, final_predictions)"
   ]
  },
  {
   "cell_type": "code",
   "execution_count": 21,
   "metadata": {},
   "outputs": [
    {
     "data": {
      "text/plain": [
       "(array([10., 11., 25., 20., 18., 11.,  9.,  2.,  3.,  1.]),\n",
       " array([-7.19677499, -5.14509208, -3.09340917, -1.04172626,  1.00995665,\n",
       "         3.06163956,  5.11332247,  7.16500538,  9.21668829, 11.2683712 ,\n",
       "        13.32005411]),\n",
       " <BarContainer object of 10 artists>)"
      ]
     },
     "execution_count": 21,
     "metadata": {},
     "output_type": "execute_result"
    },
    {
     "data": {
      "image/png": "[encoded data removed]",
      "text/plain": [
       "<Figure size 432x288 with 1 Axes>"
      ]
     },
     "metadata": {
      "needs_background": "light"
     },
     "output_type": "display_data"
    }
   ],
   "source": [
    "plt.hist(y_test - final_predictions)"
   ]
  },
  {
   "cell_type": "code",
   "execution_count": 22,
   "metadata": {},
   "outputs": [
    {
     "data": {
      "text/plain": [
       "4.140107870112417"
      ]
     },
     "execution_count": 22,
     "metadata": {},
     "output_type": "execute_result"
    }
   ],
   "source": [
    "final_rmse"
   ]
  },
  {
   "cell_type": "code",
   "execution_count": 23,
   "metadata": {},
   "outputs": [
    {
     "data": {
      "text/plain": [
       "array([3.5009313 , 4.69302316])"
      ]
     },
     "execution_count": 23,
     "metadata": {},
     "output_type": "execute_result"
    }
   ],
   "source": [
    "from scipy import stats\n",
    "\n",
    "confidence = 0.95\n",
    "squared_errors = (final_predictions - y_test) ** 2\n",
    "np.sqrt(stats.t.interval(confidence, len(squared_errors) - 1,\n",
    "                         loc=squared_errors.mean(),\n",
    "                         scale=stats.sem(squared_errors)))"
   ]
  },
  {
   "cell_type": "code",
   "execution_count": 24,
   "metadata": {},
   "outputs": [
    {
     "name": "stdout",
     "output_type": "stream",
     "text": [
      "Regressor model performance:\n",
      "Mean absolute error(MAE) = 3.31\n",
      "Mean squared error(MSE) = 17.14\n",
      "Median absolute error = 2.66\n",
      "Explain variance score = 0.03\n",
      "R2 score = 0.02\n"
     ]
    }
   ],
   "source": [
    "import sklearn.metrics as sm\n",
    "\n",
    "print(\"Regressor model performance:\")\n",
    "print(\"Mean absolute error(MAE) =\", round(sm.mean_absolute_error(y_test, final_predictions), 2))\n",
    "print(\"Mean squared error(MSE) =\", round(sm.mean_squared_error(y_test, final_predictions), 2))\n",
    "print(\"Median absolute error =\", round(sm.median_absolute_error(y_test, final_predictions), 2))\n",
    "print(\"Explain variance score =\", round(sm.explained_variance_score(y_test, final_predictions), 2))\n",
    "print(\"R2 score =\", round(sm.r2_score(y_test, final_predictions), 2))"
   ]
  },
  {
   "cell_type": "code",
   "execution_count": 25,
   "metadata": {},
   "outputs": [],
   "source": [
    "def mean_absolute_percentage_error(y_test, final_predictions): \n",
    "    y_test, final_predictions = np.array(y_test), np.array(final_predictions)\n",
    "    return np.mean(np.abs((y_test - final_predictions) / final_predictions)) * 100"
   ]
  },
  {
   "cell_type": "code",
   "execution_count": 26,
   "metadata": {},
   "outputs": [
    {
     "name": "stdout",
     "output_type": "stream",
     "text": [
      "32.95407637265051\n"
     ]
    }
   ],
   "source": [
    "print(mean_absolute_percentage_error(y_test, final_predictions))"
   ]
  },
  {
   "cell_type": "code",
   "execution_count": null,
   "metadata": {},
   "outputs": [],
   "source": []
  }
 ],
 "metadata": {
  "kernelspec": {
   "display_name": "Python 3",
   "language": "python",
   "name": "python3"
  },
  "language_info": {
   "codemirror_mode": {
    "name": "ipython",
    "version": 3
   },
   "file_extension": ".py",
   "mimetype": "text/x-python",
   "name": "python",
   "nbconvert_exporter": "python",
   "pygments_lexer": "ipython3",
   "version": "3.9.0"
  }
 },
 "nbformat": 4,
 "nbformat_minor": 4
}
