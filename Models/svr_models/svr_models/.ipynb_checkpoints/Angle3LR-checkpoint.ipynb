{
 "cells": [
  {
   "cell_type": "code",
   "execution_count": 1,
   "metadata": {},
   "outputs": [],
   "source": [
    "#import libraries\n",
    "import numpy as np\n",
    "import pandas as pd\n",
    "import matplotlib.pyplot as plt"
   ]
  },
  {
   "cell_type": "code",
   "execution_count": 2,
   "metadata": {},
   "outputs": [
    {
     "name": "stdout",
     "output_type": "stream",
     "text": [
      "Data = \n",
      "          X1        Y1        X2        Y2        X3        Y3        X4  \\\n",
      "0  0.860019 -3.096488  0.753413 -2.530522  0.629331 -1.962419  0.361692   \n",
      "1  0.456454 -2.852605  0.565661 -2.188466  0.568863 -1.593943  0.363601   \n",
      "2 -0.462493 -2.031486 -0.125549 -1.528304  0.123850 -1.026633  0.238231   \n",
      "3  0.106369 -2.186939  0.116188 -1.520864  0.142727 -0.703652  0.068778   \n",
      "4  0.381094 -3.316631  0.390072 -2.754067  0.427469 -2.131407  0.336888   \n",
      "5 -0.262968 -3.256483 -0.094474 -2.594541  0.073604 -1.954448  0.088474   \n",
      "6 -0.970940 -2.595038 -0.683583 -2.042165 -0.376025 -1.472786 -0.190104   \n",
      "7 -0.304093 -1.997585 -0.215963 -1.307632 -0.116897 -0.454085 -0.069022   \n",
      "8  0.055419 -3.592592  0.131205 -2.973669  0.252867 -2.286043  0.242098   \n",
      "9 -0.344932 -3.766955 -0.137432 -2.997226  0.053303 -2.269871  0.066792   \n",
      "\n",
      "         Y4      Angle        X5        Y5        X6        Y6        X7  \\\n",
      "0 -1.227911  15.958005  0.456454 -2.852605  0.565661 -2.188466  0.568863   \n",
      "1 -0.907820  16.424084 -0.462493 -2.031486 -0.125549 -1.528304  0.123850   \n",
      "2 -0.510583  15.635178 -0.915264 -0.867298 -0.556912 -0.619065 -0.347119   \n",
      "3  0.170585  26.299685  0.381094 -3.316631  0.390072 -2.754067  0.427469   \n",
      "4 -1.266161  15.050765 -0.262968 -3.256483 -0.094474 -2.594541  0.073604   \n",
      "5 -1.111491  13.807231 -0.970940 -2.595038 -0.683583 -2.042165 -0.376025   \n",
      "6 -0.800848  14.902200 -1.493574 -1.457450 -1.151122 -1.159289 -0.929195   \n",
      "7  0.416620  15.051214  0.055419 -3.592592  0.131205 -2.973669  0.252867   \n",
      "8 -1.329521  12.915006 -0.344932 -3.766955 -0.137432 -2.997226  0.053303   \n",
      "9 -1.308215   7.824200 -0.905729 -3.185208 -0.604510 -2.520129 -0.291183   \n",
      "\n",
      "         Y7        X8        Y8  Angle number  RightorLeft  \n",
      "0 -1.593943  0.363601 -0.907820             2            0  \n",
      "1 -1.026633  0.238231 -0.510583             3            0  \n",
      "2 -0.385286 -0.006106 -0.007940             4            0  \n",
      "3 -2.131407  0.336888 -1.266161             1            0  \n",
      "4 -1.954448  0.088474 -1.111491             2            0  \n",
      "5 -1.472786 -0.190104 -0.800848             3            0  \n",
      "6 -0.890322 -0.549895 -0.352399             4            0  \n",
      "7 -2.286043  0.242098 -1.329521             1            0  \n",
      "8 -2.269871  0.066792 -1.308215             2            0  \n",
      "9 -1.861470 -0.161199 -1.063399             3            0  \n"
     ]
    }
   ],
   "source": [
    "#read data\n",
    "Data = pd.read_csv(r'C:\\Users\\User\\Desktop\\decision_tree_models\\data.csv')\n",
    "print('Data = \\n',Data.head(10))"
   ]
  },
  {
   "cell_type": "code",
   "execution_count": 3,
   "metadata": {},
   "outputs": [
    {
     "name": "stdout",
     "output_type": "stream",
     "text": [
      "Data = \n",
      "           X1        Y1        X2        Y2        X3        Y3        X4  \\\n",
      "1   0.456454 -2.852605  0.565661 -2.188466  0.568863 -1.593943  0.363601   \n",
      "5  -0.262968 -3.256483 -0.094474 -2.594541  0.073604 -1.954448  0.088474   \n",
      "9  -0.344932 -3.766955 -0.137432 -2.997226  0.053303 -2.269871  0.066792   \n",
      "13 -0.838851 -3.732168 -0.534015 -3.003944 -0.278649 -2.293328 -0.173467   \n",
      "16 -0.260781 -3.128140 -0.060634 -2.458027  0.095771 -1.814866  0.097707   \n",
      "20 -0.030221 -3.139637  0.079306 -2.474090  0.187384 -1.828523  0.130153   \n",
      "24 -0.328681 -3.656366 -0.116912 -2.887448  0.078374 -2.173363  0.087590   \n",
      "28 -0.260997 -3.503587 -0.109554 -2.779068  0.075505 -2.097643  0.075567   \n",
      "32  0.027210 -3.311380  0.114000 -2.604938  0.226501 -1.937282  0.151225   \n",
      "36  0.405838 -3.144172  0.432424 -2.459986  0.462744 -1.804315  0.256043   \n",
      "\n",
      "          Y4      Angle        X5        Y5        X6        Y6        X7  \\\n",
      "1  -0.907820  16.424084 -0.462493 -2.031486 -0.125549 -1.528304  0.123850   \n",
      "5  -1.111491  13.807231 -0.970940 -2.595038 -0.683583 -2.042165 -0.376025   \n",
      "9  -1.308215   7.824200 -0.905729 -3.185208 -0.604510 -2.520129 -0.291183   \n",
      "13 -1.311250   7.632810 -0.745863 -3.151515 -0.423933 -2.516008 -0.127645   \n",
      "16 -1.022131  18.071257 -1.028285 -2.403042 -0.702093 -1.866702 -0.364537   \n",
      "20 -1.044000  14.479352 -0.772966 -2.529301 -0.519489 -1.918955 -0.261585   \n",
      "24 -1.259572   7.160648 -0.950071 -3.015571 -0.629420 -2.348733 -0.316467   \n",
      "28 -1.220023   6.093655 -0.938919 -2.950183 -0.652882 -2.274927 -0.363043   \n",
      "32 -1.121759  10.612284 -0.720192 -2.764966 -0.487893 -2.103504 -0.249392   \n",
      "36 -1.036598   7.191233 -0.265576 -2.449618 -0.112006 -1.829522  0.056950   \n",
      "\n",
      "          Y7        X8        Y8  Angle number  RightorLeft  \n",
      "1  -1.026633  0.238231 -0.510583             3            0  \n",
      "5  -1.472786 -0.190104 -0.800848             3            0  \n",
      "9  -1.861470 -0.161199 -1.063399             3            0  \n",
      "13 -1.901329 -0.020029 -1.088937             3            0  \n",
      "16 -1.304967 -0.162872 -0.680061             3            0  \n",
      "20 -1.335069 -0.139286 -0.707567             3            0  \n",
      "24 -1.700216 -0.178130 -0.959214             3            0  \n",
      "28 -1.625471 -0.223529 -0.912360             3            0  \n",
      "32 -1.470145 -0.159422 -0.807329             3            0  \n",
      "36 -1.260605  0.035554 -0.662957             3            0  \n"
     ]
    }
   ],
   "source": [
    "DataA3= Data.loc[Data['Angle number'] ==3]\n",
    "print('Data = \\n',DataA3.head(10))"
   ]
  },
  {
   "cell_type": "code",
   "execution_count": 4,
   "metadata": {},
   "outputs": [],
   "source": [
    "DataA3_ = DataA3.drop(\"Angle number\", axis=1)"
   ]
  },
  {
   "cell_type": "code",
   "execution_count": 5,
   "metadata": {},
   "outputs": [
    {
     "data": {
      "text/html": [
       "<div>\n",
       "<style scoped>\n",
       "    .dataframe tbody tr th:only-of-type {\n",
       "        vertical-align: middle;\n",
       "    }\n",
       "\n",
       "    .dataframe tbody tr th {\n",
       "        vertical-align: top;\n",
       "    }\n",
       "\n",
       "    .dataframe thead th {\n",
       "        text-align: right;\n",
       "    }\n",
       "</style>\n",
       "<table border=\"1\" class=\"dataframe\">\n",
       "  <thead>\n",
       "    <tr style=\"text-align: right;\">\n",
       "      <th></th>\n",
       "      <th>X1</th>\n",
       "      <th>Y1</th>\n",
       "      <th>X2</th>\n",
       "      <th>Y2</th>\n",
       "      <th>X3</th>\n",
       "      <th>Y3</th>\n",
       "      <th>X4</th>\n",
       "      <th>Y4</th>\n",
       "      <th>Angle</th>\n",
       "      <th>X5</th>\n",
       "      <th>Y5</th>\n",
       "      <th>X6</th>\n",
       "      <th>Y6</th>\n",
       "      <th>X7</th>\n",
       "      <th>Y7</th>\n",
       "      <th>X8</th>\n",
       "      <th>Y8</th>\n",
       "      <th>RightorLeft</th>\n",
       "    </tr>\n",
       "  </thead>\n",
       "  <tbody>\n",
       "    <tr>\n",
       "      <th>1</th>\n",
       "      <td>0.456454</td>\n",
       "      <td>-2.852605</td>\n",
       "      <td>0.565661</td>\n",
       "      <td>-2.188466</td>\n",
       "      <td>0.568863</td>\n",
       "      <td>-1.593943</td>\n",
       "      <td>0.363601</td>\n",
       "      <td>-0.907820</td>\n",
       "      <td>16.424084</td>\n",
       "      <td>-0.462493</td>\n",
       "      <td>-2.031486</td>\n",
       "      <td>-0.125549</td>\n",
       "      <td>-1.528304</td>\n",
       "      <td>0.123850</td>\n",
       "      <td>-1.026633</td>\n",
       "      <td>0.238231</td>\n",
       "      <td>-0.510583</td>\n",
       "      <td>0</td>\n",
       "    </tr>\n",
       "    <tr>\n",
       "      <th>5</th>\n",
       "      <td>-0.262968</td>\n",
       "      <td>-3.256483</td>\n",
       "      <td>-0.094474</td>\n",
       "      <td>-2.594541</td>\n",
       "      <td>0.073604</td>\n",
       "      <td>-1.954448</td>\n",
       "      <td>0.088474</td>\n",
       "      <td>-1.111491</td>\n",
       "      <td>13.807231</td>\n",
       "      <td>-0.970940</td>\n",
       "      <td>-2.595038</td>\n",
       "      <td>-0.683583</td>\n",
       "      <td>-2.042165</td>\n",
       "      <td>-0.376025</td>\n",
       "      <td>-1.472786</td>\n",
       "      <td>-0.190104</td>\n",
       "      <td>-0.800848</td>\n",
       "      <td>0</td>\n",
       "    </tr>\n",
       "    <tr>\n",
       "      <th>9</th>\n",
       "      <td>-0.344932</td>\n",
       "      <td>-3.766955</td>\n",
       "      <td>-0.137432</td>\n",
       "      <td>-2.997226</td>\n",
       "      <td>0.053303</td>\n",
       "      <td>-2.269871</td>\n",
       "      <td>0.066792</td>\n",
       "      <td>-1.308215</td>\n",
       "      <td>7.824200</td>\n",
       "      <td>-0.905729</td>\n",
       "      <td>-3.185208</td>\n",
       "      <td>-0.604510</td>\n",
       "      <td>-2.520129</td>\n",
       "      <td>-0.291183</td>\n",
       "      <td>-1.861470</td>\n",
       "      <td>-0.161199</td>\n",
       "      <td>-1.063399</td>\n",
       "      <td>0</td>\n",
       "    </tr>\n",
       "    <tr>\n",
       "      <th>13</th>\n",
       "      <td>-0.838851</td>\n",
       "      <td>-3.732168</td>\n",
       "      <td>-0.534015</td>\n",
       "      <td>-3.003944</td>\n",
       "      <td>-0.278649</td>\n",
       "      <td>-2.293328</td>\n",
       "      <td>-0.173467</td>\n",
       "      <td>-1.311250</td>\n",
       "      <td>7.632810</td>\n",
       "      <td>-0.745863</td>\n",
       "      <td>-3.151515</td>\n",
       "      <td>-0.423933</td>\n",
       "      <td>-2.516008</td>\n",
       "      <td>-0.127645</td>\n",
       "      <td>-1.901329</td>\n",
       "      <td>-0.020029</td>\n",
       "      <td>-1.088937</td>\n",
       "      <td>0</td>\n",
       "    </tr>\n",
       "    <tr>\n",
       "      <th>16</th>\n",
       "      <td>-0.260781</td>\n",
       "      <td>-3.128140</td>\n",
       "      <td>-0.060634</td>\n",
       "      <td>-2.458027</td>\n",
       "      <td>0.095771</td>\n",
       "      <td>-1.814866</td>\n",
       "      <td>0.097707</td>\n",
       "      <td>-1.022131</td>\n",
       "      <td>18.071257</td>\n",
       "      <td>-1.028285</td>\n",
       "      <td>-2.403042</td>\n",
       "      <td>-0.702093</td>\n",
       "      <td>-1.866702</td>\n",
       "      <td>-0.364537</td>\n",
       "      <td>-1.304967</td>\n",
       "      <td>-0.162872</td>\n",
       "      <td>-0.680061</td>\n",
       "      <td>0</td>\n",
       "    </tr>\n",
       "    <tr>\n",
       "      <th>...</th>\n",
       "      <td>...</td>\n",
       "      <td>...</td>\n",
       "      <td>...</td>\n",
       "      <td>...</td>\n",
       "      <td>...</td>\n",
       "      <td>...</td>\n",
       "      <td>...</td>\n",
       "      <td>...</td>\n",
       "      <td>...</td>\n",
       "      <td>...</td>\n",
       "      <td>...</td>\n",
       "      <td>...</td>\n",
       "      <td>...</td>\n",
       "      <td>...</td>\n",
       "      <td>...</td>\n",
       "      <td>...</td>\n",
       "      <td>...</td>\n",
       "      <td>...</td>\n",
       "    </tr>\n",
       "    <tr>\n",
       "      <th>4364</th>\n",
       "      <td>-0.114359</td>\n",
       "      <td>-2.040542</td>\n",
       "      <td>-0.090848</td>\n",
       "      <td>-1.964862</td>\n",
       "      <td>-0.070132</td>\n",
       "      <td>-1.774386</td>\n",
       "      <td>-0.075756</td>\n",
       "      <td>-1.011233</td>\n",
       "      <td>13.961753</td>\n",
       "      <td>0.527369</td>\n",
       "      <td>-1.827589</td>\n",
       "      <td>0.520768</td>\n",
       "      <td>-1.791950</td>\n",
       "      <td>0.493271</td>\n",
       "      <td>-1.616687</td>\n",
       "      <td>0.356522</td>\n",
       "      <td>-0.923812</td>\n",
       "      <td>1</td>\n",
       "    </tr>\n",
       "    <tr>\n",
       "      <th>4368</th>\n",
       "      <td>0.057757</td>\n",
       "      <td>-2.200202</td>\n",
       "      <td>0.104522</td>\n",
       "      <td>-1.973843</td>\n",
       "      <td>0.107101</td>\n",
       "      <td>-1.630030</td>\n",
       "      <td>0.024884</td>\n",
       "      <td>-0.878879</td>\n",
       "      <td>9.711841</td>\n",
       "      <td>0.746784</td>\n",
       "      <td>-1.803415</td>\n",
       "      <td>0.717512</td>\n",
       "      <td>-1.630466</td>\n",
       "      <td>0.643735</td>\n",
       "      <td>-1.328209</td>\n",
       "      <td>0.431845</td>\n",
       "      <td>-0.697649</td>\n",
       "      <td>1</td>\n",
       "    </tr>\n",
       "    <tr>\n",
       "      <th>4372</th>\n",
       "      <td>-0.062727</td>\n",
       "      <td>-2.749317</td>\n",
       "      <td>-0.036357</td>\n",
       "      <td>-2.387249</td>\n",
       "      <td>-0.031160</td>\n",
       "      <td>-1.891681</td>\n",
       "      <td>-0.063056</td>\n",
       "      <td>-0.973566</td>\n",
       "      <td>9.026994</td>\n",
       "      <td>0.655281</td>\n",
       "      <td>-2.473886</td>\n",
       "      <td>0.604214</td>\n",
       "      <td>-2.163368</td>\n",
       "      <td>0.528162</td>\n",
       "      <td>-1.702950</td>\n",
       "      <td>0.361862</td>\n",
       "      <td>-0.878469</td>\n",
       "      <td>1</td>\n",
       "    </tr>\n",
       "    <tr>\n",
       "      <th>4376</th>\n",
       "      <td>-0.907510</td>\n",
       "      <td>-1.819428</td>\n",
       "      <td>-0.700910</td>\n",
       "      <td>-1.643393</td>\n",
       "      <td>-0.509169</td>\n",
       "      <td>-1.390107</td>\n",
       "      <td>-0.281888</td>\n",
       "      <td>-0.791154</td>\n",
       "      <td>15.948889</td>\n",
       "      <td>-0.062741</td>\n",
       "      <td>-1.551747</td>\n",
       "      <td>0.045611</td>\n",
       "      <td>-1.411194</td>\n",
       "      <td>0.127355</td>\n",
       "      <td>-1.191181</td>\n",
       "      <td>0.166852</td>\n",
       "      <td>-0.674771</td>\n",
       "      <td>1</td>\n",
       "    </tr>\n",
       "    <tr>\n",
       "      <th>4380</th>\n",
       "      <td>-0.662472</td>\n",
       "      <td>-1.920445</td>\n",
       "      <td>-0.503616</td>\n",
       "      <td>-1.723199</td>\n",
       "      <td>-0.361787</td>\n",
       "      <td>-1.437736</td>\n",
       "      <td>-0.204369</td>\n",
       "      <td>-0.784314</td>\n",
       "      <td>15.642965</td>\n",
       "      <td>0.180689</td>\n",
       "      <td>-1.564075</td>\n",
       "      <td>0.234575</td>\n",
       "      <td>-1.405511</td>\n",
       "      <td>0.262920</td>\n",
       "      <td>-1.184882</td>\n",
       "      <td>0.233117</td>\n",
       "      <td>-0.650946</td>\n",
       "      <td>1</td>\n",
       "    </tr>\n",
       "  </tbody>\n",
       "</table>\n",
       "<p>1116 rows × 18 columns</p>\n",
       "</div>"
      ],
      "text/plain": [
       "            X1        Y1        X2        Y2        X3        Y3        X4  \\\n",
       "1     0.456454 -2.852605  0.565661 -2.188466  0.568863 -1.593943  0.363601   \n",
       "5    -0.262968 -3.256483 -0.094474 -2.594541  0.073604 -1.954448  0.088474   \n",
       "9    -0.344932 -3.766955 -0.137432 -2.997226  0.053303 -2.269871  0.066792   \n",
       "13   -0.838851 -3.732168 -0.534015 -3.003944 -0.278649 -2.293328 -0.173467   \n",
       "16   -0.260781 -3.128140 -0.060634 -2.458027  0.095771 -1.814866  0.097707   \n",
       "...        ...       ...       ...       ...       ...       ...       ...   \n",
       "4364 -0.114359 -2.040542 -0.090848 -1.964862 -0.070132 -1.774386 -0.075756   \n",
       "4368  0.057757 -2.200202  0.104522 -1.973843  0.107101 -1.630030  0.024884   \n",
       "4372 -0.062727 -2.749317 -0.036357 -2.387249 -0.031160 -1.891681 -0.063056   \n",
       "4376 -0.907510 -1.819428 -0.700910 -1.643393 -0.509169 -1.390107 -0.281888   \n",
       "4380 -0.662472 -1.920445 -0.503616 -1.723199 -0.361787 -1.437736 -0.204369   \n",
       "\n",
       "            Y4      Angle        X5        Y5        X6        Y6        X7  \\\n",
       "1    -0.907820  16.424084 -0.462493 -2.031486 -0.125549 -1.528304  0.123850   \n",
       "5    -1.111491  13.807231 -0.970940 -2.595038 -0.683583 -2.042165 -0.376025   \n",
       "9    -1.308215   7.824200 -0.905729 -3.185208 -0.604510 -2.520129 -0.291183   \n",
       "13   -1.311250   7.632810 -0.745863 -3.151515 -0.423933 -2.516008 -0.127645   \n",
       "16   -1.022131  18.071257 -1.028285 -2.403042 -0.702093 -1.866702 -0.364537   \n",
       "...        ...        ...       ...       ...       ...       ...       ...   \n",
       "4364 -1.011233  13.961753  0.527369 -1.827589  0.520768 -1.791950  0.493271   \n",
       "4368 -0.878879   9.711841  0.746784 -1.803415  0.717512 -1.630466  0.643735   \n",
       "4372 -0.973566   9.026994  0.655281 -2.473886  0.604214 -2.163368  0.528162   \n",
       "4376 -0.791154  15.948889 -0.062741 -1.551747  0.045611 -1.411194  0.127355   \n",
       "4380 -0.784314  15.642965  0.180689 -1.564075  0.234575 -1.405511  0.262920   \n",
       "\n",
       "            Y7        X8        Y8  RightorLeft  \n",
       "1    -1.026633  0.238231 -0.510583            0  \n",
       "5    -1.472786 -0.190104 -0.800848            0  \n",
       "9    -1.861470 -0.161199 -1.063399            0  \n",
       "13   -1.901329 -0.020029 -1.088937            0  \n",
       "16   -1.304967 -0.162872 -0.680061            0  \n",
       "...        ...       ...       ...          ...  \n",
       "4364 -1.616687  0.356522 -0.923812            1  \n",
       "4368 -1.328209  0.431845 -0.697649            1  \n",
       "4372 -1.702950  0.361862 -0.878469            1  \n",
       "4376 -1.191181  0.166852 -0.674771            1  \n",
       "4380 -1.184882  0.233117 -0.650946            1  \n",
       "\n",
       "[1116 rows x 18 columns]"
      ]
     },
     "execution_count": 5,
     "metadata": {},
     "output_type": "execute_result"
    }
   ],
   "source": [
    "DataA3_"
   ]
  },
  {
   "cell_type": "code",
   "execution_count": 6,
   "metadata": {},
   "outputs": [],
   "source": [
    "# import seaborn as sns\n",
    "# sns.pairplot(DataA3_)"
   ]
  },
  {
   "cell_type": "code",
   "execution_count": 7,
   "metadata": {},
   "outputs": [],
   "source": [
    "# split the data \n",
    "from sklearn.model_selection import train_test_split\n",
    "\n",
    "train_set, test_set = train_test_split(DataA3_, test_size=0.2, random_state=42)"
   ]
  },
  {
   "cell_type": "code",
   "execution_count": 8,
   "metadata": {},
   "outputs": [
    {
     "data": {
      "text/html": [
       "<div>\n",
       "<style scoped>\n",
       "    .dataframe tbody tr th:only-of-type {\n",
       "        vertical-align: middle;\n",
       "    }\n",
       "\n",
       "    .dataframe tbody tr th {\n",
       "        vertical-align: top;\n",
       "    }\n",
       "\n",
       "    .dataframe thead th {\n",
       "        text-align: right;\n",
       "    }\n",
       "</style>\n",
       "<table border=\"1\" class=\"dataframe\">\n",
       "  <thead>\n",
       "    <tr style=\"text-align: right;\">\n",
       "      <th></th>\n",
       "      <th>X1</th>\n",
       "      <th>Y1</th>\n",
       "      <th>X2</th>\n",
       "      <th>Y2</th>\n",
       "      <th>X3</th>\n",
       "      <th>Y3</th>\n",
       "      <th>X4</th>\n",
       "      <th>Y4</th>\n",
       "      <th>Angle</th>\n",
       "      <th>X5</th>\n",
       "      <th>Y5</th>\n",
       "      <th>X6</th>\n",
       "      <th>Y6</th>\n",
       "      <th>X7</th>\n",
       "      <th>Y7</th>\n",
       "      <th>X8</th>\n",
       "      <th>Y8</th>\n",
       "      <th>RightorLeft</th>\n",
       "    </tr>\n",
       "  </thead>\n",
       "  <tbody>\n",
       "    <tr>\n",
       "      <th>3885</th>\n",
       "      <td>-0.326667</td>\n",
       "      <td>-2.250800</td>\n",
       "      <td>-0.226827</td>\n",
       "      <td>-1.989584</td>\n",
       "      <td>-0.146045</td>\n",
       "      <td>-1.649333</td>\n",
       "      <td>-0.094907</td>\n",
       "      <td>-0.892862</td>\n",
       "      <td>5.780229</td>\n",
       "      <td>0.484952</td>\n",
       "      <td>-1.956290</td>\n",
       "      <td>0.481852</td>\n",
       "      <td>-1.710197</td>\n",
       "      <td>0.457063</td>\n",
       "      <td>-1.391585</td>\n",
       "      <td>0.336025</td>\n",
       "      <td>-0.742080</td>\n",
       "      <td>1</td>\n",
       "    </tr>\n",
       "    <tr>\n",
       "      <th>398</th>\n",
       "      <td>0.074872</td>\n",
       "      <td>-2.516379</td>\n",
       "      <td>0.109649</td>\n",
       "      <td>-2.181548</td>\n",
       "      <td>0.103310</td>\n",
       "      <td>-1.744985</td>\n",
       "      <td>0.024992</td>\n",
       "      <td>-0.929934</td>\n",
       "      <td>7.029132</td>\n",
       "      <td>0.827171</td>\n",
       "      <td>-2.075171</td>\n",
       "      <td>0.769614</td>\n",
       "      <td>-1.791188</td>\n",
       "      <td>0.669716</td>\n",
       "      <td>-1.420675</td>\n",
       "      <td>0.445089</td>\n",
       "      <td>-0.744822</td>\n",
       "      <td>1</td>\n",
       "    </tr>\n",
       "    <tr>\n",
       "      <th>1910</th>\n",
       "      <td>-1.066930</td>\n",
       "      <td>-3.436889</td>\n",
       "      <td>-0.721012</td>\n",
       "      <td>-2.729221</td>\n",
       "      <td>-0.405249</td>\n",
       "      <td>-2.065335</td>\n",
       "      <td>-0.208700</td>\n",
       "      <td>-1.209746</td>\n",
       "      <td>15.632426</td>\n",
       "      <td>-1.573277</td>\n",
       "      <td>-2.818976</td>\n",
       "      <td>-1.127989</td>\n",
       "      <td>-2.155713</td>\n",
       "      <td>-0.728213</td>\n",
       "      <td>-1.562895</td>\n",
       "      <td>-0.437269</td>\n",
       "      <td>-0.884757</td>\n",
       "      <td>0</td>\n",
       "    </tr>\n",
       "    <tr>\n",
       "      <th>3373</th>\n",
       "      <td>1.460255</td>\n",
       "      <td>-2.318015</td>\n",
       "      <td>1.248923</td>\n",
       "      <td>-1.772348</td>\n",
       "      <td>1.019867</td>\n",
       "      <td>-1.264914</td>\n",
       "      <td>0.547409</td>\n",
       "      <td>-0.745400</td>\n",
       "      <td>9.524107</td>\n",
       "      <td>0.824251</td>\n",
       "      <td>-1.636477</td>\n",
       "      <td>0.715185</td>\n",
       "      <td>-1.132700</td>\n",
       "      <td>0.620722</td>\n",
       "      <td>-0.698133</td>\n",
       "      <td>0.334842</td>\n",
       "      <td>-0.324992</td>\n",
       "      <td>0</td>\n",
       "    </tr>\n",
       "    <tr>\n",
       "      <th>4214</th>\n",
       "      <td>0.346186</td>\n",
       "      <td>-2.369381</td>\n",
       "      <td>0.367831</td>\n",
       "      <td>-1.817276</td>\n",
       "      <td>0.377754</td>\n",
       "      <td>-1.297621</td>\n",
       "      <td>0.225392</td>\n",
       "      <td>-0.758120</td>\n",
       "      <td>12.301687</td>\n",
       "      <td>-0.417341</td>\n",
       "      <td>-1.823719</td>\n",
       "      <td>-0.234145</td>\n",
       "      <td>-1.251818</td>\n",
       "      <td>-0.084401</td>\n",
       "      <td>-0.776739</td>\n",
       "      <td>-0.063632</td>\n",
       "      <td>-0.365765</td>\n",
       "      <td>0</td>\n",
       "    </tr>\n",
       "  </tbody>\n",
       "</table>\n",
       "</div>"
      ],
      "text/plain": [
       "            X1        Y1        X2        Y2        X3        Y3        X4  \\\n",
       "3885 -0.326667 -2.250800 -0.226827 -1.989584 -0.146045 -1.649333 -0.094907   \n",
       "398   0.074872 -2.516379  0.109649 -2.181548  0.103310 -1.744985  0.024992   \n",
       "1910 -1.066930 -3.436889 -0.721012 -2.729221 -0.405249 -2.065335 -0.208700   \n",
       "3373  1.460255 -2.318015  1.248923 -1.772348  1.019867 -1.264914  0.547409   \n",
       "4214  0.346186 -2.369381  0.367831 -1.817276  0.377754 -1.297621  0.225392   \n",
       "\n",
       "            Y4      Angle        X5        Y5        X6        Y6        X7  \\\n",
       "3885 -0.892862   5.780229  0.484952 -1.956290  0.481852 -1.710197  0.457063   \n",
       "398  -0.929934   7.029132  0.827171 -2.075171  0.769614 -1.791188  0.669716   \n",
       "1910 -1.209746  15.632426 -1.573277 -2.818976 -1.127989 -2.155713 -0.728213   \n",
       "3373 -0.745400   9.524107  0.824251 -1.636477  0.715185 -1.132700  0.620722   \n",
       "4214 -0.758120  12.301687 -0.417341 -1.823719 -0.234145 -1.251818 -0.084401   \n",
       "\n",
       "            Y7        X8        Y8  RightorLeft  \n",
       "3885 -1.391585  0.336025 -0.742080            1  \n",
       "398  -1.420675  0.445089 -0.744822            1  \n",
       "1910 -1.562895 -0.437269 -0.884757            0  \n",
       "3373 -0.698133  0.334842 -0.324992            0  \n",
       "4214 -0.776739 -0.063632 -0.365765            0  "
      ]
     },
     "execution_count": 8,
     "metadata": {},
     "output_type": "execute_result"
    }
   ],
   "source": [
    "test_set.head()"
   ]
  },
  {
   "cell_type": "code",
   "execution_count": 9,
   "metadata": {},
   "outputs": [],
   "source": [
    "DataA3_ = train_set.copy()"
   ]
  },
  {
   "cell_type": "code",
   "execution_count": 10,
   "metadata": {},
   "outputs": [
    {
     "data": {
      "text/plain": [
       "Angle          1.000000\n",
       "Y8             0.265622\n",
       "Y7             0.258586\n",
       "Y3             0.237626\n",
       "Y4             0.236574\n",
       "Y6             0.219042\n",
       "Y2             0.164882\n",
       "Y5             0.159816\n",
       "X1             0.123002\n",
       "X2             0.119279\n",
       "X4             0.106952\n",
       "X3             0.105685\n",
       "Y1             0.099571\n",
       "X5             0.017192\n",
       "X6             0.005255\n",
       "X7            -0.002999\n",
       "X8            -0.010285\n",
       "RightorLeft   -0.075365\n",
       "Name: Angle, dtype: float64"
      ]
     },
     "execution_count": 10,
     "metadata": {},
     "output_type": "execute_result"
    }
   ],
   "source": [
    "corr_matrix = DataA3_.corr()\n",
    "corr_matrix[\"Angle\"].sort_values(ascending=False)"
   ]
  },
  {
   "cell_type": "code",
   "execution_count": 11,
   "metadata": {},
   "outputs": [],
   "source": [
    "# Prepare the data for Machine Learning algorithms\n",
    "\n",
    "DataA3_ = train_set.drop(\"Angle\", axis=1) # drop labels for training set\n",
    "DataA3__label = train_set[\"Angle\"].copy()"
   ]
  },
  {
   "cell_type": "code",
   "execution_count": 12,
   "metadata": {},
   "outputs": [
    {
     "data": {
      "text/plain": [
       "SVR()"
      ]
     },
     "execution_count": 12,
     "metadata": {},
     "output_type": "execute_result"
    }
   ],
   "source": [
    "# Select and train a model \n",
    "\n",
    "from sklearn.svm import SVR\n",
    "svr_reg=SVR(kernel = 'rbf')\n",
    "svr_reg.fit(DataA3_, DataA3__label)"
   ]
  },
  {
   "cell_type": "code",
   "execution_count": 13,
   "metadata": {},
   "outputs": [
    {
     "name": "stdout",
     "output_type": "stream",
     "text": [
      "Predictions: [ 9.28492415  9.02655722 10.22550957  9.35508664 12.99895184]\n"
     ]
    }
   ],
   "source": [
    "some_data = DataA3_.iloc[:5]\n",
    "some_labels = DataA3__label.iloc[:5]\n",
    "print(\"Predictions:\", svr_reg.predict(some_data))"
   ]
  },
  {
   "cell_type": "code",
   "execution_count": 14,
   "metadata": {},
   "outputs": [
    {
     "name": "stdout",
     "output_type": "stream",
     "text": [
      "Labels: [15.77495683, 8.770762688, 3.784058302, 7.417638036, 12.06995792]\n"
     ]
    }
   ],
   "source": [
    "# Compare against the actual values:\n",
    "\n",
    "print(\"Labels:\", list(some_labels))"
   ]
  },
  {
   "cell_type": "code",
   "execution_count": 15,
   "metadata": {},
   "outputs": [
    {
     "data": {
      "text/plain": [
       "3.941850285644621"
      ]
     },
     "execution_count": 15,
     "metadata": {},
     "output_type": "execute_result"
    }
   ],
   "source": [
    "from sklearn.metrics import mean_squared_error\n",
    "\n",
    "Data_predictions = svr_reg.predict(DataA3_)\n",
    "lin_mse = mean_squared_error(DataA3__label, Data_predictions)\n",
    "lin_rmse = np.sqrt(lin_mse)\n",
    "lin_rmse"
   ]
  },
  {
   "cell_type": "code",
   "execution_count": 16,
   "metadata": {},
   "outputs": [],
   "source": [
    "# Cross Validation\n",
    "\n",
    "from sklearn.model_selection import cross_val_score\n",
    "\n",
    "lin_scores = cross_val_score(svr_reg, DataA3_, DataA3__label,\n",
    "                         scoring=\"neg_mean_squared_error\", cv=10)\n",
    "lin_rmse_scores = np.sqrt(-lin_scores)"
   ]
  },
  {
   "cell_type": "code",
   "execution_count": 17,
   "metadata": {},
   "outputs": [
    {
     "name": "stdout",
     "output_type": "stream",
     "text": [
      "Scores: [4.32114125 3.94316795 3.8402455  3.8769175  3.68487485 4.11675497\n",
      " 3.95010639 4.31434923 4.14391864 3.59444565]\n",
      "Mean: 3.9785921924800127\n",
      "Standard deviation: 0.23278246080280304\n"
     ]
    }
   ],
   "source": [
    "def display_scores(scores):\n",
    "    print(\"Scores:\", scores)\n",
    "    print(\"Mean:\", scores.mean())\n",
    "    print(\"Standard deviation:\", scores.std())\n",
    "\n",
    "display_scores(lin_rmse_scores)"
   ]
  },
  {
   "cell_type": "code",
   "execution_count": 18,
   "metadata": {},
   "outputs": [],
   "source": [
    "X_test = test_set.drop(\"Angle\", axis=1)\n",
    "y_test = test_set[\"Angle\"].copy()\n",
    "\n",
    "final_predictions = svr_reg.predict(X_test)\n",
    "\n",
    "final_mse = mean_squared_error(y_test, final_predictions)\n",
    "final_rmse = np.sqrt(final_mse)"
   ]
  },
  {
   "cell_type": "code",
   "execution_count": 19,
   "metadata": {},
   "outputs": [
    {
     "data": {
      "text/plain": [
       "<matplotlib.collections.PathCollection at 0x237e25a10d0>"
      ]
     },
     "execution_count": 19,
     "metadata": {},
     "output_type": "execute_result"
    },
    {
     "data": {
      "image/png": "[encoded data removed]",
      "text/plain": [
       "<Figure size 432x288 with 1 Axes>"
      ]
     },
     "metadata": {
      "needs_background": "light"
     },
     "output_type": "display_data"
    }
   ],
   "source": [
    "plt.scatter(y_test, final_predictions)"
   ]
  },
  {
   "cell_type": "code",
   "execution_count": 20,
   "metadata": {},
   "outputs": [
    {
     "data": {
      "text/plain": [
       "(array([ 6., 36., 41., 49., 39., 29., 11.,  7.,  5.,  1.]),\n",
       " array([-7.98929965, -5.74303189, -3.49676414, -1.25049638,  0.99577137,\n",
       "         3.24203912,  5.48830688,  7.73457463,  9.98084239, 12.22711014,\n",
       "        14.47337789]),\n",
       " <BarContainer object of 10 artists>)"
      ]
     },
     "execution_count": 20,
     "metadata": {},
     "output_type": "execute_result"
    },
    {
     "data": {
      "image/png": "[encoded data removed]",
      "text/plain": [
       "<Figure size 432x288 with 1 Axes>"
      ]
     },
     "metadata": {
      "needs_background": "light"
     },
     "output_type": "display_data"
    }
   ],
   "source": [
    "plt.hist(y_test - final_predictions)"
   ]
  },
  {
   "cell_type": "code",
   "execution_count": 21,
   "metadata": {},
   "outputs": [
    {
     "data": {
      "text/plain": [
       "4.11674134702343"
      ]
     },
     "execution_count": 21,
     "metadata": {},
     "output_type": "execute_result"
    }
   ],
   "source": [
    "final_rmse"
   ]
  },
  {
   "cell_type": "code",
   "execution_count": 22,
   "metadata": {},
   "outputs": [
    {
     "data": {
      "text/plain": [
       "array([3.65203194, 4.53406896])"
      ]
     },
     "execution_count": 22,
     "metadata": {},
     "output_type": "execute_result"
    }
   ],
   "source": [
    "from scipy import stats\n",
    "\n",
    "confidence = 0.95\n",
    "squared_errors = (final_predictions - y_test) ** 2\n",
    "np.sqrt(stats.t.interval(confidence, len(squared_errors) - 1,\n",
    "                         loc=squared_errors.mean(),\n",
    "                         scale=stats.sem(squared_errors)))"
   ]
  },
  {
   "cell_type": "code",
   "execution_count": 23,
   "metadata": {},
   "outputs": [
    {
     "name": "stdout",
     "output_type": "stream",
     "text": [
      "Regressor model performance:\n",
      "Mean absolute error(MAE) = 3.23\n",
      "Mean squared error(MSE) = 16.95\n",
      "Median absolute error = 2.71\n",
      "Explain variance score = 0.11\n",
      "R2 score = 0.1\n"
     ]
    }
   ],
   "source": [
    "import sklearn.metrics as sm\n",
    "\n",
    "print(\"Regressor model performance:\")\n",
    "print(\"Mean absolute error(MAE) =\", round(sm.mean_absolute_error(y_test, final_predictions), 2))\n",
    "print(\"Mean squared error(MSE) =\", round(sm.mean_squared_error(y_test, final_predictions), 2))\n",
    "print(\"Median absolute error =\", round(sm.median_absolute_error(y_test, final_predictions), 2))\n",
    "print(\"Explain variance score =\", round(sm.explained_variance_score(y_test, final_predictions), 2))\n",
    "print(\"R2 score =\", round(sm.r2_score(y_test, final_predictions), 2))"
   ]
  },
  {
   "cell_type": "code",
   "execution_count": 24,
   "metadata": {},
   "outputs": [],
   "source": [
    "def mean_absolute_percentage_error(y_test, final_predictions): \n",
    "    y_test, final_predictions = np.array(y_test), np.array(final_predictions)\n",
    "    return np.mean(np.abs((y_test - final_predictions) / final_predictions)) * 100"
   ]
  },
  {
   "cell_type": "code",
   "execution_count": 25,
   "metadata": {},
   "outputs": [
    {
     "name": "stdout",
     "output_type": "stream",
     "text": [
      "30.75582166438169\n"
     ]
    }
   ],
   "source": [
    "print(mean_absolute_percentage_error(y_test, final_predictions))"
   ]
  },
  {
   "cell_type": "code",
   "execution_count": null,
   "metadata": {},
   "outputs": [],
   "source": []
  }
 ],
 "metadata": {
  "kernelspec": {
   "display_name": "Python 3",
   "language": "python",
   "name": "python3"
  },
  "language_info": {
   "codemirror_mode": {
    "name": "ipython",
    "version": 3
   },
   "file_extension": ".py",
   "mimetype": "text/x-python",
   "name": "python",
   "nbconvert_exporter": "python",
   "pygments_lexer": "ipython3",
   "version": "3.9.0"
  }
 },
 "nbformat": 4,
 "nbformat_minor": 4
}
