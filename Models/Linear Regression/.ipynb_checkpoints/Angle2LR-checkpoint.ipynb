{
 "cells": [
  {
   "cell_type": "code",
   "execution_count": 1,
   "metadata": {},
   "outputs": [],
   "source": [
    "#import libraries\n",
    "import numpy as np\n",
    "import pandas as pd\n",
    "import matplotlib.pyplot as plt"
   ]
  },
  {
   "cell_type": "code",
   "execution_count": 2,
   "metadata": {},
   "outputs": [
    {
     "name": "stdout",
     "output_type": "stream",
     "text": [
      "Data = \n",
      "          X1        Y1        X2        Y2        X3        Y3        X4  \\\n",
      "0  0.860019 -3.096488  0.753413 -2.530522  0.629331 -1.962419  0.361692   \n",
      "1  0.456454 -2.852605  0.565661 -2.188466  0.568863 -1.593943  0.363601   \n",
      "2 -0.462493 -2.031486 -0.125549 -1.528304  0.123850 -1.026633  0.238231   \n",
      "3  0.106369 -2.186939  0.116188 -1.520864  0.142727 -0.703652  0.068778   \n",
      "4  0.381094 -3.316631  0.390072 -2.754067  0.427469 -2.131407  0.336888   \n",
      "5 -0.262968 -3.256483 -0.094474 -2.594541  0.073604 -1.954448  0.088474   \n",
      "6 -0.970940 -2.595038 -0.683583 -2.042165 -0.376025 -1.472786 -0.190104   \n",
      "7 -0.304093 -1.997585 -0.215963 -1.307632 -0.116897 -0.454085 -0.069022   \n",
      "8  0.055419 -3.592592  0.131205 -2.973669  0.252867 -2.286043  0.242098   \n",
      "9 -0.344932 -3.766955 -0.137432 -2.997226  0.053303 -2.269871  0.066792   \n",
      "\n",
      "         Y4      Angle        X5        Y5        X6        Y6        X7  \\\n",
      "0 -1.227911  15.958005  0.456454 -2.852605  0.565661 -2.188466  0.568863   \n",
      "1 -0.907820  16.424084 -0.462493 -2.031486 -0.125549 -1.528304  0.123850   \n",
      "2 -0.510583  15.635178 -0.915264 -0.867298 -0.556912 -0.619065 -0.347119   \n",
      "3  0.170585  26.299685  0.381094 -3.316631  0.390072 -2.754067  0.427469   \n",
      "4 -1.266161  15.050765 -0.262968 -3.256483 -0.094474 -2.594541  0.073604   \n",
      "5 -1.111491  13.807231 -0.970940 -2.595038 -0.683583 -2.042165 -0.376025   \n",
      "6 -0.800848  14.902200 -1.493574 -1.457450 -1.151122 -1.159289 -0.929195   \n",
      "7  0.416620  15.051214  0.055419 -3.592592  0.131205 -2.973669  0.252867   \n",
      "8 -1.329521  12.915006 -0.344932 -3.766955 -0.137432 -2.997226  0.053303   \n",
      "9 -1.308215   7.824200 -0.905729 -3.185208 -0.604510 -2.520129 -0.291183   \n",
      "\n",
      "         Y7        X8        Y8  Angle number  RightorLeft  \n",
      "0 -1.593943  0.363601 -0.907820             2            0  \n",
      "1 -1.026633  0.238231 -0.510583             3            0  \n",
      "2 -0.385286 -0.006106 -0.007940             4            0  \n",
      "3 -2.131407  0.336888 -1.266161             1            0  \n",
      "4 -1.954448  0.088474 -1.111491             2            0  \n",
      "5 -1.472786 -0.190104 -0.800848             3            0  \n",
      "6 -0.890322 -0.549895 -0.352399             4            0  \n",
      "7 -2.286043  0.242098 -1.329521             1            0  \n",
      "8 -2.269871  0.066792 -1.308215             2            0  \n",
      "9 -1.861470 -0.161199 -1.063399             3            0  \n"
     ]
    }
   ],
   "source": [
    "#read data\n",
    "Data = pd.read_csv('C:/Users/Ahmed Atef/Desktop/data.csv')\n",
    "print('Data = \\n',Data.head(10))"
   ]
  },
  {
   "cell_type": "code",
   "execution_count": 3,
   "metadata": {},
   "outputs": [
    {
     "ename": "NameError",
     "evalue": "name 'DataA1' is not defined",
     "output_type": "error",
     "traceback": [
      "\u001b[1;31m---------------------------------------------------------------------------\u001b[0m",
      "\u001b[1;31mNameError\u001b[0m                                 Traceback (most recent call last)",
      "\u001b[1;32m<ipython-input-3-f73305be6feb>\u001b[0m in \u001b[0;36m<module>\u001b[1;34m\u001b[0m\n\u001b[0;32m      1\u001b[0m \u001b[0mDataA2\u001b[0m\u001b[1;33m=\u001b[0m \u001b[0mData\u001b[0m\u001b[1;33m.\u001b[0m\u001b[0mloc\u001b[0m\u001b[1;33m[\u001b[0m\u001b[0mData\u001b[0m\u001b[1;33m[\u001b[0m\u001b[1;34m'Angle number'\u001b[0m\u001b[1;33m]\u001b[0m \u001b[1;33m==\u001b[0m\u001b[1;36m2\u001b[0m\u001b[1;33m]\u001b[0m\u001b[1;33m\u001b[0m\u001b[1;33m\u001b[0m\u001b[0m\n\u001b[1;32m----> 2\u001b[1;33m \u001b[0mprint\u001b[0m\u001b[1;33m(\u001b[0m\u001b[1;34m'Data = \\n'\u001b[0m\u001b[1;33m,\u001b[0m\u001b[0mDataA1\u001b[0m\u001b[1;33m.\u001b[0m\u001b[0mhead\u001b[0m\u001b[1;33m(\u001b[0m\u001b[1;36m10\u001b[0m\u001b[1;33m)\u001b[0m\u001b[1;33m)\u001b[0m\u001b[1;33m\u001b[0m\u001b[1;33m\u001b[0m\u001b[0m\n\u001b[0m",
      "\u001b[1;31mNameError\u001b[0m: name 'DataA1' is not defined"
     ]
    }
   ],
   "source": [
    "DataA2= Data.loc[Data['Angle number'] ==2]\n",
    "print('Data = \\n',DataA1.head(10))"
   ]
  },
  {
   "cell_type": "code",
   "execution_count": null,
   "metadata": {},
   "outputs": [],
   "source": [
    "DataA2_ = DataA2.drop(\"Angle number\", axis=1)"
   ]
  },
  {
   "cell_type": "code",
   "execution_count": null,
   "metadata": {},
   "outputs": [],
   "source": [
    "DataA2_"
   ]
  },
  {
   "cell_type": "code",
   "execution_count": null,
   "metadata": {},
   "outputs": [],
   "source": [
    "import seaborn as sns\n",
    "sns.pairplot(DataA2_)"
   ]
  },
  {
   "cell_type": "code",
   "execution_count": null,
   "metadata": {},
   "outputs": [],
   "source": [
    "# split the data \n",
    "from sklearn.model_selection import train_test_split\n",
    "\n",
    "train_set, test_set = train_test_split(DataA2_, test_size=0.2, random_state=42)"
   ]
  },
  {
   "cell_type": "code",
   "execution_count": null,
   "metadata": {},
   "outputs": [],
   "source": [
    "test_set.head()"
   ]
  },
  {
   "cell_type": "code",
   "execution_count": null,
   "metadata": {},
   "outputs": [],
   "source": [
    "DataA2_ = train_set.copy()"
   ]
  },
  {
   "cell_type": "code",
   "execution_count": null,
   "metadata": {},
   "outputs": [],
   "source": [
    "corr_matrix = DataA2_.corr()\n",
    "corr_matrix[\"Angle\"].sort_values(ascending=False)"
   ]
  },
  {
   "cell_type": "code",
   "execution_count": null,
   "metadata": {},
   "outputs": [],
   "source": [
    "# Prepare the data for Machine Learning algorithms\n",
    "\n",
    "DataA2_ = train_set.drop(\"Angle\", axis=1) # drop labels for training set\n",
    "DataA2__label = train_set[\"Angle\"].copy()"
   ]
  },
  {
   "cell_type": "code",
   "execution_count": null,
   "metadata": {},
   "outputs": [],
   "source": [
    "# Select and train a model \n",
    "\n",
    "from sklearn.linear_model import LinearRegression\n",
    "\n",
    "lin_reg = LinearRegression()\n",
    "lin_reg.fit(DataA2_, DataA2__label)"
   ]
  },
  {
   "cell_type": "code",
   "execution_count": null,
   "metadata": {},
   "outputs": [],
   "source": [
    "some_data = DataA2_.iloc[:5]\n",
    "some_labels = DataA2__label.iloc[:5]\n",
    "print(\"Predictions:\", lin_reg.predict(some_data))"
   ]
  },
  {
   "cell_type": "code",
   "execution_count": null,
   "metadata": {},
   "outputs": [],
   "source": [
    "# Compare against the actual values:\n",
    "\n",
    "print(\"Labels:\", list(some_labels))"
   ]
  },
  {
   "cell_type": "code",
   "execution_count": null,
   "metadata": {},
   "outputs": [],
   "source": [
    "from sklearn.metrics import mean_squared_error\n",
    "\n",
    "Data_predictions = lin_reg.predict(DataA2_)\n",
    "lin_mse = mean_squared_error(DataA2__label, Data_predictions)\n",
    "lin_rmse = np.sqrt(lin_mse)\n",
    "lin_rmse"
   ]
  },
  {
   "cell_type": "code",
   "execution_count": null,
   "metadata": {},
   "outputs": [],
   "source": [
    "# Cross Validation\n",
    "\n",
    "from sklearn.model_selection import cross_val_score\n",
    "\n",
    "lin_scores = cross_val_score(lin_reg, DataA2_, DataA2__label,\n",
    "                         scoring=\"neg_mean_squared_error\", cv=10)\n",
    "lin_rmse_scores = np.sqrt(-lin_scores)"
   ]
  },
  {
   "cell_type": "code",
   "execution_count": null,
   "metadata": {},
   "outputs": [],
   "source": [
    "def display_scores(scores):\n",
    "    print(\"Scores:\", scores)\n",
    "    print(\"Mean:\", scores.mean())\n",
    "    print(\"Standard deviation:\", scores.std())\n",
    "\n",
    "display_scores(lin_rmse_scores)"
   ]
  },
  {
   "cell_type": "code",
   "execution_count": null,
   "metadata": {},
   "outputs": [],
   "source": [
    "X_test = test_set.drop(\"Angle\", axis=1)\n",
    "y_test = test_set[\"Angle\"].copy()\n",
    "\n",
    "final_predictions = lin_reg.predict(X_test)\n",
    "\n",
    "final_mse = mean_squared_error(y_test, final_predictions)\n",
    "final_rmse = np.sqrt(final_mse)"
   ]
  },
  {
   "cell_type": "code",
   "execution_count": null,
   "metadata": {},
   "outputs": [],
   "source": [
    "plt.scatter(y_test, final_predictions)"
   ]
  },
  {
   "cell_type": "code",
   "execution_count": null,
   "metadata": {},
   "outputs": [],
   "source": [
    "plt.hist(y_test - final_predictions)"
   ]
  },
  {
   "cell_type": "code",
   "execution_count": null,
   "metadata": {},
   "outputs": [],
   "source": [
    "final_rmse"
   ]
  },
  {
   "cell_type": "code",
   "execution_count": null,
   "metadata": {},
   "outputs": [],
   "source": [
    "from scipy import stats\n",
    "\n",
    "confidence = 0.95\n",
    "squared_errors = (final_predictions - y_test) ** 2\n",
    "np.sqrt(stats.t.interval(confidence, len(squared_errors) - 1,\n",
    "                         loc=squared_errors.mean(),\n",
    "                         scale=stats.sem(squared_errors)))"
   ]
  },
  {
   "cell_type": "code",
   "execution_count": null,
   "metadata": {},
   "outputs": [],
   "source": [
    "import sklearn.metrics as sm\n",
    "\n",
    "print(\"Regressor model performance:\")\n",
    "print(\"Mean absolute error(MAE) =\", round(sm.mean_absolute_error(y_test, final_predictions), 2))\n",
    "print(\"Mean squared error(MSE) =\", round(sm.mean_squared_error(y_test, final_predictions), 2))\n",
    "mean_test= round(sm.mean_squared_error(y_test, final_predictions), 2)\n",
    "print(sqrt(mean_test))\n",
    "print(\"Median absolute error =\", round(sm.median_absolute_error(y_test, final_predictions), 2))\n",
    "print(\"Explain variance score =\", round(sm.explained_variance_score(y_test, final_predictions), 2))\n",
    "print(\"R2 score =\", round(sm.r2_score(y_test, final_predictions), 2))"
   ]
  },
  {
   "cell_type": "code",
   "execution_count": null,
   "metadata": {},
   "outputs": [],
   "source": [
    "def mean_absolute_percentage_error(y_test, final_predictions): \n",
    "    y_test, final_predictions = np.array(y_test), np.array(final_predictions)\n",
    "    return np.mean(np.abs((y_test - final_predictions) / final_predictions)) * 100"
   ]
  },
  {
   "cell_type": "code",
   "execution_count": null,
   "metadata": {},
   "outputs": [],
   "source": [
    "print(mean_absolute_percentage_error(y_test, final_predictions))"
   ]
  },
  {
   "cell_type": "code",
   "execution_count": null,
   "metadata": {},
   "outputs": [],
   "source": []
  }
 ],
 "metadata": {
  "kernelspec": {
   "display_name": "Python 3",
   "language": "python",
   "name": "python3"
  },
  "language_info": {
   "codemirror_mode": {
    "name": "ipython",
    "version": 3
   },
   "file_extension": ".py",
   "mimetype": "text/x-python",
   "name": "python",
   "nbconvert_exporter": "python",
   "pygments_lexer": "ipython3",
   "version": "3.9.4"
  }
 },
 "nbformat": 4,
 "nbformat_minor": 4
}
