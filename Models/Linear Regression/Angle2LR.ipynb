{
 "cells": [
  {
   "cell_type": "code",
   "execution_count": 1,
   "metadata": {},
   "outputs": [],
   "source": [
    "#import libraries\n",
    "import numpy as np\n",
    "import pandas as pd\n",
    "import matplotlib.pyplot as plt"
   ]
  },
  {
   "cell_type": "code",
   "execution_count": 2,
   "metadata": {},
   "outputs": [
    {
     "name": "stdout",
     "output_type": "stream",
     "text": [
      "Data = \n",
      "          X1        Y1        X2        Y2        X3        Y3        X4  \\\n",
      "0  0.860019 -3.096488  0.753413 -2.530522  0.629331 -1.962419  0.361692   \n",
      "1  0.456454 -2.852605  0.565661 -2.188466  0.568863 -1.593943  0.363601   \n",
      "2 -0.462493 -2.031486 -0.125549 -1.528304  0.123850 -1.026633  0.238231   \n",
      "3  0.106369 -2.186939  0.116188 -1.520864  0.142727 -0.703652  0.068778   \n",
      "4  0.381094 -3.316631  0.390072 -2.754067  0.427469 -2.131407  0.336888   \n",
      "5 -0.262968 -3.256483 -0.094474 -2.594541  0.073604 -1.954448  0.088474   \n",
      "6 -0.970940 -2.595038 -0.683583 -2.042165 -0.376025 -1.472786 -0.190104   \n",
      "7 -0.304093 -1.997585 -0.215963 -1.307632 -0.116897 -0.454085 -0.069022   \n",
      "8  0.055419 -3.592592  0.131205 -2.973669  0.252867 -2.286043  0.242098   \n",
      "9 -0.344932 -3.766955 -0.137432 -2.997226  0.053303 -2.269871  0.066792   \n",
      "\n",
      "         Y4      Angle        X5        Y5        X6        Y6        X7  \\\n",
      "0 -1.227911  15.958005  0.456454 -2.852605  0.565661 -2.188466  0.568863   \n",
      "1 -0.907820  16.424084 -0.462493 -2.031486 -0.125549 -1.528304  0.123850   \n",
      "2 -0.510583  15.635178 -0.915264 -0.867298 -0.556912 -0.619065 -0.347119   \n",
      "3  0.170585  26.299685  0.381094 -3.316631  0.390072 -2.754067  0.427469   \n",
      "4 -1.266161  15.050765 -0.262968 -3.256483 -0.094474 -2.594541  0.073604   \n",
      "5 -1.111491  13.807231 -0.970940 -2.595038 -0.683583 -2.042165 -0.376025   \n",
      "6 -0.800848  14.902200 -1.493574 -1.457450 -1.151122 -1.159289 -0.929195   \n",
      "7  0.416620  15.051214  0.055419 -3.592592  0.131205 -2.973669  0.252867   \n",
      "8 -1.329521  12.915006 -0.344932 -3.766955 -0.137432 -2.997226  0.053303   \n",
      "9 -1.308215   7.824200 -0.905729 -3.185208 -0.604510 -2.520129 -0.291183   \n",
      "\n",
      "         Y7        X8        Y8  Angle number  RightorLeft  \n",
      "0 -1.593943  0.363601 -0.907820             2            0  \n",
      "1 -1.026633  0.238231 -0.510583             3            0  \n",
      "2 -0.385286 -0.006106 -0.007940             4            0  \n",
      "3 -2.131407  0.336888 -1.266161             1            0  \n",
      "4 -1.954448  0.088474 -1.111491             2            0  \n",
      "5 -1.472786 -0.190104 -0.800848             3            0  \n",
      "6 -0.890322 -0.549895 -0.352399             4            0  \n",
      "7 -2.286043  0.242098 -1.329521             1            0  \n",
      "8 -2.269871  0.066792 -1.308215             2            0  \n",
      "9 -1.861470 -0.161199 -1.063399             3            0  \n"
     ]
    }
   ],
   "source": [
    "#read data\n",
    "Data = pd.read_csv('C:/Users/Ahmed Atef/Desktop/data.csv')\n",
    "print('Data = \\n',Data.head(10))"
   ]
  },
  {
   "cell_type": "code",
   "execution_count": 4,
   "metadata": {},
   "outputs": [
    {
     "name": "stdout",
     "output_type": "stream",
     "text": [
      "Data = \n",
      "           X1        Y1        X2        Y2        X3        Y3        X4  \\\n",
      "0   0.860019 -3.096488  0.753413 -2.530522  0.629331 -1.962419  0.361692   \n",
      "4   0.381094 -3.316631  0.390072 -2.754067  0.427469 -2.131407  0.336888   \n",
      "8   0.055419 -3.592592  0.131205 -2.973669  0.252867 -2.286043  0.242098   \n",
      "12 -1.081559 -3.522217 -0.865764 -2.893043 -0.592471 -2.225238 -0.427591   \n",
      "15  0.432835 -3.170302  0.423602 -2.640779  0.433069 -2.048975  0.325260   \n",
      "19  0.581242 -3.276182  0.532582 -2.693669  0.509752 -2.072711  0.357651   \n",
      "23  0.128192 -3.585495  0.208429 -2.974061  0.327548 -2.295803  0.306496   \n",
      "27  0.267794 -3.578427  0.305904 -2.940847  0.392362 -2.264511  0.341946   \n",
      "31  0.584812 -3.398577  0.551334 -2.793617  0.558370 -2.144527  0.420046   \n",
      "35  0.842027 -3.355388  0.722629 -2.742093  0.634589 -2.107575  0.383169   \n",
      "\n",
      "          Y4      Angle        X5        Y5        X6        Y6        X7  \\\n",
      "0  -1.227911  15.958005  0.456454 -2.852605  0.565661 -2.188466  0.568863   \n",
      "4  -1.266161  15.050765 -0.262968 -3.256483 -0.094474 -2.594541  0.073604   \n",
      "8  -1.329521  12.915006 -0.344932 -3.766955 -0.137432 -2.997226  0.053303   \n",
      "12 -1.291817  13.307645 -0.838851 -3.732168 -0.534015 -3.003944 -0.278649   \n",
      "15 -1.236259  13.198902 -0.260781 -3.128140 -0.060634 -2.458027  0.095771   \n",
      "19 -1.249717  16.413302 -0.030221 -3.139637  0.079306 -2.474090  0.187384   \n",
      "23 -1.368646  14.650647 -0.328681 -3.656366 -0.116912 -2.887448  0.078374   \n",
      "27 -1.355696  14.373071 -0.260997 -3.503587 -0.109554 -2.779068  0.075505   \n",
      "31 -1.292742  13.621107  0.027210 -3.311380  0.114000 -2.604938  0.226501   \n",
      "35 -1.297026  14.292978  0.405838 -3.144172  0.432424 -2.459986  0.462744   \n",
      "\n",
      "          Y7        X8        Y8  Angle number  RightorLeft  \n",
      "0  -1.593943  0.363601 -0.907820             2            0  \n",
      "4  -1.954448  0.088474 -1.111491             2            0  \n",
      "8  -2.269871  0.066792 -1.308215             2            0  \n",
      "12 -2.293328 -0.173467 -1.311250             2            0  \n",
      "15 -1.814866  0.097707 -1.022131             2            0  \n",
      "19 -1.828523  0.130153 -1.044000             2            0  \n",
      "23 -2.173363  0.087590 -1.259572             2            0  \n",
      "27 -2.097643  0.075567 -1.220023             2            0  \n",
      "31 -1.937282  0.151225 -1.121759             2            0  \n",
      "35 -1.804315  0.256043 -1.036598             2            0  \n"
     ]
    }
   ],
   "source": [
    "DataA2= Data.loc[Data['Angle number'] ==2]\n",
    "print('Data = \\n',DataA2.head(10))"
   ]
  },
  {
   "cell_type": "code",
   "execution_count": 5,
   "metadata": {},
   "outputs": [],
   "source": [
    "DataA2_ = DataA2.drop(\"Angle number\", axis=1)"
   ]
  },
  {
   "cell_type": "code",
   "execution_count": 6,
   "metadata": {},
   "outputs": [
    {
     "data": {
      "text/html": [
       "<div>\n",
       "<style scoped>\n",
       "    .dataframe tbody tr th:only-of-type {\n",
       "        vertical-align: middle;\n",
       "    }\n",
       "\n",
       "    .dataframe tbody tr th {\n",
       "        vertical-align: top;\n",
       "    }\n",
       "\n",
       "    .dataframe thead th {\n",
       "        text-align: right;\n",
       "    }\n",
       "</style>\n",
       "<table border=\"1\" class=\"dataframe\">\n",
       "  <thead>\n",
       "    <tr style=\"text-align: right;\">\n",
       "      <th></th>\n",
       "      <th>X1</th>\n",
       "      <th>Y1</th>\n",
       "      <th>X2</th>\n",
       "      <th>Y2</th>\n",
       "      <th>X3</th>\n",
       "      <th>Y3</th>\n",
       "      <th>X4</th>\n",
       "      <th>Y4</th>\n",
       "      <th>Angle</th>\n",
       "      <th>X5</th>\n",
       "      <th>Y5</th>\n",
       "      <th>X6</th>\n",
       "      <th>Y6</th>\n",
       "      <th>X7</th>\n",
       "      <th>Y7</th>\n",
       "      <th>X8</th>\n",
       "      <th>Y8</th>\n",
       "      <th>RightorLeft</th>\n",
       "    </tr>\n",
       "  </thead>\n",
       "  <tbody>\n",
       "    <tr>\n",
       "      <th>0</th>\n",
       "      <td>0.860019</td>\n",
       "      <td>-3.096488</td>\n",
       "      <td>0.753413</td>\n",
       "      <td>-2.530522</td>\n",
       "      <td>0.629331</td>\n",
       "      <td>-1.962419</td>\n",
       "      <td>0.361692</td>\n",
       "      <td>-1.227911</td>\n",
       "      <td>15.958005</td>\n",
       "      <td>0.456454</td>\n",
       "      <td>-2.852605</td>\n",
       "      <td>0.565661</td>\n",
       "      <td>-2.188466</td>\n",
       "      <td>0.568863</td>\n",
       "      <td>-1.593943</td>\n",
       "      <td>0.363601</td>\n",
       "      <td>-0.907820</td>\n",
       "      <td>0</td>\n",
       "    </tr>\n",
       "    <tr>\n",
       "      <th>4</th>\n",
       "      <td>0.381094</td>\n",
       "      <td>-3.316631</td>\n",
       "      <td>0.390072</td>\n",
       "      <td>-2.754067</td>\n",
       "      <td>0.427469</td>\n",
       "      <td>-2.131407</td>\n",
       "      <td>0.336888</td>\n",
       "      <td>-1.266161</td>\n",
       "      <td>15.050765</td>\n",
       "      <td>-0.262968</td>\n",
       "      <td>-3.256483</td>\n",
       "      <td>-0.094474</td>\n",
       "      <td>-2.594541</td>\n",
       "      <td>0.073604</td>\n",
       "      <td>-1.954448</td>\n",
       "      <td>0.088474</td>\n",
       "      <td>-1.111491</td>\n",
       "      <td>0</td>\n",
       "    </tr>\n",
       "    <tr>\n",
       "      <th>8</th>\n",
       "      <td>0.055419</td>\n",
       "      <td>-3.592592</td>\n",
       "      <td>0.131205</td>\n",
       "      <td>-2.973669</td>\n",
       "      <td>0.252867</td>\n",
       "      <td>-2.286043</td>\n",
       "      <td>0.242098</td>\n",
       "      <td>-1.329521</td>\n",
       "      <td>12.915006</td>\n",
       "      <td>-0.344932</td>\n",
       "      <td>-3.766955</td>\n",
       "      <td>-0.137432</td>\n",
       "      <td>-2.997226</td>\n",
       "      <td>0.053303</td>\n",
       "      <td>-2.269871</td>\n",
       "      <td>0.066792</td>\n",
       "      <td>-1.308215</td>\n",
       "      <td>0</td>\n",
       "    </tr>\n",
       "    <tr>\n",
       "      <th>12</th>\n",
       "      <td>-1.081559</td>\n",
       "      <td>-3.522217</td>\n",
       "      <td>-0.865764</td>\n",
       "      <td>-2.893043</td>\n",
       "      <td>-0.592471</td>\n",
       "      <td>-2.225238</td>\n",
       "      <td>-0.427591</td>\n",
       "      <td>-1.291817</td>\n",
       "      <td>13.307645</td>\n",
       "      <td>-0.838851</td>\n",
       "      <td>-3.732168</td>\n",
       "      <td>-0.534015</td>\n",
       "      <td>-3.003944</td>\n",
       "      <td>-0.278649</td>\n",
       "      <td>-2.293328</td>\n",
       "      <td>-0.173467</td>\n",
       "      <td>-1.311250</td>\n",
       "      <td>0</td>\n",
       "    </tr>\n",
       "    <tr>\n",
       "      <th>15</th>\n",
       "      <td>0.432835</td>\n",
       "      <td>-3.170302</td>\n",
       "      <td>0.423602</td>\n",
       "      <td>-2.640779</td>\n",
       "      <td>0.433069</td>\n",
       "      <td>-2.048975</td>\n",
       "      <td>0.325260</td>\n",
       "      <td>-1.236259</td>\n",
       "      <td>13.198902</td>\n",
       "      <td>-0.260781</td>\n",
       "      <td>-3.128140</td>\n",
       "      <td>-0.060634</td>\n",
       "      <td>-2.458027</td>\n",
       "      <td>0.095771</td>\n",
       "      <td>-1.814866</td>\n",
       "      <td>0.097707</td>\n",
       "      <td>-1.022131</td>\n",
       "      <td>0</td>\n",
       "    </tr>\n",
       "    <tr>\n",
       "      <th>...</th>\n",
       "      <td>...</td>\n",
       "      <td>...</td>\n",
       "      <td>...</td>\n",
       "      <td>...</td>\n",
       "      <td>...</td>\n",
       "      <td>...</td>\n",
       "      <td>...</td>\n",
       "      <td>...</td>\n",
       "      <td>...</td>\n",
       "      <td>...</td>\n",
       "      <td>...</td>\n",
       "      <td>...</td>\n",
       "      <td>...</td>\n",
       "      <td>...</td>\n",
       "      <td>...</td>\n",
       "      <td>...</td>\n",
       "      <td>...</td>\n",
       "      <td>...</td>\n",
       "    </tr>\n",
       "    <tr>\n",
       "      <th>4363</th>\n",
       "      <td>-0.770054</td>\n",
       "      <td>-1.893753</td>\n",
       "      <td>-0.727278</td>\n",
       "      <td>-1.838522</td>\n",
       "      <td>-0.666565</td>\n",
       "      <td>-1.619898</td>\n",
       "      <td>-0.561699</td>\n",
       "      <td>-0.937888</td>\n",
       "      <td>12.864375</td>\n",
       "      <td>-0.114359</td>\n",
       "      <td>-2.040542</td>\n",
       "      <td>-0.090848</td>\n",
       "      <td>-1.964862</td>\n",
       "      <td>-0.070132</td>\n",
       "      <td>-1.774386</td>\n",
       "      <td>-0.075756</td>\n",
       "      <td>-1.011233</td>\n",
       "      <td>1</td>\n",
       "    </tr>\n",
       "    <tr>\n",
       "      <th>4367</th>\n",
       "      <td>-0.703868</td>\n",
       "      <td>-1.983903</td>\n",
       "      <td>-0.615738</td>\n",
       "      <td>-1.846945</td>\n",
       "      <td>-0.526944</td>\n",
       "      <td>-1.577743</td>\n",
       "      <td>-0.458771</td>\n",
       "      <td>-0.925750</td>\n",
       "      <td>9.906454</td>\n",
       "      <td>0.057757</td>\n",
       "      <td>-2.200202</td>\n",
       "      <td>0.104522</td>\n",
       "      <td>-1.973843</td>\n",
       "      <td>0.107101</td>\n",
       "      <td>-1.630030</td>\n",
       "      <td>0.024884</td>\n",
       "      <td>-0.878879</td>\n",
       "      <td>1</td>\n",
       "    </tr>\n",
       "    <tr>\n",
       "      <th>4371</th>\n",
       "      <td>-0.794807</td>\n",
       "      <td>-2.496720</td>\n",
       "      <td>-0.714499</td>\n",
       "      <td>-2.147230</td>\n",
       "      <td>-0.636470</td>\n",
       "      <td>-1.694570</td>\n",
       "      <td>-0.544630</td>\n",
       "      <td>-0.925410</td>\n",
       "      <td>12.690378</td>\n",
       "      <td>-0.062727</td>\n",
       "      <td>-2.749317</td>\n",
       "      <td>-0.036357</td>\n",
       "      <td>-2.387249</td>\n",
       "      <td>-0.031160</td>\n",
       "      <td>-1.891681</td>\n",
       "      <td>-0.063056</td>\n",
       "      <td>-0.973566</td>\n",
       "      <td>1</td>\n",
       "    </tr>\n",
       "    <tr>\n",
       "      <th>4375</th>\n",
       "      <td>-1.610579</td>\n",
       "      <td>-1.427551</td>\n",
       "      <td>-1.396701</td>\n",
       "      <td>-1.383452</td>\n",
       "      <td>-1.132595</td>\n",
       "      <td>-1.226493</td>\n",
       "      <td>-0.769300</td>\n",
       "      <td>-0.749498</td>\n",
       "      <td>13.765900</td>\n",
       "      <td>-0.907510</td>\n",
       "      <td>-1.819428</td>\n",
       "      <td>-0.700910</td>\n",
       "      <td>-1.643393</td>\n",
       "      <td>-0.509169</td>\n",
       "      <td>-1.390107</td>\n",
       "      <td>-0.281888</td>\n",
       "      <td>-0.791154</td>\n",
       "      <td>1</td>\n",
       "    </tr>\n",
       "    <tr>\n",
       "      <th>4379</th>\n",
       "      <td>-1.440972</td>\n",
       "      <td>-1.620398</td>\n",
       "      <td>-1.243105</td>\n",
       "      <td>-1.525755</td>\n",
       "      <td>-1.004849</td>\n",
       "      <td>-1.308904</td>\n",
       "      <td>-0.691679</td>\n",
       "      <td>-0.775991</td>\n",
       "      <td>12.714905</td>\n",
       "      <td>-0.662472</td>\n",
       "      <td>-1.920445</td>\n",
       "      <td>-0.503616</td>\n",
       "      <td>-1.723199</td>\n",
       "      <td>-0.361787</td>\n",
       "      <td>-1.437736</td>\n",
       "      <td>-0.204369</td>\n",
       "      <td>-0.784314</td>\n",
       "      <td>1</td>\n",
       "    </tr>\n",
       "  </tbody>\n",
       "</table>\n",
       "<p>1132 rows × 18 columns</p>\n",
       "</div>"
      ],
      "text/plain": [
       "            X1        Y1        X2        Y2        X3        Y3        X4  \\\n",
       "0     0.860019 -3.096488  0.753413 -2.530522  0.629331 -1.962419  0.361692   \n",
       "4     0.381094 -3.316631  0.390072 -2.754067  0.427469 -2.131407  0.336888   \n",
       "8     0.055419 -3.592592  0.131205 -2.973669  0.252867 -2.286043  0.242098   \n",
       "12   -1.081559 -3.522217 -0.865764 -2.893043 -0.592471 -2.225238 -0.427591   \n",
       "15    0.432835 -3.170302  0.423602 -2.640779  0.433069 -2.048975  0.325260   \n",
       "...        ...       ...       ...       ...       ...       ...       ...   \n",
       "4363 -0.770054 -1.893753 -0.727278 -1.838522 -0.666565 -1.619898 -0.561699   \n",
       "4367 -0.703868 -1.983903 -0.615738 -1.846945 -0.526944 -1.577743 -0.458771   \n",
       "4371 -0.794807 -2.496720 -0.714499 -2.147230 -0.636470 -1.694570 -0.544630   \n",
       "4375 -1.610579 -1.427551 -1.396701 -1.383452 -1.132595 -1.226493 -0.769300   \n",
       "4379 -1.440972 -1.620398 -1.243105 -1.525755 -1.004849 -1.308904 -0.691679   \n",
       "\n",
       "            Y4      Angle        X5        Y5        X6        Y6        X7  \\\n",
       "0    -1.227911  15.958005  0.456454 -2.852605  0.565661 -2.188466  0.568863   \n",
       "4    -1.266161  15.050765 -0.262968 -3.256483 -0.094474 -2.594541  0.073604   \n",
       "8    -1.329521  12.915006 -0.344932 -3.766955 -0.137432 -2.997226  0.053303   \n",
       "12   -1.291817  13.307645 -0.838851 -3.732168 -0.534015 -3.003944 -0.278649   \n",
       "15   -1.236259  13.198902 -0.260781 -3.128140 -0.060634 -2.458027  0.095771   \n",
       "...        ...        ...       ...       ...       ...       ...       ...   \n",
       "4363 -0.937888  12.864375 -0.114359 -2.040542 -0.090848 -1.964862 -0.070132   \n",
       "4367 -0.925750   9.906454  0.057757 -2.200202  0.104522 -1.973843  0.107101   \n",
       "4371 -0.925410  12.690378 -0.062727 -2.749317 -0.036357 -2.387249 -0.031160   \n",
       "4375 -0.749498  13.765900 -0.907510 -1.819428 -0.700910 -1.643393 -0.509169   \n",
       "4379 -0.775991  12.714905 -0.662472 -1.920445 -0.503616 -1.723199 -0.361787   \n",
       "\n",
       "            Y7        X8        Y8  RightorLeft  \n",
       "0    -1.593943  0.363601 -0.907820            0  \n",
       "4    -1.954448  0.088474 -1.111491            0  \n",
       "8    -2.269871  0.066792 -1.308215            0  \n",
       "12   -2.293328 -0.173467 -1.311250            0  \n",
       "15   -1.814866  0.097707 -1.022131            0  \n",
       "...        ...       ...       ...          ...  \n",
       "4363 -1.774386 -0.075756 -1.011233            1  \n",
       "4367 -1.630030  0.024884 -0.878879            1  \n",
       "4371 -1.891681 -0.063056 -0.973566            1  \n",
       "4375 -1.390107 -0.281888 -0.791154            1  \n",
       "4379 -1.437736 -0.204369 -0.784314            1  \n",
       "\n",
       "[1132 rows x 18 columns]"
      ]
     },
     "execution_count": 6,
     "metadata": {},
     "output_type": "execute_result"
    }
   ],
   "source": [
    "DataA2_"
   ]
  },
  {
   "cell_type": "code",
   "execution_count": null,
   "metadata": {},
   "outputs": [],
   "source": []
  },
  {
   "cell_type": "code",
   "execution_count": 8,
   "metadata": {},
   "outputs": [],
   "source": [
    "# split the data \n",
    "from sklearn.model_selection import train_test_split\n",
    "\n",
    "train_set, test_set = train_test_split(DataA2_, test_size=0.2, random_state=42)"
   ]
  },
  {
   "cell_type": "code",
   "execution_count": 9,
   "metadata": {},
   "outputs": [
    {
     "data": {
      "text/html": [
       "<div>\n",
       "<style scoped>\n",
       "    .dataframe tbody tr th:only-of-type {\n",
       "        vertical-align: middle;\n",
       "    }\n",
       "\n",
       "    .dataframe tbody tr th {\n",
       "        vertical-align: top;\n",
       "    }\n",
       "\n",
       "    .dataframe thead th {\n",
       "        text-align: right;\n",
       "    }\n",
       "</style>\n",
       "<table border=\"1\" class=\"dataframe\">\n",
       "  <thead>\n",
       "    <tr style=\"text-align: right;\">\n",
       "      <th></th>\n",
       "      <th>X1</th>\n",
       "      <th>Y1</th>\n",
       "      <th>X2</th>\n",
       "      <th>Y2</th>\n",
       "      <th>X3</th>\n",
       "      <th>Y3</th>\n",
       "      <th>X4</th>\n",
       "      <th>Y4</th>\n",
       "      <th>Angle</th>\n",
       "      <th>X5</th>\n",
       "      <th>Y5</th>\n",
       "      <th>X6</th>\n",
       "      <th>Y6</th>\n",
       "      <th>X7</th>\n",
       "      <th>Y7</th>\n",
       "      <th>X8</th>\n",
       "      <th>Y8</th>\n",
       "      <th>RightorLeft</th>\n",
       "    </tr>\n",
       "  </thead>\n",
       "  <tbody>\n",
       "    <tr>\n",
       "      <th>3056</th>\n",
       "      <td>0.999614</td>\n",
       "      <td>-3.154452</td>\n",
       "      <td>0.837236</td>\n",
       "      <td>-2.601581</td>\n",
       "      <td>0.682557</td>\n",
       "      <td>-1.991918</td>\n",
       "      <td>0.381152</td>\n",
       "      <td>-1.238268</td>\n",
       "      <td>13.118848</td>\n",
       "      <td>0.965793</td>\n",
       "      <td>-2.872574</td>\n",
       "      <td>0.845479</td>\n",
       "      <td>-2.248242</td>\n",
       "      <td>0.739986</td>\n",
       "      <td>-1.649255</td>\n",
       "      <td>0.415229</td>\n",
       "      <td>-0.945030</td>\n",
       "      <td>0</td>\n",
       "    </tr>\n",
       "    <tr>\n",
       "      <th>3489</th>\n",
       "      <td>0.565768</td>\n",
       "      <td>-3.938094</td>\n",
       "      <td>0.437531</td>\n",
       "      <td>-3.115308</td>\n",
       "      <td>0.354656</td>\n",
       "      <td>-2.317275</td>\n",
       "      <td>0.118473</td>\n",
       "      <td>-1.332037</td>\n",
       "      <td>13.554734</td>\n",
       "      <td>0.571074</td>\n",
       "      <td>-3.991142</td>\n",
       "      <td>0.499333</td>\n",
       "      <td>-3.147810</td>\n",
       "      <td>0.477421</td>\n",
       "      <td>-2.332170</td>\n",
       "      <td>0.225937</td>\n",
       "      <td>-1.344364</td>\n",
       "      <td>0</td>\n",
       "    </tr>\n",
       "    <tr>\n",
       "      <th>1604</th>\n",
       "      <td>0.824085</td>\n",
       "      <td>-3.469435</td>\n",
       "      <td>0.710909</td>\n",
       "      <td>-2.842701</td>\n",
       "      <td>0.618764</td>\n",
       "      <td>-2.176877</td>\n",
       "      <td>0.392924</td>\n",
       "      <td>-1.306462</td>\n",
       "      <td>14.509084</td>\n",
       "      <td>0.358110</td>\n",
       "      <td>-3.373401</td>\n",
       "      <td>0.365406</td>\n",
       "      <td>-2.661957</td>\n",
       "      <td>0.380188</td>\n",
       "      <td>-1.986033</td>\n",
       "      <td>0.220348</td>\n",
       "      <td>-1.152631</td>\n",
       "      <td>0</td>\n",
       "    </tr>\n",
       "    <tr>\n",
       "      <th>1799</th>\n",
       "      <td>0.138923</td>\n",
       "      <td>-3.760560</td>\n",
       "      <td>0.199486</td>\n",
       "      <td>-3.029261</td>\n",
       "      <td>0.270618</td>\n",
       "      <td>-2.294595</td>\n",
       "      <td>0.246104</td>\n",
       "      <td>-1.339299</td>\n",
       "      <td>23.254161</td>\n",
       "      <td>-0.381390</td>\n",
       "      <td>-3.747941</td>\n",
       "      <td>-0.192068</td>\n",
       "      <td>-2.987886</td>\n",
       "      <td>0.013525</td>\n",
       "      <td>-2.274600</td>\n",
       "      <td>0.044419</td>\n",
       "      <td>-1.327850</td>\n",
       "      <td>0</td>\n",
       "    </tr>\n",
       "    <tr>\n",
       "      <th>2906</th>\n",
       "      <td>-0.284785</td>\n",
       "      <td>-1.539116</td>\n",
       "      <td>-0.266337</td>\n",
       "      <td>-1.570050</td>\n",
       "      <td>-0.251750</td>\n",
       "      <td>-1.465632</td>\n",
       "      <td>-0.357004</td>\n",
       "      <td>-0.938518</td>\n",
       "      <td>5.664165</td>\n",
       "      <td>0.323478</td>\n",
       "      <td>-1.576226</td>\n",
       "      <td>0.344602</td>\n",
       "      <td>-1.541516</td>\n",
       "      <td>0.318934</td>\n",
       "      <td>-1.388768</td>\n",
       "      <td>0.143843</td>\n",
       "      <td>-0.837125</td>\n",
       "      <td>1</td>\n",
       "    </tr>\n",
       "  </tbody>\n",
       "</table>\n",
       "</div>"
      ],
      "text/plain": [
       "            X1        Y1        X2        Y2        X3        Y3        X4  \\\n",
       "3056  0.999614 -3.154452  0.837236 -2.601581  0.682557 -1.991918  0.381152   \n",
       "3489  0.565768 -3.938094  0.437531 -3.115308  0.354656 -2.317275  0.118473   \n",
       "1604  0.824085 -3.469435  0.710909 -2.842701  0.618764 -2.176877  0.392924   \n",
       "1799  0.138923 -3.760560  0.199486 -3.029261  0.270618 -2.294595  0.246104   \n",
       "2906 -0.284785 -1.539116 -0.266337 -1.570050 -0.251750 -1.465632 -0.357004   \n",
       "\n",
       "            Y4      Angle        X5        Y5        X6        Y6        X7  \\\n",
       "3056 -1.238268  13.118848  0.965793 -2.872574  0.845479 -2.248242  0.739986   \n",
       "3489 -1.332037  13.554734  0.571074 -3.991142  0.499333 -3.147810  0.477421   \n",
       "1604 -1.306462  14.509084  0.358110 -3.373401  0.365406 -2.661957  0.380188   \n",
       "1799 -1.339299  23.254161 -0.381390 -3.747941 -0.192068 -2.987886  0.013525   \n",
       "2906 -0.938518   5.664165  0.323478 -1.576226  0.344602 -1.541516  0.318934   \n",
       "\n",
       "            Y7        X8        Y8  RightorLeft  \n",
       "3056 -1.649255  0.415229 -0.945030            0  \n",
       "3489 -2.332170  0.225937 -1.344364            0  \n",
       "1604 -1.986033  0.220348 -1.152631            0  \n",
       "1799 -2.274600  0.044419 -1.327850            0  \n",
       "2906 -1.388768  0.143843 -0.837125            1  "
      ]
     },
     "execution_count": 9,
     "metadata": {},
     "output_type": "execute_result"
    }
   ],
   "source": [
    "test_set.head()"
   ]
  },
  {
   "cell_type": "code",
   "execution_count": 10,
   "metadata": {},
   "outputs": [],
   "source": [
    "DataA2_ = train_set.copy()"
   ]
  },
  {
   "cell_type": "code",
   "execution_count": 11,
   "metadata": {},
   "outputs": [
    {
     "data": {
      "text/plain": [
       "Angle          1.000000\n",
       "X8             0.246174\n",
       "X6             0.238814\n",
       "X7             0.238081\n",
       "X5             0.234454\n",
       "Y7             0.202307\n",
       "Y8             0.192543\n",
       "X1             0.191374\n",
       "X2             0.183013\n",
       "X3             0.169606\n",
       "X4             0.151367\n",
       "Y6             0.117793\n",
       "Y5             0.043430\n",
       "Y3             0.008245\n",
       "Y2            -0.025764\n",
       "Y4            -0.028656\n",
       "Y1            -0.050974\n",
       "RightorLeft   -0.111387\n",
       "Name: Angle, dtype: float64"
      ]
     },
     "execution_count": 11,
     "metadata": {},
     "output_type": "execute_result"
    }
   ],
   "source": [
    "corr_matrix = DataA2_.corr()\n",
    "corr_matrix[\"Angle\"].sort_values(ascending=False)"
   ]
  },
  {
   "cell_type": "code",
   "execution_count": 12,
   "metadata": {},
   "outputs": [],
   "source": [
    "# Prepare the data for Machine Learning algorithms\n",
    "\n",
    "DataA2_ = train_set.drop(\"Angle\", axis=1) # drop labels for training set\n",
    "DataA2__label = train_set[\"Angle\"].copy()"
   ]
  },
  {
   "cell_type": "code",
   "execution_count": 13,
   "metadata": {},
   "outputs": [
    {
     "data": {
      "text/plain": [
       "LinearRegression()"
      ]
     },
     "execution_count": 13,
     "metadata": {},
     "output_type": "execute_result"
    }
   ],
   "source": [
    "# Select and train a model \n",
    "\n",
    "from sklearn.linear_model import LinearRegression\n",
    "\n",
    "lin_reg = LinearRegression()\n",
    "lin_reg.fit(DataA2_, DataA2__label)"
   ]
  },
  {
   "cell_type": "code",
   "execution_count": 14,
   "metadata": {},
   "outputs": [
    {
     "name": "stdout",
     "output_type": "stream",
     "text": [
      "Predictions: [13.69855178 14.60857928 14.72345672 13.22362038 13.59649956]\n"
     ]
    }
   ],
   "source": [
    "some_data = DataA2_.iloc[:5]\n",
    "some_labels = DataA2__label.iloc[:5]\n",
    "print(\"Predictions:\", lin_reg.predict(some_data))"
   ]
  },
  {
   "cell_type": "code",
   "execution_count": 15,
   "metadata": {},
   "outputs": [
    {
     "name": "stdout",
     "output_type": "stream",
     "text": [
      "Labels: [11.71568655, 14.85981022, 9.276013519, 16.10161941, 9.10924915]\n"
     ]
    }
   ],
   "source": [
    "# Compare against the actual values:\n",
    "\n",
    "print(\"Labels:\", list(some_labels))"
   ]
  },
  {
   "cell_type": "code",
   "execution_count": 16,
   "metadata": {},
   "outputs": [
    {
     "data": {
      "text/plain": [
       "4.213885854933095"
      ]
     },
     "execution_count": 16,
     "metadata": {},
     "output_type": "execute_result"
    }
   ],
   "source": [
    "from sklearn.metrics import mean_squared_error\n",
    "\n",
    "Data_predictions = lin_reg.predict(DataA2_)\n",
    "lin_mse = mean_squared_error(DataA2__label, Data_predictions)\n",
    "lin_rmse = np.sqrt(lin_mse)\n",
    "lin_rmse"
   ]
  },
  {
   "cell_type": "code",
   "execution_count": 17,
   "metadata": {},
   "outputs": [],
   "source": [
    "# Cross Validation\n",
    "\n",
    "from sklearn.model_selection import cross_val_score\n",
    "\n",
    "lin_scores = cross_val_score(lin_reg, DataA2_, DataA2__label,\n",
    "                         scoring=\"neg_mean_squared_error\", cv=10)\n",
    "lin_rmse_scores = np.sqrt(-lin_scores)"
   ]
  },
  {
   "cell_type": "code",
   "execution_count": 18,
   "metadata": {},
   "outputs": [
    {
     "name": "stdout",
     "output_type": "stream",
     "text": [
      "Scores: [4.4097148  4.12012781 4.19198866 4.45964211 4.54510563 4.35917899\n",
      " 4.20938523 4.07410352 4.3956234  4.32198384]\n",
      "Mean: 4.308685400251013\n",
      "Standard deviation: 0.1460257985672587\n"
     ]
    }
   ],
   "source": [
    "def display_scores(scores):\n",
    "    print(\"Scores:\", scores)\n",
    "    print(\"Mean:\", scores.mean())\n",
    "    print(\"Standard deviation:\", scores.std())\n",
    "\n",
    "display_scores(lin_rmse_scores)"
   ]
  },
  {
   "cell_type": "code",
   "execution_count": 19,
   "metadata": {},
   "outputs": [],
   "source": [
    "X_test = test_set.drop(\"Angle\", axis=1)\n",
    "y_test = test_set[\"Angle\"].copy()\n",
    "\n",
    "final_predictions = lin_reg.predict(X_test)\n",
    "\n",
    "final_mse = mean_squared_error(y_test, final_predictions)\n",
    "final_rmse = np.sqrt(final_mse)"
   ]
  },
  {
   "cell_type": "code",
   "execution_count": 20,
   "metadata": {},
   "outputs": [
    {
     "data": {
      "text/plain": [
       "<matplotlib.collections.PathCollection at 0x192694e4c70>"
      ]
     },
     "execution_count": 20,
     "metadata": {},
     "output_type": "execute_result"
    },
    {
     "data": {
      "image/png": "[encoded data removed]",
      "text/plain": [
       "<Figure size 432x288 with 1 Axes>"
      ]
     },
     "metadata": {
      "needs_background": "light"
     },
     "output_type": "display_data"
    }
   ],
   "source": [
    "plt.scatter(y_test, final_predictions)"
   ]
  },
  {
   "cell_type": "code",
   "execution_count": 21,
   "metadata": {},
   "outputs": [
    {
     "data": {
      "text/plain": [
       "(array([ 4., 15., 37., 51., 45., 42., 22.,  6.,  2.,  3.]),\n",
       " array([-11.62247427,  -8.91704884,  -6.21162342,  -3.50619799,\n",
       "         -0.80077257,   1.90465285,   4.61007828,   7.3155037 ,\n",
       "         10.02092913,  12.72635455,  15.43177998]),\n",
       " <BarContainer object of 10 artists>)"
      ]
     },
     "execution_count": 21,
     "metadata": {},
     "output_type": "execute_result"
    },
    {
     "data": {
      "image/png": "[encoded data removed]",
      "text/plain": [
       "<Figure size 432x288 with 1 Axes>"
      ]
     },
     "metadata": {
      "needs_background": "light"
     },
     "output_type": "display_data"
    }
   ],
   "source": [
    "plt.hist(y_test - final_predictions)"
   ]
  },
  {
   "cell_type": "code",
   "execution_count": 22,
   "metadata": {},
   "outputs": [
    {
     "data": {
      "text/plain": [
       "4.545703032111955"
      ]
     },
     "execution_count": 22,
     "metadata": {},
     "output_type": "execute_result"
    }
   ],
   "source": [
    "final_rmse"
   ]
  },
  {
   "cell_type": "code",
   "execution_count": 23,
   "metadata": {},
   "outputs": [
    {
     "data": {
      "text/plain": [
       "array([4.05496905, 4.98839233])"
      ]
     },
     "execution_count": 23,
     "metadata": {},
     "output_type": "execute_result"
    }
   ],
   "source": [
    "from scipy import stats\n",
    "\n",
    "confidence = 0.95\n",
    "squared_errors = (final_predictions - y_test) ** 2\n",
    "np.sqrt(stats.t.interval(confidence, len(squared_errors) - 1,\n",
    "                         loc=squared_errors.mean(),\n",
    "                         scale=stats.sem(squared_errors)))"
   ]
  },
  {
   "cell_type": "code",
   "execution_count": 25,
   "metadata": {},
   "outputs": [
    {
     "name": "stdout",
     "output_type": "stream",
     "text": [
      "Regressor model performance:\n",
      "Mean absolute error(MAE) = 3.66\n",
      "Mean squared error(MSE) = 20.66\n",
      "4.545327270945404\n",
      "Median absolute error = 3.13\n",
      "Explain variance score = 0.17\n",
      "R2 score = 0.17\n"
     ]
    }
   ],
   "source": [
    "import sklearn.metrics as sm\n",
    "\n",
    "print(\"Regressor model performance:\")\n",
    "print(\"Mean absolute error(MAE) =\", round(sm.mean_absolute_error(y_test, final_predictions), 2))\n",
    "print(\"Mean squared error(MSE) =\", round(sm.mean_squared_error(y_test, final_predictions), 2))\n",
    "mean_test= round(sm.mean_squared_error(y_test, final_predictions), 2)\n",
    "print(np.sqrt(mean_test))\n",
    "print(\"Median absolute error =\", round(sm.median_absolute_error(y_test, final_predictions), 2))\n",
    "print(\"Explain variance score =\", round(sm.explained_variance_score(y_test, final_predictions), 2))\n",
    "print(\"R2 score =\", round(sm.r2_score(y_test, final_predictions), 2))"
   ]
  },
  {
   "cell_type": "code",
   "execution_count": null,
   "metadata": {},
   "outputs": [],
   "source": [
    "def mean_absolute_percentage_error(y_test, final_predictions): \n",
    "    y_test, final_predictions = np.array(y_test), np.array(final_predictions)\n",
    "    return np.mean(np.abs((y_test - final_predictions) / final_predictions)) * 100"
   ]
  },
  {
   "cell_type": "code",
   "execution_count": null,
   "metadata": {},
   "outputs": [],
   "source": [
    "print(mean_absolute_percentage_error(y_test, final_predictions))"
   ]
  },
  {
   "cell_type": "code",
   "execution_count": null,
   "metadata": {},
   "outputs": [],
   "source": []
  }
 ],
 "metadata": {
  "kernelspec": {
   "display_name": "Python 3",
   "language": "python",
   "name": "python3"
  },
  "language_info": {
   "codemirror_mode": {
    "name": "ipython",
    "version": 3
   },
   "file_extension": ".py",
   "mimetype": "text/x-python",
   "name": "python",
   "nbconvert_exporter": "python",
   "pygments_lexer": "ipython3",
   "version": "3.9.4"
  }
 },
 "nbformat": 4,
 "nbformat_minor": 4
}
