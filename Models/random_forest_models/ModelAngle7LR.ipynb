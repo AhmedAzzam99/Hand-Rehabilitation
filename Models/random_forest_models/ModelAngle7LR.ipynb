{
 "cells": [
  {
   "cell_type": "code",
   "execution_count": 26,
   "metadata": {},
   "outputs": [],
   "source": [
    "#import libraries\n",
    "import numpy as np\n",
    "import pandas as pd\n",
    "import matplotlib.pyplot as plt"
   ]
  },
  {
   "cell_type": "code",
   "execution_count": 27,
   "metadata": {},
   "outputs": [
    {
     "name": "stdout",
     "output_type": "stream",
     "text": [
      "Data = \n",
      "          X1        Y1        X2        Y2        X3        Y3        X4  \\\n",
      "0  0.860019 -3.096488  0.753413 -2.530522  0.629331 -1.962419  0.361692   \n",
      "1  0.456454 -2.852605  0.565661 -2.188466  0.568863 -1.593943  0.363601   \n",
      "2 -0.462493 -2.031486 -0.125549 -1.528304  0.123850 -1.026633  0.238231   \n",
      "3  0.106369 -2.186939  0.116188 -1.520864  0.142727 -0.703652  0.068778   \n",
      "4  0.381094 -3.316631  0.390072 -2.754067  0.427469 -2.131407  0.336888   \n",
      "5 -0.262968 -3.256483 -0.094474 -2.594541  0.073604 -1.954448  0.088474   \n",
      "6 -0.970940 -2.595038 -0.683583 -2.042165 -0.376025 -1.472786 -0.190104   \n",
      "7 -0.304093 -1.997585 -0.215963 -1.307632 -0.116897 -0.454085 -0.069022   \n",
      "8  0.055419 -3.592592  0.131205 -2.973669  0.252867 -2.286043  0.242098   \n",
      "9 -0.344932 -3.766955 -0.137432 -2.997226  0.053303 -2.269871  0.066792   \n",
      "\n",
      "         Y4      Angle        X5        Y5        X6        Y6        X7  \\\n",
      "0 -1.227911  15.958005  0.456454 -2.852605  0.565661 -2.188466  0.568863   \n",
      "1 -0.907820  16.424084 -0.462493 -2.031486 -0.125549 -1.528304  0.123850   \n",
      "2 -0.510583  15.635178 -0.915264 -0.867298 -0.556912 -0.619065 -0.347119   \n",
      "3  0.170585  26.299685  0.381094 -3.316631  0.390072 -2.754067  0.427469   \n",
      "4 -1.266161  15.050765 -0.262968 -3.256483 -0.094474 -2.594541  0.073604   \n",
      "5 -1.111491  13.807231 -0.970940 -2.595038 -0.683583 -2.042165 -0.376025   \n",
      "6 -0.800848  14.902200 -1.493574 -1.457450 -1.151122 -1.159289 -0.929195   \n",
      "7  0.416620  15.051214  0.055419 -3.592592  0.131205 -2.973669  0.252867   \n",
      "8 -1.329521  12.915006 -0.344932 -3.766955 -0.137432 -2.997226  0.053303   \n",
      "9 -1.308215   7.824200 -0.905729 -3.185208 -0.604510 -2.520129 -0.291183   \n",
      "\n",
      "         Y7        X8        Y8  Angle number  RightorLeft  \n",
      "0 -1.593943  0.363601 -0.907820             2            0  \n",
      "1 -1.026633  0.238231 -0.510583             3            0  \n",
      "2 -0.385286 -0.006106 -0.007940             4            0  \n",
      "3 -2.131407  0.336888 -1.266161             1            0  \n",
      "4 -1.954448  0.088474 -1.111491             2            0  \n",
      "5 -1.472786 -0.190104 -0.800848             3            0  \n",
      "6 -0.890322 -0.549895 -0.352399             4            0  \n",
      "7 -2.286043  0.242098 -1.329521             1            0  \n",
      "8 -2.269871  0.066792 -1.308215             2            0  \n",
      "9 -1.861470 -0.161199 -1.063399             3            0  \n"
     ]
    }
   ],
   "source": [
    "#read data\n",
    "Data = pd.read_csv(r'C:\\Users\\User\\Desktop\\decision_tree_models\\data.csv')\n",
    "print('Data = \\n',Data.head(10))"
   ]
  },
  {
   "cell_type": "code",
   "execution_count": 28,
   "metadata": {},
   "outputs": [
    {
     "name": "stdout",
     "output_type": "stream",
     "text": [
      "Data = \n",
      "           X1        Y1        X2        Y2        X3        Y3        X4  \\\n",
      "1   0.456454 -2.852605  0.565661 -2.188466  0.568863 -1.593943  0.363601   \n",
      "5  -0.262968 -3.256483 -0.094474 -2.594541  0.073604 -1.954448  0.088474   \n",
      "9  -0.344932 -3.766955 -0.137432 -2.997226  0.053303 -2.269871  0.066792   \n",
      "13 -0.838851 -3.732168 -0.534015 -3.003944 -0.278649 -2.293328 -0.173467   \n",
      "16 -0.260781 -3.128140 -0.060634 -2.458027  0.095771 -1.814866  0.097707   \n",
      "20 -0.030221 -3.139637  0.079306 -2.474090  0.187384 -1.828523  0.130153   \n",
      "24 -0.328681 -3.656366 -0.116912 -2.887448  0.078374 -2.173363  0.087590   \n",
      "28 -0.260997 -3.503587 -0.109554 -2.779068  0.075505 -2.097643  0.075567   \n",
      "32  0.027210 -3.311380  0.114000 -2.604938  0.226501 -1.937282  0.151225   \n",
      "36  0.405838 -3.144172  0.432424 -2.459986  0.462744 -1.804315  0.256043   \n",
      "\n",
      "          Y4      Angle        X5        Y5        X6        Y6        X7  \\\n",
      "1  -0.907820  16.424084 -0.462493 -2.031486 -0.125549 -1.528304  0.123850   \n",
      "5  -1.111491  13.807231 -0.970940 -2.595038 -0.683583 -2.042165 -0.376025   \n",
      "9  -1.308215   7.824200 -0.905729 -3.185208 -0.604510 -2.520129 -0.291183   \n",
      "13 -1.311250   7.632810 -0.745863 -3.151515 -0.423933 -2.516008 -0.127645   \n",
      "16 -1.022131  18.071257 -1.028285 -2.403042 -0.702093 -1.866702 -0.364537   \n",
      "20 -1.044000  14.479352 -0.772966 -2.529301 -0.519489 -1.918955 -0.261585   \n",
      "24 -1.259572   7.160648 -0.950071 -3.015571 -0.629420 -2.348733 -0.316467   \n",
      "28 -1.220023   6.093655 -0.938919 -2.950183 -0.652882 -2.274927 -0.363043   \n",
      "32 -1.121759  10.612284 -0.720192 -2.764966 -0.487893 -2.103504 -0.249392   \n",
      "36 -1.036598   7.191233 -0.265576 -2.449618 -0.112006 -1.829522  0.056950   \n",
      "\n",
      "          Y7        X8        Y8  Angle number  RightorLeft  \n",
      "1  -1.026633  0.238231 -0.510583             3            0  \n",
      "5  -1.472786 -0.190104 -0.800848             3            0  \n",
      "9  -1.861470 -0.161199 -1.063399             3            0  \n",
      "13 -1.901329 -0.020029 -1.088937             3            0  \n",
      "16 -1.304967 -0.162872 -0.680061             3            0  \n",
      "20 -1.335069 -0.139286 -0.707567             3            0  \n",
      "24 -1.700216 -0.178130 -0.959214             3            0  \n",
      "28 -1.625471 -0.223529 -0.912360             3            0  \n",
      "32 -1.470145 -0.159422 -0.807329             3            0  \n",
      "36 -1.260605  0.035554 -0.662957             3            0  \n"
     ]
    }
   ],
   "source": [
    "DataA7= Data.loc[(Data['Angle number'] ==3) & (Data['RightorLeft'] ==0)]\n",
    "print('Data = \\n',DataA7.head(10))"
   ]
  },
  {
   "cell_type": "code",
   "execution_count": 29,
   "metadata": {},
   "outputs": [],
   "source": [
    "DataA7_ = DataA7.drop(\"Angle number\", axis=1)\n",
    "DataA7_prepared = DataA7_.drop(\"RightorLeft\", axis=1)"
   ]
  },
  {
   "cell_type": "code",
   "execution_count": 30,
   "metadata": {},
   "outputs": [
    {
     "data": {
      "text/html": [
       "<div>\n",
       "<style scoped>\n",
       "    .dataframe tbody tr th:only-of-type {\n",
       "        vertical-align: middle;\n",
       "    }\n",
       "\n",
       "    .dataframe tbody tr th {\n",
       "        vertical-align: top;\n",
       "    }\n",
       "\n",
       "    .dataframe thead th {\n",
       "        text-align: right;\n",
       "    }\n",
       "</style>\n",
       "<table border=\"1\" class=\"dataframe\">\n",
       "  <thead>\n",
       "    <tr style=\"text-align: right;\">\n",
       "      <th></th>\n",
       "      <th>X1</th>\n",
       "      <th>Y1</th>\n",
       "      <th>X2</th>\n",
       "      <th>Y2</th>\n",
       "      <th>X3</th>\n",
       "      <th>Y3</th>\n",
       "      <th>X4</th>\n",
       "      <th>Y4</th>\n",
       "      <th>Angle</th>\n",
       "      <th>X5</th>\n",
       "      <th>Y5</th>\n",
       "      <th>X6</th>\n",
       "      <th>Y6</th>\n",
       "      <th>X7</th>\n",
       "      <th>Y7</th>\n",
       "      <th>X8</th>\n",
       "      <th>Y8</th>\n",
       "    </tr>\n",
       "  </thead>\n",
       "  <tbody>\n",
       "    <tr>\n",
       "      <th>1</th>\n",
       "      <td>0.456454</td>\n",
       "      <td>-2.852605</td>\n",
       "      <td>0.565661</td>\n",
       "      <td>-2.188466</td>\n",
       "      <td>0.568863</td>\n",
       "      <td>-1.593943</td>\n",
       "      <td>0.363601</td>\n",
       "      <td>-0.907820</td>\n",
       "      <td>16.424084</td>\n",
       "      <td>-0.462493</td>\n",
       "      <td>-2.031486</td>\n",
       "      <td>-0.125549</td>\n",
       "      <td>-1.528304</td>\n",
       "      <td>0.123850</td>\n",
       "      <td>-1.026633</td>\n",
       "      <td>0.238231</td>\n",
       "      <td>-0.510583</td>\n",
       "    </tr>\n",
       "    <tr>\n",
       "      <th>5</th>\n",
       "      <td>-0.262968</td>\n",
       "      <td>-3.256483</td>\n",
       "      <td>-0.094474</td>\n",
       "      <td>-2.594541</td>\n",
       "      <td>0.073604</td>\n",
       "      <td>-1.954448</td>\n",
       "      <td>0.088474</td>\n",
       "      <td>-1.111491</td>\n",
       "      <td>13.807231</td>\n",
       "      <td>-0.970940</td>\n",
       "      <td>-2.595038</td>\n",
       "      <td>-0.683583</td>\n",
       "      <td>-2.042165</td>\n",
       "      <td>-0.376025</td>\n",
       "      <td>-1.472786</td>\n",
       "      <td>-0.190104</td>\n",
       "      <td>-0.800848</td>\n",
       "    </tr>\n",
       "    <tr>\n",
       "      <th>9</th>\n",
       "      <td>-0.344932</td>\n",
       "      <td>-3.766955</td>\n",
       "      <td>-0.137432</td>\n",
       "      <td>-2.997226</td>\n",
       "      <td>0.053303</td>\n",
       "      <td>-2.269871</td>\n",
       "      <td>0.066792</td>\n",
       "      <td>-1.308215</td>\n",
       "      <td>7.824200</td>\n",
       "      <td>-0.905729</td>\n",
       "      <td>-3.185208</td>\n",
       "      <td>-0.604510</td>\n",
       "      <td>-2.520129</td>\n",
       "      <td>-0.291183</td>\n",
       "      <td>-1.861470</td>\n",
       "      <td>-0.161199</td>\n",
       "      <td>-1.063399</td>\n",
       "    </tr>\n",
       "    <tr>\n",
       "      <th>13</th>\n",
       "      <td>-0.838851</td>\n",
       "      <td>-3.732168</td>\n",
       "      <td>-0.534015</td>\n",
       "      <td>-3.003944</td>\n",
       "      <td>-0.278649</td>\n",
       "      <td>-2.293328</td>\n",
       "      <td>-0.173467</td>\n",
       "      <td>-1.311250</td>\n",
       "      <td>7.632810</td>\n",
       "      <td>-0.745863</td>\n",
       "      <td>-3.151515</td>\n",
       "      <td>-0.423933</td>\n",
       "      <td>-2.516008</td>\n",
       "      <td>-0.127645</td>\n",
       "      <td>-1.901329</td>\n",
       "      <td>-0.020029</td>\n",
       "      <td>-1.088937</td>\n",
       "    </tr>\n",
       "    <tr>\n",
       "      <th>16</th>\n",
       "      <td>-0.260781</td>\n",
       "      <td>-3.128140</td>\n",
       "      <td>-0.060634</td>\n",
       "      <td>-2.458027</td>\n",
       "      <td>0.095771</td>\n",
       "      <td>-1.814866</td>\n",
       "      <td>0.097707</td>\n",
       "      <td>-1.022131</td>\n",
       "      <td>18.071257</td>\n",
       "      <td>-1.028285</td>\n",
       "      <td>-2.403042</td>\n",
       "      <td>-0.702093</td>\n",
       "      <td>-1.866702</td>\n",
       "      <td>-0.364537</td>\n",
       "      <td>-1.304967</td>\n",
       "      <td>-0.162872</td>\n",
       "      <td>-0.680061</td>\n",
       "    </tr>\n",
       "    <tr>\n",
       "      <th>...</th>\n",
       "      <td>...</td>\n",
       "      <td>...</td>\n",
       "      <td>...</td>\n",
       "      <td>...</td>\n",
       "      <td>...</td>\n",
       "      <td>...</td>\n",
       "      <td>...</td>\n",
       "      <td>...</td>\n",
       "      <td>...</td>\n",
       "      <td>...</td>\n",
       "      <td>...</td>\n",
       "      <td>...</td>\n",
       "      <td>...</td>\n",
       "      <td>...</td>\n",
       "      <td>...</td>\n",
       "      <td>...</td>\n",
       "      <td>...</td>\n",
       "    </tr>\n",
       "    <tr>\n",
       "      <th>4296</th>\n",
       "      <td>-0.076117</td>\n",
       "      <td>-3.319487</td>\n",
       "      <td>0.045707</td>\n",
       "      <td>-2.595308</td>\n",
       "      <td>0.163303</td>\n",
       "      <td>-1.925939</td>\n",
       "      <td>0.110589</td>\n",
       "      <td>-1.123457</td>\n",
       "      <td>11.677382</td>\n",
       "      <td>-0.743305</td>\n",
       "      <td>-2.685703</td>\n",
       "      <td>-0.486570</td>\n",
       "      <td>-2.022475</td>\n",
       "      <td>-0.239651</td>\n",
       "      <td>-1.408437</td>\n",
       "      <td>-0.140173</td>\n",
       "      <td>-0.771934</td>\n",
       "    </tr>\n",
       "    <tr>\n",
       "      <th>4300</th>\n",
       "      <td>0.098204</td>\n",
       "      <td>-3.059574</td>\n",
       "      <td>0.195215</td>\n",
       "      <td>-2.425726</td>\n",
       "      <td>0.297045</td>\n",
       "      <td>-1.808329</td>\n",
       "      <td>0.210829</td>\n",
       "      <td>-1.032775</td>\n",
       "      <td>12.548918</td>\n",
       "      <td>-0.592752</td>\n",
       "      <td>-2.425868</td>\n",
       "      <td>-0.374493</td>\n",
       "      <td>-1.870975</td>\n",
       "      <td>-0.139620</td>\n",
       "      <td>-1.314384</td>\n",
       "      <td>-0.052026</td>\n",
       "      <td>-0.693141</td>\n",
       "    </tr>\n",
       "    <tr>\n",
       "      <th>4304</th>\n",
       "      <td>-0.513170</td>\n",
       "      <td>-3.543671</td>\n",
       "      <td>-0.279045</td>\n",
       "      <td>-2.900126</td>\n",
       "      <td>-0.025717</td>\n",
       "      <td>-2.259763</td>\n",
       "      <td>0.060595</td>\n",
       "      <td>-1.304303</td>\n",
       "      <td>6.935373</td>\n",
       "      <td>-0.985500</td>\n",
       "      <td>-2.957197</td>\n",
       "      <td>-0.683504</td>\n",
       "      <td>-2.450227</td>\n",
       "      <td>-0.347383</td>\n",
       "      <td>-1.889767</td>\n",
       "      <td>-0.146442</td>\n",
       "      <td>-1.103831</td>\n",
       "    </tr>\n",
       "    <tr>\n",
       "      <th>4308</th>\n",
       "      <td>0.516417</td>\n",
       "      <td>-3.042123</td>\n",
       "      <td>0.489533</td>\n",
       "      <td>-2.393215</td>\n",
       "      <td>0.484393</td>\n",
       "      <td>-1.756944</td>\n",
       "      <td>0.267980</td>\n",
       "      <td>-1.007013</td>\n",
       "      <td>10.335637</td>\n",
       "      <td>-0.190955</td>\n",
       "      <td>-2.424954</td>\n",
       "      <td>-0.080338</td>\n",
       "      <td>-1.829171</td>\n",
       "      <td>0.054836</td>\n",
       "      <td>-1.258905</td>\n",
       "      <td>0.023087</td>\n",
       "      <td>-0.660514</td>\n",
       "    </tr>\n",
       "    <tr>\n",
       "      <th>4312</th>\n",
       "      <td>0.324067</td>\n",
       "      <td>-3.450843</td>\n",
       "      <td>0.336699</td>\n",
       "      <td>-2.720437</td>\n",
       "      <td>0.376307</td>\n",
       "      <td>-2.022319</td>\n",
       "      <td>0.204242</td>\n",
       "      <td>-1.162159</td>\n",
       "      <td>9.997313</td>\n",
       "      <td>-0.345826</td>\n",
       "      <td>-2.858784</td>\n",
       "      <td>-0.209329</td>\n",
       "      <td>-2.181262</td>\n",
       "      <td>-0.027820</td>\n",
       "      <td>-1.539809</td>\n",
       "      <td>-0.028716</td>\n",
       "      <td>-0.845491</td>\n",
       "    </tr>\n",
       "  </tbody>\n",
       "</table>\n",
       "<p>569 rows × 17 columns</p>\n",
       "</div>"
      ],
      "text/plain": [
       "            X1        Y1        X2        Y2        X3        Y3        X4  \\\n",
       "1     0.456454 -2.852605  0.565661 -2.188466  0.568863 -1.593943  0.363601   \n",
       "5    -0.262968 -3.256483 -0.094474 -2.594541  0.073604 -1.954448  0.088474   \n",
       "9    -0.344932 -3.766955 -0.137432 -2.997226  0.053303 -2.269871  0.066792   \n",
       "13   -0.838851 -3.732168 -0.534015 -3.003944 -0.278649 -2.293328 -0.173467   \n",
       "16   -0.260781 -3.128140 -0.060634 -2.458027  0.095771 -1.814866  0.097707   \n",
       "...        ...       ...       ...       ...       ...       ...       ...   \n",
       "4296 -0.076117 -3.319487  0.045707 -2.595308  0.163303 -1.925939  0.110589   \n",
       "4300  0.098204 -3.059574  0.195215 -2.425726  0.297045 -1.808329  0.210829   \n",
       "4304 -0.513170 -3.543671 -0.279045 -2.900126 -0.025717 -2.259763  0.060595   \n",
       "4308  0.516417 -3.042123  0.489533 -2.393215  0.484393 -1.756944  0.267980   \n",
       "4312  0.324067 -3.450843  0.336699 -2.720437  0.376307 -2.022319  0.204242   \n",
       "\n",
       "            Y4      Angle        X5        Y5        X6        Y6        X7  \\\n",
       "1    -0.907820  16.424084 -0.462493 -2.031486 -0.125549 -1.528304  0.123850   \n",
       "5    -1.111491  13.807231 -0.970940 -2.595038 -0.683583 -2.042165 -0.376025   \n",
       "9    -1.308215   7.824200 -0.905729 -3.185208 -0.604510 -2.520129 -0.291183   \n",
       "13   -1.311250   7.632810 -0.745863 -3.151515 -0.423933 -2.516008 -0.127645   \n",
       "16   -1.022131  18.071257 -1.028285 -2.403042 -0.702093 -1.866702 -0.364537   \n",
       "...        ...        ...       ...       ...       ...       ...       ...   \n",
       "4296 -1.123457  11.677382 -0.743305 -2.685703 -0.486570 -2.022475 -0.239651   \n",
       "4300 -1.032775  12.548918 -0.592752 -2.425868 -0.374493 -1.870975 -0.139620   \n",
       "4304 -1.304303   6.935373 -0.985500 -2.957197 -0.683504 -2.450227 -0.347383   \n",
       "4308 -1.007013  10.335637 -0.190955 -2.424954 -0.080338 -1.829171  0.054836   \n",
       "4312 -1.162159   9.997313 -0.345826 -2.858784 -0.209329 -2.181262 -0.027820   \n",
       "\n",
       "            Y7        X8        Y8  \n",
       "1    -1.026633  0.238231 -0.510583  \n",
       "5    -1.472786 -0.190104 -0.800848  \n",
       "9    -1.861470 -0.161199 -1.063399  \n",
       "13   -1.901329 -0.020029 -1.088937  \n",
       "16   -1.304967 -0.162872 -0.680061  \n",
       "...        ...       ...       ...  \n",
       "4296 -1.408437 -0.140173 -0.771934  \n",
       "4300 -1.314384 -0.052026 -0.693141  \n",
       "4304 -1.889767 -0.146442 -1.103831  \n",
       "4308 -1.258905  0.023087 -0.660514  \n",
       "4312 -1.539809 -0.028716 -0.845491  \n",
       "\n",
       "[569 rows x 17 columns]"
      ]
     },
     "execution_count": 30,
     "metadata": {},
     "output_type": "execute_result"
    }
   ],
   "source": [
    "DataA7_prepared"
   ]
  },
  {
   "cell_type": "code",
   "execution_count": 31,
   "metadata": {},
   "outputs": [],
   "source": [
    "# import seaborn as sns\n",
    "# sns.pairplot(DataA7_prepared)"
   ]
  },
  {
   "cell_type": "code",
   "execution_count": 32,
   "metadata": {},
   "outputs": [],
   "source": [
    "# split the data \n",
    "from sklearn.model_selection import train_test_split\n",
    "\n",
    "train_set, test_set = train_test_split(DataA7_prepared, test_size=0.2, random_state=42)"
   ]
  },
  {
   "cell_type": "code",
   "execution_count": 33,
   "metadata": {},
   "outputs": [
    {
     "data": {
      "text/html": [
       "<div>\n",
       "<style scoped>\n",
       "    .dataframe tbody tr th:only-of-type {\n",
       "        vertical-align: middle;\n",
       "    }\n",
       "\n",
       "    .dataframe tbody tr th {\n",
       "        vertical-align: top;\n",
       "    }\n",
       "\n",
       "    .dataframe thead th {\n",
       "        text-align: right;\n",
       "    }\n",
       "</style>\n",
       "<table border=\"1\" class=\"dataframe\">\n",
       "  <thead>\n",
       "    <tr style=\"text-align: right;\">\n",
       "      <th></th>\n",
       "      <th>X1</th>\n",
       "      <th>Y1</th>\n",
       "      <th>X2</th>\n",
       "      <th>Y2</th>\n",
       "      <th>X3</th>\n",
       "      <th>Y3</th>\n",
       "      <th>X4</th>\n",
       "      <th>Y4</th>\n",
       "      <th>Angle</th>\n",
       "      <th>X5</th>\n",
       "      <th>Y5</th>\n",
       "      <th>X6</th>\n",
       "      <th>Y6</th>\n",
       "      <th>X7</th>\n",
       "      <th>Y7</th>\n",
       "      <th>X8</th>\n",
       "      <th>Y8</th>\n",
       "    </tr>\n",
       "  </thead>\n",
       "  <tbody>\n",
       "    <tr>\n",
       "      <th>1778</th>\n",
       "      <td>-0.364159</td>\n",
       "      <td>-3.519861</td>\n",
       "      <td>-0.150793</td>\n",
       "      <td>-2.801640</td>\n",
       "      <td>0.051703</td>\n",
       "      <td>-2.114818</td>\n",
       "      <td>0.086256</td>\n",
       "      <td>-1.214021</td>\n",
       "      <td>8.873179</td>\n",
       "      <td>-1.087261</td>\n",
       "      <td>-2.868868</td>\n",
       "      <td>-0.752625</td>\n",
       "      <td>-2.264141</td>\n",
       "      <td>-0.419561</td>\n",
       "      <td>-1.646605</td>\n",
       "      <td>-0.227634</td>\n",
       "      <td>-0.920376</td>\n",
       "    </tr>\n",
       "    <tr>\n",
       "      <th>632</th>\n",
       "      <td>0.162253</td>\n",
       "      <td>-3.410156</td>\n",
       "      <td>0.241746</td>\n",
       "      <td>-2.679408</td>\n",
       "      <td>0.313687</td>\n",
       "      <td>-2.008187</td>\n",
       "      <td>0.198702</td>\n",
       "      <td>-1.159724</td>\n",
       "      <td>5.672441</td>\n",
       "      <td>-0.524979</td>\n",
       "      <td>-2.759072</td>\n",
       "      <td>-0.317639</td>\n",
       "      <td>-2.125712</td>\n",
       "      <td>-0.093826</td>\n",
       "      <td>-1.519505</td>\n",
       "      <td>-0.040994</td>\n",
       "      <td>-0.838881</td>\n",
       "    </tr>\n",
       "    <tr>\n",
       "      <th>1153</th>\n",
       "      <td>0.700550</td>\n",
       "      <td>-3.347765</td>\n",
       "      <td>0.630012</td>\n",
       "      <td>-2.590872</td>\n",
       "      <td>0.574366</td>\n",
       "      <td>-1.878119</td>\n",
       "      <td>0.289967</td>\n",
       "      <td>-1.086271</td>\n",
       "      <td>11.390865</td>\n",
       "      <td>-0.037376</td>\n",
       "      <td>-2.669003</td>\n",
       "      <td>0.051175</td>\n",
       "      <td>-1.989528</td>\n",
       "      <td>0.150525</td>\n",
       "      <td>-1.370403</td>\n",
       "      <td>0.071214</td>\n",
       "      <td>-0.734849</td>\n",
       "    </tr>\n",
       "    <tr>\n",
       "      <th>3373</th>\n",
       "      <td>1.460255</td>\n",
       "      <td>-2.318015</td>\n",
       "      <td>1.248923</td>\n",
       "      <td>-1.772348</td>\n",
       "      <td>1.019867</td>\n",
       "      <td>-1.264914</td>\n",
       "      <td>0.547409</td>\n",
       "      <td>-0.745400</td>\n",
       "      <td>9.524107</td>\n",
       "      <td>0.824251</td>\n",
       "      <td>-1.636477</td>\n",
       "      <td>0.715185</td>\n",
       "      <td>-1.132700</td>\n",
       "      <td>0.620722</td>\n",
       "      <td>-0.698133</td>\n",
       "      <td>0.334842</td>\n",
       "      <td>-0.324992</td>\n",
       "    </tr>\n",
       "    <tr>\n",
       "      <th>4159</th>\n",
       "      <td>0.718243</td>\n",
       "      <td>-2.545527</td>\n",
       "      <td>0.666669</td>\n",
       "      <td>-1.980945</td>\n",
       "      <td>0.609155</td>\n",
       "      <td>-1.429056</td>\n",
       "      <td>0.347727</td>\n",
       "      <td>-0.819253</td>\n",
       "      <td>12.624172</td>\n",
       "      <td>0.006175</td>\n",
       "      <td>-1.904757</td>\n",
       "      <td>0.095536</td>\n",
       "      <td>-1.379669</td>\n",
       "      <td>0.181477</td>\n",
       "      <td>-0.902798</td>\n",
       "      <td>0.114035</td>\n",
       "      <td>-0.431765</td>\n",
       "    </tr>\n",
       "  </tbody>\n",
       "</table>\n",
       "</div>"
      ],
      "text/plain": [
       "            X1        Y1        X2        Y2        X3        Y3        X4  \\\n",
       "1778 -0.364159 -3.519861 -0.150793 -2.801640  0.051703 -2.114818  0.086256   \n",
       "632   0.162253 -3.410156  0.241746 -2.679408  0.313687 -2.008187  0.198702   \n",
       "1153  0.700550 -3.347765  0.630012 -2.590872  0.574366 -1.878119  0.289967   \n",
       "3373  1.460255 -2.318015  1.248923 -1.772348  1.019867 -1.264914  0.547409   \n",
       "4159  0.718243 -2.545527  0.666669 -1.980945  0.609155 -1.429056  0.347727   \n",
       "\n",
       "            Y4      Angle        X5        Y5        X6        Y6        X7  \\\n",
       "1778 -1.214021   8.873179 -1.087261 -2.868868 -0.752625 -2.264141 -0.419561   \n",
       "632  -1.159724   5.672441 -0.524979 -2.759072 -0.317639 -2.125712 -0.093826   \n",
       "1153 -1.086271  11.390865 -0.037376 -2.669003  0.051175 -1.989528  0.150525   \n",
       "3373 -0.745400   9.524107  0.824251 -1.636477  0.715185 -1.132700  0.620722   \n",
       "4159 -0.819253  12.624172  0.006175 -1.904757  0.095536 -1.379669  0.181477   \n",
       "\n",
       "            Y7        X8        Y8  \n",
       "1778 -1.646605 -0.227634 -0.920376  \n",
       "632  -1.519505 -0.040994 -0.838881  \n",
       "1153 -1.370403  0.071214 -0.734849  \n",
       "3373 -0.698133  0.334842 -0.324992  \n",
       "4159 -0.902798  0.114035 -0.431765  "
      ]
     },
     "execution_count": 33,
     "metadata": {},
     "output_type": "execute_result"
    }
   ],
   "source": [
    "test_set.head()"
   ]
  },
  {
   "cell_type": "code",
   "execution_count": 34,
   "metadata": {},
   "outputs": [],
   "source": [
    "DataA7_prepared = train_set.copy()"
   ]
  },
  {
   "cell_type": "code",
   "execution_count": 35,
   "metadata": {},
   "outputs": [
    {
     "data": {
      "text/plain": [
       "Angle    1.000000\n",
       "Y4       0.350179\n",
       "Y5       0.343807\n",
       "Y8       0.339801\n",
       "Y7       0.335549\n",
       "Y6       0.335235\n",
       "Y3       0.334078\n",
       "Y2       0.313951\n",
       "Y1       0.301263\n",
       "X1       0.207044\n",
       "X2       0.205220\n",
       "X3       0.181474\n",
       "X4       0.164628\n",
       "X5       0.142580\n",
       "X8       0.126035\n",
       "X6       0.125426\n",
       "X7       0.116713\n",
       "Name: Angle, dtype: float64"
      ]
     },
     "execution_count": 35,
     "metadata": {},
     "output_type": "execute_result"
    }
   ],
   "source": [
    "corr_matrix = DataA7_prepared.corr()\n",
    "corr_matrix[\"Angle\"].sort_values(ascending=False)"
   ]
  },
  {
   "cell_type": "code",
   "execution_count": 36,
   "metadata": {},
   "outputs": [],
   "source": [
    "# Prepare the data for Machine Learning algorithms\n",
    "\n",
    "DataA7_prepared = train_set.drop(\"Angle\", axis=1) # drop labels for training set\n",
    "DataA7_prepared_label = train_set[\"Angle\"].copy()"
   ]
  },
  {
   "cell_type": "code",
   "execution_count": 37,
   "metadata": {},
   "outputs": [
    {
     "data": {
      "text/plain": [
       "RandomForestRegressor(random_state=42)"
      ]
     },
     "execution_count": 37,
     "metadata": {},
     "output_type": "execute_result"
    }
   ],
   "source": [
    "# Select and train a model \n",
    "\n",
    "from sklearn.ensemble import RandomForestRegressor\n",
    "dc_tr=RandomForestRegressor(n_estimators=100,random_state=42)\n",
    "dc_tr.fit(DataA7_prepared, DataA7_prepared_label)"
   ]
  },
  {
   "cell_type": "code",
   "execution_count": 38,
   "metadata": {},
   "outputs": [
    {
     "name": "stdout",
     "output_type": "stream",
     "text": [
      "Predictions: [13.90026368  5.92715592  7.26902826 11.05919284 11.3464843 ]\n"
     ]
    }
   ],
   "source": [
    "some_data = DataA7_prepared.iloc[:5]\n",
    "some_labels = DataA7_prepared_label.iloc[:5]\n",
    "print(\"Predictions:\", dc_tr.predict(some_data))"
   ]
  },
  {
   "cell_type": "code",
   "execution_count": 39,
   "metadata": {},
   "outputs": [
    {
     "name": "stdout",
     "output_type": "stream",
     "text": [
      "Labels: [16.07561392, 5.800896645, 4.70119578, 9.227674761, 10.58700507]\n"
     ]
    }
   ],
   "source": [
    "# Compare against the actual values:\n",
    "\n",
    "print(\"Labels:\", list(some_labels))"
   ]
  },
  {
   "cell_type": "code",
   "execution_count": 40,
   "metadata": {},
   "outputs": [
    {
     "data": {
      "text/plain": [
       "1.4586847960497995"
      ]
     },
     "execution_count": 40,
     "metadata": {},
     "output_type": "execute_result"
    }
   ],
   "source": [
    "from sklearn.metrics import mean_squared_error\n",
    "\n",
    "Data_predictions = dc_tr.predict(DataA7_prepared)\n",
    "lin_mse = mean_squared_error(DataA7_prepared_label, Data_predictions)\n",
    "lin_rmse = np.sqrt(lin_mse)\n",
    "lin_rmse"
   ]
  },
  {
   "cell_type": "code",
   "execution_count": 41,
   "metadata": {},
   "outputs": [],
   "source": [
    "# Cross Validation\n",
    "\n",
    "from sklearn.model_selection import cross_val_score\n",
    "\n",
    "lin_scores = cross_val_score(dc_tr, DataA7_prepared, DataA7_prepared_label,\n",
    "                         scoring=\"neg_mean_squared_error\", cv=10)\n",
    "lin_rmse_scores = np.sqrt(-lin_scores)"
   ]
  },
  {
   "cell_type": "code",
   "execution_count": 42,
   "metadata": {},
   "outputs": [
    {
     "name": "stdout",
     "output_type": "stream",
     "text": [
      "Scores: [4.07710276 3.37139199 3.20631602 3.52748275 4.29236217 4.57770699\n",
      " 4.25386211 3.78404972 3.82524934 3.74266053]\n",
      "Mean: 3.865818437967971\n",
      "Standard deviation: 0.4124700774269397\n"
     ]
    }
   ],
   "source": [
    "def display_scores(scores):\n",
    "    print(\"Scores:\", scores)\n",
    "    print(\"Mean:\", scores.mean())\n",
    "    print(\"Standard deviation:\", scores.std())\n",
    "\n",
    "display_scores(lin_rmse_scores)"
   ]
  },
  {
   "cell_type": "code",
   "execution_count": 43,
   "metadata": {},
   "outputs": [],
   "source": [
    "X_test = test_set.drop(\"Angle\", axis=1)\n",
    "y_test = test_set[\"Angle\"].copy()\n",
    "\n",
    "final_predictions = dc_tr.predict(X_test)\n",
    "\n",
    "final_mse = mean_squared_error(y_test, final_predictions)\n",
    "final_rmse = np.sqrt(final_mse)"
   ]
  },
  {
   "cell_type": "code",
   "execution_count": 44,
   "metadata": {},
   "outputs": [
    {
     "data": {
      "text/plain": [
       "<matplotlib.collections.PathCollection at 0x22d6cd19850>"
      ]
     },
     "execution_count": 44,
     "metadata": {},
     "output_type": "execute_result"
    },
    {
     "data": {
      "image/png": "[encoded data removed]",
      "text/plain": [
       "<Figure size 432x288 with 1 Axes>"
      ]
     },
     "metadata": {
      "needs_background": "light"
     },
     "output_type": "display_data"
    }
   ],
   "source": [
    "plt.scatter(y_test, final_predictions)"
   ]
  },
  {
   "cell_type": "code",
   "execution_count": 45,
   "metadata": {},
   "outputs": [
    {
     "data": {
      "text/plain": [
       "(array([ 3.,  6., 10., 24., 25., 22., 11.,  6.,  5.,  2.]),\n",
       " array([-9.47180384, -7.44963872, -5.42747361, -3.40530849, -1.38314338,\n",
       "         0.63902174,  2.66118685,  4.68335197,  6.70551708,  8.7276822 ,\n",
       "        10.74984731]),\n",
       " <BarContainer object of 10 artists>)"
      ]
     },
     "execution_count": 45,
     "metadata": {},
     "output_type": "execute_result"
    },
    {
     "data": {
      "image/png": "[encoded data removed]",
      "text/plain": [
       "<Figure size 432x288 with 1 Axes>"
      ]
     },
     "metadata": {
      "needs_background": "light"
     },
     "output_type": "display_data"
    }
   ],
   "source": [
    "plt.hist(y_test - final_predictions)"
   ]
  },
  {
   "cell_type": "code",
   "execution_count": 46,
   "metadata": {},
   "outputs": [
    {
     "data": {
      "text/plain": [
       "3.8594981878239905"
      ]
     },
     "execution_count": 46,
     "metadata": {},
     "output_type": "execute_result"
    }
   ],
   "source": [
    "final_rmse"
   ]
  },
  {
   "cell_type": "code",
   "execution_count": 47,
   "metadata": {},
   "outputs": [
    {
     "data": {
      "text/plain": [
       "array([3.30273575, 4.34550217])"
      ]
     },
     "execution_count": 47,
     "metadata": {},
     "output_type": "execute_result"
    }
   ],
   "source": [
    "from scipy import stats\n",
    "\n",
    "confidence = 0.95\n",
    "squared_errors = (final_predictions - y_test) ** 2\n",
    "np.sqrt(stats.t.interval(confidence, len(squared_errors) - 1,\n",
    "                         loc=squared_errors.mean(),\n",
    "                         scale=stats.sem(squared_errors)))"
   ]
  },
  {
   "cell_type": "code",
   "execution_count": 48,
   "metadata": {},
   "outputs": [
    {
     "name": "stdout",
     "output_type": "stream",
     "text": [
      "Regressor model performance:\n",
      "Mean absolute error(MAE) = 3.07\n",
      "Mean squared error(MSE) = 14.9\n",
      "Median absolute error = 2.39\n",
      "Explain variance score = 0.08\n",
      "R2 score = 0.08\n"
     ]
    }
   ],
   "source": [
    "import sklearn.metrics as sm\n",
    "\n",
    "print(\"Regressor model performance:\")\n",
    "print(\"Mean absolute error(MAE) =\", round(sm.mean_absolute_error(y_test, final_predictions), 2))\n",
    "print(\"Mean squared error(MSE) =\", round(sm.mean_squared_error(y_test, final_predictions), 2))\n",
    "print(\"Median absolute error =\", round(sm.median_absolute_error(y_test, final_predictions), 2))\n",
    "print(\"Explain variance score =\", round(sm.explained_variance_score(y_test, final_predictions), 2))\n",
    "print(\"R2 score =\", round(sm.r2_score(y_test, final_predictions), 2))"
   ]
  },
  {
   "cell_type": "code",
   "execution_count": 49,
   "metadata": {},
   "outputs": [],
   "source": [
    "def mean_absolute_percentage_error(y_test, final_predictions): \n",
    "    y_test, final_predictions = np.array(y_test), np.array(final_predictions)\n",
    "    return np.mean(np.abs((y_test - final_predictions) / final_predictions)) * 100"
   ]
  },
  {
   "cell_type": "code",
   "execution_count": 50,
   "metadata": {},
   "outputs": [
    {
     "name": "stdout",
     "output_type": "stream",
     "text": [
      "28.341284509513653\n"
     ]
    }
   ],
   "source": [
    "print(mean_absolute_percentage_error(y_test, final_predictions))"
   ]
  },
  {
   "cell_type": "code",
   "execution_count": null,
   "metadata": {},
   "outputs": [],
   "source": []
  }
 ],
 "metadata": {
  "kernelspec": {
   "display_name": "Python 3",
   "language": "python",
   "name": "python3"
  },
  "language_info": {
   "codemirror_mode": {
    "name": "ipython",
    "version": 3
   },
   "file_extension": ".py",
   "mimetype": "text/x-python",
   "name": "python",
   "nbconvert_exporter": "python",
   "pygments_lexer": "ipython3",
   "version": "3.9.0"
  }
 },
 "nbformat": 4,
 "nbformat_minor": 4
}
