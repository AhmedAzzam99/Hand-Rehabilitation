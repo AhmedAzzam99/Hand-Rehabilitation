{
 "cells": [
  {
   "cell_type": "code",
   "execution_count": 1,
   "metadata": {},
   "outputs": [],
   "source": [
    "#import libraries\n",
    "import numpy as np\n",
    "import pandas as pd\n",
    "import matplotlib.pyplot as plt"
   ]
  },
  {
   "cell_type": "code",
   "execution_count": 2,
   "metadata": {},
   "outputs": [
    {
     "name": "stdout",
     "output_type": "stream",
     "text": [
      "Data = \n",
      "          X1        Y1        X2        Y2        X3        Y3        X4  \\\n",
      "0  0.860019 -3.096488  0.753413 -2.530522  0.629331 -1.962419  0.361692   \n",
      "1  0.456454 -2.852605  0.565661 -2.188466  0.568863 -1.593943  0.363601   \n",
      "2 -0.462493 -2.031486 -0.125549 -1.528304  0.123850 -1.026633  0.238231   \n",
      "3  0.106369 -2.186939  0.116188 -1.520864  0.142727 -0.703652  0.068778   \n",
      "4  0.381094 -3.316631  0.390072 -2.754067  0.427469 -2.131407  0.336888   \n",
      "5 -0.262968 -3.256483 -0.094474 -2.594541  0.073604 -1.954448  0.088474   \n",
      "6 -0.970940 -2.595038 -0.683583 -2.042165 -0.376025 -1.472786 -0.190104   \n",
      "7 -0.304093 -1.997585 -0.215963 -1.307632 -0.116897 -0.454085 -0.069022   \n",
      "8  0.055419 -3.592592  0.131205 -2.973669  0.252867 -2.286043  0.242098   \n",
      "9 -0.344932 -3.766955 -0.137432 -2.997226  0.053303 -2.269871  0.066792   \n",
      "\n",
      "         Y4      Angle        X5        Y5        X6        Y6        X7  \\\n",
      "0 -1.227911  15.958005  0.456454 -2.852605  0.565661 -2.188466  0.568863   \n",
      "1 -0.907820  16.424084 -0.462493 -2.031486 -0.125549 -1.528304  0.123850   \n",
      "2 -0.510583  15.635178 -0.915264 -0.867298 -0.556912 -0.619065 -0.347119   \n",
      "3  0.170585  26.299685  0.381094 -3.316631  0.390072 -2.754067  0.427469   \n",
      "4 -1.266161  15.050765 -0.262968 -3.256483 -0.094474 -2.594541  0.073604   \n",
      "5 -1.111491  13.807231 -0.970940 -2.595038 -0.683583 -2.042165 -0.376025   \n",
      "6 -0.800848  14.902200 -1.493574 -1.457450 -1.151122 -1.159289 -0.929195   \n",
      "7  0.416620  15.051214  0.055419 -3.592592  0.131205 -2.973669  0.252867   \n",
      "8 -1.329521  12.915006 -0.344932 -3.766955 -0.137432 -2.997226  0.053303   \n",
      "9 -1.308215   7.824200 -0.905729 -3.185208 -0.604510 -2.520129 -0.291183   \n",
      "\n",
      "         Y7        X8        Y8  Angle number  RightorLeft  \n",
      "0 -1.593943  0.363601 -0.907820             2            0  \n",
      "1 -1.026633  0.238231 -0.510583             3            0  \n",
      "2 -0.385286 -0.006106 -0.007940             4            0  \n",
      "3 -2.131407  0.336888 -1.266161             1            0  \n",
      "4 -1.954448  0.088474 -1.111491             2            0  \n",
      "5 -1.472786 -0.190104 -0.800848             3            0  \n",
      "6 -0.890322 -0.549895 -0.352399             4            0  \n",
      "7 -2.286043  0.242098 -1.329521             1            0  \n",
      "8 -2.269871  0.066792 -1.308215             2            0  \n",
      "9 -1.861470 -0.161199 -1.063399             3            0  \n"
     ]
    }
   ],
   "source": [
    "#read data\n",
    "Data = pd.read_csv(r'C:\\Users\\User\\Desktop\\decision_tree_models\\data.csv')\n",
    "print('Data = \\n',Data.head(10))"
   ]
  },
  {
   "cell_type": "code",
   "execution_count": 3,
   "metadata": {},
   "outputs": [
    {
     "name": "stdout",
     "output_type": "stream",
     "text": [
      "Data = \n",
      "           X1        Y1        X2        Y2        X3        Y3        X4  \\\n",
      "2  -0.462493 -2.031486 -0.125549 -1.528304  0.123850 -1.026633  0.238231   \n",
      "6  -0.970940 -2.595038 -0.683583 -2.042165 -0.376025 -1.472786 -0.190104   \n",
      "10 -0.905729 -3.185208 -0.604510 -2.520129 -0.291183 -1.861470 -0.161199   \n",
      "17 -1.028285 -2.403042 -0.702093 -1.866702 -0.364537 -1.304967 -0.162872   \n",
      "21 -0.772966 -2.529301 -0.519489 -1.918955 -0.261585 -1.335069 -0.139286   \n",
      "25 -0.950071 -3.015571 -0.629420 -2.348733 -0.316467 -1.700216 -0.178130   \n",
      "29 -0.938919 -2.950183 -0.652882 -2.274927 -0.363043 -1.625471 -0.223529   \n",
      "33 -0.720192 -2.764966 -0.487893 -2.103504 -0.249392 -1.470145 -0.159422   \n",
      "37 -0.265576 -2.449618 -0.112006 -1.829522  0.056950 -1.260605  0.035554   \n",
      "41 -0.417400 -2.488517 -0.228773 -1.860443 -0.032114 -1.287006 -0.017579   \n",
      "\n",
      "          Y4      Angle        X5        Y5        X6        Y6        X7  \\\n",
      "2  -0.510583  15.635178 -0.915264 -0.867298 -0.556912 -0.619065 -0.347119   \n",
      "6  -0.800848  14.902200 -1.493574 -1.457450 -1.151122 -1.159289 -0.929195   \n",
      "10 -1.063399  14.901276 -1.378063 -2.057012 -1.033132 -1.686316 -0.812804   \n",
      "17 -0.680061  16.155923 -1.499234 -1.217225 -1.123276 -0.936887 -0.894866   \n",
      "21 -0.707567  15.983317 -1.371189 -1.335171 -1.033760 -1.006373 -0.829050   \n",
      "25 -0.959214  17.776968 -1.471219 -1.850174 -1.117614 -1.487609 -0.886537   \n",
      "29 -0.912360  12.747588 -1.528819 -1.814464 -1.185071 -1.432289 -0.958329   \n",
      "33 -0.807329  12.177388 -1.394815 -1.640112 -1.074754 -1.265271 -0.873785   \n",
      "37 -0.662957  25.497078 -0.936723 -1.229247 -0.657741 -0.906993 -0.505330   \n",
      "41 -0.679631  25.021366 -1.059391 -1.267283 -0.760392 -0.941830 -0.592455   \n",
      "\n",
      "          Y7        X8        Y8  Angle number  RightorLeft  \n",
      "2  -0.385286 -0.006106 -0.007940             4            0  \n",
      "6  -0.890322 -0.549895 -0.352399             4            0  \n",
      "10 -1.350433 -0.489363 -0.655708             4            0  \n",
      "17 -0.679458 -0.499928 -0.207227             4            0  \n",
      "21 -0.731507 -0.493947 -0.248378             4            0  \n",
      "25 -1.162730 -0.549019 -0.513929             4            0  \n",
      "29 -1.107068 -0.623624 -0.464713             4            0  \n",
      "33 -0.953365 -0.571215 -0.374262             4            0  \n",
      "37 -0.634674 -0.300101 -0.174961             4            0  \n",
      "41 -0.666315 -0.357799 -0.192241             4            0  \n"
     ]
    }
   ],
   "source": [
    "DataA4= Data.loc[Data['Angle number'] ==4]\n",
    "print('Data = \\n',DataA4.head(10))"
   ]
  },
  {
   "cell_type": "code",
   "execution_count": 4,
   "metadata": {},
   "outputs": [],
   "source": [
    "DataA4_ = DataA4.drop(\"Angle number\", axis=1)"
   ]
  },
  {
   "cell_type": "code",
   "execution_count": 5,
   "metadata": {},
   "outputs": [
    {
     "data": {
      "text/html": [
       "<div>\n",
       "<style scoped>\n",
       "    .dataframe tbody tr th:only-of-type {\n",
       "        vertical-align: middle;\n",
       "    }\n",
       "\n",
       "    .dataframe tbody tr th {\n",
       "        vertical-align: top;\n",
       "    }\n",
       "\n",
       "    .dataframe thead th {\n",
       "        text-align: right;\n",
       "    }\n",
       "</style>\n",
       "<table border=\"1\" class=\"dataframe\">\n",
       "  <thead>\n",
       "    <tr style=\"text-align: right;\">\n",
       "      <th></th>\n",
       "      <th>X1</th>\n",
       "      <th>Y1</th>\n",
       "      <th>X2</th>\n",
       "      <th>Y2</th>\n",
       "      <th>X3</th>\n",
       "      <th>Y3</th>\n",
       "      <th>X4</th>\n",
       "      <th>Y4</th>\n",
       "      <th>Angle</th>\n",
       "      <th>X5</th>\n",
       "      <th>Y5</th>\n",
       "      <th>X6</th>\n",
       "      <th>Y6</th>\n",
       "      <th>X7</th>\n",
       "      <th>Y7</th>\n",
       "      <th>X8</th>\n",
       "      <th>Y8</th>\n",
       "      <th>RightorLeft</th>\n",
       "    </tr>\n",
       "  </thead>\n",
       "  <tbody>\n",
       "    <tr>\n",
       "      <th>2</th>\n",
       "      <td>-0.462493</td>\n",
       "      <td>-2.031486</td>\n",
       "      <td>-0.125549</td>\n",
       "      <td>-1.528304</td>\n",
       "      <td>0.123850</td>\n",
       "      <td>-1.026633</td>\n",
       "      <td>0.238231</td>\n",
       "      <td>-0.510583</td>\n",
       "      <td>15.635178</td>\n",
       "      <td>-0.915264</td>\n",
       "      <td>-0.867298</td>\n",
       "      <td>-0.556912</td>\n",
       "      <td>-0.619065</td>\n",
       "      <td>-0.347119</td>\n",
       "      <td>-0.385286</td>\n",
       "      <td>-0.006106</td>\n",
       "      <td>-0.007940</td>\n",
       "      <td>0</td>\n",
       "    </tr>\n",
       "    <tr>\n",
       "      <th>6</th>\n",
       "      <td>-0.970940</td>\n",
       "      <td>-2.595038</td>\n",
       "      <td>-0.683583</td>\n",
       "      <td>-2.042165</td>\n",
       "      <td>-0.376025</td>\n",
       "      <td>-1.472786</td>\n",
       "      <td>-0.190104</td>\n",
       "      <td>-0.800848</td>\n",
       "      <td>14.902200</td>\n",
       "      <td>-1.493574</td>\n",
       "      <td>-1.457450</td>\n",
       "      <td>-1.151122</td>\n",
       "      <td>-1.159289</td>\n",
       "      <td>-0.929195</td>\n",
       "      <td>-0.890322</td>\n",
       "      <td>-0.549895</td>\n",
       "      <td>-0.352399</td>\n",
       "      <td>0</td>\n",
       "    </tr>\n",
       "    <tr>\n",
       "      <th>10</th>\n",
       "      <td>-0.905729</td>\n",
       "      <td>-3.185208</td>\n",
       "      <td>-0.604510</td>\n",
       "      <td>-2.520129</td>\n",
       "      <td>-0.291183</td>\n",
       "      <td>-1.861470</td>\n",
       "      <td>-0.161199</td>\n",
       "      <td>-1.063399</td>\n",
       "      <td>14.901276</td>\n",
       "      <td>-1.378063</td>\n",
       "      <td>-2.057012</td>\n",
       "      <td>-1.033132</td>\n",
       "      <td>-1.686316</td>\n",
       "      <td>-0.812804</td>\n",
       "      <td>-1.350433</td>\n",
       "      <td>-0.489363</td>\n",
       "      <td>-0.655708</td>\n",
       "      <td>0</td>\n",
       "    </tr>\n",
       "    <tr>\n",
       "      <th>17</th>\n",
       "      <td>-1.028285</td>\n",
       "      <td>-2.403042</td>\n",
       "      <td>-0.702093</td>\n",
       "      <td>-1.866702</td>\n",
       "      <td>-0.364537</td>\n",
       "      <td>-1.304967</td>\n",
       "      <td>-0.162872</td>\n",
       "      <td>-0.680061</td>\n",
       "      <td>16.155923</td>\n",
       "      <td>-1.499234</td>\n",
       "      <td>-1.217225</td>\n",
       "      <td>-1.123276</td>\n",
       "      <td>-0.936887</td>\n",
       "      <td>-0.894866</td>\n",
       "      <td>-0.679458</td>\n",
       "      <td>-0.499928</td>\n",
       "      <td>-0.207227</td>\n",
       "      <td>0</td>\n",
       "    </tr>\n",
       "    <tr>\n",
       "      <th>21</th>\n",
       "      <td>-0.772966</td>\n",
       "      <td>-2.529301</td>\n",
       "      <td>-0.519489</td>\n",
       "      <td>-1.918955</td>\n",
       "      <td>-0.261585</td>\n",
       "      <td>-1.335069</td>\n",
       "      <td>-0.139286</td>\n",
       "      <td>-0.707567</td>\n",
       "      <td>15.983317</td>\n",
       "      <td>-1.371189</td>\n",
       "      <td>-1.335171</td>\n",
       "      <td>-1.033760</td>\n",
       "      <td>-1.006373</td>\n",
       "      <td>-0.829050</td>\n",
       "      <td>-0.731507</td>\n",
       "      <td>-0.493947</td>\n",
       "      <td>-0.248378</td>\n",
       "      <td>0</td>\n",
       "    </tr>\n",
       "    <tr>\n",
       "      <th>...</th>\n",
       "      <td>...</td>\n",
       "      <td>...</td>\n",
       "      <td>...</td>\n",
       "      <td>...</td>\n",
       "      <td>...</td>\n",
       "      <td>...</td>\n",
       "      <td>...</td>\n",
       "      <td>...</td>\n",
       "      <td>...</td>\n",
       "      <td>...</td>\n",
       "      <td>...</td>\n",
       "      <td>...</td>\n",
       "      <td>...</td>\n",
       "      <td>...</td>\n",
       "      <td>...</td>\n",
       "      <td>...</td>\n",
       "      <td>...</td>\n",
       "      <td>...</td>\n",
       "    </tr>\n",
       "    <tr>\n",
       "      <th>4365</th>\n",
       "      <td>0.527369</td>\n",
       "      <td>-1.827589</td>\n",
       "      <td>0.520768</td>\n",
       "      <td>-1.791950</td>\n",
       "      <td>0.493271</td>\n",
       "      <td>-1.616687</td>\n",
       "      <td>0.356522</td>\n",
       "      <td>-0.923812</td>\n",
       "      <td>14.318214</td>\n",
       "      <td>1.395422</td>\n",
       "      <td>-1.388995</td>\n",
       "      <td>1.269459</td>\n",
       "      <td>-1.259292</td>\n",
       "      <td>1.137468</td>\n",
       "      <td>-1.124277</td>\n",
       "      <td>0.779420</td>\n",
       "      <td>-0.555476</td>\n",
       "      <td>1</td>\n",
       "    </tr>\n",
       "    <tr>\n",
       "      <th>4369</th>\n",
       "      <td>0.746784</td>\n",
       "      <td>-1.803415</td>\n",
       "      <td>0.717512</td>\n",
       "      <td>-1.630466</td>\n",
       "      <td>0.643735</td>\n",
       "      <td>-1.328209</td>\n",
       "      <td>0.431845</td>\n",
       "      <td>-0.697649</td>\n",
       "      <td>11.955444</td>\n",
       "      <td>1.445434</td>\n",
       "      <td>-0.861886</td>\n",
       "      <td>1.320425</td>\n",
       "      <td>-0.795770</td>\n",
       "      <td>1.182076</td>\n",
       "      <td>-0.687754</td>\n",
       "      <td>0.800401</td>\n",
       "      <td>-0.286901</td>\n",
       "      <td>1</td>\n",
       "    </tr>\n",
       "    <tr>\n",
       "      <th>4373</th>\n",
       "      <td>0.655281</td>\n",
       "      <td>-2.473886</td>\n",
       "      <td>0.604214</td>\n",
       "      <td>-2.163368</td>\n",
       "      <td>0.528162</td>\n",
       "      <td>-1.702950</td>\n",
       "      <td>0.361862</td>\n",
       "      <td>-0.878469</td>\n",
       "      <td>10.119420</td>\n",
       "      <td>1.507972</td>\n",
       "      <td>-1.657310</td>\n",
       "      <td>1.333562</td>\n",
       "      <td>-1.377495</td>\n",
       "      <td>1.156682</td>\n",
       "      <td>-1.122045</td>\n",
       "      <td>0.768028</td>\n",
       "      <td>-0.501968</td>\n",
       "      <td>1</td>\n",
       "    </tr>\n",
       "    <tr>\n",
       "      <th>4377</th>\n",
       "      <td>-0.062741</td>\n",
       "      <td>-1.551747</td>\n",
       "      <td>0.045611</td>\n",
       "      <td>-1.411194</td>\n",
       "      <td>0.127355</td>\n",
       "      <td>-1.191181</td>\n",
       "      <td>0.166852</td>\n",
       "      <td>-0.674771</td>\n",
       "      <td>16.413348</td>\n",
       "      <td>0.999667</td>\n",
       "      <td>-0.749717</td>\n",
       "      <td>0.921627</td>\n",
       "      <td>-0.763741</td>\n",
       "      <td>0.865024</td>\n",
       "      <td>-0.686507</td>\n",
       "      <td>0.651504</td>\n",
       "      <td>-0.368527</td>\n",
       "      <td>1</td>\n",
       "    </tr>\n",
       "    <tr>\n",
       "      <th>4381</th>\n",
       "      <td>0.180689</td>\n",
       "      <td>-1.564075</td>\n",
       "      <td>0.234575</td>\n",
       "      <td>-1.405511</td>\n",
       "      <td>0.262920</td>\n",
       "      <td>-1.184882</td>\n",
       "      <td>0.233117</td>\n",
       "      <td>-0.650946</td>\n",
       "      <td>10.788435</td>\n",
       "      <td>1.183100</td>\n",
       "      <td>-0.692652</td>\n",
       "      <td>1.074610</td>\n",
       "      <td>-0.683981</td>\n",
       "      <td>0.979563</td>\n",
       "      <td>-0.623458</td>\n",
       "      <td>0.692269</td>\n",
       "      <td>-0.317359</td>\n",
       "      <td>1</td>\n",
       "    </tr>\n",
       "  </tbody>\n",
       "</table>\n",
       "<p>1096 rows × 18 columns</p>\n",
       "</div>"
      ],
      "text/plain": [
       "            X1        Y1        X2        Y2        X3        Y3        X4  \\\n",
       "2    -0.462493 -2.031486 -0.125549 -1.528304  0.123850 -1.026633  0.238231   \n",
       "6    -0.970940 -2.595038 -0.683583 -2.042165 -0.376025 -1.472786 -0.190104   \n",
       "10   -0.905729 -3.185208 -0.604510 -2.520129 -0.291183 -1.861470 -0.161199   \n",
       "17   -1.028285 -2.403042 -0.702093 -1.866702 -0.364537 -1.304967 -0.162872   \n",
       "21   -0.772966 -2.529301 -0.519489 -1.918955 -0.261585 -1.335069 -0.139286   \n",
       "...        ...       ...       ...       ...       ...       ...       ...   \n",
       "4365  0.527369 -1.827589  0.520768 -1.791950  0.493271 -1.616687  0.356522   \n",
       "4369  0.746784 -1.803415  0.717512 -1.630466  0.643735 -1.328209  0.431845   \n",
       "4373  0.655281 -2.473886  0.604214 -2.163368  0.528162 -1.702950  0.361862   \n",
       "4377 -0.062741 -1.551747  0.045611 -1.411194  0.127355 -1.191181  0.166852   \n",
       "4381  0.180689 -1.564075  0.234575 -1.405511  0.262920 -1.184882  0.233117   \n",
       "\n",
       "            Y4      Angle        X5        Y5        X6        Y6        X7  \\\n",
       "2    -0.510583  15.635178 -0.915264 -0.867298 -0.556912 -0.619065 -0.347119   \n",
       "6    -0.800848  14.902200 -1.493574 -1.457450 -1.151122 -1.159289 -0.929195   \n",
       "10   -1.063399  14.901276 -1.378063 -2.057012 -1.033132 -1.686316 -0.812804   \n",
       "17   -0.680061  16.155923 -1.499234 -1.217225 -1.123276 -0.936887 -0.894866   \n",
       "21   -0.707567  15.983317 -1.371189 -1.335171 -1.033760 -1.006373 -0.829050   \n",
       "...        ...        ...       ...       ...       ...       ...       ...   \n",
       "4365 -0.923812  14.318214  1.395422 -1.388995  1.269459 -1.259292  1.137468   \n",
       "4369 -0.697649  11.955444  1.445434 -0.861886  1.320425 -0.795770  1.182076   \n",
       "4373 -0.878469  10.119420  1.507972 -1.657310  1.333562 -1.377495  1.156682   \n",
       "4377 -0.674771  16.413348  0.999667 -0.749717  0.921627 -0.763741  0.865024   \n",
       "4381 -0.650946  10.788435  1.183100 -0.692652  1.074610 -0.683981  0.979563   \n",
       "\n",
       "            Y7        X8        Y8  RightorLeft  \n",
       "2    -0.385286 -0.006106 -0.007940            0  \n",
       "6    -0.890322 -0.549895 -0.352399            0  \n",
       "10   -1.350433 -0.489363 -0.655708            0  \n",
       "17   -0.679458 -0.499928 -0.207227            0  \n",
       "21   -0.731507 -0.493947 -0.248378            0  \n",
       "...        ...       ...       ...          ...  \n",
       "4365 -1.124277  0.779420 -0.555476            1  \n",
       "4369 -0.687754  0.800401 -0.286901            1  \n",
       "4373 -1.122045  0.768028 -0.501968            1  \n",
       "4377 -0.686507  0.651504 -0.368527            1  \n",
       "4381 -0.623458  0.692269 -0.317359            1  \n",
       "\n",
       "[1096 rows x 18 columns]"
      ]
     },
     "execution_count": 5,
     "metadata": {},
     "output_type": "execute_result"
    }
   ],
   "source": [
    "DataA4_"
   ]
  },
  {
   "cell_type": "code",
   "execution_count": 6,
   "metadata": {},
   "outputs": [],
   "source": [
    "# import seaborn as sns\n",
    "# sns.pairplot(DataA4_)"
   ]
  },
  {
   "cell_type": "code",
   "execution_count": 7,
   "metadata": {},
   "outputs": [],
   "source": [
    "# split the data \n",
    "from sklearn.model_selection import train_test_split\n",
    "\n",
    "train_set, test_set = train_test_split(DataA4_, test_size=0.2, random_state=42)"
   ]
  },
  {
   "cell_type": "code",
   "execution_count": 8,
   "metadata": {},
   "outputs": [
    {
     "data": {
      "text/html": [
       "<div>\n",
       "<style scoped>\n",
       "    .dataframe tbody tr th:only-of-type {\n",
       "        vertical-align: middle;\n",
       "    }\n",
       "\n",
       "    .dataframe tbody tr th {\n",
       "        vertical-align: top;\n",
       "    }\n",
       "\n",
       "    .dataframe thead th {\n",
       "        text-align: right;\n",
       "    }\n",
       "</style>\n",
       "<table border=\"1\" class=\"dataframe\">\n",
       "  <thead>\n",
       "    <tr style=\"text-align: right;\">\n",
       "      <th></th>\n",
       "      <th>X1</th>\n",
       "      <th>Y1</th>\n",
       "      <th>X2</th>\n",
       "      <th>Y2</th>\n",
       "      <th>X3</th>\n",
       "      <th>Y3</th>\n",
       "      <th>X4</th>\n",
       "      <th>Y4</th>\n",
       "      <th>Angle</th>\n",
       "      <th>X5</th>\n",
       "      <th>Y5</th>\n",
       "      <th>X6</th>\n",
       "      <th>Y6</th>\n",
       "      <th>X7</th>\n",
       "      <th>Y7</th>\n",
       "      <th>X8</th>\n",
       "      <th>Y8</th>\n",
       "      <th>RightorLeft</th>\n",
       "    </tr>\n",
       "  </thead>\n",
       "  <tbody>\n",
       "    <tr>\n",
       "      <th>181</th>\n",
       "      <td>-1.142249</td>\n",
       "      <td>-2.670894</td>\n",
       "      <td>-0.789979</td>\n",
       "      <td>-2.318945</td>\n",
       "      <td>-0.430482</td>\n",
       "      <td>-1.924685</td>\n",
       "      <td>-0.101181</td>\n",
       "      <td>-1.196840</td>\n",
       "      <td>8.805324</td>\n",
       "      <td>-0.501235</td>\n",
       "      <td>-2.003219</td>\n",
       "      <td>-0.238910</td>\n",
       "      <td>-1.838017</td>\n",
       "      <td>-0.032944</td>\n",
       "      <td>-1.646231</td>\n",
       "      <td>0.303839</td>\n",
       "      <td>-0.989979</td>\n",
       "      <td>0</td>\n",
       "    </tr>\n",
       "    <tr>\n",
       "      <th>2294</th>\n",
       "      <td>-0.471932</td>\n",
       "      <td>-2.714833</td>\n",
       "      <td>-0.228409</td>\n",
       "      <td>-2.106060</td>\n",
       "      <td>-0.003884</td>\n",
       "      <td>-1.502040</td>\n",
       "      <td>0.051263</td>\n",
       "      <td>-0.823723</td>\n",
       "      <td>17.733927</td>\n",
       "      <td>-1.034610</td>\n",
       "      <td>-1.645755</td>\n",
       "      <td>-0.732497</td>\n",
       "      <td>-1.277914</td>\n",
       "      <td>-0.544344</td>\n",
       "      <td>-0.964877</td>\n",
       "      <td>-0.288928</td>\n",
       "      <td>-0.393160</td>\n",
       "      <td>0</td>\n",
       "    </tr>\n",
       "    <tr>\n",
       "      <th>239</th>\n",
       "      <td>1.088840</td>\n",
       "      <td>-2.270624</td>\n",
       "      <td>0.979289</td>\n",
       "      <td>-1.900214</td>\n",
       "      <td>0.833697</td>\n",
       "      <td>-1.495874</td>\n",
       "      <td>0.548765</td>\n",
       "      <td>-0.803792</td>\n",
       "      <td>13.478316</td>\n",
       "      <td>1.686301</td>\n",
       "      <td>-1.020290</td>\n",
       "      <td>1.519220</td>\n",
       "      <td>-0.909335</td>\n",
       "      <td>1.380587</td>\n",
       "      <td>-0.797016</td>\n",
       "      <td>0.948347</td>\n",
       "      <td>-0.356240</td>\n",
       "      <td>1</td>\n",
       "    </tr>\n",
       "    <tr>\n",
       "      <th>2550</th>\n",
       "      <td>-1.334722</td>\n",
       "      <td>-2.865666</td>\n",
       "      <td>-0.958179</td>\n",
       "      <td>-2.263593</td>\n",
       "      <td>-0.578815</td>\n",
       "      <td>-1.671109</td>\n",
       "      <td>-0.332280</td>\n",
       "      <td>-0.951607</td>\n",
       "      <td>9.379009</td>\n",
       "      <td>-1.737132</td>\n",
       "      <td>-1.707948</td>\n",
       "      <td>-1.355923</td>\n",
       "      <td>-1.408285</td>\n",
       "      <td>-1.085576</td>\n",
       "      <td>-1.115569</td>\n",
       "      <td>-0.665221</td>\n",
       "      <td>-0.486133</td>\n",
       "      <td>0</td>\n",
       "    </tr>\n",
       "    <tr>\n",
       "      <th>1981</th>\n",
       "      <td>0.860554</td>\n",
       "      <td>-2.781453</td>\n",
       "      <td>0.752839</td>\n",
       "      <td>-2.328181</td>\n",
       "      <td>0.630970</td>\n",
       "      <td>-1.790504</td>\n",
       "      <td>0.428395</td>\n",
       "      <td>-0.945006</td>\n",
       "      <td>8.996343</td>\n",
       "      <td>1.556336</td>\n",
       "      <td>-1.859420</td>\n",
       "      <td>1.376225</td>\n",
       "      <td>-1.540355</td>\n",
       "      <td>1.219116</td>\n",
       "      <td>-1.259863</td>\n",
       "      <td>0.868852</td>\n",
       "      <td>-0.577757</td>\n",
       "      <td>1</td>\n",
       "    </tr>\n",
       "  </tbody>\n",
       "</table>\n",
       "</div>"
      ],
      "text/plain": [
       "            X1        Y1        X2        Y2        X3        Y3        X4  \\\n",
       "181  -1.142249 -2.670894 -0.789979 -2.318945 -0.430482 -1.924685 -0.101181   \n",
       "2294 -0.471932 -2.714833 -0.228409 -2.106060 -0.003884 -1.502040  0.051263   \n",
       "239   1.088840 -2.270624  0.979289 -1.900214  0.833697 -1.495874  0.548765   \n",
       "2550 -1.334722 -2.865666 -0.958179 -2.263593 -0.578815 -1.671109 -0.332280   \n",
       "1981  0.860554 -2.781453  0.752839 -2.328181  0.630970 -1.790504  0.428395   \n",
       "\n",
       "            Y4      Angle        X5        Y5        X6        Y6        X7  \\\n",
       "181  -1.196840   8.805324 -0.501235 -2.003219 -0.238910 -1.838017 -0.032944   \n",
       "2294 -0.823723  17.733927 -1.034610 -1.645755 -0.732497 -1.277914 -0.544344   \n",
       "239  -0.803792  13.478316  1.686301 -1.020290  1.519220 -0.909335  1.380587   \n",
       "2550 -0.951607   9.379009 -1.737132 -1.707948 -1.355923 -1.408285 -1.085576   \n",
       "1981 -0.945006   8.996343  1.556336 -1.859420  1.376225 -1.540355  1.219116   \n",
       "\n",
       "            Y7        X8        Y8  RightorLeft  \n",
       "181  -1.646231  0.303839 -0.989979            0  \n",
       "2294 -0.964877 -0.288928 -0.393160            0  \n",
       "239  -0.797016  0.948347 -0.356240            1  \n",
       "2550 -1.115569 -0.665221 -0.486133            0  \n",
       "1981 -1.259863  0.868852 -0.577757            1  "
      ]
     },
     "execution_count": 8,
     "metadata": {},
     "output_type": "execute_result"
    }
   ],
   "source": [
    "test_set.head()"
   ]
  },
  {
   "cell_type": "code",
   "execution_count": 9,
   "metadata": {},
   "outputs": [],
   "source": [
    "DataA4_ = train_set.copy()"
   ]
  },
  {
   "cell_type": "code",
   "execution_count": 10,
   "metadata": {},
   "outputs": [
    {
     "data": {
      "text/plain": [
       "Angle          1.000000\n",
       "Y8             0.251290\n",
       "Y4             0.246159\n",
       "Y7             0.243148\n",
       "Y6             0.202957\n",
       "Y3             0.195703\n",
       "X1             0.189488\n",
       "X2             0.176934\n",
       "X3             0.168172\n",
       "Y5             0.143680\n",
       "X4             0.117406\n",
       "Y2             0.115018\n",
       "X5             0.074049\n",
       "X6             0.069554\n",
       "X7             0.057293\n",
       "X8             0.022840\n",
       "Y1             0.020354\n",
       "RightorLeft   -0.051988\n",
       "Name: Angle, dtype: float64"
      ]
     },
     "execution_count": 10,
     "metadata": {},
     "output_type": "execute_result"
    }
   ],
   "source": [
    "corr_matrix = DataA4_.corr()\n",
    "corr_matrix[\"Angle\"].sort_values(ascending=False)"
   ]
  },
  {
   "cell_type": "code",
   "execution_count": 11,
   "metadata": {},
   "outputs": [],
   "source": [
    "# Prepare the data for Machine Learning algorithms\n",
    "\n",
    "DataA4_ = train_set.drop(\"Angle\", axis=1) # drop labels for training set\n",
    "DataA4__label = train_set[\"Angle\"].copy()"
   ]
  },
  {
   "cell_type": "code",
   "execution_count": 12,
   "metadata": {},
   "outputs": [
    {
     "data": {
      "text/plain": [
       "RandomForestRegressor(random_state=42)"
      ]
     },
     "execution_count": 12,
     "metadata": {},
     "output_type": "execute_result"
    }
   ],
   "source": [
    "# Select and train a model \n",
    "\n",
    "from sklearn.ensemble import RandomForestRegressor\n",
    "svr_reg=RandomForestRegressor(n_estimators=100,random_state=42)\n",
    "svr_reg.fit(DataA4_, DataA4__label)"
   ]
  },
  {
   "cell_type": "code",
   "execution_count": 13,
   "metadata": {},
   "outputs": [
    {
     "name": "stdout",
     "output_type": "stream",
     "text": [
      "Predictions: [14.32578742 13.8226709  12.05877465 12.67532931 22.01372191]\n"
     ]
    }
   ],
   "source": [
    "some_data = DataA4_.iloc[:5]\n",
    "some_labels = DataA4__label.iloc[:5]\n",
    "print(\"Predictions:\", svr_reg.predict(some_data))"
   ]
  },
  {
   "cell_type": "code",
   "execution_count": 14,
   "metadata": {},
   "outputs": [
    {
     "name": "stdout",
     "output_type": "stream",
     "text": [
      "Labels: [14.90127629, 12.74758819, 12.111352, 9.600146252, 22.59441115]\n"
     ]
    }
   ],
   "source": [
    "# Compare against the actual values:\n",
    "\n",
    "print(\"Labels:\", list(some_labels))"
   ]
  },
  {
   "cell_type": "code",
   "execution_count": 15,
   "metadata": {},
   "outputs": [
    {
     "data": {
      "text/plain": [
       "1.5830086463063724"
      ]
     },
     "execution_count": 15,
     "metadata": {},
     "output_type": "execute_result"
    }
   ],
   "source": [
    "from sklearn.metrics import mean_squared_error\n",
    "\n",
    "Data_predictions = svr_reg.predict(DataA4_)\n",
    "lin_mse = mean_squared_error(DataA4__label, Data_predictions)\n",
    "lin_rmse = np.sqrt(lin_mse)\n",
    "lin_rmse"
   ]
  },
  {
   "cell_type": "code",
   "execution_count": 16,
   "metadata": {},
   "outputs": [],
   "source": [
    "# Cross Validation\n",
    "\n",
    "from sklearn.model_selection import cross_val_score\n",
    "\n",
    "lin_scores = cross_val_score(svr_reg, DataA4_, DataA4__label,\n",
    "                         scoring=\"neg_mean_squared_error\", cv=10)\n",
    "lin_rmse_scores = np.sqrt(-lin_scores)"
   ]
  },
  {
   "cell_type": "code",
   "execution_count": 17,
   "metadata": {},
   "outputs": [
    {
     "name": "stdout",
     "output_type": "stream",
     "text": [
      "Scores: [4.31572042 4.28001765 4.39449755 4.67522874 3.99173014 5.00211805\n",
      " 3.78716095 4.35589758 3.99072598 3.80760409]\n",
      "Mean: 4.260070114235846\n",
      "Standard deviation: 0.3642336485327449\n"
     ]
    }
   ],
   "source": [
    "def display_scores(scores):\n",
    "    print(\"Scores:\", scores)\n",
    "    print(\"Mean:\", scores.mean())\n",
    "    print(\"Standard deviation:\", scores.std())\n",
    "\n",
    "display_scores(lin_rmse_scores)"
   ]
  },
  {
   "cell_type": "code",
   "execution_count": 18,
   "metadata": {},
   "outputs": [],
   "source": [
    "X_test = test_set.drop(\"Angle\", axis=1)\n",
    "y_test = test_set[\"Angle\"].copy()\n",
    "\n",
    "final_predictions = svr_reg.predict(X_test)\n",
    "\n",
    "final_mse = mean_squared_error(y_test, final_predictions)\n",
    "final_rmse = np.sqrt(final_mse)"
   ]
  },
  {
   "cell_type": "code",
   "execution_count": 19,
   "metadata": {},
   "outputs": [
    {
     "data": {
      "text/plain": [
       "<matplotlib.collections.PathCollection at 0x234096f6310>"
      ]
     },
     "execution_count": 19,
     "metadata": {},
     "output_type": "execute_result"
    },
    {
     "data": {
      "image/png": "[encoded data removed]",
      "text/plain": [
       "<Figure size 432x288 with 1 Axes>"
      ]
     },
     "metadata": {
      "needs_background": "light"
     },
     "output_type": "display_data"
    }
   ],
   "source": [
    "plt.scatter(y_test, final_predictions)"
   ]
  },
  {
   "cell_type": "code",
   "execution_count": 20,
   "metadata": {},
   "outputs": [
    {
     "data": {
      "text/plain": [
       "(array([ 2.,  7., 16., 39., 51., 47., 26., 14., 10.,  8.]),\n",
       " array([-12.73836601, -10.24298689,  -7.74760778,  -5.25222866,\n",
       "         -2.75684955,  -0.26147043,   2.23390868,   4.7292878 ,\n",
       "          7.22466691,   9.72004603,  12.21542514]),\n",
       " <BarContainer object of 10 artists>)"
      ]
     },
     "execution_count": 20,
     "metadata": {},
     "output_type": "execute_result"
    },
    {
     "data": {
      "image/png": "[encoded data removed]",
      "text/plain": [
       "<Figure size 432x288 with 1 Axes>"
      ]
     },
     "metadata": {
      "needs_background": "light"
     },
     "output_type": "display_data"
    }
   ],
   "source": [
    "plt.hist(y_test - final_predictions)"
   ]
  },
  {
   "cell_type": "code",
   "execution_count": 21,
   "metadata": {},
   "outputs": [
    {
     "data": {
      "text/plain": [
       "4.616377838781676"
      ]
     },
     "execution_count": 21,
     "metadata": {},
     "output_type": "execute_result"
    }
   ],
   "source": [
    "final_rmse"
   ]
  },
  {
   "cell_type": "code",
   "execution_count": 22,
   "metadata": {},
   "outputs": [
    {
     "data": {
      "text/plain": [
       "array([4.1333175 , 5.05347159])"
      ]
     },
     "execution_count": 22,
     "metadata": {},
     "output_type": "execute_result"
    }
   ],
   "source": [
    "from scipy import stats\n",
    "\n",
    "confidence = 0.95\n",
    "squared_errors = (final_predictions - y_test) ** 2\n",
    "np.sqrt(stats.t.interval(confidence, len(squared_errors) - 1,\n",
    "                         loc=squared_errors.mean(),\n",
    "                         scale=stats.sem(squared_errors)))"
   ]
  },
  {
   "cell_type": "code",
   "execution_count": 23,
   "metadata": {},
   "outputs": [
    {
     "name": "stdout",
     "output_type": "stream",
     "text": [
      "Regressor model performance:\n",
      "Mean absolute error(MAE) = 3.58\n",
      "Mean squared error(MSE) = 21.31\n",
      "Median absolute error = 2.84\n",
      "Explain variance score = 0.24\n",
      "R2 score = 0.24\n"
     ]
    }
   ],
   "source": [
    "import sklearn.metrics as sm\n",
    "\n",
    "print(\"Regressor model performance:\")\n",
    "print(\"Mean absolute error(MAE) =\", round(sm.mean_absolute_error(y_test, final_predictions), 2))\n",
    "print(\"Mean squared error(MSE) =\", round(sm.mean_squared_error(y_test, final_predictions), 2))\n",
    "print(\"Median absolute error =\", round(sm.median_absolute_error(y_test, final_predictions), 2))\n",
    "print(\"Explain variance score =\", round(sm.explained_variance_score(y_test, final_predictions), 2))\n",
    "print(\"R2 score =\", round(sm.r2_score(y_test, final_predictions), 2))"
   ]
  },
  {
   "cell_type": "code",
   "execution_count": 24,
   "metadata": {},
   "outputs": [],
   "source": [
    "def mean_absolute_percentage_error(y_test, final_predictions): \n",
    "    y_test, final_predictions = np.array(y_test), np.array(final_predictions)\n",
    "    return np.mean(np.abs((y_test - final_predictions) / final_predictions)) * 100"
   ]
  },
  {
   "cell_type": "code",
   "execution_count": 25,
   "metadata": {},
   "outputs": [
    {
     "name": "stdout",
     "output_type": "stream",
     "text": [
      "24.775153627193934\n"
     ]
    }
   ],
   "source": [
    "print(mean_absolute_percentage_error(y_test, final_predictions))"
   ]
  },
  {
   "cell_type": "code",
   "execution_count": null,
   "metadata": {},
   "outputs": [],
   "source": []
  }
 ],
 "metadata": {
  "kernelspec": {
   "display_name": "Python 3",
   "language": "python",
   "name": "python3"
  },
  "language_info": {
   "codemirror_mode": {
    "name": "ipython",
    "version": 3
   },
   "file_extension": ".py",
   "mimetype": "text/x-python",
   "name": "python",
   "nbconvert_exporter": "python",
   "pygments_lexer": "ipython3",
   "version": "3.9.0"
  }
 },
 "nbformat": 4,
 "nbformat_minor": 4
}
