{
 "cells": [
  {
   "cell_type": "code",
   "execution_count": 1,
   "metadata": {},
   "outputs": [],
   "source": [
    "#import libraries\n",
    "import numpy as np\n",
    "import pandas as pd\n",
    "import matplotlib.pyplot as plt"
   ]
  },
  {
   "cell_type": "code",
   "execution_count": 2,
   "metadata": {},
   "outputs": [
    {
     "name": "stdout",
     "output_type": "stream",
     "text": [
      "Data = \n",
      "          X1        Y1        X2        Y2        X3        Y3        X4  \\\n",
      "0  0.860019 -3.096488  0.753413 -2.530522  0.629331 -1.962419  0.361692   \n",
      "1  0.456454 -2.852605  0.565661 -2.188466  0.568863 -1.593943  0.363601   \n",
      "2 -0.462493 -2.031486 -0.125549 -1.528304  0.123850 -1.026633  0.238231   \n",
      "3  0.106369 -2.186939  0.116188 -1.520864  0.142727 -0.703652  0.068778   \n",
      "4  0.381094 -3.316631  0.390072 -2.754067  0.427469 -2.131407  0.336888   \n",
      "5 -0.262968 -3.256483 -0.094474 -2.594541  0.073604 -1.954448  0.088474   \n",
      "6 -0.970940 -2.595038 -0.683583 -2.042165 -0.376025 -1.472786 -0.190104   \n",
      "7 -0.304093 -1.997585 -0.215963 -1.307632 -0.116897 -0.454085 -0.069022   \n",
      "8  0.055419 -3.592592  0.131205 -2.973669  0.252867 -2.286043  0.242098   \n",
      "9 -0.344932 -3.766955 -0.137432 -2.997226  0.053303 -2.269871  0.066792   \n",
      "\n",
      "         Y4      Angle        X5        Y5        X6        Y6        X7  \\\n",
      "0 -1.227911  15.958005  0.456454 -2.852605  0.565661 -2.188466  0.568863   \n",
      "1 -0.907820  16.424084 -0.462493 -2.031486 -0.125549 -1.528304  0.123850   \n",
      "2 -0.510583  15.635178 -0.915264 -0.867298 -0.556912 -0.619065 -0.347119   \n",
      "3  0.170585  26.299685  0.381094 -3.316631  0.390072 -2.754067  0.427469   \n",
      "4 -1.266161  15.050765 -0.262968 -3.256483 -0.094474 -2.594541  0.073604   \n",
      "5 -1.111491  13.807231 -0.970940 -2.595038 -0.683583 -2.042165 -0.376025   \n",
      "6 -0.800848  14.902200 -1.493574 -1.457450 -1.151122 -1.159289 -0.929195   \n",
      "7  0.416620  15.051214  0.055419 -3.592592  0.131205 -2.973669  0.252867   \n",
      "8 -1.329521  12.915006 -0.344932 -3.766955 -0.137432 -2.997226  0.053303   \n",
      "9 -1.308215   7.824200 -0.905729 -3.185208 -0.604510 -2.520129 -0.291183   \n",
      "\n",
      "         Y7        X8        Y8  Angle number  RightorLeft  \n",
      "0 -1.593943  0.363601 -0.907820             2            0  \n",
      "1 -1.026633  0.238231 -0.510583             3            0  \n",
      "2 -0.385286 -0.006106 -0.007940             4            0  \n",
      "3 -2.131407  0.336888 -1.266161             1            0  \n",
      "4 -1.954448  0.088474 -1.111491             2            0  \n",
      "5 -1.472786 -0.190104 -0.800848             3            0  \n",
      "6 -0.890322 -0.549895 -0.352399             4            0  \n",
      "7 -2.286043  0.242098 -1.329521             1            0  \n",
      "8 -2.269871  0.066792 -1.308215             2            0  \n",
      "9 -1.861470 -0.161199 -1.063399             3            0  \n"
     ]
    }
   ],
   "source": [
    "#read data\n",
    "Data = pd.read_csv(r'C:\\Users\\User\\Desktop\\decision_tree_models\\data.csv')\n",
    "print('Data = \\n',Data.head(10))"
   ]
  },
  {
   "cell_type": "code",
   "execution_count": 3,
   "metadata": {},
   "outputs": [
    {
     "name": "stdout",
     "output_type": "stream",
     "text": [
      "Data = \n",
      "           X1        Y1        X2        Y2        X3        Y3        X4  \\\n",
      "2  -0.462493 -2.031486 -0.125549 -1.528304  0.123850 -1.026633  0.238231   \n",
      "6  -0.970940 -2.595038 -0.683583 -2.042165 -0.376025 -1.472786 -0.190104   \n",
      "10 -0.905729 -3.185208 -0.604510 -2.520129 -0.291183 -1.861470 -0.161199   \n",
      "17 -1.028285 -2.403042 -0.702093 -1.866702 -0.364537 -1.304967 -0.162872   \n",
      "21 -0.772966 -2.529301 -0.519489 -1.918955 -0.261585 -1.335069 -0.139286   \n",
      "25 -0.950071 -3.015571 -0.629420 -2.348733 -0.316467 -1.700216 -0.178130   \n",
      "29 -0.938919 -2.950183 -0.652882 -2.274927 -0.363043 -1.625471 -0.223529   \n",
      "33 -0.720192 -2.764966 -0.487893 -2.103504 -0.249392 -1.470145 -0.159422   \n",
      "37 -0.265576 -2.449618 -0.112006 -1.829522  0.056950 -1.260605  0.035554   \n",
      "41 -0.417400 -2.488517 -0.228773 -1.860443 -0.032114 -1.287006 -0.017579   \n",
      "\n",
      "          Y4      Angle        X5        Y5        X6        Y6        X7  \\\n",
      "2  -0.510583  15.635178 -0.915264 -0.867298 -0.556912 -0.619065 -0.347119   \n",
      "6  -0.800848  14.902200 -1.493574 -1.457450 -1.151122 -1.159289 -0.929195   \n",
      "10 -1.063399  14.901276 -1.378063 -2.057012 -1.033132 -1.686316 -0.812804   \n",
      "17 -0.680061  16.155923 -1.499234 -1.217225 -1.123276 -0.936887 -0.894866   \n",
      "21 -0.707567  15.983317 -1.371189 -1.335171 -1.033760 -1.006373 -0.829050   \n",
      "25 -0.959214  17.776968 -1.471219 -1.850174 -1.117614 -1.487609 -0.886537   \n",
      "29 -0.912360  12.747588 -1.528819 -1.814464 -1.185071 -1.432289 -0.958329   \n",
      "33 -0.807329  12.177388 -1.394815 -1.640112 -1.074754 -1.265271 -0.873785   \n",
      "37 -0.662957  25.497078 -0.936723 -1.229247 -0.657741 -0.906993 -0.505330   \n",
      "41 -0.679631  25.021366 -1.059391 -1.267283 -0.760392 -0.941830 -0.592455   \n",
      "\n",
      "          Y7        X8        Y8  Angle number  RightorLeft  \n",
      "2  -0.385286 -0.006106 -0.007940             4            0  \n",
      "6  -0.890322 -0.549895 -0.352399             4            0  \n",
      "10 -1.350433 -0.489363 -0.655708             4            0  \n",
      "17 -0.679458 -0.499928 -0.207227             4            0  \n",
      "21 -0.731507 -0.493947 -0.248378             4            0  \n",
      "25 -1.162730 -0.549019 -0.513929             4            0  \n",
      "29 -1.107068 -0.623624 -0.464713             4            0  \n",
      "33 -0.953365 -0.571215 -0.374262             4            0  \n",
      "37 -0.634674 -0.300101 -0.174961             4            0  \n",
      "41 -0.666315 -0.357799 -0.192241             4            0  \n"
     ]
    }
   ],
   "source": [
    "DataA8= Data.loc[(Data['Angle number'] ==4) & (Data['RightorLeft'] ==0)]\n",
    "print('Data = \\n',DataA8.head(10))"
   ]
  },
  {
   "cell_type": "code",
   "execution_count": 4,
   "metadata": {},
   "outputs": [],
   "source": [
    "DataA8_ = DataA8.drop(\"Angle number\", axis=1)\n",
    "DataA8_prepared = DataA8_.drop(\"RightorLeft\", axis=1)"
   ]
  },
  {
   "cell_type": "code",
   "execution_count": 5,
   "metadata": {},
   "outputs": [
    {
     "data": {
      "text/html": [
       "<div>\n",
       "<style scoped>\n",
       "    .dataframe tbody tr th:only-of-type {\n",
       "        vertical-align: middle;\n",
       "    }\n",
       "\n",
       "    .dataframe tbody tr th {\n",
       "        vertical-align: top;\n",
       "    }\n",
       "\n",
       "    .dataframe thead th {\n",
       "        text-align: right;\n",
       "    }\n",
       "</style>\n",
       "<table border=\"1\" class=\"dataframe\">\n",
       "  <thead>\n",
       "    <tr style=\"text-align: right;\">\n",
       "      <th></th>\n",
       "      <th>X1</th>\n",
       "      <th>Y1</th>\n",
       "      <th>X2</th>\n",
       "      <th>Y2</th>\n",
       "      <th>X3</th>\n",
       "      <th>Y3</th>\n",
       "      <th>X4</th>\n",
       "      <th>Y4</th>\n",
       "      <th>Angle</th>\n",
       "      <th>X5</th>\n",
       "      <th>Y5</th>\n",
       "      <th>X6</th>\n",
       "      <th>Y6</th>\n",
       "      <th>X7</th>\n",
       "      <th>Y7</th>\n",
       "      <th>X8</th>\n",
       "      <th>Y8</th>\n",
       "    </tr>\n",
       "  </thead>\n",
       "  <tbody>\n",
       "    <tr>\n",
       "      <th>2</th>\n",
       "      <td>-0.462493</td>\n",
       "      <td>-2.031486</td>\n",
       "      <td>-0.125549</td>\n",
       "      <td>-1.528304</td>\n",
       "      <td>0.123850</td>\n",
       "      <td>-1.026633</td>\n",
       "      <td>0.238231</td>\n",
       "      <td>-0.510583</td>\n",
       "      <td>15.635178</td>\n",
       "      <td>-0.915264</td>\n",
       "      <td>-0.867298</td>\n",
       "      <td>-0.556912</td>\n",
       "      <td>-0.619065</td>\n",
       "      <td>-0.347119</td>\n",
       "      <td>-0.385286</td>\n",
       "      <td>-0.006106</td>\n",
       "      <td>-0.007940</td>\n",
       "    </tr>\n",
       "    <tr>\n",
       "      <th>6</th>\n",
       "      <td>-0.970940</td>\n",
       "      <td>-2.595038</td>\n",
       "      <td>-0.683583</td>\n",
       "      <td>-2.042165</td>\n",
       "      <td>-0.376025</td>\n",
       "      <td>-1.472786</td>\n",
       "      <td>-0.190104</td>\n",
       "      <td>-0.800848</td>\n",
       "      <td>14.902200</td>\n",
       "      <td>-1.493574</td>\n",
       "      <td>-1.457450</td>\n",
       "      <td>-1.151122</td>\n",
       "      <td>-1.159289</td>\n",
       "      <td>-0.929195</td>\n",
       "      <td>-0.890322</td>\n",
       "      <td>-0.549895</td>\n",
       "      <td>-0.352399</td>\n",
       "    </tr>\n",
       "    <tr>\n",
       "      <th>10</th>\n",
       "      <td>-0.905729</td>\n",
       "      <td>-3.185208</td>\n",
       "      <td>-0.604510</td>\n",
       "      <td>-2.520129</td>\n",
       "      <td>-0.291183</td>\n",
       "      <td>-1.861470</td>\n",
       "      <td>-0.161199</td>\n",
       "      <td>-1.063399</td>\n",
       "      <td>14.901276</td>\n",
       "      <td>-1.378063</td>\n",
       "      <td>-2.057012</td>\n",
       "      <td>-1.033132</td>\n",
       "      <td>-1.686316</td>\n",
       "      <td>-0.812804</td>\n",
       "      <td>-1.350433</td>\n",
       "      <td>-0.489363</td>\n",
       "      <td>-0.655708</td>\n",
       "    </tr>\n",
       "    <tr>\n",
       "      <th>17</th>\n",
       "      <td>-1.028285</td>\n",
       "      <td>-2.403042</td>\n",
       "      <td>-0.702093</td>\n",
       "      <td>-1.866702</td>\n",
       "      <td>-0.364537</td>\n",
       "      <td>-1.304967</td>\n",
       "      <td>-0.162872</td>\n",
       "      <td>-0.680061</td>\n",
       "      <td>16.155923</td>\n",
       "      <td>-1.499234</td>\n",
       "      <td>-1.217225</td>\n",
       "      <td>-1.123276</td>\n",
       "      <td>-0.936887</td>\n",
       "      <td>-0.894866</td>\n",
       "      <td>-0.679458</td>\n",
       "      <td>-0.499928</td>\n",
       "      <td>-0.207227</td>\n",
       "    </tr>\n",
       "    <tr>\n",
       "      <th>21</th>\n",
       "      <td>-0.772966</td>\n",
       "      <td>-2.529301</td>\n",
       "      <td>-0.519489</td>\n",
       "      <td>-1.918955</td>\n",
       "      <td>-0.261585</td>\n",
       "      <td>-1.335069</td>\n",
       "      <td>-0.139286</td>\n",
       "      <td>-0.707567</td>\n",
       "      <td>15.983317</td>\n",
       "      <td>-1.371189</td>\n",
       "      <td>-1.335171</td>\n",
       "      <td>-1.033760</td>\n",
       "      <td>-1.006373</td>\n",
       "      <td>-0.829050</td>\n",
       "      <td>-0.731507</td>\n",
       "      <td>-0.493947</td>\n",
       "      <td>-0.248378</td>\n",
       "    </tr>\n",
       "    <tr>\n",
       "      <th>...</th>\n",
       "      <td>...</td>\n",
       "      <td>...</td>\n",
       "      <td>...</td>\n",
       "      <td>...</td>\n",
       "      <td>...</td>\n",
       "      <td>...</td>\n",
       "      <td>...</td>\n",
       "      <td>...</td>\n",
       "      <td>...</td>\n",
       "      <td>...</td>\n",
       "      <td>...</td>\n",
       "      <td>...</td>\n",
       "      <td>...</td>\n",
       "      <td>...</td>\n",
       "      <td>...</td>\n",
       "      <td>...</td>\n",
       "      <td>...</td>\n",
       "    </tr>\n",
       "    <tr>\n",
       "      <th>4297</th>\n",
       "      <td>-0.743305</td>\n",
       "      <td>-2.685703</td>\n",
       "      <td>-0.486570</td>\n",
       "      <td>-2.022475</td>\n",
       "      <td>-0.239651</td>\n",
       "      <td>-1.408437</td>\n",
       "      <td>-0.140173</td>\n",
       "      <td>-0.771934</td>\n",
       "      <td>17.651536</td>\n",
       "      <td>-1.328001</td>\n",
       "      <td>-1.453375</td>\n",
       "      <td>-0.992668</td>\n",
       "      <td>-1.114325</td>\n",
       "      <td>-0.802139</td>\n",
       "      <td>-0.823614</td>\n",
       "      <td>-0.488821</td>\n",
       "      <td>-0.299848</td>\n",
       "    </tr>\n",
       "    <tr>\n",
       "      <th>4301</th>\n",
       "      <td>-0.592752</td>\n",
       "      <td>-2.425868</td>\n",
       "      <td>-0.374493</td>\n",
       "      <td>-1.870975</td>\n",
       "      <td>-0.139620</td>\n",
       "      <td>-1.314384</td>\n",
       "      <td>-0.052026</td>\n",
       "      <td>-0.693141</td>\n",
       "      <td>17.493241</td>\n",
       "      <td>-1.199660</td>\n",
       "      <td>-1.299342</td>\n",
       "      <td>-0.890855</td>\n",
       "      <td>-0.999903</td>\n",
       "      <td>-0.705837</td>\n",
       "      <td>-0.735752</td>\n",
       "      <td>-0.413675</td>\n",
       "      <td>-0.236217</td>\n",
       "    </tr>\n",
       "    <tr>\n",
       "      <th>4305</th>\n",
       "      <td>-0.985500</td>\n",
       "      <td>-2.957197</td>\n",
       "      <td>-0.683504</td>\n",
       "      <td>-2.450227</td>\n",
       "      <td>-0.347383</td>\n",
       "      <td>-1.889767</td>\n",
       "      <td>-0.146442</td>\n",
       "      <td>-1.103831</td>\n",
       "      <td>11.689934</td>\n",
       "      <td>-1.370747</td>\n",
       "      <td>-2.014043</td>\n",
       "      <td>-1.039085</td>\n",
       "      <td>-1.716487</td>\n",
       "      <td>-0.806827</td>\n",
       "      <td>-1.433603</td>\n",
       "      <td>-0.451581</td>\n",
       "      <td>-0.722344</td>\n",
       "    </tr>\n",
       "    <tr>\n",
       "      <th>4309</th>\n",
       "      <td>-0.190955</td>\n",
       "      <td>-2.424954</td>\n",
       "      <td>-0.080338</td>\n",
       "      <td>-1.829171</td>\n",
       "      <td>0.054836</td>\n",
       "      <td>-1.258905</td>\n",
       "      <td>0.023087</td>\n",
       "      <td>-0.660514</td>\n",
       "      <td>18.763648</td>\n",
       "      <td>-0.930549</td>\n",
       "      <td>-1.242711</td>\n",
       "      <td>-0.672814</td>\n",
       "      <td>-0.926325</td>\n",
       "      <td>-0.529632</td>\n",
       "      <td>-0.661913</td>\n",
       "      <td>-0.328529</td>\n",
       "      <td>-0.198796</td>\n",
       "    </tr>\n",
       "    <tr>\n",
       "      <th>4313</th>\n",
       "      <td>-0.345826</td>\n",
       "      <td>-2.858784</td>\n",
       "      <td>-0.209329</td>\n",
       "      <td>-2.181262</td>\n",
       "      <td>-0.027820</td>\n",
       "      <td>-1.539809</td>\n",
       "      <td>-0.028716</td>\n",
       "      <td>-0.845491</td>\n",
       "      <td>18.752246</td>\n",
       "      <td>-1.024862</td>\n",
       "      <td>-1.657171</td>\n",
       "      <td>-0.752002</td>\n",
       "      <td>-1.296767</td>\n",
       "      <td>-0.595132</td>\n",
       "      <td>-0.971384</td>\n",
       "      <td>-0.373857</td>\n",
       "      <td>-0.394224</td>\n",
       "    </tr>\n",
       "  </tbody>\n",
       "</table>\n",
       "<p>566 rows × 17 columns</p>\n",
       "</div>"
      ],
      "text/plain": [
       "            X1        Y1        X2        Y2        X3        Y3        X4  \\\n",
       "2    -0.462493 -2.031486 -0.125549 -1.528304  0.123850 -1.026633  0.238231   \n",
       "6    -0.970940 -2.595038 -0.683583 -2.042165 -0.376025 -1.472786 -0.190104   \n",
       "10   -0.905729 -3.185208 -0.604510 -2.520129 -0.291183 -1.861470 -0.161199   \n",
       "17   -1.028285 -2.403042 -0.702093 -1.866702 -0.364537 -1.304967 -0.162872   \n",
       "21   -0.772966 -2.529301 -0.519489 -1.918955 -0.261585 -1.335069 -0.139286   \n",
       "...        ...       ...       ...       ...       ...       ...       ...   \n",
       "4297 -0.743305 -2.685703 -0.486570 -2.022475 -0.239651 -1.408437 -0.140173   \n",
       "4301 -0.592752 -2.425868 -0.374493 -1.870975 -0.139620 -1.314384 -0.052026   \n",
       "4305 -0.985500 -2.957197 -0.683504 -2.450227 -0.347383 -1.889767 -0.146442   \n",
       "4309 -0.190955 -2.424954 -0.080338 -1.829171  0.054836 -1.258905  0.023087   \n",
       "4313 -0.345826 -2.858784 -0.209329 -2.181262 -0.027820 -1.539809 -0.028716   \n",
       "\n",
       "            Y4      Angle        X5        Y5        X6        Y6        X7  \\\n",
       "2    -0.510583  15.635178 -0.915264 -0.867298 -0.556912 -0.619065 -0.347119   \n",
       "6    -0.800848  14.902200 -1.493574 -1.457450 -1.151122 -1.159289 -0.929195   \n",
       "10   -1.063399  14.901276 -1.378063 -2.057012 -1.033132 -1.686316 -0.812804   \n",
       "17   -0.680061  16.155923 -1.499234 -1.217225 -1.123276 -0.936887 -0.894866   \n",
       "21   -0.707567  15.983317 -1.371189 -1.335171 -1.033760 -1.006373 -0.829050   \n",
       "...        ...        ...       ...       ...       ...       ...       ...   \n",
       "4297 -0.771934  17.651536 -1.328001 -1.453375 -0.992668 -1.114325 -0.802139   \n",
       "4301 -0.693141  17.493241 -1.199660 -1.299342 -0.890855 -0.999903 -0.705837   \n",
       "4305 -1.103831  11.689934 -1.370747 -2.014043 -1.039085 -1.716487 -0.806827   \n",
       "4309 -0.660514  18.763648 -0.930549 -1.242711 -0.672814 -0.926325 -0.529632   \n",
       "4313 -0.845491  18.752246 -1.024862 -1.657171 -0.752002 -1.296767 -0.595132   \n",
       "\n",
       "            Y7        X8        Y8  \n",
       "2    -0.385286 -0.006106 -0.007940  \n",
       "6    -0.890322 -0.549895 -0.352399  \n",
       "10   -1.350433 -0.489363 -0.655708  \n",
       "17   -0.679458 -0.499928 -0.207227  \n",
       "21   -0.731507 -0.493947 -0.248378  \n",
       "...        ...       ...       ...  \n",
       "4297 -0.823614 -0.488821 -0.299848  \n",
       "4301 -0.735752 -0.413675 -0.236217  \n",
       "4305 -1.433603 -0.451581 -0.722344  \n",
       "4309 -0.661913 -0.328529 -0.198796  \n",
       "4313 -0.971384 -0.373857 -0.394224  \n",
       "\n",
       "[566 rows x 17 columns]"
      ]
     },
     "execution_count": 5,
     "metadata": {},
     "output_type": "execute_result"
    }
   ],
   "source": [
    "DataA8_prepared"
   ]
  },
  {
   "cell_type": "code",
   "execution_count": 6,
   "metadata": {},
   "outputs": [],
   "source": [
    "# import seaborn as sns\n",
    "# sns.pairplot(DataA8_prepared)"
   ]
  },
  {
   "cell_type": "code",
   "execution_count": 7,
   "metadata": {},
   "outputs": [],
   "source": [
    "# split the data \n",
    "from sklearn.model_selection import train_test_split\n",
    "\n",
    "train_set, test_set = train_test_split(DataA8_prepared, test_size=0.2, random_state=42)"
   ]
  },
  {
   "cell_type": "code",
   "execution_count": 8,
   "metadata": {},
   "outputs": [
    {
     "data": {
      "text/html": [
       "<div>\n",
       "<style scoped>\n",
       "    .dataframe tbody tr th:only-of-type {\n",
       "        vertical-align: middle;\n",
       "    }\n",
       "\n",
       "    .dataframe tbody tr th {\n",
       "        vertical-align: top;\n",
       "    }\n",
       "\n",
       "    .dataframe thead th {\n",
       "        text-align: right;\n",
       "    }\n",
       "</style>\n",
       "<table border=\"1\" class=\"dataframe\">\n",
       "  <thead>\n",
       "    <tr style=\"text-align: right;\">\n",
       "      <th></th>\n",
       "      <th>X1</th>\n",
       "      <th>Y1</th>\n",
       "      <th>X2</th>\n",
       "      <th>Y2</th>\n",
       "      <th>X3</th>\n",
       "      <th>Y3</th>\n",
       "      <th>X4</th>\n",
       "      <th>Y4</th>\n",
       "      <th>Angle</th>\n",
       "      <th>X5</th>\n",
       "      <th>Y5</th>\n",
       "      <th>X6</th>\n",
       "      <th>Y6</th>\n",
       "      <th>X7</th>\n",
       "      <th>Y7</th>\n",
       "      <th>X8</th>\n",
       "      <th>Y8</th>\n",
       "    </tr>\n",
       "  </thead>\n",
       "  <tbody>\n",
       "    <tr>\n",
       "      <th>4167</th>\n",
       "      <td>-0.719605</td>\n",
       "      <td>-2.532566</td>\n",
       "      <td>-0.463795</td>\n",
       "      <td>-2.047576</td>\n",
       "      <td>-0.174485</td>\n",
       "      <td>-1.502681</td>\n",
       "      <td>-0.037142</td>\n",
       "      <td>-0.819608</td>\n",
       "      <td>13.176773</td>\n",
       "      <td>-1.269024</td>\n",
       "      <td>-1.486353</td>\n",
       "      <td>-0.943418</td>\n",
       "      <td>-1.219976</td>\n",
       "      <td>-0.727508</td>\n",
       "      <td>-0.956335</td>\n",
       "      <td>-0.393756</td>\n",
       "      <td>-0.380361</td>\n",
       "    </tr>\n",
       "    <tr>\n",
       "      <th>3973</th>\n",
       "      <td>-1.026503</td>\n",
       "      <td>-2.131126</td>\n",
       "      <td>-0.718864</td>\n",
       "      <td>-1.616783</td>\n",
       "      <td>-0.407801</td>\n",
       "      <td>-1.121611</td>\n",
       "      <td>-0.204054</td>\n",
       "      <td>-0.563866</td>\n",
       "      <td>17.036037</td>\n",
       "      <td>-1.541656</td>\n",
       "      <td>-1.085272</td>\n",
       "      <td>-1.199621</td>\n",
       "      <td>-0.798126</td>\n",
       "      <td>-0.970296</td>\n",
       "      <td>-0.559131</td>\n",
       "      <td>-0.597783</td>\n",
       "      <td>-0.088663</td>\n",
       "    </tr>\n",
       "    <tr>\n",
       "      <th>1933</th>\n",
       "      <td>-2.021494</td>\n",
       "      <td>-2.496682</td>\n",
       "      <td>-1.458389</td>\n",
       "      <td>-2.007832</td>\n",
       "      <td>-0.948631</td>\n",
       "      <td>-1.538626</td>\n",
       "      <td>-0.516453</td>\n",
       "      <td>-0.910365</td>\n",
       "      <td>10.357880</td>\n",
       "      <td>-2.157534</td>\n",
       "      <td>-1.361721</td>\n",
       "      <td>-1.716303</td>\n",
       "      <td>-1.161666</td>\n",
       "      <td>-1.380813</td>\n",
       "      <td>-0.954678</td>\n",
       "      <td>-0.804243</td>\n",
       "      <td>-0.429495</td>\n",
       "    </tr>\n",
       "    <tr>\n",
       "      <th>3977</th>\n",
       "      <td>-0.596038</td>\n",
       "      <td>-2.228408</td>\n",
       "      <td>-0.349310</td>\n",
       "      <td>-1.744902</td>\n",
       "      <td>-0.095143</td>\n",
       "      <td>-1.228720</td>\n",
       "      <td>-0.001306</td>\n",
       "      <td>-0.634130</td>\n",
       "      <td>14.168658</td>\n",
       "      <td>-1.173779</td>\n",
       "      <td>-1.181578</td>\n",
       "      <td>-0.864427</td>\n",
       "      <td>-0.914658</td>\n",
       "      <td>-0.660890</td>\n",
       "      <td>-0.667680</td>\n",
       "      <td>-0.370088</td>\n",
       "      <td>-0.171424</td>\n",
       "    </tr>\n",
       "    <tr>\n",
       "      <th>3740</th>\n",
       "      <td>-1.011365</td>\n",
       "      <td>-2.284554</td>\n",
       "      <td>-0.723624</td>\n",
       "      <td>-1.786234</td>\n",
       "      <td>-0.416908</td>\n",
       "      <td>-1.265367</td>\n",
       "      <td>-0.207380</td>\n",
       "      <td>-0.654413</td>\n",
       "      <td>10.909813</td>\n",
       "      <td>-1.538829</td>\n",
       "      <td>-1.242647</td>\n",
       "      <td>-1.209129</td>\n",
       "      <td>-0.963545</td>\n",
       "      <td>-0.984313</td>\n",
       "      <td>-0.708992</td>\n",
       "      <td>-0.604840</td>\n",
       "      <td>-0.195664</td>\n",
       "    </tr>\n",
       "  </tbody>\n",
       "</table>\n",
       "</div>"
      ],
      "text/plain": [
       "            X1        Y1        X2        Y2        X3        Y3        X4  \\\n",
       "4167 -0.719605 -2.532566 -0.463795 -2.047576 -0.174485 -1.502681 -0.037142   \n",
       "3973 -1.026503 -2.131126 -0.718864 -1.616783 -0.407801 -1.121611 -0.204054   \n",
       "1933 -2.021494 -2.496682 -1.458389 -2.007832 -0.948631 -1.538626 -0.516453   \n",
       "3977 -0.596038 -2.228408 -0.349310 -1.744902 -0.095143 -1.228720 -0.001306   \n",
       "3740 -1.011365 -2.284554 -0.723624 -1.786234 -0.416908 -1.265367 -0.207380   \n",
       "\n",
       "            Y4      Angle        X5        Y5        X6        Y6        X7  \\\n",
       "4167 -0.819608  13.176773 -1.269024 -1.486353 -0.943418 -1.219976 -0.727508   \n",
       "3973 -0.563866  17.036037 -1.541656 -1.085272 -1.199621 -0.798126 -0.970296   \n",
       "1933 -0.910365  10.357880 -2.157534 -1.361721 -1.716303 -1.161666 -1.380813   \n",
       "3977 -0.634130  14.168658 -1.173779 -1.181578 -0.864427 -0.914658 -0.660890   \n",
       "3740 -0.654413  10.909813 -1.538829 -1.242647 -1.209129 -0.963545 -0.984313   \n",
       "\n",
       "            Y7        X8        Y8  \n",
       "4167 -0.956335 -0.393756 -0.380361  \n",
       "3973 -0.559131 -0.597783 -0.088663  \n",
       "1933 -0.954678 -0.804243 -0.429495  \n",
       "3977 -0.667680 -0.370088 -0.171424  \n",
       "3740 -0.708992 -0.604840 -0.195664  "
      ]
     },
     "execution_count": 8,
     "metadata": {},
     "output_type": "execute_result"
    }
   ],
   "source": [
    "test_set.head()"
   ]
  },
  {
   "cell_type": "code",
   "execution_count": 9,
   "metadata": {},
   "outputs": [],
   "source": [
    "DataA8_prepared = train_set.copy()"
   ]
  },
  {
   "cell_type": "code",
   "execution_count": 10,
   "metadata": {},
   "outputs": [
    {
     "data": {
      "text/plain": [
       "Angle    1.000000\n",
       "X1       0.430168\n",
       "X2       0.420170\n",
       "X3       0.408944\n",
       "Y7       0.387410\n",
       "Y8       0.374439\n",
       "Y6       0.370075\n",
       "X6       0.365933\n",
       "X5       0.365374\n",
       "Y4       0.358897\n",
       "Y3       0.357620\n",
       "X4       0.357276\n",
       "X7       0.347984\n",
       "Y5       0.346587\n",
       "Y2       0.330045\n",
       "X8       0.297741\n",
       "Y1       0.270279\n",
       "Name: Angle, dtype: float64"
      ]
     },
     "execution_count": 10,
     "metadata": {},
     "output_type": "execute_result"
    }
   ],
   "source": [
    "corr_matrix = DataA8_prepared.corr()\n",
    "corr_matrix[\"Angle\"].sort_values(ascending=False)"
   ]
  },
  {
   "cell_type": "code",
   "execution_count": 11,
   "metadata": {},
   "outputs": [],
   "source": [
    "# Prepare the data for Machine Learning algorithms\n",
    "\n",
    "DataA8_prepared = train_set.drop(\"Angle\", axis=1) # drop labels for training set\n",
    "DataA8_prepared_label = train_set[\"Angle\"].copy()"
   ]
  },
  {
   "cell_type": "code",
   "execution_count": 12,
   "metadata": {},
   "outputs": [
    {
     "data": {
      "text/plain": [
       "RandomForestRegressor(random_state=42)"
      ]
     },
     "execution_count": 12,
     "metadata": {},
     "output_type": "execute_result"
    }
   ],
   "source": [
    "# Select and train a model \n",
    "\n",
    "from sklearn.ensemble import RandomForestRegressor\n",
    "dc_tr=RandomForestRegressor(n_estimators=100,random_state=42)\n",
    "dc_tr.fit(DataA8_prepared, DataA8_prepared_label)"
   ]
  },
  {
   "cell_type": "code",
   "execution_count": 13,
   "metadata": {},
   "outputs": [
    {
     "name": "stdout",
     "output_type": "stream",
     "text": [
      "Predictions: [23.31152899  8.9041922  16.36384737  7.78189389 14.76059067]\n"
     ]
    }
   ],
   "source": [
    "some_data = DataA8_prepared.iloc[:5]\n",
    "some_labels = DataA8_prepared_label.iloc[:5]\n",
    "print(\"Predictions:\", dc_tr.predict(some_data))"
   ]
  },
  {
   "cell_type": "code",
   "execution_count": 14,
   "metadata": {},
   "outputs": [
    {
     "name": "stdout",
     "output_type": "stream",
     "text": [
      "Labels: [27.7803723, 6.7645678, 15.63517816, 6.086716654, 14.51986664]\n"
     ]
    }
   ],
   "source": [
    "# Compare against the actual values:\n",
    "\n",
    "print(\"Labels:\", list(some_labels))"
   ]
  },
  {
   "cell_type": "code",
   "execution_count": 15,
   "metadata": {},
   "outputs": [
    {
     "data": {
      "text/plain": [
       "1.7145359460534966"
      ]
     },
     "execution_count": 15,
     "metadata": {},
     "output_type": "execute_result"
    }
   ],
   "source": [
    "from sklearn.metrics import mean_squared_error\n",
    "\n",
    "Data_predictions = dc_tr.predict(DataA8_prepared)\n",
    "lin_mse = mean_squared_error(DataA8_prepared_label, Data_predictions)\n",
    "lin_rmse = np.sqrt(lin_mse)\n",
    "lin_rmse"
   ]
  },
  {
   "cell_type": "code",
   "execution_count": 16,
   "metadata": {},
   "outputs": [],
   "source": [
    "# Cross Validation\n",
    "\n",
    "from sklearn.model_selection import cross_val_score\n",
    "\n",
    "lin_scores = cross_val_score(dc_tr, DataA8_prepared, DataA8_prepared_label,\n",
    "                         scoring=\"neg_mean_squared_error\", cv=10)\n",
    "lin_rmse_scores = np.sqrt(-lin_scores)"
   ]
  },
  {
   "cell_type": "code",
   "execution_count": 17,
   "metadata": {},
   "outputs": [
    {
     "name": "stdout",
     "output_type": "stream",
     "text": [
      "Scores: [4.69451552 4.19787829 4.2421525  5.27356115 4.34650348 4.83038246\n",
      " 4.83316644 4.40431507 4.9521969  4.05398151]\n",
      "Mean: 4.582865333425157\n",
      "Standard deviation: 0.3717005686212676\n"
     ]
    }
   ],
   "source": [
    "def display_scores(scores):\n",
    "    print(\"Scores:\", scores)\n",
    "    print(\"Mean:\", scores.mean())\n",
    "    print(\"Standard deviation:\", scores.std())\n",
    "\n",
    "display_scores(lin_rmse_scores)"
   ]
  },
  {
   "cell_type": "code",
   "execution_count": 18,
   "metadata": {},
   "outputs": [],
   "source": [
    "X_test = test_set.drop(\"Angle\", axis=1)\n",
    "y_test = test_set[\"Angle\"].copy()\n",
    "\n",
    "final_predictions = dc_tr.predict(X_test)\n",
    "\n",
    "final_mse = mean_squared_error(y_test, final_predictions)\n",
    "final_rmse = np.sqrt(final_mse)"
   ]
  },
  {
   "cell_type": "code",
   "execution_count": 19,
   "metadata": {},
   "outputs": [
    {
     "data": {
      "text/plain": [
       "<matplotlib.collections.PathCollection at 0x2602166a310>"
      ]
     },
     "execution_count": 19,
     "metadata": {},
     "output_type": "execute_result"
    },
    {
     "data": {
      "image/png": "[encoded data removed]",
      "text/plain": [
       "<Figure size 432x288 with 1 Axes>"
      ]
     },
     "metadata": {
      "needs_background": "light"
     },
     "output_type": "display_data"
    }
   ],
   "source": [
    "plt.scatter(y_test, final_predictions)"
   ]
  },
  {
   "cell_type": "code",
   "execution_count": 20,
   "metadata": {},
   "outputs": [
    {
     "data": {
      "text/plain": [
       "(array([ 9., 11., 24., 29., 15., 11.,  9.,  3.,  1.,  2.]),\n",
       " array([-9.85891004, -7.28586578, -4.71282152, -2.13977725,  0.43326701,\n",
       "         3.00631127,  5.57935553,  8.15239979, 10.72544406, 13.29848832,\n",
       "        15.87153258]),\n",
       " <BarContainer object of 10 artists>)"
      ]
     },
     "execution_count": 20,
     "metadata": {},
     "output_type": "execute_result"
    },
    {
     "data": {
      "image/png": "[encoded data removed]",
      "text/plain": [
       "<Figure size 432x288 with 1 Axes>"
      ]
     },
     "metadata": {
      "needs_background": "light"
     },
     "output_type": "display_data"
    }
   ],
   "source": [
    "plt.hist(y_test - final_predictions)"
   ]
  },
  {
   "cell_type": "code",
   "execution_count": 21,
   "metadata": {},
   "outputs": [
    {
     "data": {
      "text/plain": [
       "5.10660080283373"
      ]
     },
     "execution_count": 21,
     "metadata": {},
     "output_type": "execute_result"
    }
   ],
   "source": [
    "final_rmse"
   ]
  },
  {
   "cell_type": "code",
   "execution_count": 22,
   "metadata": {},
   "outputs": [
    {
     "data": {
      "text/plain": [
       "array([4.32127549, 5.78630466])"
      ]
     },
     "execution_count": 22,
     "metadata": {},
     "output_type": "execute_result"
    }
   ],
   "source": [
    "from scipy import stats\n",
    "\n",
    "confidence = 0.95\n",
    "squared_errors = (final_predictions - y_test) ** 2\n",
    "np.sqrt(stats.t.interval(confidence, len(squared_errors) - 1,\n",
    "                         loc=squared_errors.mean(),\n",
    "                         scale=stats.sem(squared_errors)))"
   ]
  },
  {
   "cell_type": "code",
   "execution_count": 23,
   "metadata": {},
   "outputs": [
    {
     "name": "stdout",
     "output_type": "stream",
     "text": [
      "Regressor model performance:\n",
      "Mean absolute error(MAE) = 4.0\n",
      "Mean squared error(MSE) = 26.08\n",
      "Median absolute error = 3.39\n",
      "Explain variance score = 0.23\n",
      "R2 score = 0.22\n"
     ]
    }
   ],
   "source": [
    "import sklearn.metrics as sm\n",
    "\n",
    "print(\"Regressor model performance:\")\n",
    "print(\"Mean absolute error(MAE) =\", round(sm.mean_absolute_error(y_test, final_predictions), 2))\n",
    "print(\"Mean squared error(MSE) =\", round(sm.mean_squared_error(y_test, final_predictions), 2))\n",
    "print(\"Median absolute error =\", round(sm.median_absolute_error(y_test, final_predictions), 2))\n",
    "print(\"Explain variance score =\", round(sm.explained_variance_score(y_test, final_predictions), 2))\n",
    "print(\"R2 score =\", round(sm.r2_score(y_test, final_predictions), 2))"
   ]
  },
  {
   "cell_type": "code",
   "execution_count": 24,
   "metadata": {},
   "outputs": [],
   "source": [
    "def mean_absolute_percentage_error(y_test, final_predictions): \n",
    "    y_test, final_predictions = np.array(y_test), np.array(final_predictions)\n",
    "    return np.mean(np.abs((y_test - final_predictions) / final_predictions)) * 100"
   ]
  },
  {
   "cell_type": "code",
   "execution_count": 25,
   "metadata": {},
   "outputs": [
    {
     "name": "stdout",
     "output_type": "stream",
     "text": [
      "26.753040423639707\n"
     ]
    }
   ],
   "source": [
    "print(mean_absolute_percentage_error(y_test, final_predictions))"
   ]
  },
  {
   "cell_type": "code",
   "execution_count": null,
   "metadata": {},
   "outputs": [],
   "source": []
  }
 ],
 "metadata": {
  "kernelspec": {
   "display_name": "Python 3",
   "language": "python",
   "name": "python3"
  },
  "language_info": {
   "codemirror_mode": {
    "name": "ipython",
    "version": 3
   },
   "file_extension": ".py",
   "mimetype": "text/x-python",
   "name": "python",
   "nbconvert_exporter": "python",
   "pygments_lexer": "ipython3",
   "version": "3.9.0"
  }
 },
 "nbformat": 4,
 "nbformat_minor": 4
}
