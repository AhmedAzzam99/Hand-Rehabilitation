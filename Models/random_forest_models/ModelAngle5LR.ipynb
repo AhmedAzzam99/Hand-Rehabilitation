{
 "cells": [
  {
   "cell_type": "code",
   "execution_count": 2,
   "metadata": {},
   "outputs": [],
   "source": [
    "#import libraries\n",
    "import numpy as np\n",
    "import pandas as pd\n",
    "import matplotlib.pyplot as plt"
   ]
  },
  {
   "cell_type": "code",
   "execution_count": 3,
   "metadata": {},
   "outputs": [
    {
     "name": "stdout",
     "output_type": "stream",
     "text": [
      "Data = \n",
      "          X1        Y1        X2        Y2        X3        Y3        X4  \\\n",
      "0  0.860019 -3.096488  0.753413 -2.530522  0.629331 -1.962419  0.361692   \n",
      "1  0.456454 -2.852605  0.565661 -2.188466  0.568863 -1.593943  0.363601   \n",
      "2 -0.462493 -2.031486 -0.125549 -1.528304  0.123850 -1.026633  0.238231   \n",
      "3  0.106369 -2.186939  0.116188 -1.520864  0.142727 -0.703652  0.068778   \n",
      "4  0.381094 -3.316631  0.390072 -2.754067  0.427469 -2.131407  0.336888   \n",
      "5 -0.262968 -3.256483 -0.094474 -2.594541  0.073604 -1.954448  0.088474   \n",
      "6 -0.970940 -2.595038 -0.683583 -2.042165 -0.376025 -1.472786 -0.190104   \n",
      "7 -0.304093 -1.997585 -0.215963 -1.307632 -0.116897 -0.454085 -0.069022   \n",
      "8  0.055419 -3.592592  0.131205 -2.973669  0.252867 -2.286043  0.242098   \n",
      "9 -0.344932 -3.766955 -0.137432 -2.997226  0.053303 -2.269871  0.066792   \n",
      "\n",
      "         Y4      Angle        X5        Y5        X6        Y6        X7  \\\n",
      "0 -1.227911  15.958005  0.456454 -2.852605  0.565661 -2.188466  0.568863   \n",
      "1 -0.907820  16.424084 -0.462493 -2.031486 -0.125549 -1.528304  0.123850   \n",
      "2 -0.510583  15.635178 -0.915264 -0.867298 -0.556912 -0.619065 -0.347119   \n",
      "3  0.170585  26.299685  0.381094 -3.316631  0.390072 -2.754067  0.427469   \n",
      "4 -1.266161  15.050765 -0.262968 -3.256483 -0.094474 -2.594541  0.073604   \n",
      "5 -1.111491  13.807231 -0.970940 -2.595038 -0.683583 -2.042165 -0.376025   \n",
      "6 -0.800848  14.902200 -1.493574 -1.457450 -1.151122 -1.159289 -0.929195   \n",
      "7  0.416620  15.051214  0.055419 -3.592592  0.131205 -2.973669  0.252867   \n",
      "8 -1.329521  12.915006 -0.344932 -3.766955 -0.137432 -2.997226  0.053303   \n",
      "9 -1.308215   7.824200 -0.905729 -3.185208 -0.604510 -2.520129 -0.291183   \n",
      "\n",
      "         Y7        X8        Y8  Angle number  RightorLeft  \n",
      "0 -1.593943  0.363601 -0.907820             2            0  \n",
      "1 -1.026633  0.238231 -0.510583             3            0  \n",
      "2 -0.385286 -0.006106 -0.007940             4            0  \n",
      "3 -2.131407  0.336888 -1.266161             1            0  \n",
      "4 -1.954448  0.088474 -1.111491             2            0  \n",
      "5 -1.472786 -0.190104 -0.800848             3            0  \n",
      "6 -0.890322 -0.549895 -0.352399             4            0  \n",
      "7 -2.286043  0.242098 -1.329521             1            0  \n",
      "8 -2.269871  0.066792 -1.308215             2            0  \n",
      "9 -1.861470 -0.161199 -1.063399             3            0  \n"
     ]
    }
   ],
   "source": [
    "#read data\n",
    "Data = pd.read_csv(r'C:\\Users\\User\\Desktop\\decision_tree_models\\data.csv')\n",
    "print('Data = \\n',Data.head(10))"
   ]
  },
  {
   "cell_type": "code",
   "execution_count": 4,
   "metadata": {},
   "outputs": [
    {
     "name": "stdout",
     "output_type": "stream",
     "text": [
      "Data = \n",
      "           X1        Y1        X2        Y2        X3        Y3        X4  \\\n",
      "3   0.106369 -2.186939  0.116188 -1.520864  0.142727 -0.703652  0.068778   \n",
      "7  -0.304093 -1.997585 -0.215963 -1.307632 -0.116897 -0.454085 -0.069022   \n",
      "11 -1.821406 -1.591955 -1.513889 -0.962891 -1.074336 -0.205664 -0.480625   \n",
      "14  0.079858 -2.275855  0.110173 -1.610193  0.123588 -0.805923  0.055486   \n",
      "18  0.129745 -2.301224  0.084896 -1.612517  0.098763 -0.799808  0.025109   \n",
      "22 -0.175998 -2.276894 -0.120057 -1.564203 -0.046340 -0.677712 -0.032531   \n",
      "26 -0.024547 -2.326485 -0.025431 -1.616305  0.054823 -0.725824  0.034770   \n",
      "30  0.185316 -2.372367  0.115199 -1.676303  0.123482 -0.808897  0.030701   \n",
      "34 -0.150627 -2.517327 -0.220534 -1.786198 -0.179622 -0.938313 -0.179707   \n",
      "38 -0.150770 -2.517832 -0.209881 -1.785361 -0.155300 -0.932155 -0.146702   \n",
      "\n",
      "          Y4      Angle        X5        Y5        X6        Y6        X7  \\\n",
      "3   0.170585  26.299685  0.381094 -3.316631  0.390072 -2.754067  0.427469   \n",
      "7   0.416620  15.051214  0.055419 -3.592592  0.131205 -2.973669  0.252867   \n",
      "11  0.548351  14.796737 -1.081559 -3.522217 -0.865764 -2.893043 -0.592471   \n",
      "14  0.068419  19.275488  0.432835 -3.170302  0.423602 -2.640779  0.433069   \n",
      "18  0.082421  30.131315  0.581242 -3.276182  0.532582 -2.693669  0.509752   \n",
      "22  0.273766  16.444887  0.128192 -3.585495  0.208429 -2.974061  0.327548   \n",
      "26  0.229719  31.851936  0.267794 -3.578427  0.305904 -2.940847  0.392362   \n",
      "30  0.133683  30.755315  0.584812 -3.398577  0.551334 -2.793617  0.558370   \n",
      "34  0.004365  41.271030  0.842027 -3.355388  0.722629 -2.742093  0.634589   \n",
      "38  0.018821  41.410668  0.700903 -3.386324  0.616987 -2.766577  0.567254   \n",
      "\n",
      "          Y7        X8        Y8  Angle number  RightorLeft  \n",
      "3  -2.131407  0.336888 -1.266161             1            0  \n",
      "7  -2.286043  0.242098 -1.329521             1            0  \n",
      "11 -2.225238 -0.427591 -1.291817             1            0  \n",
      "14 -2.048975  0.325260 -1.236259             1            0  \n",
      "18 -2.072711  0.357651 -1.249717             1            0  \n",
      "22 -2.295803  0.306496 -1.368646             1            0  \n",
      "26 -2.264511  0.341946 -1.355696             1            0  \n",
      "30 -2.144527  0.420046 -1.292742             1            0  \n",
      "34 -2.107575  0.383169 -1.297026             1            0  \n",
      "38 -2.127091  0.359518 -1.309267             1            0  \n"
     ]
    }
   ],
   "source": [
    "DataA5= Data.loc[(Data['Angle number'] ==1) & (Data['RightorLeft'] ==0)]\n",
    "print('Data = \\n',DataA5.head(10))\n"
   ]
  },
  {
   "cell_type": "code",
   "execution_count": 5,
   "metadata": {},
   "outputs": [],
   "source": [
    "DataA5_ = DataA5.drop(\"Angle number\", axis=1)\n",
    "DataA5_prepared = DataA5_.drop(\"RightorLeft\", axis=1)"
   ]
  },
  {
   "cell_type": "code",
   "execution_count": 6,
   "metadata": {},
   "outputs": [
    {
     "data": {
      "text/html": [
       "<div>\n",
       "<style scoped>\n",
       "    .dataframe tbody tr th:only-of-type {\n",
       "        vertical-align: middle;\n",
       "    }\n",
       "\n",
       "    .dataframe tbody tr th {\n",
       "        vertical-align: top;\n",
       "    }\n",
       "\n",
       "    .dataframe thead th {\n",
       "        text-align: right;\n",
       "    }\n",
       "</style>\n",
       "<table border=\"1\" class=\"dataframe\">\n",
       "  <thead>\n",
       "    <tr style=\"text-align: right;\">\n",
       "      <th></th>\n",
       "      <th>X1</th>\n",
       "      <th>Y1</th>\n",
       "      <th>X2</th>\n",
       "      <th>Y2</th>\n",
       "      <th>X3</th>\n",
       "      <th>Y3</th>\n",
       "      <th>X4</th>\n",
       "      <th>Y4</th>\n",
       "      <th>Angle</th>\n",
       "      <th>X5</th>\n",
       "      <th>Y5</th>\n",
       "      <th>X6</th>\n",
       "      <th>Y6</th>\n",
       "      <th>X7</th>\n",
       "      <th>Y7</th>\n",
       "      <th>X8</th>\n",
       "      <th>Y8</th>\n",
       "    </tr>\n",
       "  </thead>\n",
       "  <tbody>\n",
       "    <tr>\n",
       "      <th>3</th>\n",
       "      <td>0.106369</td>\n",
       "      <td>-2.186939</td>\n",
       "      <td>0.116188</td>\n",
       "      <td>-1.520864</td>\n",
       "      <td>0.142727</td>\n",
       "      <td>-0.703652</td>\n",
       "      <td>0.068778</td>\n",
       "      <td>0.170585</td>\n",
       "      <td>26.299685</td>\n",
       "      <td>0.381094</td>\n",
       "      <td>-3.316631</td>\n",
       "      <td>0.390072</td>\n",
       "      <td>-2.754067</td>\n",
       "      <td>0.427469</td>\n",
       "      <td>-2.131407</td>\n",
       "      <td>0.336888</td>\n",
       "      <td>-1.266161</td>\n",
       "    </tr>\n",
       "    <tr>\n",
       "      <th>7</th>\n",
       "      <td>-0.304093</td>\n",
       "      <td>-1.997585</td>\n",
       "      <td>-0.215963</td>\n",
       "      <td>-1.307632</td>\n",
       "      <td>-0.116897</td>\n",
       "      <td>-0.454085</td>\n",
       "      <td>-0.069022</td>\n",
       "      <td>0.416620</td>\n",
       "      <td>15.051214</td>\n",
       "      <td>0.055419</td>\n",
       "      <td>-3.592592</td>\n",
       "      <td>0.131205</td>\n",
       "      <td>-2.973669</td>\n",
       "      <td>0.252867</td>\n",
       "      <td>-2.286043</td>\n",
       "      <td>0.242098</td>\n",
       "      <td>-1.329521</td>\n",
       "    </tr>\n",
       "    <tr>\n",
       "      <th>11</th>\n",
       "      <td>-1.821406</td>\n",
       "      <td>-1.591955</td>\n",
       "      <td>-1.513889</td>\n",
       "      <td>-0.962891</td>\n",
       "      <td>-1.074336</td>\n",
       "      <td>-0.205664</td>\n",
       "      <td>-0.480625</td>\n",
       "      <td>0.548351</td>\n",
       "      <td>14.796737</td>\n",
       "      <td>-1.081559</td>\n",
       "      <td>-3.522217</td>\n",
       "      <td>-0.865764</td>\n",
       "      <td>-2.893043</td>\n",
       "      <td>-0.592471</td>\n",
       "      <td>-2.225238</td>\n",
       "      <td>-0.427591</td>\n",
       "      <td>-1.291817</td>\n",
       "    </tr>\n",
       "    <tr>\n",
       "      <th>14</th>\n",
       "      <td>0.079858</td>\n",
       "      <td>-2.275855</td>\n",
       "      <td>0.110173</td>\n",
       "      <td>-1.610193</td>\n",
       "      <td>0.123588</td>\n",
       "      <td>-0.805923</td>\n",
       "      <td>0.055486</td>\n",
       "      <td>0.068419</td>\n",
       "      <td>19.275488</td>\n",
       "      <td>0.432835</td>\n",
       "      <td>-3.170302</td>\n",
       "      <td>0.423602</td>\n",
       "      <td>-2.640779</td>\n",
       "      <td>0.433069</td>\n",
       "      <td>-2.048975</td>\n",
       "      <td>0.325260</td>\n",
       "      <td>-1.236259</td>\n",
       "    </tr>\n",
       "    <tr>\n",
       "      <th>18</th>\n",
       "      <td>0.129745</td>\n",
       "      <td>-2.301224</td>\n",
       "      <td>0.084896</td>\n",
       "      <td>-1.612517</td>\n",
       "      <td>0.098763</td>\n",
       "      <td>-0.799808</td>\n",
       "      <td>0.025109</td>\n",
       "      <td>0.082421</td>\n",
       "      <td>30.131315</td>\n",
       "      <td>0.581242</td>\n",
       "      <td>-3.276182</td>\n",
       "      <td>0.532582</td>\n",
       "      <td>-2.693669</td>\n",
       "      <td>0.509752</td>\n",
       "      <td>-2.072711</td>\n",
       "      <td>0.357651</td>\n",
       "      <td>-1.249717</td>\n",
       "    </tr>\n",
       "    <tr>\n",
       "      <th>...</th>\n",
       "      <td>...</td>\n",
       "      <td>...</td>\n",
       "      <td>...</td>\n",
       "      <td>...</td>\n",
       "      <td>...</td>\n",
       "      <td>...</td>\n",
       "      <td>...</td>\n",
       "      <td>...</td>\n",
       "      <td>...</td>\n",
       "      <td>...</td>\n",
       "      <td>...</td>\n",
       "      <td>...</td>\n",
       "      <td>...</td>\n",
       "      <td>...</td>\n",
       "      <td>...</td>\n",
       "      <td>...</td>\n",
       "      <td>...</td>\n",
       "    </tr>\n",
       "    <tr>\n",
       "      <th>4294</th>\n",
       "      <td>-0.114939</td>\n",
       "      <td>-2.388898</td>\n",
       "      <td>-0.111567</td>\n",
       "      <td>-1.683075</td>\n",
       "      <td>-0.050866</td>\n",
       "      <td>-0.824637</td>\n",
       "      <td>-0.047419</td>\n",
       "      <td>0.113051</td>\n",
       "      <td>35.051631</td>\n",
       "      <td>0.421660</td>\n",
       "      <td>-3.463836</td>\n",
       "      <td>0.395680</td>\n",
       "      <td>-2.825747</td>\n",
       "      <td>0.415162</td>\n",
       "      <td>-2.175039</td>\n",
       "      <td>0.308209</td>\n",
       "      <td>-1.322501</td>\n",
       "    </tr>\n",
       "    <tr>\n",
       "      <th>4298</th>\n",
       "      <td>0.085667</td>\n",
       "      <td>-2.353551</td>\n",
       "      <td>0.041847</td>\n",
       "      <td>-1.669765</td>\n",
       "      <td>0.029349</td>\n",
       "      <td>-0.848877</td>\n",
       "      <td>-0.045554</td>\n",
       "      <td>0.055995</td>\n",
       "      <td>34.820776</td>\n",
       "      <td>0.636364</td>\n",
       "      <td>-3.210600</td>\n",
       "      <td>0.594083</td>\n",
       "      <td>-2.665265</td>\n",
       "      <td>0.579180</td>\n",
       "      <td>-2.055750</td>\n",
       "      <td>0.408258</td>\n",
       "      <td>-1.244803</td>\n",
       "    </tr>\n",
       "    <tr>\n",
       "      <th>4302</th>\n",
       "      <td>-0.442116</td>\n",
       "      <td>-1.814504</td>\n",
       "      <td>-0.326928</td>\n",
       "      <td>-1.147121</td>\n",
       "      <td>-0.184267</td>\n",
       "      <td>-0.327385</td>\n",
       "      <td>-0.087454</td>\n",
       "      <td>0.488178</td>\n",
       "      <td>23.919502</td>\n",
       "      <td>-0.101960</td>\n",
       "      <td>-3.450998</td>\n",
       "      <td>0.021970</td>\n",
       "      <td>-2.870060</td>\n",
       "      <td>0.183779</td>\n",
       "      <td>-2.236202</td>\n",
       "      <td>0.210630</td>\n",
       "      <td>-1.273521</td>\n",
       "    </tr>\n",
       "    <tr>\n",
       "      <th>4306</th>\n",
       "      <td>0.110121</td>\n",
       "      <td>-2.384069</td>\n",
       "      <td>0.007404</td>\n",
       "      <td>-1.679523</td>\n",
       "      <td>-0.025785</td>\n",
       "      <td>-0.868507</td>\n",
       "      <td>-0.109426</td>\n",
       "      <td>0.025968</td>\n",
       "      <td>42.405339</td>\n",
       "      <td>0.939767</td>\n",
       "      <td>-3.224514</td>\n",
       "      <td>0.808645</td>\n",
       "      <td>-2.652426</td>\n",
       "      <td>0.696294</td>\n",
       "      <td>-2.030152</td>\n",
       "      <td>0.429681</td>\n",
       "      <td>-1.237427</td>\n",
       "    </tr>\n",
       "    <tr>\n",
       "      <th>4310</th>\n",
       "      <td>-0.059551</td>\n",
       "      <td>-2.281519</td>\n",
       "      <td>-0.136013</td>\n",
       "      <td>-1.566684</td>\n",
       "      <td>-0.099382</td>\n",
       "      <td>-0.720222</td>\n",
       "      <td>-0.131210</td>\n",
       "      <td>0.178133</td>\n",
       "      <td>47.564808</td>\n",
       "      <td>0.796908</td>\n",
       "      <td>-3.575039</td>\n",
       "      <td>0.677558</td>\n",
       "      <td>-2.905571</td>\n",
       "      <td>0.593297</td>\n",
       "      <td>-2.215759</td>\n",
       "      <td>0.357096</td>\n",
       "      <td>-1.322004</td>\n",
       "    </tr>\n",
       "  </tbody>\n",
       "</table>\n",
       "<p>488 rows × 17 columns</p>\n",
       "</div>"
      ],
      "text/plain": [
       "            X1        Y1        X2        Y2        X3        Y3        X4  \\\n",
       "3     0.106369 -2.186939  0.116188 -1.520864  0.142727 -0.703652  0.068778   \n",
       "7    -0.304093 -1.997585 -0.215963 -1.307632 -0.116897 -0.454085 -0.069022   \n",
       "11   -1.821406 -1.591955 -1.513889 -0.962891 -1.074336 -0.205664 -0.480625   \n",
       "14    0.079858 -2.275855  0.110173 -1.610193  0.123588 -0.805923  0.055486   \n",
       "18    0.129745 -2.301224  0.084896 -1.612517  0.098763 -0.799808  0.025109   \n",
       "...        ...       ...       ...       ...       ...       ...       ...   \n",
       "4294 -0.114939 -2.388898 -0.111567 -1.683075 -0.050866 -0.824637 -0.047419   \n",
       "4298  0.085667 -2.353551  0.041847 -1.669765  0.029349 -0.848877 -0.045554   \n",
       "4302 -0.442116 -1.814504 -0.326928 -1.147121 -0.184267 -0.327385 -0.087454   \n",
       "4306  0.110121 -2.384069  0.007404 -1.679523 -0.025785 -0.868507 -0.109426   \n",
       "4310 -0.059551 -2.281519 -0.136013 -1.566684 -0.099382 -0.720222 -0.131210   \n",
       "\n",
       "            Y4      Angle        X5        Y5        X6        Y6        X7  \\\n",
       "3     0.170585  26.299685  0.381094 -3.316631  0.390072 -2.754067  0.427469   \n",
       "7     0.416620  15.051214  0.055419 -3.592592  0.131205 -2.973669  0.252867   \n",
       "11    0.548351  14.796737 -1.081559 -3.522217 -0.865764 -2.893043 -0.592471   \n",
       "14    0.068419  19.275488  0.432835 -3.170302  0.423602 -2.640779  0.433069   \n",
       "18    0.082421  30.131315  0.581242 -3.276182  0.532582 -2.693669  0.509752   \n",
       "...        ...        ...       ...       ...       ...       ...       ...   \n",
       "4294  0.113051  35.051631  0.421660 -3.463836  0.395680 -2.825747  0.415162   \n",
       "4298  0.055995  34.820776  0.636364 -3.210600  0.594083 -2.665265  0.579180   \n",
       "4302  0.488178  23.919502 -0.101960 -3.450998  0.021970 -2.870060  0.183779   \n",
       "4306  0.025968  42.405339  0.939767 -3.224514  0.808645 -2.652426  0.696294   \n",
       "4310  0.178133  47.564808  0.796908 -3.575039  0.677558 -2.905571  0.593297   \n",
       "\n",
       "            Y7        X8        Y8  \n",
       "3    -2.131407  0.336888 -1.266161  \n",
       "7    -2.286043  0.242098 -1.329521  \n",
       "11   -2.225238 -0.427591 -1.291817  \n",
       "14   -2.048975  0.325260 -1.236259  \n",
       "18   -2.072711  0.357651 -1.249717  \n",
       "...        ...       ...       ...  \n",
       "4294 -2.175039  0.308209 -1.322501  \n",
       "4298 -2.055750  0.408258 -1.244803  \n",
       "4302 -2.236202  0.210630 -1.273521  \n",
       "4306 -2.030152  0.429681 -1.237427  \n",
       "4310 -2.215759  0.357096 -1.322004  \n",
       "\n",
       "[488 rows x 17 columns]"
      ]
     },
     "execution_count": 6,
     "metadata": {},
     "output_type": "execute_result"
    }
   ],
   "source": [
    "DataA5_prepared"
   ]
  },
  {
   "cell_type": "code",
   "execution_count": 7,
   "metadata": {},
   "outputs": [],
   "source": [
    "# import seaborn as sns\n",
    "# sns.pairplot(DataA5_prepared)"
   ]
  },
  {
   "cell_type": "code",
   "execution_count": 8,
   "metadata": {},
   "outputs": [],
   "source": [
    "# split the data \n",
    "from sklearn.model_selection import train_test_split\n",
    "\n",
    "train_set, test_set = train_test_split(DataA5_prepared, test_size=0.2, random_state=42)"
   ]
  },
  {
   "cell_type": "code",
   "execution_count": 9,
   "metadata": {},
   "outputs": [
    {
     "data": {
      "text/html": [
       "<div>\n",
       "<style scoped>\n",
       "    .dataframe tbody tr th:only-of-type {\n",
       "        vertical-align: middle;\n",
       "    }\n",
       "\n",
       "    .dataframe tbody tr th {\n",
       "        vertical-align: top;\n",
       "    }\n",
       "\n",
       "    .dataframe thead th {\n",
       "        text-align: right;\n",
       "    }\n",
       "</style>\n",
       "<table border=\"1\" class=\"dataframe\">\n",
       "  <thead>\n",
       "    <tr style=\"text-align: right;\">\n",
       "      <th></th>\n",
       "      <th>X1</th>\n",
       "      <th>Y1</th>\n",
       "      <th>X2</th>\n",
       "      <th>Y2</th>\n",
       "      <th>X3</th>\n",
       "      <th>Y3</th>\n",
       "      <th>X4</th>\n",
       "      <th>Y4</th>\n",
       "      <th>Angle</th>\n",
       "      <th>X5</th>\n",
       "      <th>Y5</th>\n",
       "      <th>X6</th>\n",
       "      <th>Y6</th>\n",
       "      <th>X7</th>\n",
       "      <th>Y7</th>\n",
       "      <th>X8</th>\n",
       "      <th>Y8</th>\n",
       "    </tr>\n",
       "  </thead>\n",
       "  <tbody>\n",
       "    <tr>\n",
       "      <th>642</th>\n",
       "      <td>-0.158458</td>\n",
       "      <td>-2.289584</td>\n",
       "      <td>-0.070225</td>\n",
       "      <td>-1.581747</td>\n",
       "      <td>0.042736</td>\n",
       "      <td>-0.709367</td>\n",
       "      <td>0.063072</td>\n",
       "      <td>0.236989</td>\n",
       "      <td>19.599260</td>\n",
       "      <td>-0.119584</td>\n",
       "      <td>-3.505112</td>\n",
       "      <td>0.022783</td>\n",
       "      <td>-2.914999</td>\n",
       "      <td>0.208302</td>\n",
       "      <td>-2.267982</td>\n",
       "      <td>0.270791</td>\n",
       "      <td>-1.357791</td>\n",
       "    </tr>\n",
       "    <tr>\n",
       "      <th>2367</th>\n",
       "      <td>-1.299754</td>\n",
       "      <td>-1.974862</td>\n",
       "      <td>-1.100696</td>\n",
       "      <td>-1.310904</td>\n",
       "      <td>-0.757498</td>\n",
       "      <td>-0.567320</td>\n",
       "      <td>-0.354678</td>\n",
       "      <td>0.243744</td>\n",
       "      <td>24.743708</td>\n",
       "      <td>-0.277713</td>\n",
       "      <td>-3.354524</td>\n",
       "      <td>-0.172682</td>\n",
       "      <td>-2.811072</td>\n",
       "      <td>-0.028365</td>\n",
       "      <td>-2.185275</td>\n",
       "      <td>-0.006283</td>\n",
       "      <td>-1.324816</td>\n",
       "    </tr>\n",
       "    <tr>\n",
       "      <th>3993</th>\n",
       "      <td>-1.077380</td>\n",
       "      <td>-2.156006</td>\n",
       "      <td>-0.985207</td>\n",
       "      <td>-1.479436</td>\n",
       "      <td>-0.788898</td>\n",
       "      <td>-0.690075</td>\n",
       "      <td>-0.505915</td>\n",
       "      <td>0.170170</td>\n",
       "      <td>29.066377</td>\n",
       "      <td>0.424514</td>\n",
       "      <td>-3.383105</td>\n",
       "      <td>0.383566</td>\n",
       "      <td>-2.806996</td>\n",
       "      <td>0.369418</td>\n",
       "      <td>-2.164281</td>\n",
       "      <td>0.187313</td>\n",
       "      <td>-1.313323</td>\n",
       "    </tr>\n",
       "    <tr>\n",
       "      <th>670</th>\n",
       "      <td>-0.036958</td>\n",
       "      <td>-2.439708</td>\n",
       "      <td>-0.151748</td>\n",
       "      <td>-1.751869</td>\n",
       "      <td>-0.203871</td>\n",
       "      <td>-0.937441</td>\n",
       "      <td>-0.286370</td>\n",
       "      <td>-0.047744</td>\n",
       "      <td>39.606503</td>\n",
       "      <td>1.560510</td>\n",
       "      <td>-3.120231</td>\n",
       "      <td>1.263452</td>\n",
       "      <td>-2.564677</td>\n",
       "      <td>0.977038</td>\n",
       "      <td>-1.978325</td>\n",
       "      <td>0.514782</td>\n",
       "      <td>-1.211725</td>\n",
       "    </tr>\n",
       "    <tr>\n",
       "      <th>3717</th>\n",
       "      <td>0.201604</td>\n",
       "      <td>-2.353101</td>\n",
       "      <td>0.206565</td>\n",
       "      <td>-1.742081</td>\n",
       "      <td>0.221318</td>\n",
       "      <td>-0.980314</td>\n",
       "      <td>0.119802</td>\n",
       "      <td>-0.083319</td>\n",
       "      <td>22.016396</td>\n",
       "      <td>0.319605</td>\n",
       "      <td>-2.808386</td>\n",
       "      <td>0.374326</td>\n",
       "      <td>-2.360872</td>\n",
       "      <td>0.434784</td>\n",
       "      <td>-1.837445</td>\n",
       "      <td>0.382518</td>\n",
       "      <td>-1.134551</td>\n",
       "    </tr>\n",
       "  </tbody>\n",
       "</table>\n",
       "</div>"
      ],
      "text/plain": [
       "            X1        Y1        X2        Y2        X3        Y3        X4  \\\n",
       "642  -0.158458 -2.289584 -0.070225 -1.581747  0.042736 -0.709367  0.063072   \n",
       "2367 -1.299754 -1.974862 -1.100696 -1.310904 -0.757498 -0.567320 -0.354678   \n",
       "3993 -1.077380 -2.156006 -0.985207 -1.479436 -0.788898 -0.690075 -0.505915   \n",
       "670  -0.036958 -2.439708 -0.151748 -1.751869 -0.203871 -0.937441 -0.286370   \n",
       "3717  0.201604 -2.353101  0.206565 -1.742081  0.221318 -0.980314  0.119802   \n",
       "\n",
       "            Y4      Angle        X5        Y5        X6        Y6        X7  \\\n",
       "642   0.236989  19.599260 -0.119584 -3.505112  0.022783 -2.914999  0.208302   \n",
       "2367  0.243744  24.743708 -0.277713 -3.354524 -0.172682 -2.811072 -0.028365   \n",
       "3993  0.170170  29.066377  0.424514 -3.383105  0.383566 -2.806996  0.369418   \n",
       "670  -0.047744  39.606503  1.560510 -3.120231  1.263452 -2.564677  0.977038   \n",
       "3717 -0.083319  22.016396  0.319605 -2.808386  0.374326 -2.360872  0.434784   \n",
       "\n",
       "            Y7        X8        Y8  \n",
       "642  -2.267982  0.270791 -1.357791  \n",
       "2367 -2.185275 -0.006283 -1.324816  \n",
       "3993 -2.164281  0.187313 -1.313323  \n",
       "670  -1.978325  0.514782 -1.211725  \n",
       "3717 -1.837445  0.382518 -1.134551  "
      ]
     },
     "execution_count": 9,
     "metadata": {},
     "output_type": "execute_result"
    }
   ],
   "source": [
    "test_set.head()"
   ]
  },
  {
   "cell_type": "code",
   "execution_count": 10,
   "metadata": {},
   "outputs": [],
   "source": [
    "DataA5_prepared = train_set.copy()"
   ]
  },
  {
   "cell_type": "code",
   "execution_count": 11,
   "metadata": {},
   "outputs": [
    {
     "data": {
      "text/plain": [
       "Angle    1.000000\n",
       "X5       0.342421\n",
       "X6       0.321067\n",
       "X7       0.280564\n",
       "X8       0.156926\n",
       "Y7       0.135771\n",
       "Y6       0.096757\n",
       "Y5       0.045329\n",
       "Y8       0.015054\n",
       "X1      -0.033165\n",
       "X2      -0.139518\n",
       "X3      -0.211006\n",
       "Y4      -0.315965\n",
       "X4      -0.323877\n",
       "Y3      -0.325238\n",
       "Y2      -0.325820\n",
       "Y1      -0.369048\n",
       "Name: Angle, dtype: float64"
      ]
     },
     "execution_count": 11,
     "metadata": {},
     "output_type": "execute_result"
    }
   ],
   "source": [
    "corr_matrix = DataA5_prepared.corr()\n",
    "corr_matrix[\"Angle\"].sort_values(ascending=False)"
   ]
  },
  {
   "cell_type": "code",
   "execution_count": 12,
   "metadata": {},
   "outputs": [],
   "source": [
    "# Prepare the data for Machine Learning algorithms\n",
    "\n",
    "DataA5_prepared = train_set.drop(\"Angle\", axis=1) # drop labels for training set\n",
    "DataA5_prepared_label = train_set[\"Angle\"].copy()"
   ]
  },
  {
   "cell_type": "code",
   "execution_count": 13,
   "metadata": {},
   "outputs": [
    {
     "data": {
      "text/plain": [
       "RandomForestRegressor(random_state=42)"
      ]
     },
     "execution_count": 13,
     "metadata": {},
     "output_type": "execute_result"
    }
   ],
   "source": [
    "# Select and train a model \n",
    "\n",
    "from sklearn.ensemble import RandomForestRegressor\n",
    "dc_tr=RandomForestRegressor(n_estimators=100,random_state=42)\n",
    "dc_tr.fit(DataA5_prepared, DataA5_prepared_label)"
   ]
  },
  {
   "cell_type": "code",
   "execution_count": 14,
   "metadata": {},
   "outputs": [
    {
     "name": "stdout",
     "output_type": "stream",
     "text": [
      "Predictions: [21.82182197 21.83541916 22.0909838  27.87144501 35.74526046]\n"
     ]
    }
   ],
   "source": [
    "some_data = DataA5_prepared.iloc[:5]\n",
    "some_labels = DataA5_prepared_label.iloc[:5]\n",
    "print(\"Predictions:\", dc_tr.predict(some_data))"
   ]
  },
  {
   "cell_type": "code",
   "execution_count": 15,
   "metadata": {},
   "outputs": [
    {
     "name": "stdout",
     "output_type": "stream",
     "text": [
      "Labels: [21.98252631, 19.57950145, 14.34441, 27.40256374, 35.47575447]\n"
     ]
    }
   ],
   "source": [
    "# Compare against the actual values:\n",
    "\n",
    "print(\"Labels:\", list(some_labels))"
   ]
  },
  {
   "cell_type": "code",
   "execution_count": 16,
   "metadata": {},
   "outputs": [
    {
     "data": {
      "text/plain": [
       "3.4067239272386605"
      ]
     },
     "execution_count": 16,
     "metadata": {},
     "output_type": "execute_result"
    }
   ],
   "source": [
    "from sklearn.metrics import mean_squared_error\n",
    "\n",
    "Data_predictions = dc_tr.predict(DataA5_prepared)\n",
    "lin_mse = mean_squared_error(DataA5_prepared_label, Data_predictions)\n",
    "lin_rmse = np.sqrt(lin_mse)\n",
    "lin_rmse"
   ]
  },
  {
   "cell_type": "code",
   "execution_count": 17,
   "metadata": {},
   "outputs": [],
   "source": [
    "# Cross Validation\n",
    "\n",
    "from sklearn.model_selection import cross_val_score\n",
    "\n",
    "lin_scores = cross_val_score(dc_tr, DataA5_prepared, DataA5_prepared_label,\n",
    "                         scoring=\"neg_mean_squared_error\", cv=10)\n",
    "lin_rmse_scores = np.sqrt(-lin_scores)"
   ]
  },
  {
   "cell_type": "code",
   "execution_count": 18,
   "metadata": {},
   "outputs": [
    {
     "name": "stdout",
     "output_type": "stream",
     "text": [
      "Scores: [ 8.58024527 10.47161224  8.82023161  8.41717607  7.2936518   9.04903654\n",
      "  9.52196816  7.23980141 11.717409    7.70599818]\n",
      "Mean: 8.881713029632099\n",
      "Standard deviation: 1.3385607918334912\n"
     ]
    }
   ],
   "source": [
    "def display_scores(scores):\n",
    "    print(\"Scores:\", scores)\n",
    "    print(\"Mean:\", scores.mean())\n",
    "    print(\"Standard deviation:\", scores.std())\n",
    "\n",
    "display_scores(lin_rmse_scores)"
   ]
  },
  {
   "cell_type": "code",
   "execution_count": 19,
   "metadata": {},
   "outputs": [],
   "source": [
    "X_test = test_set.drop(\"Angle\", axis=1)\n",
    "y_test = test_set[\"Angle\"].copy()\n",
    "\n",
    "final_predictions = dc_tr.predict(X_test)\n",
    "\n",
    "final_mse = mean_squared_error(y_test, final_predictions)\n",
    "final_rmse = np.sqrt(final_mse)"
   ]
  },
  {
   "cell_type": "code",
   "execution_count": 20,
   "metadata": {},
   "outputs": [
    {
     "data": {
      "text/plain": [
       "<matplotlib.collections.PathCollection at 0x1fe521fc4c0>"
      ]
     },
     "execution_count": 20,
     "metadata": {},
     "output_type": "execute_result"
    },
    {
     "data": {
      "image/png": "[encoded data removed]",
      "text/plain": [
       "<Figure size 432x288 with 1 Axes>"
      ]
     },
     "metadata": {
      "needs_background": "light"
     },
     "output_type": "display_data"
    }
   ],
   "source": [
    "plt.scatter(y_test, final_predictions)"
   ]
  },
  {
   "cell_type": "code",
   "execution_count": 21,
   "metadata": {},
   "outputs": [
    {
     "data": {
      "text/plain": [
       "(array([ 1.,  4.,  7., 14., 31., 25., 13.,  1.,  1.,  1.]),\n",
       " array([-28.58828156, -22.55391834, -16.51955511, -10.48519188,\n",
       "         -4.45082865,   1.58353457,   7.6178978 ,  13.65226103,\n",
       "         19.68662425,  25.72098748,  31.75535071]),\n",
       " <BarContainer object of 10 artists>)"
      ]
     },
     "execution_count": 21,
     "metadata": {},
     "output_type": "execute_result"
    },
    {
     "data": {
      "image/png": "[encoded data removed]",
      "text/plain": [
       "<Figure size 432x288 with 1 Axes>"
      ]
     },
     "metadata": {
      "needs_background": "light"
     },
     "output_type": "display_data"
    }
   ],
   "source": [
    "plt.hist(y_test - final_predictions)"
   ]
  },
  {
   "cell_type": "code",
   "execution_count": 22,
   "metadata": {},
   "outputs": [
    {
     "data": {
      "text/plain": [
       "9.126130346410342"
      ]
     },
     "execution_count": 22,
     "metadata": {},
     "output_type": "execute_result"
    }
   ],
   "source": [
    "final_rmse"
   ]
  },
  {
   "cell_type": "code",
   "execution_count": 23,
   "metadata": {},
   "outputs": [
    {
     "data": {
      "text/plain": [
       "array([ 7.2179296 , 10.69925243])"
      ]
     },
     "execution_count": 23,
     "metadata": {},
     "output_type": "execute_result"
    }
   ],
   "source": [
    "from scipy import stats\n",
    "\n",
    "confidence = 0.95\n",
    "squared_errors = (final_predictions - y_test) ** 2\n",
    "np.sqrt(stats.t.interval(confidence, len(squared_errors) - 1,\n",
    "                         loc=squared_errors.mean(),\n",
    "                         scale=stats.sem(squared_errors)))"
   ]
  },
  {
   "cell_type": "code",
   "execution_count": 24,
   "metadata": {},
   "outputs": [
    {
     "name": "stdout",
     "output_type": "stream",
     "text": [
      "Regressor model performance:\n",
      "Mean absolute error(MAE) = 6.82\n",
      "Mean squared error(MSE) = 83.29\n",
      "Median absolute error = 5.02\n",
      "Explain variance score = 0.28\n",
      "R2 score = 0.28\n"
     ]
    }
   ],
   "source": [
    "import sklearn.metrics as sm\n",
    "\n",
    "print(\"Regressor model performance:\")\n",
    "print(\"Mean absolute error(MAE) =\", round(sm.mean_absolute_error(y_test, final_predictions), 2))\n",
    "print(\"Mean squared error(MSE) =\", round(sm.mean_squared_error(y_test, final_predictions), 2))\n",
    "print(\"Median absolute error =\", round(sm.median_absolute_error(y_test, final_predictions), 2))\n",
    "print(\"Explain variance score =\", round(sm.explained_variance_score(y_test, final_predictions), 2))\n",
    "print(\"R2 score =\", round(sm.r2_score(y_test, final_predictions), 2))"
   ]
  },
  {
   "cell_type": "code",
   "execution_count": 25,
   "metadata": {},
   "outputs": [],
   "source": [
    "def mean_absolute_percentage_error(y_test, final_predictions): \n",
    "    y_test, final_predictions = np.array(y_test), np.array(final_predictions)\n",
    "    return np.mean(np.abs((y_test - final_predictions) / final_predictions)) * 100"
   ]
  },
  {
   "cell_type": "code",
   "execution_count": 26,
   "metadata": {},
   "outputs": [
    {
     "name": "stdout",
     "output_type": "stream",
     "text": [
      "23.54048991036476\n"
     ]
    }
   ],
   "source": [
    "print(mean_absolute_percentage_error(y_test, final_predictions))"
   ]
  },
  {
   "cell_type": "code",
   "execution_count": null,
   "metadata": {},
   "outputs": [],
   "source": []
  }
 ],
 "metadata": {
  "kernelspec": {
   "display_name": "Python 3",
   "language": "python",
   "name": "python3"
  },
  "language_info": {
   "codemirror_mode": {
    "name": "ipython",
    "version": 3
   },
   "file_extension": ".py",
   "mimetype": "text/x-python",
   "name": "python",
   "nbconvert_exporter": "python",
   "pygments_lexer": "ipython3",
   "version": "3.9.0"
  }
 },
 "nbformat": 4,
 "nbformat_minor": 4
}
