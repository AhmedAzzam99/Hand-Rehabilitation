{
 "cells": [
  {
   "cell_type": "code",
   "execution_count": 1,
   "metadata": {},
   "outputs": [],
   "source": [
    "#import libraries\n",
    "import numpy as np\n",
    "import pandas as pd\n",
    "import matplotlib.pyplot as plt"
   ]
  },
  {
   "cell_type": "code",
   "execution_count": 2,
   "metadata": {},
   "outputs": [
    {
     "name": "stdout",
     "output_type": "stream",
     "text": [
      "Data = \n",
      "          X1        Y1        X2        Y2        X3        Y3        X4  \\\n",
      "0  0.860019 -3.096488  0.753413 -2.530522  0.629331 -1.962419  0.361692   \n",
      "1  0.456454 -2.852605  0.565661 -2.188466  0.568863 -1.593943  0.363601   \n",
      "2 -0.462493 -2.031486 -0.125549 -1.528304  0.123850 -1.026633  0.238231   \n",
      "3  0.106369 -2.186939  0.116188 -1.520864  0.142727 -0.703652  0.068778   \n",
      "4  0.381094 -3.316631  0.390072 -2.754067  0.427469 -2.131407  0.336888   \n",
      "5 -0.262968 -3.256483 -0.094474 -2.594541  0.073604 -1.954448  0.088474   \n",
      "6 -0.970940 -2.595038 -0.683583 -2.042165 -0.376025 -1.472786 -0.190104   \n",
      "7 -0.304093 -1.997585 -0.215963 -1.307632 -0.116897 -0.454085 -0.069022   \n",
      "8  0.055419 -3.592592  0.131205 -2.973669  0.252867 -2.286043  0.242098   \n",
      "9 -0.344932 -3.766955 -0.137432 -2.997226  0.053303 -2.269871  0.066792   \n",
      "\n",
      "         Y4      Angle        X5        Y5        X6        Y6        X7  \\\n",
      "0 -1.227911  15.958005  0.456454 -2.852605  0.565661 -2.188466  0.568863   \n",
      "1 -0.907820  16.424084 -0.462493 -2.031486 -0.125549 -1.528304  0.123850   \n",
      "2 -0.510583  15.635178 -0.915264 -0.867298 -0.556912 -0.619065 -0.347119   \n",
      "3  0.170585  26.299685  0.381094 -3.316631  0.390072 -2.754067  0.427469   \n",
      "4 -1.266161  15.050765 -0.262968 -3.256483 -0.094474 -2.594541  0.073604   \n",
      "5 -1.111491  13.807231 -0.970940 -2.595038 -0.683583 -2.042165 -0.376025   \n",
      "6 -0.800848  14.902200 -1.493574 -1.457450 -1.151122 -1.159289 -0.929195   \n",
      "7  0.416620  15.051214  0.055419 -3.592592  0.131205 -2.973669  0.252867   \n",
      "8 -1.329521  12.915006 -0.344932 -3.766955 -0.137432 -2.997226  0.053303   \n",
      "9 -1.308215   7.824200 -0.905729 -3.185208 -0.604510 -2.520129 -0.291183   \n",
      "\n",
      "         Y7        X8        Y8  Angle number  RightorLeft  \n",
      "0 -1.593943  0.363601 -0.907820             2            0  \n",
      "1 -1.026633  0.238231 -0.510583             3            0  \n",
      "2 -0.385286 -0.006106 -0.007940             4            0  \n",
      "3 -2.131407  0.336888 -1.266161             1            0  \n",
      "4 -1.954448  0.088474 -1.111491             2            0  \n",
      "5 -1.472786 -0.190104 -0.800848             3            0  \n",
      "6 -0.890322 -0.549895 -0.352399             4            0  \n",
      "7 -2.286043  0.242098 -1.329521             1            0  \n",
      "8 -2.269871  0.066792 -1.308215             2            0  \n",
      "9 -1.861470 -0.161199 -1.063399             3            0  \n"
     ]
    }
   ],
   "source": [
    "#read data\n",
    "Data = pd.read_csv(r'C:\\Users\\User\\Desktop\\decision_tree_models\\data.csv')\n",
    "print('Data = \\n',Data.head(10))"
   ]
  },
  {
   "cell_type": "code",
   "execution_count": 3,
   "metadata": {},
   "outputs": [
    {
     "name": "stdout",
     "output_type": "stream",
     "text": [
      "<class 'pandas.core.frame.DataFrame'>\n",
      "RangeIndex: 4382 entries, 0 to 4381\n",
      "Data columns (total 19 columns):\n",
      " #   Column        Non-Null Count  Dtype  \n",
      "---  ------        --------------  -----  \n",
      " 0   X1            4382 non-null   float64\n",
      " 1   Y1            4382 non-null   float64\n",
      " 2   X2            4382 non-null   float64\n",
      " 3   Y2            4382 non-null   float64\n",
      " 4   X3            4382 non-null   float64\n",
      " 5   Y3            4382 non-null   float64\n",
      " 6   X4            4382 non-null   float64\n",
      " 7   Y4            4382 non-null   float64\n",
      " 8   Angle         4382 non-null   float64\n",
      " 9   X5            4382 non-null   float64\n",
      " 10  Y5            4382 non-null   float64\n",
      " 11  X6            4382 non-null   float64\n",
      " 12  Y6            4382 non-null   float64\n",
      " 13  X7            4382 non-null   float64\n",
      " 14  Y7            4382 non-null   float64\n",
      " 15  X8            4382 non-null   float64\n",
      " 16  Y8            4382 non-null   float64\n",
      " 17  Angle number  4382 non-null   int64  \n",
      " 18  RightorLeft   4382 non-null   int64  \n",
      "dtypes: float64(17), int64(2)\n",
      "memory usage: 650.6 KB\n"
     ]
    }
   ],
   "source": [
    "# Quick look at the data structure\n",
    "Data.info()"
   ]
  },
  {
   "cell_type": "code",
   "execution_count": 4,
   "metadata": {},
   "outputs": [],
   "source": [
    "Data1 = Data.drop(\"Angle number\", axis=1)\n",
    "Data_prepared = Data1.drop(\"RightorLeft\", axis=1)"
   ]
  },
  {
   "cell_type": "code",
   "execution_count": 5,
   "metadata": {},
   "outputs": [
    {
     "data": {
      "text/html": [
       "<div>\n",
       "<style scoped>\n",
       "    .dataframe tbody tr th:only-of-type {\n",
       "        vertical-align: middle;\n",
       "    }\n",
       "\n",
       "    .dataframe tbody tr th {\n",
       "        vertical-align: top;\n",
       "    }\n",
       "\n",
       "    .dataframe thead th {\n",
       "        text-align: right;\n",
       "    }\n",
       "</style>\n",
       "<table border=\"1\" class=\"dataframe\">\n",
       "  <thead>\n",
       "    <tr style=\"text-align: right;\">\n",
       "      <th></th>\n",
       "      <th>X1</th>\n",
       "      <th>Y1</th>\n",
       "      <th>X2</th>\n",
       "      <th>Y2</th>\n",
       "      <th>X3</th>\n",
       "      <th>Y3</th>\n",
       "      <th>X4</th>\n",
       "      <th>Y4</th>\n",
       "      <th>Angle</th>\n",
       "      <th>X5</th>\n",
       "      <th>Y5</th>\n",
       "      <th>X6</th>\n",
       "      <th>Y6</th>\n",
       "      <th>X7</th>\n",
       "      <th>Y7</th>\n",
       "      <th>X8</th>\n",
       "      <th>Y8</th>\n",
       "    </tr>\n",
       "  </thead>\n",
       "  <tbody>\n",
       "    <tr>\n",
       "      <th>0</th>\n",
       "      <td>0.860019</td>\n",
       "      <td>-3.096488</td>\n",
       "      <td>0.753413</td>\n",
       "      <td>-2.530522</td>\n",
       "      <td>0.629331</td>\n",
       "      <td>-1.962419</td>\n",
       "      <td>0.361692</td>\n",
       "      <td>-1.227911</td>\n",
       "      <td>15.958005</td>\n",
       "      <td>0.456454</td>\n",
       "      <td>-2.852605</td>\n",
       "      <td>0.565661</td>\n",
       "      <td>-2.188466</td>\n",
       "      <td>0.568863</td>\n",
       "      <td>-1.593943</td>\n",
       "      <td>0.363601</td>\n",
       "      <td>-0.907820</td>\n",
       "    </tr>\n",
       "    <tr>\n",
       "      <th>1</th>\n",
       "      <td>0.456454</td>\n",
       "      <td>-2.852605</td>\n",
       "      <td>0.565661</td>\n",
       "      <td>-2.188466</td>\n",
       "      <td>0.568863</td>\n",
       "      <td>-1.593943</td>\n",
       "      <td>0.363601</td>\n",
       "      <td>-0.907820</td>\n",
       "      <td>16.424084</td>\n",
       "      <td>-0.462493</td>\n",
       "      <td>-2.031486</td>\n",
       "      <td>-0.125549</td>\n",
       "      <td>-1.528304</td>\n",
       "      <td>0.123850</td>\n",
       "      <td>-1.026633</td>\n",
       "      <td>0.238231</td>\n",
       "      <td>-0.510583</td>\n",
       "    </tr>\n",
       "    <tr>\n",
       "      <th>2</th>\n",
       "      <td>-0.462493</td>\n",
       "      <td>-2.031486</td>\n",
       "      <td>-0.125549</td>\n",
       "      <td>-1.528304</td>\n",
       "      <td>0.123850</td>\n",
       "      <td>-1.026633</td>\n",
       "      <td>0.238231</td>\n",
       "      <td>-0.510583</td>\n",
       "      <td>15.635178</td>\n",
       "      <td>-0.915264</td>\n",
       "      <td>-0.867298</td>\n",
       "      <td>-0.556912</td>\n",
       "      <td>-0.619065</td>\n",
       "      <td>-0.347119</td>\n",
       "      <td>-0.385286</td>\n",
       "      <td>-0.006106</td>\n",
       "      <td>-0.007940</td>\n",
       "    </tr>\n",
       "    <tr>\n",
       "      <th>3</th>\n",
       "      <td>0.106369</td>\n",
       "      <td>-2.186939</td>\n",
       "      <td>0.116188</td>\n",
       "      <td>-1.520864</td>\n",
       "      <td>0.142727</td>\n",
       "      <td>-0.703652</td>\n",
       "      <td>0.068778</td>\n",
       "      <td>0.170585</td>\n",
       "      <td>26.299685</td>\n",
       "      <td>0.381094</td>\n",
       "      <td>-3.316631</td>\n",
       "      <td>0.390072</td>\n",
       "      <td>-2.754067</td>\n",
       "      <td>0.427469</td>\n",
       "      <td>-2.131407</td>\n",
       "      <td>0.336888</td>\n",
       "      <td>-1.266161</td>\n",
       "    </tr>\n",
       "    <tr>\n",
       "      <th>4</th>\n",
       "      <td>0.381094</td>\n",
       "      <td>-3.316631</td>\n",
       "      <td>0.390072</td>\n",
       "      <td>-2.754067</td>\n",
       "      <td>0.427469</td>\n",
       "      <td>-2.131407</td>\n",
       "      <td>0.336888</td>\n",
       "      <td>-1.266161</td>\n",
       "      <td>15.050765</td>\n",
       "      <td>-0.262968</td>\n",
       "      <td>-3.256483</td>\n",
       "      <td>-0.094474</td>\n",
       "      <td>-2.594541</td>\n",
       "      <td>0.073604</td>\n",
       "      <td>-1.954448</td>\n",
       "      <td>0.088474</td>\n",
       "      <td>-1.111491</td>\n",
       "    </tr>\n",
       "    <tr>\n",
       "      <th>...</th>\n",
       "      <td>...</td>\n",
       "      <td>...</td>\n",
       "      <td>...</td>\n",
       "      <td>...</td>\n",
       "      <td>...</td>\n",
       "      <td>...</td>\n",
       "      <td>...</td>\n",
       "      <td>...</td>\n",
       "      <td>...</td>\n",
       "      <td>...</td>\n",
       "      <td>...</td>\n",
       "      <td>...</td>\n",
       "      <td>...</td>\n",
       "      <td>...</td>\n",
       "      <td>...</td>\n",
       "      <td>...</td>\n",
       "      <td>...</td>\n",
       "    </tr>\n",
       "    <tr>\n",
       "      <th>4377</th>\n",
       "      <td>-0.062741</td>\n",
       "      <td>-1.551747</td>\n",
       "      <td>0.045611</td>\n",
       "      <td>-1.411194</td>\n",
       "      <td>0.127355</td>\n",
       "      <td>-1.191181</td>\n",
       "      <td>0.166852</td>\n",
       "      <td>-0.674771</td>\n",
       "      <td>16.413348</td>\n",
       "      <td>0.999667</td>\n",
       "      <td>-0.749717</td>\n",
       "      <td>0.921627</td>\n",
       "      <td>-0.763741</td>\n",
       "      <td>0.865024</td>\n",
       "      <td>-0.686507</td>\n",
       "      <td>0.651504</td>\n",
       "      <td>-0.368527</td>\n",
       "    </tr>\n",
       "    <tr>\n",
       "      <th>4378</th>\n",
       "      <td>-2.267335</td>\n",
       "      <td>-0.268131</td>\n",
       "      <td>-1.854967</td>\n",
       "      <td>-0.026095</td>\n",
       "      <td>-1.296666</td>\n",
       "      <td>0.205503</td>\n",
       "      <td>-0.551713</td>\n",
       "      <td>0.374657</td>\n",
       "      <td>31.241070</td>\n",
       "      <td>-1.440972</td>\n",
       "      <td>-1.620398</td>\n",
       "      <td>-1.243105</td>\n",
       "      <td>-1.525755</td>\n",
       "      <td>-1.004849</td>\n",
       "      <td>-1.308904</td>\n",
       "      <td>-0.691679</td>\n",
       "      <td>-0.775991</td>\n",
       "    </tr>\n",
       "    <tr>\n",
       "      <th>4379</th>\n",
       "      <td>-1.440972</td>\n",
       "      <td>-1.620398</td>\n",
       "      <td>-1.243105</td>\n",
       "      <td>-1.525755</td>\n",
       "      <td>-1.004849</td>\n",
       "      <td>-1.308904</td>\n",
       "      <td>-0.691679</td>\n",
       "      <td>-0.775991</td>\n",
       "      <td>12.714905</td>\n",
       "      <td>-0.662472</td>\n",
       "      <td>-1.920445</td>\n",
       "      <td>-0.503616</td>\n",
       "      <td>-1.723199</td>\n",
       "      <td>-0.361787</td>\n",
       "      <td>-1.437736</td>\n",
       "      <td>-0.204369</td>\n",
       "      <td>-0.784314</td>\n",
       "    </tr>\n",
       "    <tr>\n",
       "      <th>4380</th>\n",
       "      <td>-0.662472</td>\n",
       "      <td>-1.920445</td>\n",
       "      <td>-0.503616</td>\n",
       "      <td>-1.723199</td>\n",
       "      <td>-0.361787</td>\n",
       "      <td>-1.437736</td>\n",
       "      <td>-0.204369</td>\n",
       "      <td>-0.784314</td>\n",
       "      <td>15.642965</td>\n",
       "      <td>0.180689</td>\n",
       "      <td>-1.564075</td>\n",
       "      <td>0.234575</td>\n",
       "      <td>-1.405511</td>\n",
       "      <td>0.262920</td>\n",
       "      <td>-1.184882</td>\n",
       "      <td>0.233117</td>\n",
       "      <td>-0.650946</td>\n",
       "    </tr>\n",
       "    <tr>\n",
       "      <th>4381</th>\n",
       "      <td>0.180689</td>\n",
       "      <td>-1.564075</td>\n",
       "      <td>0.234575</td>\n",
       "      <td>-1.405511</td>\n",
       "      <td>0.262920</td>\n",
       "      <td>-1.184882</td>\n",
       "      <td>0.233117</td>\n",
       "      <td>-0.650946</td>\n",
       "      <td>10.788435</td>\n",
       "      <td>1.183100</td>\n",
       "      <td>-0.692652</td>\n",
       "      <td>1.074610</td>\n",
       "      <td>-0.683981</td>\n",
       "      <td>0.979563</td>\n",
       "      <td>-0.623458</td>\n",
       "      <td>0.692269</td>\n",
       "      <td>-0.317359</td>\n",
       "    </tr>\n",
       "  </tbody>\n",
       "</table>\n",
       "<p>4382 rows × 17 columns</p>\n",
       "</div>"
      ],
      "text/plain": [
       "            X1        Y1        X2        Y2        X3        Y3        X4  \\\n",
       "0     0.860019 -3.096488  0.753413 -2.530522  0.629331 -1.962419  0.361692   \n",
       "1     0.456454 -2.852605  0.565661 -2.188466  0.568863 -1.593943  0.363601   \n",
       "2    -0.462493 -2.031486 -0.125549 -1.528304  0.123850 -1.026633  0.238231   \n",
       "3     0.106369 -2.186939  0.116188 -1.520864  0.142727 -0.703652  0.068778   \n",
       "4     0.381094 -3.316631  0.390072 -2.754067  0.427469 -2.131407  0.336888   \n",
       "...        ...       ...       ...       ...       ...       ...       ...   \n",
       "4377 -0.062741 -1.551747  0.045611 -1.411194  0.127355 -1.191181  0.166852   \n",
       "4378 -2.267335 -0.268131 -1.854967 -0.026095 -1.296666  0.205503 -0.551713   \n",
       "4379 -1.440972 -1.620398 -1.243105 -1.525755 -1.004849 -1.308904 -0.691679   \n",
       "4380 -0.662472 -1.920445 -0.503616 -1.723199 -0.361787 -1.437736 -0.204369   \n",
       "4381  0.180689 -1.564075  0.234575 -1.405511  0.262920 -1.184882  0.233117   \n",
       "\n",
       "            Y4      Angle        X5        Y5        X6        Y6        X7  \\\n",
       "0    -1.227911  15.958005  0.456454 -2.852605  0.565661 -2.188466  0.568863   \n",
       "1    -0.907820  16.424084 -0.462493 -2.031486 -0.125549 -1.528304  0.123850   \n",
       "2    -0.510583  15.635178 -0.915264 -0.867298 -0.556912 -0.619065 -0.347119   \n",
       "3     0.170585  26.299685  0.381094 -3.316631  0.390072 -2.754067  0.427469   \n",
       "4    -1.266161  15.050765 -0.262968 -3.256483 -0.094474 -2.594541  0.073604   \n",
       "...        ...        ...       ...       ...       ...       ...       ...   \n",
       "4377 -0.674771  16.413348  0.999667 -0.749717  0.921627 -0.763741  0.865024   \n",
       "4378  0.374657  31.241070 -1.440972 -1.620398 -1.243105 -1.525755 -1.004849   \n",
       "4379 -0.775991  12.714905 -0.662472 -1.920445 -0.503616 -1.723199 -0.361787   \n",
       "4380 -0.784314  15.642965  0.180689 -1.564075  0.234575 -1.405511  0.262920   \n",
       "4381 -0.650946  10.788435  1.183100 -0.692652  1.074610 -0.683981  0.979563   \n",
       "\n",
       "            Y7        X8        Y8  \n",
       "0    -1.593943  0.363601 -0.907820  \n",
       "1    -1.026633  0.238231 -0.510583  \n",
       "2    -0.385286 -0.006106 -0.007940  \n",
       "3    -2.131407  0.336888 -1.266161  \n",
       "4    -1.954448  0.088474 -1.111491  \n",
       "...        ...       ...       ...  \n",
       "4377 -0.686507  0.651504 -0.368527  \n",
       "4378 -1.308904 -0.691679 -0.775991  \n",
       "4379 -1.437736 -0.204369 -0.784314  \n",
       "4380 -1.184882  0.233117 -0.650946  \n",
       "4381 -0.623458  0.692269 -0.317359  \n",
       "\n",
       "[4382 rows x 17 columns]"
      ]
     },
     "execution_count": 5,
     "metadata": {},
     "output_type": "execute_result"
    }
   ],
   "source": [
    "Data_prepared"
   ]
  },
  {
   "cell_type": "code",
   "execution_count": 6,
   "metadata": {},
   "outputs": [],
   "source": [
    "# import seaborn as sns\n",
    "# sns.pairplot(Data_prepared)"
   ]
  },
  {
   "cell_type": "code",
   "execution_count": 7,
   "metadata": {},
   "outputs": [],
   "source": [
    "# split the data \n",
    "from sklearn.model_selection import train_test_split\n",
    "\n",
    "train_set, test_set = train_test_split(Data_prepared, test_size=0.2, random_state=42)"
   ]
  },
  {
   "cell_type": "code",
   "execution_count": 8,
   "metadata": {},
   "outputs": [
    {
     "data": {
      "text/html": [
       "<div>\n",
       "<style scoped>\n",
       "    .dataframe tbody tr th:only-of-type {\n",
       "        vertical-align: middle;\n",
       "    }\n",
       "\n",
       "    .dataframe tbody tr th {\n",
       "        vertical-align: top;\n",
       "    }\n",
       "\n",
       "    .dataframe thead th {\n",
       "        text-align: right;\n",
       "    }\n",
       "</style>\n",
       "<table border=\"1\" class=\"dataframe\">\n",
       "  <thead>\n",
       "    <tr style=\"text-align: right;\">\n",
       "      <th></th>\n",
       "      <th>X1</th>\n",
       "      <th>Y1</th>\n",
       "      <th>X2</th>\n",
       "      <th>Y2</th>\n",
       "      <th>X3</th>\n",
       "      <th>Y3</th>\n",
       "      <th>X4</th>\n",
       "      <th>Y4</th>\n",
       "      <th>Angle</th>\n",
       "      <th>X5</th>\n",
       "      <th>Y5</th>\n",
       "      <th>X6</th>\n",
       "      <th>Y6</th>\n",
       "      <th>X7</th>\n",
       "      <th>Y7</th>\n",
       "      <th>X8</th>\n",
       "      <th>Y8</th>\n",
       "    </tr>\n",
       "  </thead>\n",
       "  <tbody>\n",
       "    <tr>\n",
       "      <th>670</th>\n",
       "      <td>-0.036958</td>\n",
       "      <td>-2.439708</td>\n",
       "      <td>-0.151748</td>\n",
       "      <td>-1.751869</td>\n",
       "      <td>-0.203871</td>\n",
       "      <td>-0.937441</td>\n",
       "      <td>-0.286370</td>\n",
       "      <td>-0.047744</td>\n",
       "      <td>39.606503</td>\n",
       "      <td>1.560510</td>\n",
       "      <td>-3.120231</td>\n",
       "      <td>1.263452</td>\n",
       "      <td>-2.564677</td>\n",
       "      <td>0.977038</td>\n",
       "      <td>-1.978325</td>\n",
       "      <td>0.514782</td>\n",
       "      <td>-1.211725</td>\n",
       "    </tr>\n",
       "    <tr>\n",
       "      <th>2417</th>\n",
       "      <td>-0.496443</td>\n",
       "      <td>-2.212595</td>\n",
       "      <td>-0.277505</td>\n",
       "      <td>-1.715926</td>\n",
       "      <td>-0.049095</td>\n",
       "      <td>-1.199572</td>\n",
       "      <td>0.013035</td>\n",
       "      <td>-0.613426</td>\n",
       "      <td>15.629651</td>\n",
       "      <td>-1.010371</td>\n",
       "      <td>-1.038258</td>\n",
       "      <td>-0.697754</td>\n",
       "      <td>-0.783644</td>\n",
       "      <td>-0.524011</td>\n",
       "      <td>-0.556461</td>\n",
       "      <td>-0.271823</td>\n",
       "      <td>-0.118667</td>\n",
       "    </tr>\n",
       "    <tr>\n",
       "      <th>596</th>\n",
       "      <td>-0.284349</td>\n",
       "      <td>-3.169149</td>\n",
       "      <td>-0.103853</td>\n",
       "      <td>-2.481122</td>\n",
       "      <td>0.073029</td>\n",
       "      <td>-1.829867</td>\n",
       "      <td>0.053820</td>\n",
       "      <td>-1.061236</td>\n",
       "      <td>4.180429</td>\n",
       "      <td>-0.885141</td>\n",
       "      <td>-2.500813</td>\n",
       "      <td>-0.577390</td>\n",
       "      <td>-1.839822</td>\n",
       "      <td>-0.304928</td>\n",
       "      <td>-1.263751</td>\n",
       "      <td>-0.188361</td>\n",
       "      <td>-0.663147</td>\n",
       "    </tr>\n",
       "    <tr>\n",
       "      <th>2629</th>\n",
       "      <td>1.558989</td>\n",
       "      <td>-2.525897</td>\n",
       "      <td>1.278059</td>\n",
       "      <td>-2.063646</td>\n",
       "      <td>0.987350</td>\n",
       "      <td>-1.607824</td>\n",
       "      <td>0.559566</td>\n",
       "      <td>-1.053691</td>\n",
       "      <td>25.326243</td>\n",
       "      <td>1.193229</td>\n",
       "      <td>-2.051963</td>\n",
       "      <td>1.046683</td>\n",
       "      <td>-1.562685</td>\n",
       "      <td>0.855178</td>\n",
       "      <td>-1.099170</td>\n",
       "      <td>0.454378</td>\n",
       "      <td>-0.651524</td>\n",
       "    </tr>\n",
       "    <tr>\n",
       "      <th>1395</th>\n",
       "      <td>0.921632</td>\n",
       "      <td>-1.839371</td>\n",
       "      <td>0.870753</td>\n",
       "      <td>-1.643973</td>\n",
       "      <td>0.769634</td>\n",
       "      <td>-1.350292</td>\n",
       "      <td>0.511160</td>\n",
       "      <td>-0.733900</td>\n",
       "      <td>13.204648</td>\n",
       "      <td>1.370833</td>\n",
       "      <td>-0.738958</td>\n",
       "      <td>1.302034</td>\n",
       "      <td>-0.746930</td>\n",
       "      <td>1.207433</td>\n",
       "      <td>-0.688365</td>\n",
       "      <td>0.869758</td>\n",
       "      <td>-0.309678</td>\n",
       "    </tr>\n",
       "  </tbody>\n",
       "</table>\n",
       "</div>"
      ],
      "text/plain": [
       "            X1        Y1        X2        Y2        X3        Y3        X4  \\\n",
       "670  -0.036958 -2.439708 -0.151748 -1.751869 -0.203871 -0.937441 -0.286370   \n",
       "2417 -0.496443 -2.212595 -0.277505 -1.715926 -0.049095 -1.199572  0.013035   \n",
       "596  -0.284349 -3.169149 -0.103853 -2.481122  0.073029 -1.829867  0.053820   \n",
       "2629  1.558989 -2.525897  1.278059 -2.063646  0.987350 -1.607824  0.559566   \n",
       "1395  0.921632 -1.839371  0.870753 -1.643973  0.769634 -1.350292  0.511160   \n",
       "\n",
       "            Y4      Angle        X5        Y5        X6        Y6        X7  \\\n",
       "670  -0.047744  39.606503  1.560510 -3.120231  1.263452 -2.564677  0.977038   \n",
       "2417 -0.613426  15.629651 -1.010371 -1.038258 -0.697754 -0.783644 -0.524011   \n",
       "596  -1.061236   4.180429 -0.885141 -2.500813 -0.577390 -1.839822 -0.304928   \n",
       "2629 -1.053691  25.326243  1.193229 -2.051963  1.046683 -1.562685  0.855178   \n",
       "1395 -0.733900  13.204648  1.370833 -0.738958  1.302034 -0.746930  1.207433   \n",
       "\n",
       "            Y7        X8        Y8  \n",
       "670  -1.978325  0.514782 -1.211725  \n",
       "2417 -0.556461 -0.271823 -0.118667  \n",
       "596  -1.263751 -0.188361 -0.663147  \n",
       "2629 -1.099170  0.454378 -0.651524  \n",
       "1395 -0.688365  0.869758 -0.309678  "
      ]
     },
     "execution_count": 8,
     "metadata": {},
     "output_type": "execute_result"
    }
   ],
   "source": [
    "test_set.head()"
   ]
  },
  {
   "cell_type": "code",
   "execution_count": 9,
   "metadata": {},
   "outputs": [],
   "source": [
    "Data_prepared = train_set.copy()"
   ]
  },
  {
   "cell_type": "code",
   "execution_count": 10,
   "metadata": {},
   "outputs": [
    {
     "data": {
      "text/plain": [
       "Angle    1.000000\n",
       "Y4       0.673085\n",
       "Y3       0.633347\n",
       "Y2       0.551183\n",
       "Y1       0.448352\n",
       "X5      -0.046684\n",
       "X6      -0.083856\n",
       "Y5      -0.103842\n",
       "X7      -0.117606\n",
       "Y6      -0.129496\n",
       "Y7      -0.149414\n",
       "X8      -0.171393\n",
       "Y8      -0.207860\n",
       "X4      -0.324361\n",
       "X1      -0.355447\n",
       "X3      -0.373661\n",
       "X2      -0.378034\n",
       "Name: Angle, dtype: float64"
      ]
     },
     "execution_count": 10,
     "metadata": {},
     "output_type": "execute_result"
    }
   ],
   "source": [
    "corr_matrix = Data_prepared.corr()\n",
    "corr_matrix[\"Angle\"].sort_values(ascending=False)"
   ]
  },
  {
   "cell_type": "code",
   "execution_count": 11,
   "metadata": {},
   "outputs": [],
   "source": [
    "# Prepare the data for Machine Learning algorithms\n",
    "\n",
    "Data_prepared = train_set.drop(\"Angle\", axis=1) # drop labels for training set\n",
    "Data_prepared_label = train_set[\"Angle\"].copy()"
   ]
  },
  {
   "cell_type": "code",
   "execution_count": 12,
   "metadata": {},
   "outputs": [
    {
     "data": {
      "text/plain": [
       "RandomForestRegressor(random_state=42)"
      ]
     },
     "execution_count": 12,
     "metadata": {},
     "output_type": "execute_result"
    }
   ],
   "source": [
    "# Select and train a model \n",
    "\n",
    "from sklearn.ensemble import RandomForestRegressor\n",
    "svr_reg=RandomForestRegressor(n_estimators=100,random_state=42)\n",
    "svr_reg.fit(Data_prepared, Data_prepared_label)"
   ]
  },
  {
   "cell_type": "code",
   "execution_count": 13,
   "metadata": {},
   "outputs": [
    {
     "name": "stdout",
     "output_type": "stream",
     "text": [
      "Predictions: [11.08130498 15.94573549 17.5119345  14.05500726 15.17432339]\n"
     ]
    }
   ],
   "source": [
    "some_data = Data_prepared.iloc[:5]\n",
    "some_labels = Data_prepared_label.iloc[:5]\n",
    "print(\"Predictions:\",svr_reg.predict(some_data))"
   ]
  },
  {
   "cell_type": "code",
   "execution_count": 14,
   "metadata": {},
   "outputs": [
    {
     "name": "stdout",
     "output_type": "stream",
     "text": [
      "Labels: [8.964205768, 18.80230809, 18.28498482, 15.29624034, 16.1806679]\n"
     ]
    }
   ],
   "source": [
    "# Compare against the actual values:\n",
    "\n",
    "print(\"Labels:\", list(some_labels))"
   ]
  },
  {
   "cell_type": "code",
   "execution_count": 15,
   "metadata": {},
   "outputs": [
    {
     "data": {
      "text/plain": [
       "1.8958758088929377"
      ]
     },
     "execution_count": 15,
     "metadata": {},
     "output_type": "execute_result"
    }
   ],
   "source": [
    "from sklearn.metrics import mean_squared_error\n",
    "\n",
    "Data_predictions = svr_reg.predict(Data_prepared)\n",
    "lin_mse = mean_squared_error(Data_prepared_label, Data_predictions)\n",
    "lin_rmse = np.sqrt(lin_mse)\n",
    "lin_rmse"
   ]
  },
  {
   "cell_type": "code",
   "execution_count": 16,
   "metadata": {},
   "outputs": [],
   "source": [
    "# Cross Validation\n",
    "\n",
    "from sklearn.model_selection import cross_val_score\n",
    "\n",
    "lin_scores = cross_val_score(svr_reg, Data_prepared, Data_prepared_label,\n",
    "                         scoring=\"neg_mean_squared_error\", cv=10)\n",
    "lin_rmse_scores = np.sqrt(-lin_scores)"
   ]
  },
  {
   "cell_type": "code",
   "execution_count": 17,
   "metadata": {},
   "outputs": [
    {
     "name": "stdout",
     "output_type": "stream",
     "text": [
      "Scores: [4.86277412 5.24858406 4.91262708 5.12558168 4.8266967  5.59825414\n",
      " 5.27008042 5.18797719 5.22668983 5.02100368]\n",
      "Mean: 5.128026890347973\n",
      "Standard deviation: 0.22094597861486442\n"
     ]
    }
   ],
   "source": [
    "def display_scores(scores):\n",
    "    print(\"Scores:\", scores)\n",
    "    print(\"Mean:\", scores.mean())\n",
    "    print(\"Standard deviation:\", scores.std())\n",
    "\n",
    "display_scores(lin_rmse_scores)"
   ]
  },
  {
   "cell_type": "code",
   "execution_count": 18,
   "metadata": {},
   "outputs": [],
   "source": [
    "X_test = test_set.drop(\"Angle\", axis=1)\n",
    "y_test = test_set[\"Angle\"].copy()\n",
    "\n",
    "final_predictions = svr_reg.predict(X_test)\n",
    "\n",
    "final_mse = mean_squared_error(y_test, final_predictions)\n",
    "final_rmse = np.sqrt(final_mse)"
   ]
  },
  {
   "cell_type": "code",
   "execution_count": 19,
   "metadata": {},
   "outputs": [
    {
     "data": {
      "text/plain": [
       "<matplotlib.collections.PathCollection at 0x1c23c382ca0>"
      ]
     },
     "execution_count": 19,
     "metadata": {},
     "output_type": "execute_result"
    },
    {
     "data": {
      "image/png": "[encoded data removed]",
      "text/plain": [
       "<Figure size 432x288 with 1 Axes>"
      ]
     },
     "metadata": {
      "needs_background": "light"
     },
     "output_type": "display_data"
    }
   ],
   "source": [
    "plt.scatter(y_test, final_predictions)"
   ]
  },
  {
   "cell_type": "code",
   "execution_count": 20,
   "metadata": {},
   "outputs": [
    {
     "data": {
      "text/plain": [
       "(array([  8.,  18., 120., 332., 277.,  86.,  24.,   7.,   3.,   2.]),\n",
       " array([-17.46782185, -13.01402453,  -8.5602272 ,  -4.10642988,\n",
       "          0.34736745,   4.80116477,   9.25496209,  13.70875942,\n",
       "         18.16255674,  22.61635407,  27.07015139]),\n",
       " <BarContainer object of 10 artists>)"
      ]
     },
     "execution_count": 20,
     "metadata": {},
     "output_type": "execute_result"
    },
    {
     "data": {
      "image/png": "[encoded data removed]",
      "text/plain": [
       "<Figure size 432x288 with 1 Axes>"
      ]
     },
     "metadata": {
      "needs_background": "light"
     },
     "output_type": "display_data"
    }
   ],
   "source": [
    "plt.hist(y_test - final_predictions)"
   ]
  },
  {
   "cell_type": "code",
   "execution_count": 21,
   "metadata": {},
   "outputs": [
    {
     "data": {
      "text/plain": [
       "5.033676781166301"
      ]
     },
     "execution_count": 21,
     "metadata": {},
     "output_type": "execute_result"
    }
   ],
   "source": [
    "final_rmse"
   ]
  },
  {
   "cell_type": "code",
   "execution_count": 22,
   "metadata": {},
   "outputs": [
    {
     "data": {
      "text/plain": [
       "array([4.65972491, 5.38170676])"
      ]
     },
     "execution_count": 22,
     "metadata": {},
     "output_type": "execute_result"
    }
   ],
   "source": [
    "from scipy import stats\n",
    "\n",
    "confidence = 0.95\n",
    "squared_errors = (final_predictions - y_test) ** 2\n",
    "np.sqrt(stats.t.interval(confidence, len(squared_errors) - 1,\n",
    "                         loc=squared_errors.mean(),\n",
    "                         scale=stats.sem(squared_errors)))"
   ]
  },
  {
   "cell_type": "code",
   "execution_count": 23,
   "metadata": {},
   "outputs": [
    {
     "name": "stdout",
     "output_type": "stream",
     "text": [
      "Regressor model performance:\n",
      "Mean absolute error(MAE) = 3.72\n",
      "Mean squared error(MSE) = 25.34\n",
      "Median absolute error = 2.8\n",
      "Explain variance score = 0.71\n",
      "R2 score = 0.71\n"
     ]
    }
   ],
   "source": [
    "import sklearn.metrics as sm\n",
    "\n",
    "print(\"Regressor model performance:\")\n",
    "print(\"Mean absolute error(MAE) =\", round(sm.mean_absolute_error(y_test, final_predictions), 2))\n",
    "print(\"Mean squared error(MSE) =\", round(sm.mean_squared_error(y_test, final_predictions), 2))\n",
    "print(\"Median absolute error =\", round(sm.median_absolute_error(y_test, final_predictions), 2))\n",
    "print(\"Explain variance score =\", round(sm.explained_variance_score(y_test, final_predictions), 2))\n",
    "print(\"R2 score =\", round(sm.r2_score(y_test, final_predictions), 2))"
   ]
  },
  {
   "cell_type": "code",
   "execution_count": 24,
   "metadata": {},
   "outputs": [],
   "source": [
    "def mean_absolute_percentage_error(y_test, final_predictions): \n",
    "    y_test, final_predictions = np.array(y_test), np.array(final_predictions)\n",
    "    return np.mean(np.abs((y_test - final_predictions) / final_predictions)) * 100"
   ]
  },
  {
   "cell_type": "code",
   "execution_count": 25,
   "metadata": {},
   "outputs": [
    {
     "name": "stdout",
     "output_type": "stream",
     "text": [
      "24.17139112327695\n"
     ]
    }
   ],
   "source": [
    "print(mean_absolute_percentage_error(y_test, final_predictions))"
   ]
  },
  {
   "cell_type": "code",
   "execution_count": null,
   "metadata": {},
   "outputs": [],
   "source": []
  }
 ],
 "metadata": {
  "kernelspec": {
   "display_name": "Python 3",
   "language": "python",
   "name": "python3"
  },
  "language_info": {
   "codemirror_mode": {
    "name": "ipython",
    "version": 3
   },
   "file_extension": ".py",
   "mimetype": "text/x-python",
   "name": "python",
   "nbconvert_exporter": "python",
   "pygments_lexer": "ipython3",
   "version": "3.9.0"
  }
 },
 "nbformat": 4,
 "nbformat_minor": 4
}
