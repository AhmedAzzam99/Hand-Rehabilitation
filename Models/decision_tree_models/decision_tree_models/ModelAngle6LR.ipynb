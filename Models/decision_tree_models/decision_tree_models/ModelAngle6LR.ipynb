{
 "cells": [
  {
   "cell_type": "code",
   "execution_count": 1,
   "metadata": {},
   "outputs": [],
   "source": [
    "#import libraries\n",
    "import numpy as np\n",
    "import pandas as pd\n",
    "import matplotlib.pyplot as plt"
   ]
  },
  {
   "cell_type": "code",
   "execution_count": 2,
   "metadata": {},
   "outputs": [
    {
     "name": "stdout",
     "output_type": "stream",
     "text": [
      "Data = \n",
      "          X1        Y1        X2        Y2        X3        Y3        X4  \\\n",
      "0  0.860019 -3.096488  0.753413 -2.530522  0.629331 -1.962419  0.361692   \n",
      "1  0.456454 -2.852605  0.565661 -2.188466  0.568863 -1.593943  0.363601   \n",
      "2 -0.462493 -2.031486 -0.125549 -1.528304  0.123850 -1.026633  0.238231   \n",
      "3  0.106369 -2.186939  0.116188 -1.520864  0.142727 -0.703652  0.068778   \n",
      "4  0.381094 -3.316631  0.390072 -2.754067  0.427469 -2.131407  0.336888   \n",
      "5 -0.262968 -3.256483 -0.094474 -2.594541  0.073604 -1.954448  0.088474   \n",
      "6 -0.970940 -2.595038 -0.683583 -2.042165 -0.376025 -1.472786 -0.190104   \n",
      "7 -0.304093 -1.997585 -0.215963 -1.307632 -0.116897 -0.454085 -0.069022   \n",
      "8  0.055419 -3.592592  0.131205 -2.973669  0.252867 -2.286043  0.242098   \n",
      "9 -0.344932 -3.766955 -0.137432 -2.997226  0.053303 -2.269871  0.066792   \n",
      "\n",
      "         Y4      Angle        X5        Y5        X6        Y6        X7  \\\n",
      "0 -1.227911  15.958005  0.456454 -2.852605  0.565661 -2.188466  0.568863   \n",
      "1 -0.907820  16.424084 -0.462493 -2.031486 -0.125549 -1.528304  0.123850   \n",
      "2 -0.510583  15.635178 -0.915264 -0.867298 -0.556912 -0.619065 -0.347119   \n",
      "3  0.170585  26.299685  0.381094 -3.316631  0.390072 -2.754067  0.427469   \n",
      "4 -1.266161  15.050765 -0.262968 -3.256483 -0.094474 -2.594541  0.073604   \n",
      "5 -1.111491  13.807231 -0.970940 -2.595038 -0.683583 -2.042165 -0.376025   \n",
      "6 -0.800848  14.902200 -1.493574 -1.457450 -1.151122 -1.159289 -0.929195   \n",
      "7  0.416620  15.051214  0.055419 -3.592592  0.131205 -2.973669  0.252867   \n",
      "8 -1.329521  12.915006 -0.344932 -3.766955 -0.137432 -2.997226  0.053303   \n",
      "9 -1.308215   7.824200 -0.905729 -3.185208 -0.604510 -2.520129 -0.291183   \n",
      "\n",
      "         Y7        X8        Y8  Angle number  RightorLeft  \n",
      "0 -1.593943  0.363601 -0.907820             2            0  \n",
      "1 -1.026633  0.238231 -0.510583             3            0  \n",
      "2 -0.385286 -0.006106 -0.007940             4            0  \n",
      "3 -2.131407  0.336888 -1.266161             1            0  \n",
      "4 -1.954448  0.088474 -1.111491             2            0  \n",
      "5 -1.472786 -0.190104 -0.800848             3            0  \n",
      "6 -0.890322 -0.549895 -0.352399             4            0  \n",
      "7 -2.286043  0.242098 -1.329521             1            0  \n",
      "8 -2.269871  0.066792 -1.308215             2            0  \n",
      "9 -1.861470 -0.161199 -1.063399             3            0  \n"
     ]
    }
   ],
   "source": [
    "#read data\n",
    "Data = pd.read_csv('data.csv')\n",
    "print('Data = \\n',Data.head(10))"
   ]
  },
  {
   "cell_type": "code",
   "execution_count": 3,
   "metadata": {},
   "outputs": [
    {
     "name": "stdout",
     "output_type": "stream",
     "text": [
      "Data = \n",
      "           X1        Y1        X2        Y2        X3        Y3        X4  \\\n",
      "0   0.860019 -3.096488  0.753413 -2.530522  0.629331 -1.962419  0.361692   \n",
      "4   0.381094 -3.316631  0.390072 -2.754067  0.427469 -2.131407  0.336888   \n",
      "8   0.055419 -3.592592  0.131205 -2.973669  0.252867 -2.286043  0.242098   \n",
      "12 -1.081559 -3.522217 -0.865764 -2.893043 -0.592471 -2.225238 -0.427591   \n",
      "15  0.432835 -3.170302  0.423602 -2.640779  0.433069 -2.048975  0.325260   \n",
      "19  0.581242 -3.276182  0.532582 -2.693669  0.509752 -2.072711  0.357651   \n",
      "23  0.128192 -3.585495  0.208429 -2.974061  0.327548 -2.295803  0.306496   \n",
      "27  0.267794 -3.578427  0.305904 -2.940847  0.392362 -2.264511  0.341946   \n",
      "31  0.584812 -3.398577  0.551334 -2.793617  0.558370 -2.144527  0.420046   \n",
      "35  0.842027 -3.355388  0.722629 -2.742093  0.634589 -2.107575  0.383169   \n",
      "\n",
      "          Y4      Angle        X5        Y5        X6        Y6        X7  \\\n",
      "0  -1.227911  15.958005  0.456454 -2.852605  0.565661 -2.188466  0.568863   \n",
      "4  -1.266161  15.050765 -0.262968 -3.256483 -0.094474 -2.594541  0.073604   \n",
      "8  -1.329521  12.915006 -0.344932 -3.766955 -0.137432 -2.997226  0.053303   \n",
      "12 -1.291817  13.307645 -0.838851 -3.732168 -0.534015 -3.003944 -0.278649   \n",
      "15 -1.236259  13.198902 -0.260781 -3.128140 -0.060634 -2.458027  0.095771   \n",
      "19 -1.249717  16.413302 -0.030221 -3.139637  0.079306 -2.474090  0.187384   \n",
      "23 -1.368646  14.650647 -0.328681 -3.656366 -0.116912 -2.887448  0.078374   \n",
      "27 -1.355696  14.373071 -0.260997 -3.503587 -0.109554 -2.779068  0.075505   \n",
      "31 -1.292742  13.621107  0.027210 -3.311380  0.114000 -2.604938  0.226501   \n",
      "35 -1.297026  14.292978  0.405838 -3.144172  0.432424 -2.459986  0.462744   \n",
      "\n",
      "          Y7        X8        Y8  Angle number  RightorLeft  \n",
      "0  -1.593943  0.363601 -0.907820             2            0  \n",
      "4  -1.954448  0.088474 -1.111491             2            0  \n",
      "8  -2.269871  0.066792 -1.308215             2            0  \n",
      "12 -2.293328 -0.173467 -1.311250             2            0  \n",
      "15 -1.814866  0.097707 -1.022131             2            0  \n",
      "19 -1.828523  0.130153 -1.044000             2            0  \n",
      "23 -2.173363  0.087590 -1.259572             2            0  \n",
      "27 -2.097643  0.075567 -1.220023             2            0  \n",
      "31 -1.937282  0.151225 -1.121759             2            0  \n",
      "35 -1.804315  0.256043 -1.036598             2            0  \n"
     ]
    }
   ],
   "source": [
    "DataA6= Data.loc[(Data['Angle number'] ==2) & (Data['RightorLeft'] ==0)]\n",
    "print('Data = \\n',DataA6.head(10))"
   ]
  },
  {
   "cell_type": "code",
   "execution_count": 4,
   "metadata": {},
   "outputs": [],
   "source": [
    "DataA6_ = DataA6.drop(\"Angle number\", axis=1)\n",
    "DataA6_prepared = DataA6_.drop(\"RightorLeft\", axis=1)"
   ]
  },
  {
   "cell_type": "code",
   "execution_count": 5,
   "metadata": {},
   "outputs": [
    {
     "data": {
      "text/html": [
       "<div>\n",
       "<style scoped>\n",
       "    .dataframe tbody tr th:only-of-type {\n",
       "        vertical-align: middle;\n",
       "    }\n",
       "\n",
       "    .dataframe tbody tr th {\n",
       "        vertical-align: top;\n",
       "    }\n",
       "\n",
       "    .dataframe thead th {\n",
       "        text-align: right;\n",
       "    }\n",
       "</style>\n",
       "<table border=\"1\" class=\"dataframe\">\n",
       "  <thead>\n",
       "    <tr style=\"text-align: right;\">\n",
       "      <th></th>\n",
       "      <th>X1</th>\n",
       "      <th>Y1</th>\n",
       "      <th>X2</th>\n",
       "      <th>Y2</th>\n",
       "      <th>X3</th>\n",
       "      <th>Y3</th>\n",
       "      <th>X4</th>\n",
       "      <th>Y4</th>\n",
       "      <th>Angle</th>\n",
       "      <th>X5</th>\n",
       "      <th>Y5</th>\n",
       "      <th>X6</th>\n",
       "      <th>Y6</th>\n",
       "      <th>X7</th>\n",
       "      <th>Y7</th>\n",
       "      <th>X8</th>\n",
       "      <th>Y8</th>\n",
       "    </tr>\n",
       "  </thead>\n",
       "  <tbody>\n",
       "    <tr>\n",
       "      <th>0</th>\n",
       "      <td>0.860019</td>\n",
       "      <td>-3.096488</td>\n",
       "      <td>0.753413</td>\n",
       "      <td>-2.530522</td>\n",
       "      <td>0.629331</td>\n",
       "      <td>-1.962419</td>\n",
       "      <td>0.361692</td>\n",
       "      <td>-1.227911</td>\n",
       "      <td>15.958005</td>\n",
       "      <td>0.456454</td>\n",
       "      <td>-2.852605</td>\n",
       "      <td>0.565661</td>\n",
       "      <td>-2.188466</td>\n",
       "      <td>0.568863</td>\n",
       "      <td>-1.593943</td>\n",
       "      <td>0.363601</td>\n",
       "      <td>-0.907820</td>\n",
       "    </tr>\n",
       "    <tr>\n",
       "      <th>4</th>\n",
       "      <td>0.381094</td>\n",
       "      <td>-3.316631</td>\n",
       "      <td>0.390072</td>\n",
       "      <td>-2.754067</td>\n",
       "      <td>0.427469</td>\n",
       "      <td>-2.131407</td>\n",
       "      <td>0.336888</td>\n",
       "      <td>-1.266161</td>\n",
       "      <td>15.050765</td>\n",
       "      <td>-0.262968</td>\n",
       "      <td>-3.256483</td>\n",
       "      <td>-0.094474</td>\n",
       "      <td>-2.594541</td>\n",
       "      <td>0.073604</td>\n",
       "      <td>-1.954448</td>\n",
       "      <td>0.088474</td>\n",
       "      <td>-1.111491</td>\n",
       "    </tr>\n",
       "    <tr>\n",
       "      <th>8</th>\n",
       "      <td>0.055419</td>\n",
       "      <td>-3.592592</td>\n",
       "      <td>0.131205</td>\n",
       "      <td>-2.973669</td>\n",
       "      <td>0.252867</td>\n",
       "      <td>-2.286043</td>\n",
       "      <td>0.242098</td>\n",
       "      <td>-1.329521</td>\n",
       "      <td>12.915006</td>\n",
       "      <td>-0.344932</td>\n",
       "      <td>-3.766955</td>\n",
       "      <td>-0.137432</td>\n",
       "      <td>-2.997226</td>\n",
       "      <td>0.053303</td>\n",
       "      <td>-2.269871</td>\n",
       "      <td>0.066792</td>\n",
       "      <td>-1.308215</td>\n",
       "    </tr>\n",
       "    <tr>\n",
       "      <th>12</th>\n",
       "      <td>-1.081559</td>\n",
       "      <td>-3.522217</td>\n",
       "      <td>-0.865764</td>\n",
       "      <td>-2.893043</td>\n",
       "      <td>-0.592471</td>\n",
       "      <td>-2.225238</td>\n",
       "      <td>-0.427591</td>\n",
       "      <td>-1.291817</td>\n",
       "      <td>13.307645</td>\n",
       "      <td>-0.838851</td>\n",
       "      <td>-3.732168</td>\n",
       "      <td>-0.534015</td>\n",
       "      <td>-3.003944</td>\n",
       "      <td>-0.278649</td>\n",
       "      <td>-2.293328</td>\n",
       "      <td>-0.173467</td>\n",
       "      <td>-1.311250</td>\n",
       "    </tr>\n",
       "    <tr>\n",
       "      <th>15</th>\n",
       "      <td>0.432835</td>\n",
       "      <td>-3.170302</td>\n",
       "      <td>0.423602</td>\n",
       "      <td>-2.640779</td>\n",
       "      <td>0.433069</td>\n",
       "      <td>-2.048975</td>\n",
       "      <td>0.325260</td>\n",
       "      <td>-1.236259</td>\n",
       "      <td>13.198902</td>\n",
       "      <td>-0.260781</td>\n",
       "      <td>-3.128140</td>\n",
       "      <td>-0.060634</td>\n",
       "      <td>-2.458027</td>\n",
       "      <td>0.095771</td>\n",
       "      <td>-1.814866</td>\n",
       "      <td>0.097707</td>\n",
       "      <td>-1.022131</td>\n",
       "    </tr>\n",
       "    <tr>\n",
       "      <th>...</th>\n",
       "      <td>...</td>\n",
       "      <td>...</td>\n",
       "      <td>...</td>\n",
       "      <td>...</td>\n",
       "      <td>...</td>\n",
       "      <td>...</td>\n",
       "      <td>...</td>\n",
       "      <td>...</td>\n",
       "      <td>...</td>\n",
       "      <td>...</td>\n",
       "      <td>...</td>\n",
       "      <td>...</td>\n",
       "      <td>...</td>\n",
       "      <td>...</td>\n",
       "      <td>...</td>\n",
       "      <td>...</td>\n",
       "      <td>...</td>\n",
       "    </tr>\n",
       "    <tr>\n",
       "      <th>4295</th>\n",
       "      <td>0.421660</td>\n",
       "      <td>-3.463836</td>\n",
       "      <td>0.395680</td>\n",
       "      <td>-2.825747</td>\n",
       "      <td>0.415162</td>\n",
       "      <td>-2.175039</td>\n",
       "      <td>0.308209</td>\n",
       "      <td>-1.322501</td>\n",
       "      <td>17.932461</td>\n",
       "      <td>-0.076117</td>\n",
       "      <td>-3.319487</td>\n",
       "      <td>0.045707</td>\n",
       "      <td>-2.595308</td>\n",
       "      <td>0.163303</td>\n",
       "      <td>-1.925939</td>\n",
       "      <td>0.110589</td>\n",
       "      <td>-1.123457</td>\n",
       "    </tr>\n",
       "    <tr>\n",
       "      <th>4299</th>\n",
       "      <td>0.636364</td>\n",
       "      <td>-3.210600</td>\n",
       "      <td>0.594083</td>\n",
       "      <td>-2.665265</td>\n",
       "      <td>0.579180</td>\n",
       "      <td>-2.055750</td>\n",
       "      <td>0.408258</td>\n",
       "      <td>-1.244803</td>\n",
       "      <td>16.585299</td>\n",
       "      <td>0.098204</td>\n",
       "      <td>-3.059574</td>\n",
       "      <td>0.195215</td>\n",
       "      <td>-2.425726</td>\n",
       "      <td>0.297045</td>\n",
       "      <td>-1.808329</td>\n",
       "      <td>0.210829</td>\n",
       "      <td>-1.032775</td>\n",
       "    </tr>\n",
       "    <tr>\n",
       "      <th>4303</th>\n",
       "      <td>-0.101960</td>\n",
       "      <td>-3.450998</td>\n",
       "      <td>0.021970</td>\n",
       "      <td>-2.870060</td>\n",
       "      <td>0.183779</td>\n",
       "      <td>-2.236202</td>\n",
       "      <td>0.210630</td>\n",
       "      <td>-1.273521</td>\n",
       "      <td>10.742426</td>\n",
       "      <td>-0.513170</td>\n",
       "      <td>-3.543671</td>\n",
       "      <td>-0.279045</td>\n",
       "      <td>-2.900126</td>\n",
       "      <td>-0.025717</td>\n",
       "      <td>-2.259763</td>\n",
       "      <td>0.060595</td>\n",
       "      <td>-1.304303</td>\n",
       "    </tr>\n",
       "    <tr>\n",
       "      <th>4307</th>\n",
       "      <td>0.939767</td>\n",
       "      <td>-3.224514</td>\n",
       "      <td>0.808645</td>\n",
       "      <td>-2.652426</td>\n",
       "      <td>0.696294</td>\n",
       "      <td>-2.030152</td>\n",
       "      <td>0.429681</td>\n",
       "      <td>-1.237427</td>\n",
       "      <td>15.266254</td>\n",
       "      <td>0.516417</td>\n",
       "      <td>-3.042123</td>\n",
       "      <td>0.489533</td>\n",
       "      <td>-2.393215</td>\n",
       "      <td>0.484393</td>\n",
       "      <td>-1.756944</td>\n",
       "      <td>0.267980</td>\n",
       "      <td>-1.007013</td>\n",
       "    </tr>\n",
       "    <tr>\n",
       "      <th>4311</th>\n",
       "      <td>0.796908</td>\n",
       "      <td>-3.575039</td>\n",
       "      <td>0.677558</td>\n",
       "      <td>-2.905571</td>\n",
       "      <td>0.593297</td>\n",
       "      <td>-2.215759</td>\n",
       "      <td>0.357096</td>\n",
       "      <td>-1.322004</td>\n",
       "      <td>14.265934</td>\n",
       "      <td>0.324067</td>\n",
       "      <td>-3.450843</td>\n",
       "      <td>0.336699</td>\n",
       "      <td>-2.720437</td>\n",
       "      <td>0.376307</td>\n",
       "      <td>-2.022319</td>\n",
       "      <td>0.204242</td>\n",
       "      <td>-1.162159</td>\n",
       "    </tr>\n",
       "  </tbody>\n",
       "</table>\n",
       "<p>567 rows × 17 columns</p>\n",
       "</div>"
      ],
      "text/plain": [
       "            X1        Y1        X2        Y2        X3        Y3        X4  \\\n",
       "0     0.860019 -3.096488  0.753413 -2.530522  0.629331 -1.962419  0.361692   \n",
       "4     0.381094 -3.316631  0.390072 -2.754067  0.427469 -2.131407  0.336888   \n",
       "8     0.055419 -3.592592  0.131205 -2.973669  0.252867 -2.286043  0.242098   \n",
       "12   -1.081559 -3.522217 -0.865764 -2.893043 -0.592471 -2.225238 -0.427591   \n",
       "15    0.432835 -3.170302  0.423602 -2.640779  0.433069 -2.048975  0.325260   \n",
       "...        ...       ...       ...       ...       ...       ...       ...   \n",
       "4295  0.421660 -3.463836  0.395680 -2.825747  0.415162 -2.175039  0.308209   \n",
       "4299  0.636364 -3.210600  0.594083 -2.665265  0.579180 -2.055750  0.408258   \n",
       "4303 -0.101960 -3.450998  0.021970 -2.870060  0.183779 -2.236202  0.210630   \n",
       "4307  0.939767 -3.224514  0.808645 -2.652426  0.696294 -2.030152  0.429681   \n",
       "4311  0.796908 -3.575039  0.677558 -2.905571  0.593297 -2.215759  0.357096   \n",
       "\n",
       "            Y4      Angle        X5        Y5        X6        Y6        X7  \\\n",
       "0    -1.227911  15.958005  0.456454 -2.852605  0.565661 -2.188466  0.568863   \n",
       "4    -1.266161  15.050765 -0.262968 -3.256483 -0.094474 -2.594541  0.073604   \n",
       "8    -1.329521  12.915006 -0.344932 -3.766955 -0.137432 -2.997226  0.053303   \n",
       "12   -1.291817  13.307645 -0.838851 -3.732168 -0.534015 -3.003944 -0.278649   \n",
       "15   -1.236259  13.198902 -0.260781 -3.128140 -0.060634 -2.458027  0.095771   \n",
       "...        ...        ...       ...       ...       ...       ...       ...   \n",
       "4295 -1.322501  17.932461 -0.076117 -3.319487  0.045707 -2.595308  0.163303   \n",
       "4299 -1.244803  16.585299  0.098204 -3.059574  0.195215 -2.425726  0.297045   \n",
       "4303 -1.273521  10.742426 -0.513170 -3.543671 -0.279045 -2.900126 -0.025717   \n",
       "4307 -1.237427  15.266254  0.516417 -3.042123  0.489533 -2.393215  0.484393   \n",
       "4311 -1.322004  14.265934  0.324067 -3.450843  0.336699 -2.720437  0.376307   \n",
       "\n",
       "            Y7        X8        Y8  \n",
       "0    -1.593943  0.363601 -0.907820  \n",
       "4    -1.954448  0.088474 -1.111491  \n",
       "8    -2.269871  0.066792 -1.308215  \n",
       "12   -2.293328 -0.173467 -1.311250  \n",
       "15   -1.814866  0.097707 -1.022131  \n",
       "...        ...       ...       ...  \n",
       "4295 -1.925939  0.110589 -1.123457  \n",
       "4299 -1.808329  0.210829 -1.032775  \n",
       "4303 -2.259763  0.060595 -1.304303  \n",
       "4307 -1.756944  0.267980 -1.007013  \n",
       "4311 -2.022319  0.204242 -1.162159  \n",
       "\n",
       "[567 rows x 17 columns]"
      ]
     },
     "execution_count": 5,
     "metadata": {},
     "output_type": "execute_result"
    }
   ],
   "source": [
    "DataA6_prepared"
   ]
  },
  {
   "cell_type": "code",
   "execution_count": 6,
   "metadata": {},
   "outputs": [],
   "source": [
    "# import seaborn as sns\n",
    "# sns.pairplot(DataA6_prepared)"
   ]
  },
  {
   "cell_type": "code",
   "execution_count": 7,
   "metadata": {},
   "outputs": [],
   "source": [
    "# split the data \n",
    "from sklearn.model_selection import train_test_split\n",
    "\n",
    "train_set, test_set = train_test_split(DataA6_prepared, test_size=0.2, random_state=42)"
   ]
  },
  {
   "cell_type": "code",
   "execution_count": 8,
   "metadata": {},
   "outputs": [
    {
     "data": {
      "text/html": [
       "<div>\n",
       "<style scoped>\n",
       "    .dataframe tbody tr th:only-of-type {\n",
       "        vertical-align: middle;\n",
       "    }\n",
       "\n",
       "    .dataframe tbody tr th {\n",
       "        vertical-align: top;\n",
       "    }\n",
       "\n",
       "    .dataframe thead th {\n",
       "        text-align: right;\n",
       "    }\n",
       "</style>\n",
       "<table border=\"1\" class=\"dataframe\">\n",
       "  <thead>\n",
       "    <tr style=\"text-align: right;\">\n",
       "      <th></th>\n",
       "      <th>X1</th>\n",
       "      <th>Y1</th>\n",
       "      <th>X2</th>\n",
       "      <th>Y2</th>\n",
       "      <th>X3</th>\n",
       "      <th>Y3</th>\n",
       "      <th>X4</th>\n",
       "      <th>Y4</th>\n",
       "      <th>Angle</th>\n",
       "      <th>X5</th>\n",
       "      <th>Y5</th>\n",
       "      <th>X6</th>\n",
       "      <th>Y6</th>\n",
       "      <th>X7</th>\n",
       "      <th>Y7</th>\n",
       "      <th>X8</th>\n",
       "      <th>Y8</th>\n",
       "    </tr>\n",
       "  </thead>\n",
       "  <tbody>\n",
       "    <tr>\n",
       "      <th>4210</th>\n",
       "      <td>0.463634</td>\n",
       "      <td>-2.927526</td>\n",
       "      <td>0.462909</td>\n",
       "      <td>-2.401501</td>\n",
       "      <td>0.497163</td>\n",
       "      <td>-1.855637</td>\n",
       "      <td>0.385021</td>\n",
       "      <td>-1.188072</td>\n",
       "      <td>18.616045</td>\n",
       "      <td>0.007675</td>\n",
       "      <td>-2.557820</td>\n",
       "      <td>0.120368</td>\n",
       "      <td>-1.965735</td>\n",
       "      <td>0.232924</td>\n",
       "      <td>-1.406769</td>\n",
       "      <td>0.147358</td>\n",
       "      <td>-0.827544</td>\n",
       "    </tr>\n",
       "    <tr>\n",
       "      <th>4084</th>\n",
       "      <td>1.318985</td>\n",
       "      <td>-3.050366</td>\n",
       "      <td>1.090098</td>\n",
       "      <td>-2.521801</td>\n",
       "      <td>0.891893</td>\n",
       "      <td>-1.960852</td>\n",
       "      <td>0.504311</td>\n",
       "      <td>-1.232309</td>\n",
       "      <td>22.009323</td>\n",
       "      <td>1.190141</td>\n",
       "      <td>-2.738377</td>\n",
       "      <td>1.028835</td>\n",
       "      <td>-2.128793</td>\n",
       "      <td>0.873087</td>\n",
       "      <td>-1.575009</td>\n",
       "      <td>0.489062</td>\n",
       "      <td>-0.917526</td>\n",
       "    </tr>\n",
       "    <tr>\n",
       "      <th>2081</th>\n",
       "      <td>-0.111857</td>\n",
       "      <td>-3.759612</td>\n",
       "      <td>-0.015028</td>\n",
       "      <td>-3.024228</td>\n",
       "      <td>0.114454</td>\n",
       "      <td>-2.302762</td>\n",
       "      <td>0.126754</td>\n",
       "      <td>-1.337278</td>\n",
       "      <td>11.279017</td>\n",
       "      <td>-0.582935</td>\n",
       "      <td>-3.893324</td>\n",
       "      <td>-0.322684</td>\n",
       "      <td>-3.053448</td>\n",
       "      <td>-0.079514</td>\n",
       "      <td>-2.277156</td>\n",
       "      <td>-0.025782</td>\n",
       "      <td>-1.315588</td>\n",
       "    </tr>\n",
       "    <tr>\n",
       "      <th>4089</th>\n",
       "      <td>0.904172</td>\n",
       "      <td>-3.368653</td>\n",
       "      <td>0.815089</td>\n",
       "      <td>-2.763039</td>\n",
       "      <td>0.752954</td>\n",
       "      <td>-2.119420</td>\n",
       "      <td>0.472091</td>\n",
       "      <td>-1.292028</td>\n",
       "      <td>30.738574</td>\n",
       "      <td>0.618920</td>\n",
       "      <td>-3.147584</td>\n",
       "      <td>0.606895</td>\n",
       "      <td>-2.521694</td>\n",
       "      <td>0.661497</td>\n",
       "      <td>-1.886070</td>\n",
       "      <td>0.438381</td>\n",
       "      <td>-1.096387</td>\n",
       "    </tr>\n",
       "    <tr>\n",
       "      <th>3768</th>\n",
       "      <td>1.122730</td>\n",
       "      <td>-3.066350</td>\n",
       "      <td>0.937152</td>\n",
       "      <td>-2.500692</td>\n",
       "      <td>0.764467</td>\n",
       "      <td>-1.928111</td>\n",
       "      <td>0.475938</td>\n",
       "      <td>-1.212922</td>\n",
       "      <td>7.976827</td>\n",
       "      <td>0.590276</td>\n",
       "      <td>-2.806663</td>\n",
       "      <td>0.556647</td>\n",
       "      <td>-2.169469</td>\n",
       "      <td>0.515154</td>\n",
       "      <td>-1.586969</td>\n",
       "      <td>0.296262</td>\n",
       "      <td>-0.929300</td>\n",
       "    </tr>\n",
       "  </tbody>\n",
       "</table>\n",
       "</div>"
      ],
      "text/plain": [
       "            X1        Y1        X2        Y2        X3        Y3        X4  \\\n",
       "4210  0.463634 -2.927526  0.462909 -2.401501  0.497163 -1.855637  0.385021   \n",
       "4084  1.318985 -3.050366  1.090098 -2.521801  0.891893 -1.960852  0.504311   \n",
       "2081 -0.111857 -3.759612 -0.015028 -3.024228  0.114454 -2.302762  0.126754   \n",
       "4089  0.904172 -3.368653  0.815089 -2.763039  0.752954 -2.119420  0.472091   \n",
       "3768  1.122730 -3.066350  0.937152 -2.500692  0.764467 -1.928111  0.475938   \n",
       "\n",
       "            Y4      Angle        X5        Y5        X6        Y6        X7  \\\n",
       "4210 -1.188072  18.616045  0.007675 -2.557820  0.120368 -1.965735  0.232924   \n",
       "4084 -1.232309  22.009323  1.190141 -2.738377  1.028835 -2.128793  0.873087   \n",
       "2081 -1.337278  11.279017 -0.582935 -3.893324 -0.322684 -3.053448 -0.079514   \n",
       "4089 -1.292028  30.738574  0.618920 -3.147584  0.606895 -2.521694  0.661497   \n",
       "3768 -1.212922   7.976827  0.590276 -2.806663  0.556647 -2.169469  0.515154   \n",
       "\n",
       "            Y7        X8        Y8  \n",
       "4210 -1.406769  0.147358 -0.827544  \n",
       "4084 -1.575009  0.489062 -0.917526  \n",
       "2081 -2.277156 -0.025782 -1.315588  \n",
       "4089 -1.886070  0.438381 -1.096387  \n",
       "3768 -1.586969  0.296262 -0.929300  "
      ]
     },
     "execution_count": 8,
     "metadata": {},
     "output_type": "execute_result"
    }
   ],
   "source": [
    "test_set.head()"
   ]
  },
  {
   "cell_type": "code",
   "execution_count": 9,
   "metadata": {},
   "outputs": [],
   "source": [
    "DataA6_prepared = train_set.copy()"
   ]
  },
  {
   "cell_type": "code",
   "execution_count": 10,
   "metadata": {},
   "outputs": [
    {
     "data": {
      "text/plain": [
       "Angle    1.000000\n",
       "Y7       0.391295\n",
       "Y6       0.386368\n",
       "Y8       0.377443\n",
       "Y5       0.375558\n",
       "X8       0.356056\n",
       "Y3       0.355228\n",
       "X6       0.351643\n",
       "X5       0.348779\n",
       "X7       0.347517\n",
       "X1       0.342436\n",
       "Y2       0.338930\n",
       "X2       0.334920\n",
       "X3       0.314313\n",
       "Y1       0.308589\n",
       "Y4       0.298173\n",
       "X4       0.247563\n",
       "Name: Angle, dtype: float64"
      ]
     },
     "execution_count": 10,
     "metadata": {},
     "output_type": "execute_result"
    }
   ],
   "source": [
    "corr_matrix = DataA6_prepared.corr()\n",
    "corr_matrix[\"Angle\"].sort_values(ascending=False)"
   ]
  },
  {
   "cell_type": "code",
   "execution_count": 11,
   "metadata": {},
   "outputs": [],
   "source": [
    "# Prepare the data for Machine Learning algorithms\n",
    "\n",
    "DataA6_prepared = train_set.drop(\"Angle\", axis=1) # drop labels for training set\n",
    "DataA6_prepared_label = train_set[\"Angle\"].copy()"
   ]
  },
  {
   "cell_type": "code",
   "execution_count": 12,
   "metadata": {},
   "outputs": [
    {
     "data": {
      "text/plain": [
       "DecisionTreeRegressor(max_depth=7, max_leaf_nodes=70, random_state=42)"
      ]
     },
     "execution_count": 12,
     "metadata": {},
     "output_type": "execute_result"
    }
   ],
   "source": [
    "# Select and train a model \n",
    "\n",
    "from sklearn.tree import DecisionTreeRegressor\n",
    "dc_tr=DecisionTreeRegressor(max_depth=7,max_leaf_nodes=70,random_state=42)\n",
    "dc_tr.fit(DataA6_prepared, DataA6_prepared_label)"
   ]
  },
  {
   "cell_type": "code",
   "execution_count": 13,
   "metadata": {},
   "outputs": [
    {
     "name": "stdout",
     "output_type": "stream",
     "text": [
      "Predictions: [ 9.40857243 11.67904412 17.67149802 14.44865609  9.40857243]\n"
     ]
    }
   ],
   "source": [
    "some_data = DataA6_prepared.iloc[:5]\n",
    "some_labels = DataA6_prepared_label.iloc[:5]\n",
    "print(\"Predictions:\", dc_tr.predict(some_data))"
   ]
  },
  {
   "cell_type": "code",
   "execution_count": 14,
   "metadata": {},
   "outputs": [
    {
     "name": "stdout",
     "output_type": "stream",
     "text": [
      "Labels: [7.101678345, 22.95438418, 15.95800544, 13.30205567, 11.27333246]\n"
     ]
    }
   ],
   "source": [
    "# Compare against the actual values:\n",
    "\n",
    "print(\"Labels:\", list(some_labels))"
   ]
  },
  {
   "cell_type": "code",
   "execution_count": 15,
   "metadata": {},
   "outputs": [
    {
     "data": {
      "text/plain": [
       "3.24743910009635"
      ]
     },
     "execution_count": 15,
     "metadata": {},
     "output_type": "execute_result"
    }
   ],
   "source": [
    "from sklearn.metrics import mean_squared_error\n",
    "\n",
    "Data_predictions = dc_tr.predict(DataA6_prepared)\n",
    "lin_mse = mean_squared_error(DataA6_prepared_label, Data_predictions)\n",
    "lin_rmse = np.sqrt(lin_mse)\n",
    "lin_rmse"
   ]
  },
  {
   "cell_type": "code",
   "execution_count": 16,
   "metadata": {},
   "outputs": [],
   "source": [
    "# Cross Validation\n",
    "\n",
    "from sklearn.model_selection import cross_val_score\n",
    "\n",
    "lin_scores = cross_val_score(dc_tr, DataA6_prepared, DataA6_prepared_label,\n",
    "                         scoring=\"neg_mean_squared_error\", cv=10)\n",
    "lin_rmse_scores = np.sqrt(-lin_scores)"
   ]
  },
  {
   "cell_type": "code",
   "execution_count": 17,
   "metadata": {},
   "outputs": [
    {
     "name": "stdout",
     "output_type": "stream",
     "text": [
      "Scores: [4.53084742 5.21693047 5.3951653  5.07393779 7.76752692 6.28982853\n",
      " 5.65481202 7.17163207 5.71677189 5.36679753]\n",
      "Mean: 5.818424993530743\n",
      "Standard deviation: 0.9405594385384805\n"
     ]
    }
   ],
   "source": [
    "def display_scores(scores):\n",
    "    print(\"Scores:\", scores)\n",
    "    print(\"Mean:\", scores.mean())\n",
    "    print(\"Standard deviation:\", scores.std())\n",
    "\n",
    "display_scores(lin_rmse_scores)"
   ]
  },
  {
   "cell_type": "code",
   "execution_count": 18,
   "metadata": {},
   "outputs": [],
   "source": [
    "X_test = test_set.drop(\"Angle\", axis=1)\n",
    "y_test = test_set[\"Angle\"].copy()\n",
    "\n",
    "final_predictions = dc_tr.predict(X_test)\n",
    "\n",
    "final_mse = mean_squared_error(y_test, final_predictions)\n",
    "final_rmse = np.sqrt(final_mse)"
   ]
  },
  {
   "cell_type": "code",
   "execution_count": 19,
   "metadata": {},
   "outputs": [
    {
     "data": {
      "text/plain": [
       "<matplotlib.collections.PathCollection at 0x246ae0b3d90>"
      ]
     },
     "execution_count": 19,
     "metadata": {},
     "output_type": "execute_result"
    },
    {
     "data": {
      "image/png": "[encoded data removed]",
      "text/plain": [
       "<Figure size 432x288 with 1 Axes>"
      ]
     },
     "metadata": {
      "needs_background": "light"
     },
     "output_type": "display_data"
    }
   ],
   "source": [
    "plt.scatter(y_test, final_predictions)"
   ]
  },
  {
   "cell_type": "code",
   "execution_count": 20,
   "metadata": {},
   "outputs": [
    {
     "data": {
      "text/plain": [
       "(array([ 7., 11., 22., 23., 22., 10.,  6.,  8.,  3.,  2.]),\n",
       " array([-10.33915524,  -7.57238155,  -4.80560786,  -2.03883418,\n",
       "          0.72793951,   3.4947132 ,   6.26148689,   9.02826058,\n",
       "         11.79503426,  14.56180795,  17.32858164]),\n",
       " <BarContainer object of 10 artists>)"
      ]
     },
     "execution_count": 20,
     "metadata": {},
     "output_type": "execute_result"
    },
    {
     "data": {
      "image/png": "[encoded data removed]",
      "text/plain": [
       "<Figure size 432x288 with 1 Axes>"
      ]
     },
     "metadata": {
      "needs_background": "light"
     },
     "output_type": "display_data"
    }
   ],
   "source": [
    "plt.hist(y_test - final_predictions)"
   ]
  },
  {
   "cell_type": "code",
   "execution_count": 21,
   "metadata": {},
   "outputs": [
    {
     "data": {
      "text/plain": [
       "5.847488796978983"
      ]
     },
     "execution_count": 21,
     "metadata": {},
     "output_type": "execute_result"
    }
   ],
   "source": [
    "final_rmse"
   ]
  },
  {
   "cell_type": "code",
   "execution_count": 22,
   "metadata": {},
   "outputs": [
    {
     "data": {
      "text/plain": [
       "array([4.94418945, 6.62881899])"
      ]
     },
     "execution_count": 22,
     "metadata": {},
     "output_type": "execute_result"
    }
   ],
   "source": [
    "from scipy import stats\n",
    "\n",
    "confidence = 0.95\n",
    "squared_errors = (final_predictions - y_test) ** 2\n",
    "np.sqrt(stats.t.interval(confidence, len(squared_errors) - 1,\n",
    "                         loc=squared_errors.mean(),\n",
    "                         scale=stats.sem(squared_errors)))"
   ]
  },
  {
   "cell_type": "code",
   "execution_count": 23,
   "metadata": {},
   "outputs": [
    {
     "name": "stdout",
     "output_type": "stream",
     "text": [
      "Regressor model performance:\n",
      "Mean absolute error(MAE) = 4.49\n",
      "Mean squared error(MSE) = 34.19\n",
      "5.847221562417487\n",
      "Median absolute error = 3.45\n",
      "Explain variance score = -0.41\n",
      "R2 score = -0.42\n"
     ]
    }
   ],
   "source": [
    "import sklearn.metrics as sm\n",
    "\n",
    "print(\"Regressor model performance:\")\n",
    "print(\"Mean absolute error(MAE) =\", round(sm.mean_absolute_error(y_test, final_predictions), 2))\n",
    "print(\"Mean squared error(MSE) =\", round(sm.mean_squared_error(y_test, final_predictions), 2))\n",
    "print(np.sqrt(round(sm.mean_squared_error(y_test, final_predictions), 2)))\n",
    "\n",
    "print(\"Median absolute error =\", round(sm.median_absolute_error(y_test, final_predictions), 2))\n",
    "print(\"Explain variance score =\", round(sm.explained_variance_score(y_test, final_predictions), 2))\n",
    "print(\"R2 score =\", round(sm.r2_score(y_test, final_predictions), 2))"
   ]
  },
  {
   "cell_type": "code",
   "execution_count": 24,
   "metadata": {},
   "outputs": [],
   "source": [
    "def mean_absolute_percentage_error(y_test, final_predictions): \n",
    "    y_test, final_predictions = np.array(y_test), np.array(final_predictions)\n",
    "    return np.mean(np.abs((y_test - final_predictions) / final_predictions)) * 100"
   ]
  },
  {
   "cell_type": "code",
   "execution_count": 25,
   "metadata": {},
   "outputs": [
    {
     "name": "stdout",
     "output_type": "stream",
     "text": [
      "39.71474404953733\n"
     ]
    }
   ],
   "source": [
    "print(mean_absolute_percentage_error(y_test, final_predictions))"
   ]
  },
  {
   "cell_type": "code",
   "execution_count": null,
   "metadata": {},
   "outputs": [],
   "source": []
  }
 ],
 "metadata": {
  "kernelspec": {
   "display_name": "Python 3",
   "language": "python",
   "name": "python3"
  },
  "language_info": {
   "codemirror_mode": {
    "name": "ipython",
    "version": 3
   },
   "file_extension": ".py",
   "mimetype": "text/x-python",
   "name": "python",
   "nbconvert_exporter": "python",
   "pygments_lexer": "ipython3",
   "version": "3.5.6"
  }
 },
 "nbformat": 4,
 "nbformat_minor": 4
}
