{
 "cells": [
  {
   "cell_type": "code",
   "execution_count": 441,
   "metadata": {},
   "outputs": [],
   "source": [
    "#import libraries\n",
    "import numpy as np\n",
    "import pandas as pd\n",
    "import matplotlib.pyplot as plt"
   ]
  },
  {
   "cell_type": "code",
   "execution_count": 442,
   "metadata": {},
   "outputs": [
    {
     "name": "stdout",
     "output_type": "stream",
     "text": [
      "Data = \n",
      "          X1        Y1        X2        Y2        X3        Y3        X4  \\\n",
      "0  0.860019 -3.096488  0.753413 -2.530522  0.629331 -1.962419  0.361692   \n",
      "1  0.456454 -2.852605  0.565661 -2.188466  0.568863 -1.593943  0.363601   \n",
      "2 -0.462493 -2.031486 -0.125549 -1.528304  0.123850 -1.026633  0.238231   \n",
      "3  0.106369 -2.186939  0.116188 -1.520864  0.142727 -0.703652  0.068778   \n",
      "4  0.381094 -3.316631  0.390072 -2.754067  0.427469 -2.131407  0.336888   \n",
      "5 -0.262968 -3.256483 -0.094474 -2.594541  0.073604 -1.954448  0.088474   \n",
      "6 -0.970940 -2.595038 -0.683583 -2.042165 -0.376025 -1.472786 -0.190104   \n",
      "7 -0.304093 -1.997585 -0.215963 -1.307632 -0.116897 -0.454085 -0.069022   \n",
      "8  0.055419 -3.592592  0.131205 -2.973669  0.252867 -2.286043  0.242098   \n",
      "9 -0.344932 -3.766955 -0.137432 -2.997226  0.053303 -2.269871  0.066792   \n",
      "\n",
      "         Y4      Angle        X5        Y5        X6        Y6        X7  \\\n",
      "0 -1.227911  15.958005  0.456454 -2.852605  0.565661 -2.188466  0.568863   \n",
      "1 -0.907820  16.424084 -0.462493 -2.031486 -0.125549 -1.528304  0.123850   \n",
      "2 -0.510583  15.635178 -0.915264 -0.867298 -0.556912 -0.619065 -0.347119   \n",
      "3  0.170585  26.299685  0.381094 -3.316631  0.390072 -2.754067  0.427469   \n",
      "4 -1.266161  15.050765 -0.262968 -3.256483 -0.094474 -2.594541  0.073604   \n",
      "5 -1.111491  13.807231 -0.970940 -2.595038 -0.683583 -2.042165 -0.376025   \n",
      "6 -0.800848  14.902200 -1.493574 -1.457450 -1.151122 -1.159289 -0.929195   \n",
      "7  0.416620  15.051214  0.055419 -3.592592  0.131205 -2.973669  0.252867   \n",
      "8 -1.329521  12.915006 -0.344932 -3.766955 -0.137432 -2.997226  0.053303   \n",
      "9 -1.308215   7.824200 -0.905729 -3.185208 -0.604510 -2.520129 -0.291183   \n",
      "\n",
      "         Y7        X8        Y8  Angle number  RightorLeft  \n",
      "0 -1.593943  0.363601 -0.907820             2            0  \n",
      "1 -1.026633  0.238231 -0.510583             3            0  \n",
      "2 -0.385286 -0.006106 -0.007940             4            0  \n",
      "3 -2.131407  0.336888 -1.266161             1            0  \n",
      "4 -1.954448  0.088474 -1.111491             2            0  \n",
      "5 -1.472786 -0.190104 -0.800848             3            0  \n",
      "6 -0.890322 -0.549895 -0.352399             4            0  \n",
      "7 -2.286043  0.242098 -1.329521             1            0  \n",
      "8 -2.269871  0.066792 -1.308215             2            0  \n",
      "9 -1.861470 -0.161199 -1.063399             3            0  \n"
     ]
    }
   ],
   "source": [
    "#read data\n",
    "Data = pd.read_csv('C:/Users/Ahmed Atef/Desktop/data.csv')\n",
    "print('Data = \\n',Data.head(10))"
   ]
  },
  {
   "cell_type": "code",
   "execution_count": 443,
   "metadata": {},
   "outputs": [
    {
     "name": "stdout",
     "output_type": "stream",
     "text": [
      "Data = \n",
      "           X1        Y1        X2        Y2        X3        Y3        X4  \\\n",
      "3   0.106369 -2.186939  0.116188 -1.520864  0.142727 -0.703652  0.068778   \n",
      "7  -0.304093 -1.997585 -0.215963 -1.307632 -0.116897 -0.454085 -0.069022   \n",
      "11 -1.821406 -1.591955 -1.513889 -0.962891 -1.074336 -0.205664 -0.480625   \n",
      "14  0.079858 -2.275855  0.110173 -1.610193  0.123588 -0.805923  0.055486   \n",
      "18  0.129745 -2.301224  0.084896 -1.612517  0.098763 -0.799808  0.025109   \n",
      "22 -0.175998 -2.276894 -0.120057 -1.564203 -0.046340 -0.677712 -0.032531   \n",
      "26 -0.024547 -2.326485 -0.025431 -1.616305  0.054823 -0.725824  0.034770   \n",
      "30  0.185316 -2.372367  0.115199 -1.676303  0.123482 -0.808897  0.030701   \n",
      "34 -0.150627 -2.517327 -0.220534 -1.786198 -0.179622 -0.938313 -0.179707   \n",
      "38 -0.150770 -2.517832 -0.209881 -1.785361 -0.155300 -0.932155 -0.146702   \n",
      "\n",
      "          Y4      Angle        X5        Y5        X6        Y6        X7  \\\n",
      "3   0.170585  26.299685  0.381094 -3.316631  0.390072 -2.754067  0.427469   \n",
      "7   0.416620  15.051214  0.055419 -3.592592  0.131205 -2.973669  0.252867   \n",
      "11  0.548351  14.796737 -1.081559 -3.522217 -0.865764 -2.893043 -0.592471   \n",
      "14  0.068419  19.275488  0.432835 -3.170302  0.423602 -2.640779  0.433069   \n",
      "18  0.082421  30.131315  0.581242 -3.276182  0.532582 -2.693669  0.509752   \n",
      "22  0.273766  16.444887  0.128192 -3.585495  0.208429 -2.974061  0.327548   \n",
      "26  0.229719  31.851936  0.267794 -3.578427  0.305904 -2.940847  0.392362   \n",
      "30  0.133683  30.755315  0.584812 -3.398577  0.551334 -2.793617  0.558370   \n",
      "34  0.004365  41.271030  0.842027 -3.355388  0.722629 -2.742093  0.634589   \n",
      "38  0.018821  41.410668  0.700903 -3.386324  0.616987 -2.766577  0.567254   \n",
      "\n",
      "          Y7        X8        Y8  Angle number  RightorLeft  \n",
      "3  -2.131407  0.336888 -1.266161             1            0  \n",
      "7  -2.286043  0.242098 -1.329521             1            0  \n",
      "11 -2.225238 -0.427591 -1.291817             1            0  \n",
      "14 -2.048975  0.325260 -1.236259             1            0  \n",
      "18 -2.072711  0.357651 -1.249717             1            0  \n",
      "22 -2.295803  0.306496 -1.368646             1            0  \n",
      "26 -2.264511  0.341946 -1.355696             1            0  \n",
      "30 -2.144527  0.420046 -1.292742             1            0  \n",
      "34 -2.107575  0.383169 -1.297026             1            0  \n",
      "38 -2.127091  0.359518 -1.309267             1            0  \n"
     ]
    }
   ],
   "source": [
    "DataA1= Data.loc[Data['Angle number'] ==1]\n",
    "# DataA1[\"RightorLeft\"].replace({\"Left\": \"0\", \"Right\": \"1\"}, inplace=True)\n",
    "print('Data = \\n',DataA1.head(10))"
   ]
  },
  {
   "cell_type": "code",
   "execution_count": 444,
   "metadata": {},
   "outputs": [],
   "source": [
    "DataA1_ = DataA1.drop(\"Angle number\", axis=1)"
   ]
  },
  {
   "cell_type": "code",
   "execution_count": 445,
   "metadata": {},
   "outputs": [
    {
     "data": {
      "text/html": [
       "<div>\n",
       "<style scoped>\n",
       "    .dataframe tbody tr th:only-of-type {\n",
       "        vertical-align: middle;\n",
       "    }\n",
       "\n",
       "    .dataframe tbody tr th {\n",
       "        vertical-align: top;\n",
       "    }\n",
       "\n",
       "    .dataframe thead th {\n",
       "        text-align: right;\n",
       "    }\n",
       "</style>\n",
       "<table border=\"1\" class=\"dataframe\">\n",
       "  <thead>\n",
       "    <tr style=\"text-align: right;\">\n",
       "      <th></th>\n",
       "      <th>X1</th>\n",
       "      <th>Y1</th>\n",
       "      <th>X2</th>\n",
       "      <th>Y2</th>\n",
       "      <th>X3</th>\n",
       "      <th>Y3</th>\n",
       "      <th>X4</th>\n",
       "      <th>Y4</th>\n",
       "      <th>Angle</th>\n",
       "      <th>X5</th>\n",
       "      <th>Y5</th>\n",
       "      <th>X6</th>\n",
       "      <th>Y6</th>\n",
       "      <th>X7</th>\n",
       "      <th>Y7</th>\n",
       "      <th>X8</th>\n",
       "      <th>Y8</th>\n",
       "      <th>RightorLeft</th>\n",
       "    </tr>\n",
       "  </thead>\n",
       "  <tbody>\n",
       "    <tr>\n",
       "      <th>3</th>\n",
       "      <td>0.106369</td>\n",
       "      <td>-2.186939</td>\n",
       "      <td>0.116188</td>\n",
       "      <td>-1.520864</td>\n",
       "      <td>0.142727</td>\n",
       "      <td>-0.703652</td>\n",
       "      <td>0.068778</td>\n",
       "      <td>0.170585</td>\n",
       "      <td>26.299685</td>\n",
       "      <td>0.381094</td>\n",
       "      <td>-3.316631</td>\n",
       "      <td>0.390072</td>\n",
       "      <td>-2.754067</td>\n",
       "      <td>0.427469</td>\n",
       "      <td>-2.131407</td>\n",
       "      <td>0.336888</td>\n",
       "      <td>-1.266161</td>\n",
       "      <td>0</td>\n",
       "    </tr>\n",
       "    <tr>\n",
       "      <th>7</th>\n",
       "      <td>-0.304093</td>\n",
       "      <td>-1.997585</td>\n",
       "      <td>-0.215963</td>\n",
       "      <td>-1.307632</td>\n",
       "      <td>-0.116897</td>\n",
       "      <td>-0.454085</td>\n",
       "      <td>-0.069022</td>\n",
       "      <td>0.416620</td>\n",
       "      <td>15.051214</td>\n",
       "      <td>0.055419</td>\n",
       "      <td>-3.592592</td>\n",
       "      <td>0.131205</td>\n",
       "      <td>-2.973669</td>\n",
       "      <td>0.252867</td>\n",
       "      <td>-2.286043</td>\n",
       "      <td>0.242098</td>\n",
       "      <td>-1.329521</td>\n",
       "      <td>0</td>\n",
       "    </tr>\n",
       "    <tr>\n",
       "      <th>11</th>\n",
       "      <td>-1.821406</td>\n",
       "      <td>-1.591955</td>\n",
       "      <td>-1.513889</td>\n",
       "      <td>-0.962891</td>\n",
       "      <td>-1.074336</td>\n",
       "      <td>-0.205664</td>\n",
       "      <td>-0.480625</td>\n",
       "      <td>0.548351</td>\n",
       "      <td>14.796737</td>\n",
       "      <td>-1.081559</td>\n",
       "      <td>-3.522217</td>\n",
       "      <td>-0.865764</td>\n",
       "      <td>-2.893043</td>\n",
       "      <td>-0.592471</td>\n",
       "      <td>-2.225238</td>\n",
       "      <td>-0.427591</td>\n",
       "      <td>-1.291817</td>\n",
       "      <td>0</td>\n",
       "    </tr>\n",
       "    <tr>\n",
       "      <th>14</th>\n",
       "      <td>0.079858</td>\n",
       "      <td>-2.275855</td>\n",
       "      <td>0.110173</td>\n",
       "      <td>-1.610193</td>\n",
       "      <td>0.123588</td>\n",
       "      <td>-0.805923</td>\n",
       "      <td>0.055486</td>\n",
       "      <td>0.068419</td>\n",
       "      <td>19.275488</td>\n",
       "      <td>0.432835</td>\n",
       "      <td>-3.170302</td>\n",
       "      <td>0.423602</td>\n",
       "      <td>-2.640779</td>\n",
       "      <td>0.433069</td>\n",
       "      <td>-2.048975</td>\n",
       "      <td>0.325260</td>\n",
       "      <td>-1.236259</td>\n",
       "      <td>0</td>\n",
       "    </tr>\n",
       "    <tr>\n",
       "      <th>18</th>\n",
       "      <td>0.129745</td>\n",
       "      <td>-2.301224</td>\n",
       "      <td>0.084896</td>\n",
       "      <td>-1.612517</td>\n",
       "      <td>0.098763</td>\n",
       "      <td>-0.799808</td>\n",
       "      <td>0.025109</td>\n",
       "      <td>0.082421</td>\n",
       "      <td>30.131315</td>\n",
       "      <td>0.581242</td>\n",
       "      <td>-3.276182</td>\n",
       "      <td>0.532582</td>\n",
       "      <td>-2.693669</td>\n",
       "      <td>0.509752</td>\n",
       "      <td>-2.072711</td>\n",
       "      <td>0.357651</td>\n",
       "      <td>-1.249717</td>\n",
       "      <td>0</td>\n",
       "    </tr>\n",
       "    <tr>\n",
       "      <th>...</th>\n",
       "      <td>...</td>\n",
       "      <td>...</td>\n",
       "      <td>...</td>\n",
       "      <td>...</td>\n",
       "      <td>...</td>\n",
       "      <td>...</td>\n",
       "      <td>...</td>\n",
       "      <td>...</td>\n",
       "      <td>...</td>\n",
       "      <td>...</td>\n",
       "      <td>...</td>\n",
       "      <td>...</td>\n",
       "      <td>...</td>\n",
       "      <td>...</td>\n",
       "      <td>...</td>\n",
       "      <td>...</td>\n",
       "      <td>...</td>\n",
       "      <td>...</td>\n",
       "    </tr>\n",
       "    <tr>\n",
       "      <th>4362</th>\n",
       "      <td>-1.996980</td>\n",
       "      <td>-0.671290</td>\n",
       "      <td>-1.759617</td>\n",
       "      <td>-0.209113</td>\n",
       "      <td>-1.262281</td>\n",
       "      <td>0.178485</td>\n",
       "      <td>-0.612786</td>\n",
       "      <td>0.487378</td>\n",
       "      <td>30.575071</td>\n",
       "      <td>-0.770054</td>\n",
       "      <td>-1.893753</td>\n",
       "      <td>-0.727278</td>\n",
       "      <td>-1.838522</td>\n",
       "      <td>-0.666565</td>\n",
       "      <td>-1.619898</td>\n",
       "      <td>-0.561699</td>\n",
       "      <td>-0.937888</td>\n",
       "      <td>1</td>\n",
       "    </tr>\n",
       "    <tr>\n",
       "      <th>4366</th>\n",
       "      <td>-1.798921</td>\n",
       "      <td>-0.813629</td>\n",
       "      <td>-1.667298</td>\n",
       "      <td>-0.473018</td>\n",
       "      <td>-1.259502</td>\n",
       "      <td>-0.064335</td>\n",
       "      <td>-0.646246</td>\n",
       "      <td>0.305616</td>\n",
       "      <td>23.213813</td>\n",
       "      <td>-0.703868</td>\n",
       "      <td>-1.983903</td>\n",
       "      <td>-0.615738</td>\n",
       "      <td>-1.846945</td>\n",
       "      <td>-0.526944</td>\n",
       "      <td>-1.577743</td>\n",
       "      <td>-0.458771</td>\n",
       "      <td>-0.925750</td>\n",
       "      <td>1</td>\n",
       "    </tr>\n",
       "    <tr>\n",
       "      <th>4370</th>\n",
       "      <td>-2.167256</td>\n",
       "      <td>-0.670524</td>\n",
       "      <td>-1.874146</td>\n",
       "      <td>-0.224127</td>\n",
       "      <td>-1.307696</td>\n",
       "      <td>0.149723</td>\n",
       "      <td>-0.610966</td>\n",
       "      <td>0.454891</td>\n",
       "      <td>33.790661</td>\n",
       "      <td>-0.794807</td>\n",
       "      <td>-2.496720</td>\n",
       "      <td>-0.714499</td>\n",
       "      <td>-2.147230</td>\n",
       "      <td>-0.636470</td>\n",
       "      <td>-1.694570</td>\n",
       "      <td>-0.544630</td>\n",
       "      <td>-0.925410</td>\n",
       "      <td>1</td>\n",
       "    </tr>\n",
       "    <tr>\n",
       "      <th>4374</th>\n",
       "      <td>-2.208412</td>\n",
       "      <td>-0.053728</td>\n",
       "      <td>-1.816327</td>\n",
       "      <td>0.140958</td>\n",
       "      <td>-1.265889</td>\n",
       "      <td>0.327033</td>\n",
       "      <td>-0.516409</td>\n",
       "      <td>0.434821</td>\n",
       "      <td>35.377157</td>\n",
       "      <td>-1.610579</td>\n",
       "      <td>-1.427551</td>\n",
       "      <td>-1.396701</td>\n",
       "      <td>-1.383452</td>\n",
       "      <td>-1.132595</td>\n",
       "      <td>-1.226493</td>\n",
       "      <td>-0.769300</td>\n",
       "      <td>-0.749498</td>\n",
       "      <td>1</td>\n",
       "    </tr>\n",
       "    <tr>\n",
       "      <th>4378</th>\n",
       "      <td>-2.267335</td>\n",
       "      <td>-0.268131</td>\n",
       "      <td>-1.854967</td>\n",
       "      <td>-0.026095</td>\n",
       "      <td>-1.296666</td>\n",
       "      <td>0.205503</td>\n",
       "      <td>-0.551713</td>\n",
       "      <td>0.374657</td>\n",
       "      <td>31.241070</td>\n",
       "      <td>-1.440972</td>\n",
       "      <td>-1.620398</td>\n",
       "      <td>-1.243105</td>\n",
       "      <td>-1.525755</td>\n",
       "      <td>-1.004849</td>\n",
       "      <td>-1.308904</td>\n",
       "      <td>-0.691679</td>\n",
       "      <td>-0.775991</td>\n",
       "      <td>1</td>\n",
       "    </tr>\n",
       "  </tbody>\n",
       "</table>\n",
       "<p>1038 rows × 18 columns</p>\n",
       "</div>"
      ],
      "text/plain": [
       "            X1        Y1        X2        Y2        X3        Y3        X4  \\\n",
       "3     0.106369 -2.186939  0.116188 -1.520864  0.142727 -0.703652  0.068778   \n",
       "7    -0.304093 -1.997585 -0.215963 -1.307632 -0.116897 -0.454085 -0.069022   \n",
       "11   -1.821406 -1.591955 -1.513889 -0.962891 -1.074336 -0.205664 -0.480625   \n",
       "14    0.079858 -2.275855  0.110173 -1.610193  0.123588 -0.805923  0.055486   \n",
       "18    0.129745 -2.301224  0.084896 -1.612517  0.098763 -0.799808  0.025109   \n",
       "...        ...       ...       ...       ...       ...       ...       ...   \n",
       "4362 -1.996980 -0.671290 -1.759617 -0.209113 -1.262281  0.178485 -0.612786   \n",
       "4366 -1.798921 -0.813629 -1.667298 -0.473018 -1.259502 -0.064335 -0.646246   \n",
       "4370 -2.167256 -0.670524 -1.874146 -0.224127 -1.307696  0.149723 -0.610966   \n",
       "4374 -2.208412 -0.053728 -1.816327  0.140958 -1.265889  0.327033 -0.516409   \n",
       "4378 -2.267335 -0.268131 -1.854967 -0.026095 -1.296666  0.205503 -0.551713   \n",
       "\n",
       "            Y4      Angle        X5        Y5        X6        Y6        X7  \\\n",
       "3     0.170585  26.299685  0.381094 -3.316631  0.390072 -2.754067  0.427469   \n",
       "7     0.416620  15.051214  0.055419 -3.592592  0.131205 -2.973669  0.252867   \n",
       "11    0.548351  14.796737 -1.081559 -3.522217 -0.865764 -2.893043 -0.592471   \n",
       "14    0.068419  19.275488  0.432835 -3.170302  0.423602 -2.640779  0.433069   \n",
       "18    0.082421  30.131315  0.581242 -3.276182  0.532582 -2.693669  0.509752   \n",
       "...        ...        ...       ...       ...       ...       ...       ...   \n",
       "4362  0.487378  30.575071 -0.770054 -1.893753 -0.727278 -1.838522 -0.666565   \n",
       "4366  0.305616  23.213813 -0.703868 -1.983903 -0.615738 -1.846945 -0.526944   \n",
       "4370  0.454891  33.790661 -0.794807 -2.496720 -0.714499 -2.147230 -0.636470   \n",
       "4374  0.434821  35.377157 -1.610579 -1.427551 -1.396701 -1.383452 -1.132595   \n",
       "4378  0.374657  31.241070 -1.440972 -1.620398 -1.243105 -1.525755 -1.004849   \n",
       "\n",
       "            Y7        X8        Y8  RightorLeft  \n",
       "3    -2.131407  0.336888 -1.266161            0  \n",
       "7    -2.286043  0.242098 -1.329521            0  \n",
       "11   -2.225238 -0.427591 -1.291817            0  \n",
       "14   -2.048975  0.325260 -1.236259            0  \n",
       "18   -2.072711  0.357651 -1.249717            0  \n",
       "...        ...       ...       ...          ...  \n",
       "4362 -1.619898 -0.561699 -0.937888            1  \n",
       "4366 -1.577743 -0.458771 -0.925750            1  \n",
       "4370 -1.694570 -0.544630 -0.925410            1  \n",
       "4374 -1.226493 -0.769300 -0.749498            1  \n",
       "4378 -1.308904 -0.691679 -0.775991            1  \n",
       "\n",
       "[1038 rows x 18 columns]"
      ]
     },
     "execution_count": 445,
     "metadata": {},
     "output_type": "execute_result"
    }
   ],
   "source": [
    "DataA1_"
   ]
  },
  {
   "cell_type": "code",
   "execution_count": 446,
   "metadata": {},
   "outputs": [],
   "source": [
    "# !pip install seaborn\n",
    "# import seaborn as sns\n",
    "# sns.pairplot(DataA1_)"
   ]
  },
  {
   "cell_type": "code",
   "execution_count": 447,
   "metadata": {},
   "outputs": [],
   "source": [
    "# split the data \n",
    "from sklearn.model_selection import train_test_split\n",
    "\n",
    "train_set, test_set = train_test_split(DataA1_, test_size=0.2, random_state=42)"
   ]
  },
  {
   "cell_type": "code",
   "execution_count": 448,
   "metadata": {},
   "outputs": [
    {
     "data": {
      "text/html": [
       "<div>\n",
       "<style scoped>\n",
       "    .dataframe tbody tr th:only-of-type {\n",
       "        vertical-align: middle;\n",
       "    }\n",
       "\n",
       "    .dataframe tbody tr th {\n",
       "        vertical-align: top;\n",
       "    }\n",
       "\n",
       "    .dataframe thead th {\n",
       "        text-align: right;\n",
       "    }\n",
       "</style>\n",
       "<table border=\"1\" class=\"dataframe\">\n",
       "  <thead>\n",
       "    <tr style=\"text-align: right;\">\n",
       "      <th></th>\n",
       "      <th>X1</th>\n",
       "      <th>Y1</th>\n",
       "      <th>X2</th>\n",
       "      <th>Y2</th>\n",
       "      <th>X3</th>\n",
       "      <th>Y3</th>\n",
       "      <th>X4</th>\n",
       "      <th>Y4</th>\n",
       "      <th>Angle</th>\n",
       "      <th>X5</th>\n",
       "      <th>Y5</th>\n",
       "      <th>X6</th>\n",
       "      <th>Y6</th>\n",
       "      <th>X7</th>\n",
       "      <th>Y7</th>\n",
       "      <th>X8</th>\n",
       "      <th>Y8</th>\n",
       "      <th>RightorLeft</th>\n",
       "    </tr>\n",
       "  </thead>\n",
       "  <tbody>\n",
       "    <tr>\n",
       "      <th>766</th>\n",
       "      <td>-2.132750</td>\n",
       "      <td>-0.441889</td>\n",
       "      <td>-1.824669</td>\n",
       "      <td>-0.121384</td>\n",
       "      <td>-1.327131</td>\n",
       "      <td>0.197839</td>\n",
       "      <td>-0.623836</td>\n",
       "      <td>0.436226</td>\n",
       "      <td>30.087417</td>\n",
       "      <td>-1.100486</td>\n",
       "      <td>-2.188757</td>\n",
       "      <td>-0.959021</td>\n",
       "      <td>-1.949188</td>\n",
       "      <td>-0.792855</td>\n",
       "      <td>-1.583848</td>\n",
       "      <td>-0.573434</td>\n",
       "      <td>-0.913916</td>\n",
       "      <td>1</td>\n",
       "    </tr>\n",
       "    <tr>\n",
       "      <th>3917</th>\n",
       "      <td>0.063030</td>\n",
       "      <td>-2.337637</td>\n",
       "      <td>0.101245</td>\n",
       "      <td>-1.646391</td>\n",
       "      <td>0.128105</td>\n",
       "      <td>-0.786858</td>\n",
       "      <td>0.070334</td>\n",
       "      <td>0.148556</td>\n",
       "      <td>13.322723</td>\n",
       "      <td>0.156935</td>\n",
       "      <td>-3.356283</td>\n",
       "      <td>0.244520</td>\n",
       "      <td>-2.801317</td>\n",
       "      <td>0.366796</td>\n",
       "      <td>-2.177937</td>\n",
       "      <td>0.356558</td>\n",
       "      <td>-1.306768</td>\n",
       "      <td>0</td>\n",
       "    </tr>\n",
       "    <tr>\n",
       "      <th>2221</th>\n",
       "      <td>-0.443054</td>\n",
       "      <td>-2.299387</td>\n",
       "      <td>-0.395615</td>\n",
       "      <td>-1.531613</td>\n",
       "      <td>-0.221780</td>\n",
       "      <td>-0.635676</td>\n",
       "      <td>-0.114576</td>\n",
       "      <td>0.321211</td>\n",
       "      <td>38.221598</td>\n",
       "      <td>0.160456</td>\n",
       "      <td>-4.008269</td>\n",
       "      <td>0.190529</td>\n",
       "      <td>-3.183943</td>\n",
       "      <td>0.237533</td>\n",
       "      <td>-2.409056</td>\n",
       "      <td>0.176084</td>\n",
       "      <td>-1.434023</td>\n",
       "      <td>0</td>\n",
       "    </tr>\n",
       "    <tr>\n",
       "      <th>822</th>\n",
       "      <td>-0.489583</td>\n",
       "      <td>-2.457944</td>\n",
       "      <td>-0.486325</td>\n",
       "      <td>-1.690945</td>\n",
       "      <td>-0.336212</td>\n",
       "      <td>-0.833881</td>\n",
       "      <td>-0.210890</td>\n",
       "      <td>0.111061</td>\n",
       "      <td>59.309503</td>\n",
       "      <td>0.523451</td>\n",
       "      <td>-3.654892</td>\n",
       "      <td>0.449750</td>\n",
       "      <td>-2.961168</td>\n",
       "      <td>0.415697</td>\n",
       "      <td>-2.265465</td>\n",
       "      <td>0.242164</td>\n",
       "      <td>-1.385977</td>\n",
       "      <td>0</td>\n",
       "    </tr>\n",
       "    <tr>\n",
       "      <th>1213</th>\n",
       "      <td>-1.294368</td>\n",
       "      <td>-1.564713</td>\n",
       "      <td>-1.028375</td>\n",
       "      <td>-0.921589</td>\n",
       "      <td>-0.669101</td>\n",
       "      <td>-0.160080</td>\n",
       "      <td>-0.252931</td>\n",
       "      <td>0.600909</td>\n",
       "      <td>15.588792</td>\n",
       "      <td>-1.000012</td>\n",
       "      <td>-3.481709</td>\n",
       "      <td>-0.733118</td>\n",
       "      <td>-2.861403</td>\n",
       "      <td>-0.423471</td>\n",
       "      <td>-2.189301</td>\n",
       "      <td>-0.218043</td>\n",
       "      <td>-1.252241</td>\n",
       "      <td>0</td>\n",
       "    </tr>\n",
       "  </tbody>\n",
       "</table>\n",
       "</div>"
      ],
      "text/plain": [
       "            X1        Y1        X2        Y2        X3        Y3        X4  \\\n",
       "766  -2.132750 -0.441889 -1.824669 -0.121384 -1.327131  0.197839 -0.623836   \n",
       "3917  0.063030 -2.337637  0.101245 -1.646391  0.128105 -0.786858  0.070334   \n",
       "2221 -0.443054 -2.299387 -0.395615 -1.531613 -0.221780 -0.635676 -0.114576   \n",
       "822  -0.489583 -2.457944 -0.486325 -1.690945 -0.336212 -0.833881 -0.210890   \n",
       "1213 -1.294368 -1.564713 -1.028375 -0.921589 -0.669101 -0.160080 -0.252931   \n",
       "\n",
       "            Y4      Angle        X5        Y5        X6        Y6        X7  \\\n",
       "766   0.436226  30.087417 -1.100486 -2.188757 -0.959021 -1.949188 -0.792855   \n",
       "3917  0.148556  13.322723  0.156935 -3.356283  0.244520 -2.801317  0.366796   \n",
       "2221  0.321211  38.221598  0.160456 -4.008269  0.190529 -3.183943  0.237533   \n",
       "822   0.111061  59.309503  0.523451 -3.654892  0.449750 -2.961168  0.415697   \n",
       "1213  0.600909  15.588792 -1.000012 -3.481709 -0.733118 -2.861403 -0.423471   \n",
       "\n",
       "            Y7        X8        Y8  RightorLeft  \n",
       "766  -1.583848 -0.573434 -0.913916            1  \n",
       "3917 -2.177937  0.356558 -1.306768            0  \n",
       "2221 -2.409056  0.176084 -1.434023            0  \n",
       "822  -2.265465  0.242164 -1.385977            0  \n",
       "1213 -2.189301 -0.218043 -1.252241            0  "
      ]
     },
     "execution_count": 448,
     "metadata": {},
     "output_type": "execute_result"
    }
   ],
   "source": [
    "test_set.head()"
   ]
  },
  {
   "cell_type": "code",
   "execution_count": 449,
   "metadata": {},
   "outputs": [],
   "source": [
    "DataA1_ = train_set.copy()"
   ]
  },
  {
   "cell_type": "code",
   "execution_count": 450,
   "metadata": {},
   "outputs": [
    {
     "data": {
      "text/plain": [
       "Angle          1.000000\n",
       "Y7             0.111039\n",
       "X5             0.101146\n",
       "X6             0.093111\n",
       "X7             0.077301\n",
       "X8             0.051500\n",
       "Y6             0.047899\n",
       "Y8             0.038153\n",
       "Y2             0.000084\n",
       "Y5            -0.005237\n",
       "Y1            -0.011878\n",
       "RightorLeft   -0.029903\n",
       "Y3            -0.056617\n",
       "X3            -0.077535\n",
       "X4            -0.086068\n",
       "X2            -0.123390\n",
       "X1            -0.181057\n",
       "Y4            -0.194853\n",
       "Name: Angle, dtype: float64"
      ]
     },
     "execution_count": 450,
     "metadata": {},
     "output_type": "execute_result"
    }
   ],
   "source": [
    "corr_matrix = DataA1_.corr()\n",
    "corr_matrix[\"Angle\"].sort_values(ascending=False)"
   ]
  },
  {
   "cell_type": "code",
   "execution_count": 451,
   "metadata": {},
   "outputs": [],
   "source": [
    "# Prepare the data for Machine Learning algorithms\n",
    "\n",
    "DataA1_ = train_set.drop(\"Angle\", axis=1) # drop labels for training set\n",
    "DataA1__label = train_set[\"Angle\"].copy()"
   ]
  },
  {
   "cell_type": "code",
   "execution_count": 452,
   "metadata": {},
   "outputs": [
    {
     "data": {
      "text/plain": [
       "DecisionTreeRegressor(max_depth=7, max_leaf_nodes=22, min_samples_leaf=0.1,\n",
       "                      random_state=42)"
      ]
     },
     "execution_count": 452,
     "metadata": {},
     "output_type": "execute_result"
    }
   ],
   "source": [
    "# Select and train a model \n",
    "\n",
    "from sklearn.tree import DecisionTreeRegressor\n",
    "dc_tr=DecisionTreeRegressor(max_depth=7,max_leaf_nodes=22,min_samples_leaf=0.1,random_state=42)\n",
    "dc_tr.fit(DataA1_, DataA1__label)\n"
   ]
  },
  {
   "cell_type": "code",
   "execution_count": 453,
   "metadata": {},
   "outputs": [
    {
     "name": "stdout",
     "output_type": "stream",
     "text": [
      "Predictions: [27.32412381 25.69565636 28.70148788 17.90851028 21.3341911  39.71735571\n",
      " 17.90851028 21.3341911  37.97947511 25.69565636 39.71735571 25.69565636\n",
      " 21.3341911  25.69565636 17.90851028 21.3341911  27.32412381 37.97947511\n",
      " 37.97947511 25.69565636]\n"
     ]
    }
   ],
   "source": [
    "some_data = DataA1_.iloc[100:120]\n",
    "some_labels = DataA1__label.iloc[100:120]\n",
    "print(\"Predictions:\", dc_tr.predict(some_data))"
   ]
  },
  {
   "cell_type": "code",
   "execution_count": 454,
   "metadata": {},
   "outputs": [
    {
     "name": "stdout",
     "output_type": "stream",
     "text": [
      "Labels: [27.48721516, 20.68588568, 30.66802413, 14.76806764, 22.78917055, 54.00251287, 13.65577908, 27.1708588, 41.41066847, 19.67613402, 43.88120647, 29.01919872, 22.94598391, 28.42507683, 19.42518994, 27.4903788, 32.87446095, 49.04100414, 44.6091763, 44.94299236]\n"
     ]
    }
   ],
   "source": [
    "# Compare against the actual values:\n",
    "\n",
    "print(\"Labels:\", list(some_labels))"
   ]
  },
  {
   "cell_type": "code",
   "execution_count": 455,
   "metadata": {},
   "outputs": [
    {
     "data": {
      "text/plain": [
       "7.270317354594843"
      ]
     },
     "execution_count": 455,
     "metadata": {},
     "output_type": "execute_result"
    }
   ],
   "source": [
    "from sklearn.metrics import mean_squared_error\n",
    "\n",
    "Data_predictions = dc_tr.predict(DataA1_)\n",
    "lin_mse = mean_squared_error(DataA1__label, Data_predictions)\n",
    "lin_rmse = np.sqrt(lin_mse)\n",
    "lin_rmse"
   ]
  },
  {
   "cell_type": "code",
   "execution_count": null,
   "metadata": {},
   "outputs": [],
   "source": []
  },
  {
   "cell_type": "code",
   "execution_count": 456,
   "metadata": {},
   "outputs": [],
   "source": [
    "# Cross Validation\n",
    "\n",
    "from sklearn.model_selection import cross_val_score\n",
    "\n",
    "lin_scores = cross_val_score(dc_tr, DataA1_, DataA1__label,\n",
    "                         scoring=\"neg_mean_squared_error\", cv=10)\n",
    "lin_rmse_scores = np.sqrt(-lin_scores)"
   ]
  },
  {
   "cell_type": "code",
   "execution_count": 457,
   "metadata": {},
   "outputs": [],
   "source": [
    "def display_scores(scores):\n",
    "    print(\"Scores:\", scores)\n",
    "    print(\"Mean:\", scores.mean())\n",
    "    print(\"Standard deviation:\", scores.std())"
   ]
  },
  {
   "cell_type": "code",
   "execution_count": 458,
   "metadata": {},
   "outputs": [
    {
     "name": "stdout",
     "output_type": "stream",
     "text": [
      "Scores: [8.45368549 7.60918469 8.38227544 8.60769013 7.98587135 7.3019862\n",
      " 7.5423772  6.41458033 7.69294804 6.51919498]\n",
      "Mean: 7.650979385294363\n",
      "Standard deviation: 0.7178646473207785\n"
     ]
    }
   ],
   "source": [
    "display_scores(lin_rmse_scores)"
   ]
  },
  {
   "cell_type": "code",
   "execution_count": 459,
   "metadata": {},
   "outputs": [],
   "source": [
    "X_test = test_set.drop(\"Angle\", axis=1)\n",
    "y_test = test_set[\"Angle\"].copy()\n",
    "\n",
    "final_predictions = dc_tr.predict(X_test)\n",
    "\n",
    "final_mse = mean_squared_error(y_test, final_predictions)\n",
    "final_rmse = np.sqrt(final_mse)"
   ]
  },
  {
   "cell_type": "code",
   "execution_count": 460,
   "metadata": {},
   "outputs": [
    {
     "data": {
      "text/plain": [
       "<matplotlib.collections.PathCollection at 0x26cd2ddb250>"
      ]
     },
     "execution_count": 460,
     "metadata": {},
     "output_type": "execute_result"
    },
    {
     "data": {
      "image/png": "[encoded data removed]",
      "text/plain": [
       "<Figure size 432x288 with 1 Axes>"
      ]
     },
     "metadata": {
      "needs_background": "light"
     },
     "output_type": "display_data"
    }
   ],
   "source": [
    "plt.scatter(y_test, final_predictions)"
   ]
  },
  {
   "cell_type": "code",
   "execution_count": 461,
   "metadata": {},
   "outputs": [
    {
     "data": {
      "text/plain": [
       "(array([ 2.,  3.,  8., 33., 57., 47., 28., 13.,  9.,  8.]),\n",
       " array([-28.36792585, -22.904188  , -17.44045015, -11.97671229,\n",
       "         -6.51297444,  -1.04923659,   4.41450126,   9.87823911,\n",
       "         15.34197696,  20.80571481,  26.26945267]),\n",
       " <BarContainer object of 10 artists>)"
      ]
     },
     "execution_count": 461,
     "metadata": {},
     "output_type": "execute_result"
    },
    {
     "data": {
      "image/png": "[encoded data removed]",
      "text/plain": [
       "<Figure size 432x288 with 1 Axes>"
      ]
     },
     "metadata": {
      "needs_background": "light"
     },
     "output_type": "display_data"
    }
   ],
   "source": [
    "plt.hist(y_test - final_predictions)"
   ]
  },
  {
   "cell_type": "code",
   "execution_count": 462,
   "metadata": {},
   "outputs": [
    {
     "data": {
      "text/plain": [
       "9.384163524404247"
      ]
     },
     "execution_count": 462,
     "metadata": {},
     "output_type": "execute_result"
    }
   ],
   "source": [
    "final_rmse"
   ]
  },
  {
   "cell_type": "code",
   "execution_count": 463,
   "metadata": {},
   "outputs": [
    {
     "data": {
      "text/plain": [
       "array([ 8.27962425, 10.3717343 ])"
      ]
     },
     "execution_count": 463,
     "metadata": {},
     "output_type": "execute_result"
    }
   ],
   "source": [
    "from scipy import stats\n",
    "\n",
    "confidence = 0.95\n",
    "squared_errors = (final_predictions - y_test) ** 2\n",
    "np.sqrt(stats.t.interval(confidence, len(squared_errors) - 1,\n",
    "                         loc=squared_errors.mean(),\n",
    "                         scale=stats.sem(squared_errors)))"
   ]
  },
  {
   "cell_type": "code",
   "execution_count": 464,
   "metadata": {},
   "outputs": [
    {
     "name": "stdout",
     "output_type": "stream",
     "text": [
      "Regressor model performance:\n",
      "Mean absolute error(MAE) = 7.2\n",
      "Mean squared error(MSE) = 88.06\n",
      "9.38402898546248\n",
      "Median absolute error = 5.79\n",
      "Explain variance score = 0.31\n",
      "R2 score = 0.31\n"
     ]
    }
   ],
   "source": [
    "import sklearn.metrics as sm\n",
    "\n",
    "print(\"Regressor model performance:\")\n",
    "print(\"Mean absolute error(MAE) =\", round(sm.mean_absolute_error(y_test, final_predictions), 2))\n",
    "print(\"Mean squared error(MSE) =\", round(sm.mean_squared_error(y_test, final_predictions), 2))\n",
    "print(np.sqrt(round(sm.mean_squared_error(y_test, final_predictions), 2)))\n",
    "print(\"Median absolute error =\", round(sm.median_absolute_error(y_test, final_predictions), 2))\n",
    "print(\"Explain variance score =\", round(sm.explained_variance_score(y_test, final_predictions), 2))\n",
    "print(\"R2 score =\", round(sm.r2_score(y_test, final_predictions), 2))"
   ]
  },
  {
   "cell_type": "code",
   "execution_count": 465,
   "metadata": {},
   "outputs": [],
   "source": [
    "def mean_absolute_percentage_error(y_test, final_predictions): \n",
    "    y_test, final_predictions = np.array(y_test), np.array(final_predictions)\n",
    "    return np.mean(np.abs((y_test - final_predictions) / final_predictions)) * 100"
   ]
  },
  {
   "cell_type": "code",
   "execution_count": 466,
   "metadata": {},
   "outputs": [
    {
     "name": "stdout",
     "output_type": "stream",
     "text": [
      "25.489117423452957\n"
     ]
    }
   ],
   "source": [
    "print(mean_absolute_percentage_error(y_test, final_predictions))"
   ]
  },
  {
   "cell_type": "code",
   "execution_count": null,
   "metadata": {},
   "outputs": [],
   "source": []
  },
  {
   "cell_type": "code",
   "execution_count": null,
   "metadata": {},
   "outputs": [],
   "source": []
  }
 ],
 "metadata": {
  "kernelspec": {
   "display_name": "Python 3",
   "language": "python",
   "name": "python3"
  },
  "language_info": {
   "codemirror_mode": {
    "name": "ipython",
    "version": 3
   },
   "file_extension": ".py",
   "mimetype": "text/x-python",
   "name": "python",
   "nbconvert_exporter": "python",
   "pygments_lexer": "ipython3",
   "version": "3.5.6"
  }
 },
 "nbformat": 4,
 "nbformat_minor": 4
}
