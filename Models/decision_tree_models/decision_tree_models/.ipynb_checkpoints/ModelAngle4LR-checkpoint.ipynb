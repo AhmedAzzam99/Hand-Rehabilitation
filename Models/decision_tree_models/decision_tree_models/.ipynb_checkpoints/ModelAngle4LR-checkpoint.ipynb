{
 "cells": [
  {
   "cell_type": "code",
   "execution_count": 1,
   "metadata": {},
   "outputs": [],
   "source": [
    "#import libraries\n",
    "import numpy as np\n",
    "import pandas as pd\n",
    "import matplotlib.pyplot as plt"
   ]
  },
  {
   "cell_type": "code",
   "execution_count": 2,
   "metadata": {},
   "outputs": [
    {
     "name": "stdout",
     "output_type": "stream",
     "text": [
      "Data = \n",
      "          X1        Y1        X2        Y2        X3        Y3        X4  \\\n",
      "0  0.860019 -3.096488  0.753413 -2.530522  0.629331 -1.962419  0.361692   \n",
      "1  0.456454 -2.852605  0.565661 -2.188466  0.568863 -1.593943  0.363601   \n",
      "2 -0.462493 -2.031486 -0.125549 -1.528304  0.123850 -1.026633  0.238231   \n",
      "3  0.106369 -2.186939  0.116188 -1.520864  0.142727 -0.703652  0.068778   \n",
      "4  0.381094 -3.316631  0.390072 -2.754067  0.427469 -2.131407  0.336888   \n",
      "5 -0.262968 -3.256483 -0.094474 -2.594541  0.073604 -1.954448  0.088474   \n",
      "6 -0.970940 -2.595038 -0.683583 -2.042165 -0.376025 -1.472786 -0.190104   \n",
      "7 -0.304093 -1.997585 -0.215963 -1.307632 -0.116897 -0.454085 -0.069022   \n",
      "8  0.055419 -3.592592  0.131205 -2.973669  0.252867 -2.286043  0.242098   \n",
      "9 -0.344932 -3.766955 -0.137432 -2.997226  0.053303 -2.269871  0.066792   \n",
      "\n",
      "         Y4      Angle        X5        Y5        X6        Y6        X7  \\\n",
      "0 -1.227911  15.958005  0.456454 -2.852605  0.565661 -2.188466  0.568863   \n",
      "1 -0.907820  16.424084 -0.462493 -2.031486 -0.125549 -1.528304  0.123850   \n",
      "2 -0.510583  15.635178 -0.915264 -0.867298 -0.556912 -0.619065 -0.347119   \n",
      "3  0.170585  26.299685  0.381094 -3.316631  0.390072 -2.754067  0.427469   \n",
      "4 -1.266161  15.050765 -0.262968 -3.256483 -0.094474 -2.594541  0.073604   \n",
      "5 -1.111491  13.807231 -0.970940 -2.595038 -0.683583 -2.042165 -0.376025   \n",
      "6 -0.800848  14.902200 -1.493574 -1.457450 -1.151122 -1.159289 -0.929195   \n",
      "7  0.416620  15.051214  0.055419 -3.592592  0.131205 -2.973669  0.252867   \n",
      "8 -1.329521  12.915006 -0.344932 -3.766955 -0.137432 -2.997226  0.053303   \n",
      "9 -1.308215   7.824200 -0.905729 -3.185208 -0.604510 -2.520129 -0.291183   \n",
      "\n",
      "         Y7        X8        Y8  Angle number  RightorLeft  \n",
      "0 -1.593943  0.363601 -0.907820             2            0  \n",
      "1 -1.026633  0.238231 -0.510583             3            0  \n",
      "2 -0.385286 -0.006106 -0.007940             4            0  \n",
      "3 -2.131407  0.336888 -1.266161             1            0  \n",
      "4 -1.954448  0.088474 -1.111491             2            0  \n",
      "5 -1.472786 -0.190104 -0.800848             3            0  \n",
      "6 -0.890322 -0.549895 -0.352399             4            0  \n",
      "7 -2.286043  0.242098 -1.329521             1            0  \n",
      "8 -2.269871  0.066792 -1.308215             2            0  \n",
      "9 -1.861470 -0.161199 -1.063399             3            0  \n"
     ]
    }
   ],
   "source": [
    "#read data\n",
    "Data = pd.read_csv('data.csv')\n",
    "print('Data = \\n',Data.head(10))"
   ]
  },
  {
   "cell_type": "code",
   "execution_count": 3,
   "metadata": {},
   "outputs": [
    {
     "name": "stdout",
     "output_type": "stream",
     "text": [
      "Data = \n",
      "            X1        Y1        X2        Y2        X3        Y3        X4  \\\n",
      "201  0.750432 -2.153865  0.686756 -1.823544  0.595140 -1.453063  0.405885   \n",
      "205  0.667123 -2.519001  0.608058 -2.151844  0.527485 -1.708688  0.361519   \n",
      "214  0.555894 -1.577428  0.552039 -1.661372  0.545762 -1.656400  0.422923   \n",
      "223  0.506216 -2.204573  0.481335 -1.927619  0.429110 -1.548306  0.308509   \n",
      "227  0.963706 -1.664357  0.885037 -1.448543  0.765535 -1.168633  0.498884   \n",
      "231  1.082005 -1.981829  0.961348 -1.685113  0.814596 -1.350497  0.518018   \n",
      "235  1.204984 -1.917022  1.065042 -1.607764  0.894401 -1.282069  0.576588   \n",
      "239  1.088840 -2.270624  0.979289 -1.900214  0.833697 -1.495874  0.548765   \n",
      "246  0.957857 -2.190403  0.879275 -1.950590  0.766459 -1.624965  0.506324   \n",
      "253  1.234372 -1.891574  1.136363 -1.732223  0.987450 -1.529549  0.663514   \n",
      "\n",
      "           Y4      Angle        X5        Y5        X6        Y6        X7  \\\n",
      "201 -0.773427  20.652780  1.646042 -1.069440  1.452755 -0.948153  1.280345   \n",
      "205 -0.898549  19.240998  1.615891 -1.540980  1.412971 -1.325534  1.230381   \n",
      "214 -1.074147   6.851526  1.139466 -1.222910  1.151610 -1.302208  1.132681   \n",
      "223 -0.816600  15.834790  1.509235 -1.371603  1.325370 -1.176226  1.146077   \n",
      "227 -0.613814  14.443180  1.655171 -0.600084  1.485335 -0.539817  1.310740   \n",
      "231 -0.706029  18.626039  1.810412 -0.847068  1.593334 -0.737205  1.393523   \n",
      "235 -0.685132  14.120406  1.815484 -0.681335  1.621158 -0.620703  1.441985   \n",
      "239 -0.803792  13.478316  1.686301 -1.020290  1.519220 -0.909335  1.380587   \n",
      "246 -0.885261  13.853357  1.589612 -1.221423  1.452803 -1.130017  1.312991   \n",
      "253 -0.928933  14.859225  1.751304 -0.917204  1.653138 -0.957305  1.516307   \n",
      "\n",
      "           Y7        X8        Y8  Angle number  RightorLeft  \n",
      "201 -0.807251  0.839253 -0.394644             4            1  \n",
      "205 -1.112541  0.797685 -0.533224             4            1  \n",
      "214 -1.275804  0.923281 -0.705719             4            1  \n",
      "223 -0.973098  0.743832 -0.464935             4            1  \n",
      "227 -0.465274  0.855795 -0.177698             4            1  \n",
      "231 -0.637545  0.880221 -0.274092             4            1  \n",
      "235 -0.547845  0.958036 -0.237080             4            1  \n",
      "239 -0.797016  0.948347 -0.356240             4            1  \n",
      "246 -1.000863  0.892068 -0.470229             4            1  \n",
      "253 -0.935617  1.073083 -0.487393             4            1  \n"
     ]
    }
   ],
   "source": [
    "DataA4= Data.loc[(Data['Angle number'] ==4) & (Data['RightorLeft'] ==1)]\n",
    "print('Data = \\n',DataA4.head(10))"
   ]
  },
  {
   "cell_type": "code",
   "execution_count": 4,
   "metadata": {},
   "outputs": [],
   "source": [
    "DataA4_ = DataA4.drop(\"Angle number\", axis=1)\n",
    "DataA4_prepared = DataA4_.drop(\"RightorLeft\", axis=1)"
   ]
  },
  {
   "cell_type": "code",
   "execution_count": 5,
   "metadata": {},
   "outputs": [
    {
     "data": {
      "text/html": [
       "<div>\n",
       "<style scoped>\n",
       "    .dataframe tbody tr th:only-of-type {\n",
       "        vertical-align: middle;\n",
       "    }\n",
       "\n",
       "    .dataframe tbody tr th {\n",
       "        vertical-align: top;\n",
       "    }\n",
       "\n",
       "    .dataframe thead th {\n",
       "        text-align: right;\n",
       "    }\n",
       "</style>\n",
       "<table border=\"1\" class=\"dataframe\">\n",
       "  <thead>\n",
       "    <tr style=\"text-align: right;\">\n",
       "      <th></th>\n",
       "      <th>X1</th>\n",
       "      <th>Y1</th>\n",
       "      <th>X2</th>\n",
       "      <th>Y2</th>\n",
       "      <th>X3</th>\n",
       "      <th>Y3</th>\n",
       "      <th>X4</th>\n",
       "      <th>Y4</th>\n",
       "      <th>Angle</th>\n",
       "      <th>X5</th>\n",
       "      <th>Y5</th>\n",
       "      <th>X6</th>\n",
       "      <th>Y6</th>\n",
       "      <th>X7</th>\n",
       "      <th>Y7</th>\n",
       "      <th>X8</th>\n",
       "      <th>Y8</th>\n",
       "    </tr>\n",
       "  </thead>\n",
       "  <tbody>\n",
       "    <tr>\n",
       "      <th>201</th>\n",
       "      <td>0.750432</td>\n",
       "      <td>-2.153865</td>\n",
       "      <td>0.686756</td>\n",
       "      <td>-1.823544</td>\n",
       "      <td>0.595140</td>\n",
       "      <td>-1.453063</td>\n",
       "      <td>0.405885</td>\n",
       "      <td>-0.773427</td>\n",
       "      <td>20.652780</td>\n",
       "      <td>1.646042</td>\n",
       "      <td>-1.069440</td>\n",
       "      <td>1.452755</td>\n",
       "      <td>-0.948153</td>\n",
       "      <td>1.280345</td>\n",
       "      <td>-0.807251</td>\n",
       "      <td>0.839253</td>\n",
       "      <td>-0.394644</td>\n",
       "    </tr>\n",
       "    <tr>\n",
       "      <th>205</th>\n",
       "      <td>0.667123</td>\n",
       "      <td>-2.519001</td>\n",
       "      <td>0.608058</td>\n",
       "      <td>-2.151844</td>\n",
       "      <td>0.527485</td>\n",
       "      <td>-1.708688</td>\n",
       "      <td>0.361519</td>\n",
       "      <td>-0.898549</td>\n",
       "      <td>19.240998</td>\n",
       "      <td>1.615891</td>\n",
       "      <td>-1.540980</td>\n",
       "      <td>1.412971</td>\n",
       "      <td>-1.325534</td>\n",
       "      <td>1.230381</td>\n",
       "      <td>-1.112541</td>\n",
       "      <td>0.797685</td>\n",
       "      <td>-0.533224</td>\n",
       "    </tr>\n",
       "    <tr>\n",
       "      <th>214</th>\n",
       "      <td>0.555894</td>\n",
       "      <td>-1.577428</td>\n",
       "      <td>0.552039</td>\n",
       "      <td>-1.661372</td>\n",
       "      <td>0.545762</td>\n",
       "      <td>-1.656400</td>\n",
       "      <td>0.422923</td>\n",
       "      <td>-1.074147</td>\n",
       "      <td>6.851526</td>\n",
       "      <td>1.139466</td>\n",
       "      <td>-1.222910</td>\n",
       "      <td>1.151610</td>\n",
       "      <td>-1.302208</td>\n",
       "      <td>1.132681</td>\n",
       "      <td>-1.275804</td>\n",
       "      <td>0.923281</td>\n",
       "      <td>-0.705719</td>\n",
       "    </tr>\n",
       "    <tr>\n",
       "      <th>223</th>\n",
       "      <td>0.506216</td>\n",
       "      <td>-2.204573</td>\n",
       "      <td>0.481335</td>\n",
       "      <td>-1.927619</td>\n",
       "      <td>0.429110</td>\n",
       "      <td>-1.548306</td>\n",
       "      <td>0.308509</td>\n",
       "      <td>-0.816600</td>\n",
       "      <td>15.834790</td>\n",
       "      <td>1.509235</td>\n",
       "      <td>-1.371603</td>\n",
       "      <td>1.325370</td>\n",
       "      <td>-1.176226</td>\n",
       "      <td>1.146077</td>\n",
       "      <td>-0.973098</td>\n",
       "      <td>0.743832</td>\n",
       "      <td>-0.464935</td>\n",
       "    </tr>\n",
       "    <tr>\n",
       "      <th>227</th>\n",
       "      <td>0.963706</td>\n",
       "      <td>-1.664357</td>\n",
       "      <td>0.885037</td>\n",
       "      <td>-1.448543</td>\n",
       "      <td>0.765535</td>\n",
       "      <td>-1.168633</td>\n",
       "      <td>0.498884</td>\n",
       "      <td>-0.613814</td>\n",
       "      <td>14.443180</td>\n",
       "      <td>1.655171</td>\n",
       "      <td>-0.600084</td>\n",
       "      <td>1.485335</td>\n",
       "      <td>-0.539817</td>\n",
       "      <td>1.310740</td>\n",
       "      <td>-0.465274</td>\n",
       "      <td>0.855795</td>\n",
       "      <td>-0.177698</td>\n",
       "    </tr>\n",
       "    <tr>\n",
       "      <th>...</th>\n",
       "      <td>...</td>\n",
       "      <td>...</td>\n",
       "      <td>...</td>\n",
       "      <td>...</td>\n",
       "      <td>...</td>\n",
       "      <td>...</td>\n",
       "      <td>...</td>\n",
       "      <td>...</td>\n",
       "      <td>...</td>\n",
       "      <td>...</td>\n",
       "      <td>...</td>\n",
       "      <td>...</td>\n",
       "      <td>...</td>\n",
       "      <td>...</td>\n",
       "      <td>...</td>\n",
       "      <td>...</td>\n",
       "      <td>...</td>\n",
       "    </tr>\n",
       "    <tr>\n",
       "      <th>4365</th>\n",
       "      <td>0.527369</td>\n",
       "      <td>-1.827589</td>\n",
       "      <td>0.520768</td>\n",
       "      <td>-1.791950</td>\n",
       "      <td>0.493271</td>\n",
       "      <td>-1.616687</td>\n",
       "      <td>0.356522</td>\n",
       "      <td>-0.923812</td>\n",
       "      <td>14.318214</td>\n",
       "      <td>1.395422</td>\n",
       "      <td>-1.388995</td>\n",
       "      <td>1.269459</td>\n",
       "      <td>-1.259292</td>\n",
       "      <td>1.137468</td>\n",
       "      <td>-1.124277</td>\n",
       "      <td>0.779420</td>\n",
       "      <td>-0.555476</td>\n",
       "    </tr>\n",
       "    <tr>\n",
       "      <th>4369</th>\n",
       "      <td>0.746784</td>\n",
       "      <td>-1.803415</td>\n",
       "      <td>0.717512</td>\n",
       "      <td>-1.630466</td>\n",
       "      <td>0.643735</td>\n",
       "      <td>-1.328209</td>\n",
       "      <td>0.431845</td>\n",
       "      <td>-0.697649</td>\n",
       "      <td>11.955444</td>\n",
       "      <td>1.445434</td>\n",
       "      <td>-0.861886</td>\n",
       "      <td>1.320425</td>\n",
       "      <td>-0.795770</td>\n",
       "      <td>1.182076</td>\n",
       "      <td>-0.687754</td>\n",
       "      <td>0.800401</td>\n",
       "      <td>-0.286901</td>\n",
       "    </tr>\n",
       "    <tr>\n",
       "      <th>4373</th>\n",
       "      <td>0.655281</td>\n",
       "      <td>-2.473886</td>\n",
       "      <td>0.604214</td>\n",
       "      <td>-2.163368</td>\n",
       "      <td>0.528162</td>\n",
       "      <td>-1.702950</td>\n",
       "      <td>0.361862</td>\n",
       "      <td>-0.878469</td>\n",
       "      <td>10.119420</td>\n",
       "      <td>1.507972</td>\n",
       "      <td>-1.657310</td>\n",
       "      <td>1.333562</td>\n",
       "      <td>-1.377495</td>\n",
       "      <td>1.156682</td>\n",
       "      <td>-1.122045</td>\n",
       "      <td>0.768028</td>\n",
       "      <td>-0.501968</td>\n",
       "    </tr>\n",
       "    <tr>\n",
       "      <th>4377</th>\n",
       "      <td>-0.062741</td>\n",
       "      <td>-1.551747</td>\n",
       "      <td>0.045611</td>\n",
       "      <td>-1.411194</td>\n",
       "      <td>0.127355</td>\n",
       "      <td>-1.191181</td>\n",
       "      <td>0.166852</td>\n",
       "      <td>-0.674771</td>\n",
       "      <td>16.413348</td>\n",
       "      <td>0.999667</td>\n",
       "      <td>-0.749717</td>\n",
       "      <td>0.921627</td>\n",
       "      <td>-0.763741</td>\n",
       "      <td>0.865024</td>\n",
       "      <td>-0.686507</td>\n",
       "      <td>0.651504</td>\n",
       "      <td>-0.368527</td>\n",
       "    </tr>\n",
       "    <tr>\n",
       "      <th>4381</th>\n",
       "      <td>0.180689</td>\n",
       "      <td>-1.564075</td>\n",
       "      <td>0.234575</td>\n",
       "      <td>-1.405511</td>\n",
       "      <td>0.262920</td>\n",
       "      <td>-1.184882</td>\n",
       "      <td>0.233117</td>\n",
       "      <td>-0.650946</td>\n",
       "      <td>10.788435</td>\n",
       "      <td>1.183100</td>\n",
       "      <td>-0.692652</td>\n",
       "      <td>1.074610</td>\n",
       "      <td>-0.683981</td>\n",
       "      <td>0.979563</td>\n",
       "      <td>-0.623458</td>\n",
       "      <td>0.692269</td>\n",
       "      <td>-0.317359</td>\n",
       "    </tr>\n",
       "  </tbody>\n",
       "</table>\n",
       "<p>530 rows × 17 columns</p>\n",
       "</div>"
      ],
      "text/plain": [
       "            X1        Y1        X2        Y2        X3        Y3        X4  \\\n",
       "201   0.750432 -2.153865  0.686756 -1.823544  0.595140 -1.453063  0.405885   \n",
       "205   0.667123 -2.519001  0.608058 -2.151844  0.527485 -1.708688  0.361519   \n",
       "214   0.555894 -1.577428  0.552039 -1.661372  0.545762 -1.656400  0.422923   \n",
       "223   0.506216 -2.204573  0.481335 -1.927619  0.429110 -1.548306  0.308509   \n",
       "227   0.963706 -1.664357  0.885037 -1.448543  0.765535 -1.168633  0.498884   \n",
       "...        ...       ...       ...       ...       ...       ...       ...   \n",
       "4365  0.527369 -1.827589  0.520768 -1.791950  0.493271 -1.616687  0.356522   \n",
       "4369  0.746784 -1.803415  0.717512 -1.630466  0.643735 -1.328209  0.431845   \n",
       "4373  0.655281 -2.473886  0.604214 -2.163368  0.528162 -1.702950  0.361862   \n",
       "4377 -0.062741 -1.551747  0.045611 -1.411194  0.127355 -1.191181  0.166852   \n",
       "4381  0.180689 -1.564075  0.234575 -1.405511  0.262920 -1.184882  0.233117   \n",
       "\n",
       "            Y4      Angle        X5        Y5        X6        Y6        X7  \\\n",
       "201  -0.773427  20.652780  1.646042 -1.069440  1.452755 -0.948153  1.280345   \n",
       "205  -0.898549  19.240998  1.615891 -1.540980  1.412971 -1.325534  1.230381   \n",
       "214  -1.074147   6.851526  1.139466 -1.222910  1.151610 -1.302208  1.132681   \n",
       "223  -0.816600  15.834790  1.509235 -1.371603  1.325370 -1.176226  1.146077   \n",
       "227  -0.613814  14.443180  1.655171 -0.600084  1.485335 -0.539817  1.310740   \n",
       "...        ...        ...       ...       ...       ...       ...       ...   \n",
       "4365 -0.923812  14.318214  1.395422 -1.388995  1.269459 -1.259292  1.137468   \n",
       "4369 -0.697649  11.955444  1.445434 -0.861886  1.320425 -0.795770  1.182076   \n",
       "4373 -0.878469  10.119420  1.507972 -1.657310  1.333562 -1.377495  1.156682   \n",
       "4377 -0.674771  16.413348  0.999667 -0.749717  0.921627 -0.763741  0.865024   \n",
       "4381 -0.650946  10.788435  1.183100 -0.692652  1.074610 -0.683981  0.979563   \n",
       "\n",
       "            Y7        X8        Y8  \n",
       "201  -0.807251  0.839253 -0.394644  \n",
       "205  -1.112541  0.797685 -0.533224  \n",
       "214  -1.275804  0.923281 -0.705719  \n",
       "223  -0.973098  0.743832 -0.464935  \n",
       "227  -0.465274  0.855795 -0.177698  \n",
       "...        ...       ...       ...  \n",
       "4365 -1.124277  0.779420 -0.555476  \n",
       "4369 -0.687754  0.800401 -0.286901  \n",
       "4373 -1.122045  0.768028 -0.501968  \n",
       "4377 -0.686507  0.651504 -0.368527  \n",
       "4381 -0.623458  0.692269 -0.317359  \n",
       "\n",
       "[530 rows x 17 columns]"
      ]
     },
     "execution_count": 5,
     "metadata": {},
     "output_type": "execute_result"
    }
   ],
   "source": [
    "DataA4_prepared"
   ]
  },
  {
   "cell_type": "code",
   "execution_count": 6,
   "metadata": {},
   "outputs": [],
   "source": [
    "# import seaborn as sns\n",
    "# sns.pairplot(DataA4_prepared)"
   ]
  },
  {
   "cell_type": "code",
   "execution_count": 7,
   "metadata": {},
   "outputs": [],
   "source": [
    "# split the data \n",
    "from sklearn.model_selection import train_test_split\n",
    "\n",
    "train_set, test_set = train_test_split(DataA4_prepared, test_size=0.2, random_state=42)"
   ]
  },
  {
   "cell_type": "code",
   "execution_count": 8,
   "metadata": {},
   "outputs": [
    {
     "data": {
      "text/html": [
       "<div>\n",
       "<style scoped>\n",
       "    .dataframe tbody tr th:only-of-type {\n",
       "        vertical-align: middle;\n",
       "    }\n",
       "\n",
       "    .dataframe tbody tr th {\n",
       "        vertical-align: top;\n",
       "    }\n",
       "\n",
       "    .dataframe thead th {\n",
       "        text-align: right;\n",
       "    }\n",
       "</style>\n",
       "<table border=\"1\" class=\"dataframe\">\n",
       "  <thead>\n",
       "    <tr style=\"text-align: right;\">\n",
       "      <th></th>\n",
       "      <th>X1</th>\n",
       "      <th>Y1</th>\n",
       "      <th>X2</th>\n",
       "      <th>Y2</th>\n",
       "      <th>X3</th>\n",
       "      <th>Y3</th>\n",
       "      <th>X4</th>\n",
       "      <th>Y4</th>\n",
       "      <th>Angle</th>\n",
       "      <th>X5</th>\n",
       "      <th>Y5</th>\n",
       "      <th>X6</th>\n",
       "      <th>Y6</th>\n",
       "      <th>X7</th>\n",
       "      <th>Y7</th>\n",
       "      <th>X8</th>\n",
       "      <th>Y8</th>\n",
       "    </tr>\n",
       "  </thead>\n",
       "  <tbody>\n",
       "    <tr>\n",
       "      <th>1089</th>\n",
       "      <td>1.042912</td>\n",
       "      <td>-2.491290</td>\n",
       "      <td>0.912660</td>\n",
       "      <td>-2.061526</td>\n",
       "      <td>0.751129</td>\n",
       "      <td>-1.571179</td>\n",
       "      <td>0.472451</td>\n",
       "      <td>-0.800083</td>\n",
       "      <td>25.758825</td>\n",
       "      <td>1.926854</td>\n",
       "      <td>-1.255068</td>\n",
       "      <td>1.647889</td>\n",
       "      <td>-1.063155</td>\n",
       "      <td>1.401903</td>\n",
       "      <td>-0.867797</td>\n",
       "      <td>0.840699</td>\n",
       "      <td>-0.388213</td>\n",
       "    </tr>\n",
       "    <tr>\n",
       "      <th>3012</th>\n",
       "      <td>0.588010</td>\n",
       "      <td>-1.460858</td>\n",
       "      <td>0.630773</td>\n",
       "      <td>-1.588920</td>\n",
       "      <td>0.600789</td>\n",
       "      <td>-1.454074</td>\n",
       "      <td>0.412134</td>\n",
       "      <td>-0.817797</td>\n",
       "      <td>12.204523</td>\n",
       "      <td>1.469152</td>\n",
       "      <td>-1.282391</td>\n",
       "      <td>1.319896</td>\n",
       "      <td>-1.161435</td>\n",
       "      <td>1.160128</td>\n",
       "      <td>-0.976707</td>\n",
       "      <td>0.772930</td>\n",
       "      <td>-0.427095</td>\n",
       "    </tr>\n",
       "    <tr>\n",
       "      <th>235</th>\n",
       "      <td>1.204984</td>\n",
       "      <td>-1.917022</td>\n",
       "      <td>1.065042</td>\n",
       "      <td>-1.607764</td>\n",
       "      <td>0.894401</td>\n",
       "      <td>-1.282069</td>\n",
       "      <td>0.576588</td>\n",
       "      <td>-0.685132</td>\n",
       "      <td>14.120406</td>\n",
       "      <td>1.815484</td>\n",
       "      <td>-0.681335</td>\n",
       "      <td>1.621158</td>\n",
       "      <td>-0.620703</td>\n",
       "      <td>1.441985</td>\n",
       "      <td>-0.547845</td>\n",
       "      <td>0.958036</td>\n",
       "      <td>-0.237080</td>\n",
       "    </tr>\n",
       "    <tr>\n",
       "      <th>2765</th>\n",
       "      <td>0.700988</td>\n",
       "      <td>-2.274040</td>\n",
       "      <td>0.643366</td>\n",
       "      <td>-1.939941</td>\n",
       "      <td>0.558792</td>\n",
       "      <td>-1.528424</td>\n",
       "      <td>0.384048</td>\n",
       "      <td>-0.820565</td>\n",
       "      <td>24.062930</td>\n",
       "      <td>1.823261</td>\n",
       "      <td>-1.518187</td>\n",
       "      <td>1.566485</td>\n",
       "      <td>-1.239523</td>\n",
       "      <td>1.335830</td>\n",
       "      <td>-0.995064</td>\n",
       "      <td>0.815245</td>\n",
       "      <td>-0.453122</td>\n",
       "    </tr>\n",
       "    <tr>\n",
       "      <th>2720</th>\n",
       "      <td>1.184117</td>\n",
       "      <td>-1.929820</td>\n",
       "      <td>1.063398</td>\n",
       "      <td>-1.712211</td>\n",
       "      <td>0.880588</td>\n",
       "      <td>-1.393620</td>\n",
       "      <td>0.546386</td>\n",
       "      <td>-0.744676</td>\n",
       "      <td>18.725694</td>\n",
       "      <td>1.884032</td>\n",
       "      <td>-0.873075</td>\n",
       "      <td>1.651880</td>\n",
       "      <td>-0.820544</td>\n",
       "      <td>1.438298</td>\n",
       "      <td>-0.722705</td>\n",
       "      <td>0.910184</td>\n",
       "      <td>-0.339365</td>\n",
       "    </tr>\n",
       "  </tbody>\n",
       "</table>\n",
       "</div>"
      ],
      "text/plain": [
       "            X1        Y1        X2        Y2        X3        Y3        X4  \\\n",
       "1089  1.042912 -2.491290  0.912660 -2.061526  0.751129 -1.571179  0.472451   \n",
       "3012  0.588010 -1.460858  0.630773 -1.588920  0.600789 -1.454074  0.412134   \n",
       "235   1.204984 -1.917022  1.065042 -1.607764  0.894401 -1.282069  0.576588   \n",
       "2765  0.700988 -2.274040  0.643366 -1.939941  0.558792 -1.528424  0.384048   \n",
       "2720  1.184117 -1.929820  1.063398 -1.712211  0.880588 -1.393620  0.546386   \n",
       "\n",
       "            Y4      Angle        X5        Y5        X6        Y6        X7  \\\n",
       "1089 -0.800083  25.758825  1.926854 -1.255068  1.647889 -1.063155  1.401903   \n",
       "3012 -0.817797  12.204523  1.469152 -1.282391  1.319896 -1.161435  1.160128   \n",
       "235  -0.685132  14.120406  1.815484 -0.681335  1.621158 -0.620703  1.441985   \n",
       "2765 -0.820565  24.062930  1.823261 -1.518187  1.566485 -1.239523  1.335830   \n",
       "2720 -0.744676  18.725694  1.884032 -0.873075  1.651880 -0.820544  1.438298   \n",
       "\n",
       "            Y7        X8        Y8  \n",
       "1089 -0.867797  0.840699 -0.388213  \n",
       "3012 -0.976707  0.772930 -0.427095  \n",
       "235  -0.547845  0.958036 -0.237080  \n",
       "2765 -0.995064  0.815245 -0.453122  \n",
       "2720 -0.722705  0.910184 -0.339365  "
      ]
     },
     "execution_count": 8,
     "metadata": {},
     "output_type": "execute_result"
    }
   ],
   "source": [
    "test_set.head()"
   ]
  },
  {
   "cell_type": "code",
   "execution_count": 9,
   "metadata": {},
   "outputs": [],
   "source": [
    "DataA4_prepared = train_set.copy()"
   ]
  },
  {
   "cell_type": "code",
   "execution_count": 10,
   "metadata": {},
   "outputs": [
    {
     "data": {
      "text/plain": [
       "Angle    1.000000\n",
       "X5       0.417118\n",
       "X6       0.358153\n",
       "X7       0.292916\n",
       "X1       0.167877\n",
       "X2       0.138084\n",
       "X3       0.092608\n",
       "X4       0.035443\n",
       "X8       0.026394\n",
       "Y4      -0.008267\n",
       "Y8      -0.012333\n",
       "Y7      -0.020056\n",
       "Y6      -0.053337\n",
       "Y5      -0.091369\n",
       "Y3      -0.095787\n",
       "Y2      -0.161899\n",
       "Y1      -0.214963\n",
       "Name: Angle, dtype: float64"
      ]
     },
     "execution_count": 10,
     "metadata": {},
     "output_type": "execute_result"
    }
   ],
   "source": [
    "corr_matrix = DataA4_prepared.corr()\n",
    "corr_matrix[\"Angle\"].sort_values(ascending=False)"
   ]
  },
  {
   "cell_type": "code",
   "execution_count": 11,
   "metadata": {},
   "outputs": [],
   "source": [
    "# Prepare the data for Machine Learning algorithms\n",
    "\n",
    "DataA4_prepared = train_set.drop(\"Angle\", axis=1) # drop labels for training set\n",
    "DataA4_prepared_label = train_set[\"Angle\"].copy()"
   ]
  },
  {
   "cell_type": "code",
   "execution_count": 12,
   "metadata": {},
   "outputs": [
    {
     "data": {
      "text/plain": [
       "DecisionTreeRegressor(max_depth=7, max_leaf_nodes=70, random_state=42)"
      ]
     },
     "execution_count": 12,
     "metadata": {},
     "output_type": "execute_result"
    }
   ],
   "source": [
    "# Select and train a model \n",
    "\n",
    "from sklearn.tree import DecisionTreeRegressor\n",
    "dc_tr=DecisionTreeRegressor(max_depth=7,max_leaf_nodes=70,random_state=42)\n",
    "dc_tr.fit(DataA4_prepared, DataA4_prepared_label)"
   ]
  },
  {
   "cell_type": "code",
   "execution_count": 13,
   "metadata": {},
   "outputs": [
    {
     "name": "stdout",
     "output_type": "stream",
     "text": [
      "Predictions: [17.18547294  9.87657577 16.76524959  6.46177111 17.89420221]\n"
     ]
    }
   ],
   "source": [
    "some_data = DataA4_prepared.iloc[:5]\n",
    "some_labels = DataA4_prepared_label.iloc[:5]\n",
    "print(\"Predictions:\", dc_tr.predict(some_data))"
   ]
  },
  {
   "cell_type": "code",
   "execution_count": 14,
   "metadata": {},
   "outputs": [
    {
     "name": "stdout",
     "output_type": "stream",
     "text": [
      "Labels: [16.03562226, 11.95544364, 16.76524959, 5.936372281, 21.59223488]\n"
     ]
    }
   ],
   "source": [
    "# Compare against the actual values:\n",
    "\n",
    "print(\"Labels:\", list(some_labels))"
   ]
  },
  {
   "cell_type": "code",
   "execution_count": 15,
   "metadata": {},
   "outputs": [
    {
     "data": {
      "text/plain": [
       "2.160795768620594"
      ]
     },
     "execution_count": 15,
     "metadata": {},
     "output_type": "execute_result"
    }
   ],
   "source": [
    "from sklearn.metrics import mean_squared_error\n",
    "\n",
    "Data_predictions = dc_tr.predict(DataA4_prepared)\n",
    "lin_mse = mean_squared_error(DataA4_prepared_label, Data_predictions)\n",
    "lin_rmse = np.sqrt(lin_mse)\n",
    "lin_rmse"
   ]
  },
  {
   "cell_type": "code",
   "execution_count": 16,
   "metadata": {},
   "outputs": [],
   "source": [
    "# Cross Validation\n",
    "\n",
    "from sklearn.model_selection import cross_val_score\n",
    "\n",
    "lin_scores = cross_val_score(dc_tr, DataA4_prepared, DataA4_prepared_label,\n",
    "                         scoring=\"neg_mean_squared_error\", cv=10)\n",
    "lin_rmse_scores = np.sqrt(-lin_scores)"
   ]
  },
  {
   "cell_type": "code",
   "execution_count": 17,
   "metadata": {},
   "outputs": [
    {
     "name": "stdout",
     "output_type": "stream",
     "text": [
      "Scores: [5.21454964 4.46707669 4.84696427 4.3541208  4.60152036 5.06773876\n",
      " 5.12256006 4.81151657 4.51887152 6.17972075]\n",
      "Mean: 4.918463941168939\n",
      "Standard deviation: 0.5041115542324023\n"
     ]
    }
   ],
   "source": [
    "def display_scores(scores):\n",
    "    print(\"Scores:\", scores)\n",
    "    print(\"Mean:\", scores.mean())\n",
    "    print(\"Standard deviation:\", scores.std())\n",
    "\n",
    "display_scores(lin_rmse_scores)"
   ]
  },
  {
   "cell_type": "code",
   "execution_count": 18,
   "metadata": {},
   "outputs": [],
   "source": [
    "X_test = test_set.drop(\"Angle\", axis=1)\n",
    "y_test = test_set[\"Angle\"].copy()\n",
    "\n",
    "final_predictions = dc_tr.predict(X_test)\n",
    "\n",
    "final_mse = mean_squared_error(y_test, final_predictions)\n",
    "final_rmse = np.sqrt(final_mse)"
   ]
  },
  {
   "cell_type": "code",
   "execution_count": 19,
   "metadata": {},
   "outputs": [
    {
     "data": {
      "text/plain": [
       "<matplotlib.collections.PathCollection at 0x20b51e62bb0>"
      ]
     },
     "execution_count": 19,
     "metadata": {},
     "output_type": "execute_result"
    },
    {
     "data": {
      "image/png": "[encoded data removed]",
      "text/plain": [
       "<Figure size 432x288 with 1 Axes>"
      ]
     },
     "metadata": {
      "needs_background": "light"
     },
     "output_type": "display_data"
    }
   ],
   "source": [
    "plt.scatter(y_test, final_predictions)"
   ]
  },
  {
   "cell_type": "code",
   "execution_count": 20,
   "metadata": {},
   "outputs": [
    {
     "data": {
      "text/plain": [
       "(array([ 2.,  0.,  4.,  3., 15., 26., 30., 12., 10.,  4.]),\n",
       " array([-16.92735376, -14.0977114 , -11.26806905,  -8.43842669,\n",
       "         -5.60878433,  -2.77914198,   0.05050038,   2.88014274,\n",
       "          5.70978509,   8.53942745,  11.36906981]),\n",
       " <BarContainer object of 10 artists>)"
      ]
     },
     "execution_count": 20,
     "metadata": {},
     "output_type": "execute_result"
    },
    {
     "data": {
      "image/png": "[encoded data removed]",
      "text/plain": [
       "<Figure size 432x288 with 1 Axes>"
      ]
     },
     "metadata": {
      "needs_background": "light"
     },
     "output_type": "display_data"
    }
   ],
   "source": [
    "plt.hist(y_test - final_predictions)"
   ]
  },
  {
   "cell_type": "code",
   "execution_count": 21,
   "metadata": {},
   "outputs": [
    {
     "data": {
      "text/plain": [
       "4.819202337439754"
      ]
     },
     "execution_count": 21,
     "metadata": {},
     "output_type": "execute_result"
    }
   ],
   "source": [
    "final_rmse"
   ]
  },
  {
   "cell_type": "code",
   "execution_count": 22,
   "metadata": {},
   "outputs": [
    {
     "data": {
      "text/plain": [
       "array([3.86086034, 5.61633152])"
      ]
     },
     "execution_count": 22,
     "metadata": {},
     "output_type": "execute_result"
    }
   ],
   "source": [
    "from scipy import stats\n",
    "\n",
    "confidence = 0.95\n",
    "squared_errors = (final_predictions - y_test) ** 2\n",
    "np.sqrt(stats.t.interval(confidence, len(squared_errors) - 1,\n",
    "                         loc=squared_errors.mean(),\n",
    "                         scale=stats.sem(squared_errors)))"
   ]
  },
  {
   "cell_type": "code",
   "execution_count": 23,
   "metadata": {},
   "outputs": [
    {
     "name": "stdout",
     "output_type": "stream",
     "text": [
      "Regressor model performance:\n",
      "Mean absolute error(MAE) = 3.58\n",
      "Mean squared error(MSE) = 23.22\n",
      "Median absolute error = 2.64\n",
      "Explain variance score = 0.21\n",
      "R2 score = 0.21\n"
     ]
    }
   ],
   "source": [
    "import sklearn.metrics as sm\n",
    "\n",
    "print(\"Regressor model performance:\")\n",
    "print(\"Mean absolute error(MAE) =\", round(sm.mean_absolute_error(y_test, final_predictions), 2))\n",
    "print(\"Mean squared error(MSE) =\", round(sm.mean_squared_error(y_test, final_predictions), 2))\n",
    "print(\"Median absolute error =\", round(sm.median_absolute_error(y_test, final_predictions), 2))\n",
    "print(\"Explain variance score =\", round(sm.explained_variance_score(y_test, final_predictions), 2))\n",
    "print(\"R2 score =\", round(sm.r2_score(y_test, final_predictions), 2))"
   ]
  },
  {
   "cell_type": "code",
   "execution_count": 24,
   "metadata": {},
   "outputs": [],
   "source": [
    "def mean_absolute_percentage_error(y_test, final_predictions): \n",
    "    y_test, final_predictions = np.array(y_test), np.array(final_predictions)\n",
    "    return np.mean(np.abs((y_test - final_predictions) / final_predictions)) * 100"
   ]
  },
  {
   "cell_type": "code",
   "execution_count": 25,
   "metadata": {},
   "outputs": [
    {
     "name": "stdout",
     "output_type": "stream",
     "text": [
      "25.431763175794853\n"
     ]
    }
   ],
   "source": [
    "print(mean_absolute_percentage_error(y_test, final_predictions))"
   ]
  },
  {
   "cell_type": "code",
   "execution_count": null,
   "metadata": {},
   "outputs": [],
   "source": []
  }
 ],
 "metadata": {
  "kernelspec": {
   "display_name": "Python 3",
   "language": "python",
   "name": "python3"
  },
  "language_info": {
   "codemirror_mode": {
    "name": "ipython",
    "version": 3
   },
   "file_extension": ".py",
   "mimetype": "text/x-python",
   "name": "python",
   "nbconvert_exporter": "python",
   "pygments_lexer": "ipython3",
   "version": "3.9.0"
  }
 },
 "nbformat": 4,
 "nbformat_minor": 4
}
